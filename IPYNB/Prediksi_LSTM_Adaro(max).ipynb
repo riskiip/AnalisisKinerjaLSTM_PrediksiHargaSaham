{
  "nbformat": 4,
  "nbformat_minor": 0,
  "metadata": {
    "colab": {
      "name": "Salinan dari Prediksi_LSTM_Adaro(max).ipynb",
      "provenance": [],
      "collapsed_sections": []
    },
    "kernelspec": {
      "name": "python3",
      "display_name": "Python 3"
    },
    "accelerator": "GPU",
    "widgets": {
      "application/vnd.jupyter.widget-state+json": {
        "48e4af66e9e845e6996378b1b7671b30": {
          "model_module": "@jupyter-widgets/controls",
          "model_name": "HBoxModel",
          "state": {
            "_view_name": "HBoxView",
            "_dom_classes": [],
            "_model_name": "HBoxModel",
            "_view_module": "@jupyter-widgets/controls",
            "_model_module_version": "1.5.0",
            "_view_count": null,
            "_view_module_version": "1.5.0",
            "box_style": "",
            "layout": "IPY_MODEL_cb7e0a179b574603948338dfe1dcc24f",
            "_model_module": "@jupyter-widgets/controls",
            "children": [
              "IPY_MODEL_1b46f3e32e7f4fcc99dc3d637d981b47",
              "IPY_MODEL_cd9b043a36d24cd68b5c718951362d04"
            ]
          }
        },
        "cb7e0a179b574603948338dfe1dcc24f": {
          "model_module": "@jupyter-widgets/base",
          "model_name": "LayoutModel",
          "state": {
            "_view_name": "LayoutView",
            "grid_template_rows": null,
            "right": null,
            "justify_content": null,
            "_view_module": "@jupyter-widgets/base",
            "overflow": null,
            "_model_module_version": "1.2.0",
            "_view_count": null,
            "flex_flow": null,
            "width": null,
            "min_width": null,
            "border": null,
            "align_items": null,
            "bottom": null,
            "_model_module": "@jupyter-widgets/base",
            "top": null,
            "grid_column": null,
            "overflow_y": null,
            "overflow_x": null,
            "grid_auto_flow": null,
            "grid_area": null,
            "grid_template_columns": null,
            "flex": null,
            "_model_name": "LayoutModel",
            "justify_items": null,
            "grid_row": null,
            "max_height": null,
            "align_content": null,
            "visibility": null,
            "align_self": null,
            "height": null,
            "min_height": null,
            "padding": null,
            "grid_auto_rows": null,
            "grid_gap": null,
            "max_width": null,
            "order": null,
            "_view_module_version": "1.2.0",
            "grid_template_areas": null,
            "object_position": null,
            "object_fit": null,
            "grid_auto_columns": null,
            "margin": null,
            "display": null,
            "left": null
          }
        },
        "1b46f3e32e7f4fcc99dc3d637d981b47": {
          "model_module": "@jupyter-widgets/controls",
          "model_name": "FloatProgressModel",
          "state": {
            "_view_name": "ProgressView",
            "style": "IPY_MODEL_9db8c0cf35654465a7f480cf7854705c",
            "_dom_classes": [],
            "description": "100%",
            "_model_name": "FloatProgressModel",
            "bar_style": "success",
            "max": 2212,
            "_view_module": "@jupyter-widgets/controls",
            "_model_module_version": "1.5.0",
            "value": 2212,
            "_view_count": null,
            "_view_module_version": "1.5.0",
            "orientation": "horizontal",
            "min": 0,
            "description_tooltip": null,
            "_model_module": "@jupyter-widgets/controls",
            "layout": "IPY_MODEL_931888c21fa541f28bcc9f19a2c26308"
          }
        },
        "cd9b043a36d24cd68b5c718951362d04": {
          "model_module": "@jupyter-widgets/controls",
          "model_name": "HTMLModel",
          "state": {
            "_view_name": "HTMLView",
            "style": "IPY_MODEL_d54c717d95144edda51aed2433ce966f",
            "_dom_classes": [],
            "description": "",
            "_model_name": "HTMLModel",
            "placeholder": "​",
            "_view_module": "@jupyter-widgets/controls",
            "_model_module_version": "1.5.0",
            "value": " 2212/2212 [00:00&lt;00:00, 3264.81it/s]",
            "_view_count": null,
            "_view_module_version": "1.5.0",
            "description_tooltip": null,
            "_model_module": "@jupyter-widgets/controls",
            "layout": "IPY_MODEL_176b021a10c640e7b5da0e901195d790"
          }
        },
        "9db8c0cf35654465a7f480cf7854705c": {
          "model_module": "@jupyter-widgets/controls",
          "model_name": "ProgressStyleModel",
          "state": {
            "_view_name": "StyleView",
            "_model_name": "ProgressStyleModel",
            "description_width": "initial",
            "_view_module": "@jupyter-widgets/base",
            "_model_module_version": "1.5.0",
            "_view_count": null,
            "_view_module_version": "1.2.0",
            "bar_color": null,
            "_model_module": "@jupyter-widgets/controls"
          }
        },
        "931888c21fa541f28bcc9f19a2c26308": {
          "model_module": "@jupyter-widgets/base",
          "model_name": "LayoutModel",
          "state": {
            "_view_name": "LayoutView",
            "grid_template_rows": null,
            "right": null,
            "justify_content": null,
            "_view_module": "@jupyter-widgets/base",
            "overflow": null,
            "_model_module_version": "1.2.0",
            "_view_count": null,
            "flex_flow": null,
            "width": null,
            "min_width": null,
            "border": null,
            "align_items": null,
            "bottom": null,
            "_model_module": "@jupyter-widgets/base",
            "top": null,
            "grid_column": null,
            "overflow_y": null,
            "overflow_x": null,
            "grid_auto_flow": null,
            "grid_area": null,
            "grid_template_columns": null,
            "flex": null,
            "_model_name": "LayoutModel",
            "justify_items": null,
            "grid_row": null,
            "max_height": null,
            "align_content": null,
            "visibility": null,
            "align_self": null,
            "height": null,
            "min_height": null,
            "padding": null,
            "grid_auto_rows": null,
            "grid_gap": null,
            "max_width": null,
            "order": null,
            "_view_module_version": "1.2.0",
            "grid_template_areas": null,
            "object_position": null,
            "object_fit": null,
            "grid_auto_columns": null,
            "margin": null,
            "display": null,
            "left": null
          }
        },
        "d54c717d95144edda51aed2433ce966f": {
          "model_module": "@jupyter-widgets/controls",
          "model_name": "DescriptionStyleModel",
          "state": {
            "_view_name": "StyleView",
            "_model_name": "DescriptionStyleModel",
            "description_width": "",
            "_view_module": "@jupyter-widgets/base",
            "_model_module_version": "1.5.0",
            "_view_count": null,
            "_view_module_version": "1.2.0",
            "_model_module": "@jupyter-widgets/controls"
          }
        },
        "176b021a10c640e7b5da0e901195d790": {
          "model_module": "@jupyter-widgets/base",
          "model_name": "LayoutModel",
          "state": {
            "_view_name": "LayoutView",
            "grid_template_rows": null,
            "right": null,
            "justify_content": null,
            "_view_module": "@jupyter-widgets/base",
            "overflow": null,
            "_model_module_version": "1.2.0",
            "_view_count": null,
            "flex_flow": null,
            "width": null,
            "min_width": null,
            "border": null,
            "align_items": null,
            "bottom": null,
            "_model_module": "@jupyter-widgets/base",
            "top": null,
            "grid_column": null,
            "overflow_y": null,
            "overflow_x": null,
            "grid_auto_flow": null,
            "grid_area": null,
            "grid_template_columns": null,
            "flex": null,
            "_model_name": "LayoutModel",
            "justify_items": null,
            "grid_row": null,
            "max_height": null,
            "align_content": null,
            "visibility": null,
            "align_self": null,
            "height": null,
            "min_height": null,
            "padding": null,
            "grid_auto_rows": null,
            "grid_gap": null,
            "max_width": null,
            "order": null,
            "_view_module_version": "1.2.0",
            "grid_template_areas": null,
            "object_position": null,
            "object_fit": null,
            "grid_auto_columns": null,
            "margin": null,
            "display": null,
            "left": null
          }
        },
        "149157bb045c4536a4c25a097946ded6": {
          "model_module": "@jupyter-widgets/controls",
          "model_name": "HBoxModel",
          "state": {
            "_view_name": "HBoxView",
            "_dom_classes": [],
            "_model_name": "HBoxModel",
            "_view_module": "@jupyter-widgets/controls",
            "_model_module_version": "1.5.0",
            "_view_count": null,
            "_view_module_version": "1.5.0",
            "box_style": "",
            "layout": "IPY_MODEL_205712c5a3d04ae28c190b50b3280c9b",
            "_model_module": "@jupyter-widgets/controls",
            "children": [
              "IPY_MODEL_3f45f1792ac5442aa52caa31dbbf9352",
              "IPY_MODEL_426c6afe72f34a74ba4c28b6cd43b3c7"
            ]
          }
        },
        "205712c5a3d04ae28c190b50b3280c9b": {
          "model_module": "@jupyter-widgets/base",
          "model_name": "LayoutModel",
          "state": {
            "_view_name": "LayoutView",
            "grid_template_rows": null,
            "right": null,
            "justify_content": null,
            "_view_module": "@jupyter-widgets/base",
            "overflow": null,
            "_model_module_version": "1.2.0",
            "_view_count": null,
            "flex_flow": null,
            "width": null,
            "min_width": null,
            "border": null,
            "align_items": null,
            "bottom": null,
            "_model_module": "@jupyter-widgets/base",
            "top": null,
            "grid_column": null,
            "overflow_y": null,
            "overflow_x": null,
            "grid_auto_flow": null,
            "grid_area": null,
            "grid_template_columns": null,
            "flex": null,
            "_model_name": "LayoutModel",
            "justify_items": null,
            "grid_row": null,
            "max_height": null,
            "align_content": null,
            "visibility": null,
            "align_self": null,
            "height": null,
            "min_height": null,
            "padding": null,
            "grid_auto_rows": null,
            "grid_gap": null,
            "max_width": null,
            "order": null,
            "_view_module_version": "1.2.0",
            "grid_template_areas": null,
            "object_position": null,
            "object_fit": null,
            "grid_auto_columns": null,
            "margin": null,
            "display": null,
            "left": null
          }
        },
        "3f45f1792ac5442aa52caa31dbbf9352": {
          "model_module": "@jupyter-widgets/controls",
          "model_name": "FloatProgressModel",
          "state": {
            "_view_name": "ProgressView",
            "style": "IPY_MODEL_e29cbd1c8a6d4d1084fdb2be2649b03e",
            "_dom_classes": [],
            "description": "100%",
            "_model_name": "FloatProgressModel",
            "bar_style": "success",
            "max": 1081,
            "_view_module": "@jupyter-widgets/controls",
            "_model_module_version": "1.5.0",
            "value": 1081,
            "_view_count": null,
            "_view_module_version": "1.5.0",
            "orientation": "horizontal",
            "min": 0,
            "description_tooltip": null,
            "_model_module": "@jupyter-widgets/controls",
            "layout": "IPY_MODEL_e67a4003f42b4f8c8ac963111070d138"
          }
        },
        "426c6afe72f34a74ba4c28b6cd43b3c7": {
          "model_module": "@jupyter-widgets/controls",
          "model_name": "HTMLModel",
          "state": {
            "_view_name": "HTMLView",
            "style": "IPY_MODEL_2ec77a7fedd74b418c73a47195e45bbe",
            "_dom_classes": [],
            "description": "",
            "_model_name": "HTMLModel",
            "placeholder": "​",
            "_view_module": "@jupyter-widgets/controls",
            "_model_module_version": "1.5.0",
            "value": " 1081/1081 [00:00&lt;00:00, 7161.35it/s]",
            "_view_count": null,
            "_view_module_version": "1.5.0",
            "description_tooltip": null,
            "_model_module": "@jupyter-widgets/controls",
            "layout": "IPY_MODEL_537bcb39ceba4455962e4d6dc567e6a4"
          }
        },
        "e29cbd1c8a6d4d1084fdb2be2649b03e": {
          "model_module": "@jupyter-widgets/controls",
          "model_name": "ProgressStyleModel",
          "state": {
            "_view_name": "StyleView",
            "_model_name": "ProgressStyleModel",
            "description_width": "initial",
            "_view_module": "@jupyter-widgets/base",
            "_model_module_version": "1.5.0",
            "_view_count": null,
            "_view_module_version": "1.2.0",
            "bar_color": null,
            "_model_module": "@jupyter-widgets/controls"
          }
        },
        "e67a4003f42b4f8c8ac963111070d138": {
          "model_module": "@jupyter-widgets/base",
          "model_name": "LayoutModel",
          "state": {
            "_view_name": "LayoutView",
            "grid_template_rows": null,
            "right": null,
            "justify_content": null,
            "_view_module": "@jupyter-widgets/base",
            "overflow": null,
            "_model_module_version": "1.2.0",
            "_view_count": null,
            "flex_flow": null,
            "width": null,
            "min_width": null,
            "border": null,
            "align_items": null,
            "bottom": null,
            "_model_module": "@jupyter-widgets/base",
            "top": null,
            "grid_column": null,
            "overflow_y": null,
            "overflow_x": null,
            "grid_auto_flow": null,
            "grid_area": null,
            "grid_template_columns": null,
            "flex": null,
            "_model_name": "LayoutModel",
            "justify_items": null,
            "grid_row": null,
            "max_height": null,
            "align_content": null,
            "visibility": null,
            "align_self": null,
            "height": null,
            "min_height": null,
            "padding": null,
            "grid_auto_rows": null,
            "grid_gap": null,
            "max_width": null,
            "order": null,
            "_view_module_version": "1.2.0",
            "grid_template_areas": null,
            "object_position": null,
            "object_fit": null,
            "grid_auto_columns": null,
            "margin": null,
            "display": null,
            "left": null
          }
        },
        "2ec77a7fedd74b418c73a47195e45bbe": {
          "model_module": "@jupyter-widgets/controls",
          "model_name": "DescriptionStyleModel",
          "state": {
            "_view_name": "StyleView",
            "_model_name": "DescriptionStyleModel",
            "description_width": "",
            "_view_module": "@jupyter-widgets/base",
            "_model_module_version": "1.5.0",
            "_view_count": null,
            "_view_module_version": "1.2.0",
            "_model_module": "@jupyter-widgets/controls"
          }
        },
        "537bcb39ceba4455962e4d6dc567e6a4": {
          "model_module": "@jupyter-widgets/base",
          "model_name": "LayoutModel",
          "state": {
            "_view_name": "LayoutView",
            "grid_template_rows": null,
            "right": null,
            "justify_content": null,
            "_view_module": "@jupyter-widgets/base",
            "overflow": null,
            "_model_module_version": "1.2.0",
            "_view_count": null,
            "flex_flow": null,
            "width": null,
            "min_width": null,
            "border": null,
            "align_items": null,
            "bottom": null,
            "_model_module": "@jupyter-widgets/base",
            "top": null,
            "grid_column": null,
            "overflow_y": null,
            "overflow_x": null,
            "grid_auto_flow": null,
            "grid_area": null,
            "grid_template_columns": null,
            "flex": null,
            "_model_name": "LayoutModel",
            "justify_items": null,
            "grid_row": null,
            "max_height": null,
            "align_content": null,
            "visibility": null,
            "align_self": null,
            "height": null,
            "min_height": null,
            "padding": null,
            "grid_auto_rows": null,
            "grid_gap": null,
            "max_width": null,
            "order": null,
            "_view_module_version": "1.2.0",
            "grid_template_areas": null,
            "object_position": null,
            "object_fit": null,
            "grid_auto_columns": null,
            "margin": null,
            "display": null,
            "left": null
          }
        },
        "e978a0090f5a48aa9e65db1b7ad2efc6": {
          "model_module": "@jupyter-widgets/controls",
          "model_name": "HBoxModel",
          "state": {
            "_view_name": "HBoxView",
            "_dom_classes": [],
            "_model_name": "HBoxModel",
            "_view_module": "@jupyter-widgets/controls",
            "_model_module_version": "1.5.0",
            "_view_count": null,
            "_view_module_version": "1.5.0",
            "box_style": "",
            "layout": "IPY_MODEL_b7d082661f5a49b0ae754f75b73a9633",
            "_model_module": "@jupyter-widgets/controls",
            "children": [
              "IPY_MODEL_076c879e95a441b9a7d54ead2d92d64b",
              "IPY_MODEL_52101208b37c4f82aee9ba6ab2369316"
            ]
          }
        },
        "b7d082661f5a49b0ae754f75b73a9633": {
          "model_module": "@jupyter-widgets/base",
          "model_name": "LayoutModel",
          "state": {
            "_view_name": "LayoutView",
            "grid_template_rows": null,
            "right": null,
            "justify_content": null,
            "_view_module": "@jupyter-widgets/base",
            "overflow": null,
            "_model_module_version": "1.2.0",
            "_view_count": null,
            "flex_flow": null,
            "width": null,
            "min_width": null,
            "border": null,
            "align_items": null,
            "bottom": null,
            "_model_module": "@jupyter-widgets/base",
            "top": null,
            "grid_column": null,
            "overflow_y": null,
            "overflow_x": null,
            "grid_auto_flow": null,
            "grid_area": null,
            "grid_template_columns": null,
            "flex": null,
            "_model_name": "LayoutModel",
            "justify_items": null,
            "grid_row": null,
            "max_height": null,
            "align_content": null,
            "visibility": null,
            "align_self": null,
            "height": null,
            "min_height": null,
            "padding": null,
            "grid_auto_rows": null,
            "grid_gap": null,
            "max_width": null,
            "order": null,
            "_view_module_version": "1.2.0",
            "grid_template_areas": null,
            "object_position": null,
            "object_fit": null,
            "grid_auto_columns": null,
            "margin": null,
            "display": null,
            "left": null
          }
        },
        "076c879e95a441b9a7d54ead2d92d64b": {
          "model_module": "@jupyter-widgets/controls",
          "model_name": "FloatProgressModel",
          "state": {
            "_view_name": "ProgressView",
            "style": "IPY_MODEL_ac14469783bf45b3bda9a3404436ae4f",
            "_dom_classes": [],
            "description": "100%",
            "_model_name": "FloatProgressModel",
            "bar_style": "success",
            "max": 1081,
            "_view_module": "@jupyter-widgets/controls",
            "_model_module_version": "1.5.0",
            "value": 1081,
            "_view_count": null,
            "_view_module_version": "1.5.0",
            "orientation": "horizontal",
            "min": 0,
            "description_tooltip": null,
            "_model_module": "@jupyter-widgets/controls",
            "layout": "IPY_MODEL_ea0ff7958aee4b159d095df610516f6f"
          }
        },
        "52101208b37c4f82aee9ba6ab2369316": {
          "model_module": "@jupyter-widgets/controls",
          "model_name": "HTMLModel",
          "state": {
            "_view_name": "HTMLView",
            "style": "IPY_MODEL_5f8bd9da21194047a3d8c813e90478da",
            "_dom_classes": [],
            "description": "",
            "_model_name": "HTMLModel",
            "placeholder": "​",
            "_view_module": "@jupyter-widgets/controls",
            "_model_module_version": "1.5.0",
            "value": " 1081/1081 [00:00&lt;00:00, 10496.56it/s]",
            "_view_count": null,
            "_view_module_version": "1.5.0",
            "description_tooltip": null,
            "_model_module": "@jupyter-widgets/controls",
            "layout": "IPY_MODEL_fe3ad8383d08419bb1c35795ba9de76b"
          }
        },
        "ac14469783bf45b3bda9a3404436ae4f": {
          "model_module": "@jupyter-widgets/controls",
          "model_name": "ProgressStyleModel",
          "state": {
            "_view_name": "StyleView",
            "_model_name": "ProgressStyleModel",
            "description_width": "initial",
            "_view_module": "@jupyter-widgets/base",
            "_model_module_version": "1.5.0",
            "_view_count": null,
            "_view_module_version": "1.2.0",
            "bar_color": null,
            "_model_module": "@jupyter-widgets/controls"
          }
        },
        "ea0ff7958aee4b159d095df610516f6f": {
          "model_module": "@jupyter-widgets/base",
          "model_name": "LayoutModel",
          "state": {
            "_view_name": "LayoutView",
            "grid_template_rows": null,
            "right": null,
            "justify_content": null,
            "_view_module": "@jupyter-widgets/base",
            "overflow": null,
            "_model_module_version": "1.2.0",
            "_view_count": null,
            "flex_flow": null,
            "width": null,
            "min_width": null,
            "border": null,
            "align_items": null,
            "bottom": null,
            "_model_module": "@jupyter-widgets/base",
            "top": null,
            "grid_column": null,
            "overflow_y": null,
            "overflow_x": null,
            "grid_auto_flow": null,
            "grid_area": null,
            "grid_template_columns": null,
            "flex": null,
            "_model_name": "LayoutModel",
            "justify_items": null,
            "grid_row": null,
            "max_height": null,
            "align_content": null,
            "visibility": null,
            "align_self": null,
            "height": null,
            "min_height": null,
            "padding": null,
            "grid_auto_rows": null,
            "grid_gap": null,
            "max_width": null,
            "order": null,
            "_view_module_version": "1.2.0",
            "grid_template_areas": null,
            "object_position": null,
            "object_fit": null,
            "grid_auto_columns": null,
            "margin": null,
            "display": null,
            "left": null
          }
        },
        "5f8bd9da21194047a3d8c813e90478da": {
          "model_module": "@jupyter-widgets/controls",
          "model_name": "DescriptionStyleModel",
          "state": {
            "_view_name": "StyleView",
            "_model_name": "DescriptionStyleModel",
            "description_width": "",
            "_view_module": "@jupyter-widgets/base",
            "_model_module_version": "1.5.0",
            "_view_count": null,
            "_view_module_version": "1.2.0",
            "_model_module": "@jupyter-widgets/controls"
          }
        },
        "fe3ad8383d08419bb1c35795ba9de76b": {
          "model_module": "@jupyter-widgets/base",
          "model_name": "LayoutModel",
          "state": {
            "_view_name": "LayoutView",
            "grid_template_rows": null,
            "right": null,
            "justify_content": null,
            "_view_module": "@jupyter-widgets/base",
            "overflow": null,
            "_model_module_version": "1.2.0",
            "_view_count": null,
            "flex_flow": null,
            "width": null,
            "min_width": null,
            "border": null,
            "align_items": null,
            "bottom": null,
            "_model_module": "@jupyter-widgets/base",
            "top": null,
            "grid_column": null,
            "overflow_y": null,
            "overflow_x": null,
            "grid_auto_flow": null,
            "grid_area": null,
            "grid_template_columns": null,
            "flex": null,
            "_model_name": "LayoutModel",
            "justify_items": null,
            "grid_row": null,
            "max_height": null,
            "align_content": null,
            "visibility": null,
            "align_self": null,
            "height": null,
            "min_height": null,
            "padding": null,
            "grid_auto_rows": null,
            "grid_gap": null,
            "max_width": null,
            "order": null,
            "_view_module_version": "1.2.0",
            "grid_template_areas": null,
            "object_position": null,
            "object_fit": null,
            "grid_auto_columns": null,
            "margin": null,
            "display": null,
            "left": null
          }
        },
        "1dce75a241aa4524959d3da849b18bf9": {
          "model_module": "@jupyter-widgets/controls",
          "model_name": "HBoxModel",
          "state": {
            "_view_name": "HBoxView",
            "_dom_classes": [],
            "_model_name": "HBoxModel",
            "_view_module": "@jupyter-widgets/controls",
            "_model_module_version": "1.5.0",
            "_view_count": null,
            "_view_module_version": "1.5.0",
            "box_style": "",
            "layout": "IPY_MODEL_30a3e6da629c4c58b7fd7be402d61f69",
            "_model_module": "@jupyter-widgets/controls",
            "children": [
              "IPY_MODEL_fc3352e7ec6b4f0289ddeda20cfe9936",
              "IPY_MODEL_9db10c3d2e784c1eb69d5155fde6995e"
            ]
          }
        },
        "30a3e6da629c4c58b7fd7be402d61f69": {
          "model_module": "@jupyter-widgets/base",
          "model_name": "LayoutModel",
          "state": {
            "_view_name": "LayoutView",
            "grid_template_rows": null,
            "right": null,
            "justify_content": null,
            "_view_module": "@jupyter-widgets/base",
            "overflow": null,
            "_model_module_version": "1.2.0",
            "_view_count": null,
            "flex_flow": null,
            "width": null,
            "min_width": null,
            "border": null,
            "align_items": null,
            "bottom": null,
            "_model_module": "@jupyter-widgets/base",
            "top": null,
            "grid_column": null,
            "overflow_y": null,
            "overflow_x": null,
            "grid_auto_flow": null,
            "grid_area": null,
            "grid_template_columns": null,
            "flex": null,
            "_model_name": "LayoutModel",
            "justify_items": null,
            "grid_row": null,
            "max_height": null,
            "align_content": null,
            "visibility": null,
            "align_self": null,
            "height": null,
            "min_height": null,
            "padding": null,
            "grid_auto_rows": null,
            "grid_gap": null,
            "max_width": null,
            "order": null,
            "_view_module_version": "1.2.0",
            "grid_template_areas": null,
            "object_position": null,
            "object_fit": null,
            "grid_auto_columns": null,
            "margin": null,
            "display": null,
            "left": null
          }
        },
        "fc3352e7ec6b4f0289ddeda20cfe9936": {
          "model_module": "@jupyter-widgets/controls",
          "model_name": "FloatProgressModel",
          "state": {
            "_view_name": "ProgressView",
            "style": "IPY_MODEL_94065e969e074bf7b48acac188823fa2",
            "_dom_classes": [],
            "description": "100%",
            "_model_name": "FloatProgressModel",
            "bar_style": "success",
            "max": 516,
            "_view_module": "@jupyter-widgets/controls",
            "_model_module_version": "1.5.0",
            "value": 516,
            "_view_count": null,
            "_view_module_version": "1.5.0",
            "orientation": "horizontal",
            "min": 0,
            "description_tooltip": null,
            "_model_module": "@jupyter-widgets/controls",
            "layout": "IPY_MODEL_a6563d0ce1d4465e8df74b2164277117"
          }
        },
        "9db10c3d2e784c1eb69d5155fde6995e": {
          "model_module": "@jupyter-widgets/controls",
          "model_name": "HTMLModel",
          "state": {
            "_view_name": "HTMLView",
            "style": "IPY_MODEL_6c1ec9603ac04c139e725c27393bbaa6",
            "_dom_classes": [],
            "description": "",
            "_model_name": "HTMLModel",
            "placeholder": "​",
            "_view_module": "@jupyter-widgets/controls",
            "_model_module_version": "1.5.0",
            "value": " 516/516 [00:00&lt;00:00, 8461.28it/s]",
            "_view_count": null,
            "_view_module_version": "1.5.0",
            "description_tooltip": null,
            "_model_module": "@jupyter-widgets/controls",
            "layout": "IPY_MODEL_3da12d32680348e4ab763a62f6d88f8c"
          }
        },
        "94065e969e074bf7b48acac188823fa2": {
          "model_module": "@jupyter-widgets/controls",
          "model_name": "ProgressStyleModel",
          "state": {
            "_view_name": "StyleView",
            "_model_name": "ProgressStyleModel",
            "description_width": "initial",
            "_view_module": "@jupyter-widgets/base",
            "_model_module_version": "1.5.0",
            "_view_count": null,
            "_view_module_version": "1.2.0",
            "bar_color": null,
            "_model_module": "@jupyter-widgets/controls"
          }
        },
        "a6563d0ce1d4465e8df74b2164277117": {
          "model_module": "@jupyter-widgets/base",
          "model_name": "LayoutModel",
          "state": {
            "_view_name": "LayoutView",
            "grid_template_rows": null,
            "right": null,
            "justify_content": null,
            "_view_module": "@jupyter-widgets/base",
            "overflow": null,
            "_model_module_version": "1.2.0",
            "_view_count": null,
            "flex_flow": null,
            "width": null,
            "min_width": null,
            "border": null,
            "align_items": null,
            "bottom": null,
            "_model_module": "@jupyter-widgets/base",
            "top": null,
            "grid_column": null,
            "overflow_y": null,
            "overflow_x": null,
            "grid_auto_flow": null,
            "grid_area": null,
            "grid_template_columns": null,
            "flex": null,
            "_model_name": "LayoutModel",
            "justify_items": null,
            "grid_row": null,
            "max_height": null,
            "align_content": null,
            "visibility": null,
            "align_self": null,
            "height": null,
            "min_height": null,
            "padding": null,
            "grid_auto_rows": null,
            "grid_gap": null,
            "max_width": null,
            "order": null,
            "_view_module_version": "1.2.0",
            "grid_template_areas": null,
            "object_position": null,
            "object_fit": null,
            "grid_auto_columns": null,
            "margin": null,
            "display": null,
            "left": null
          }
        },
        "6c1ec9603ac04c139e725c27393bbaa6": {
          "model_module": "@jupyter-widgets/controls",
          "model_name": "DescriptionStyleModel",
          "state": {
            "_view_name": "StyleView",
            "_model_name": "DescriptionStyleModel",
            "description_width": "",
            "_view_module": "@jupyter-widgets/base",
            "_model_module_version": "1.5.0",
            "_view_count": null,
            "_view_module_version": "1.2.0",
            "_model_module": "@jupyter-widgets/controls"
          }
        },
        "3da12d32680348e4ab763a62f6d88f8c": {
          "model_module": "@jupyter-widgets/base",
          "model_name": "LayoutModel",
          "state": {
            "_view_name": "LayoutView",
            "grid_template_rows": null,
            "right": null,
            "justify_content": null,
            "_view_module": "@jupyter-widgets/base",
            "overflow": null,
            "_model_module_version": "1.2.0",
            "_view_count": null,
            "flex_flow": null,
            "width": null,
            "min_width": null,
            "border": null,
            "align_items": null,
            "bottom": null,
            "_model_module": "@jupyter-widgets/base",
            "top": null,
            "grid_column": null,
            "overflow_y": null,
            "overflow_x": null,
            "grid_auto_flow": null,
            "grid_area": null,
            "grid_template_columns": null,
            "flex": null,
            "_model_name": "LayoutModel",
            "justify_items": null,
            "grid_row": null,
            "max_height": null,
            "align_content": null,
            "visibility": null,
            "align_self": null,
            "height": null,
            "min_height": null,
            "padding": null,
            "grid_auto_rows": null,
            "grid_gap": null,
            "max_width": null,
            "order": null,
            "_view_module_version": "1.2.0",
            "grid_template_areas": null,
            "object_position": null,
            "object_fit": null,
            "grid_auto_columns": null,
            "margin": null,
            "display": null,
            "left": null
          }
        },
        "ab47d70678054fe981aacaf75f039a73": {
          "model_module": "@jupyter-widgets/controls",
          "model_name": "HBoxModel",
          "state": {
            "_view_name": "HBoxView",
            "_dom_classes": [],
            "_model_name": "HBoxModel",
            "_view_module": "@jupyter-widgets/controls",
            "_model_module_version": "1.5.0",
            "_view_count": null,
            "_view_module_version": "1.5.0",
            "box_style": "",
            "layout": "IPY_MODEL_1ec4524069ea4b909905cb181aedfe4d",
            "_model_module": "@jupyter-widgets/controls",
            "children": [
              "IPY_MODEL_dc671b1e3a334b01b67eb64f0b250b92",
              "IPY_MODEL_a04c54f82ebd41648d6d2b284eb36199"
            ]
          }
        },
        "1ec4524069ea4b909905cb181aedfe4d": {
          "model_module": "@jupyter-widgets/base",
          "model_name": "LayoutModel",
          "state": {
            "_view_name": "LayoutView",
            "grid_template_rows": null,
            "right": null,
            "justify_content": null,
            "_view_module": "@jupyter-widgets/base",
            "overflow": null,
            "_model_module_version": "1.2.0",
            "_view_count": null,
            "flex_flow": null,
            "width": null,
            "min_width": null,
            "border": null,
            "align_items": null,
            "bottom": null,
            "_model_module": "@jupyter-widgets/base",
            "top": null,
            "grid_column": null,
            "overflow_y": null,
            "overflow_x": null,
            "grid_auto_flow": null,
            "grid_area": null,
            "grid_template_columns": null,
            "flex": null,
            "_model_name": "LayoutModel",
            "justify_items": null,
            "grid_row": null,
            "max_height": null,
            "align_content": null,
            "visibility": null,
            "align_self": null,
            "height": null,
            "min_height": null,
            "padding": null,
            "grid_auto_rows": null,
            "grid_gap": null,
            "max_width": null,
            "order": null,
            "_view_module_version": "1.2.0",
            "grid_template_areas": null,
            "object_position": null,
            "object_fit": null,
            "grid_auto_columns": null,
            "margin": null,
            "display": null,
            "left": null
          }
        },
        "dc671b1e3a334b01b67eb64f0b250b92": {
          "model_module": "@jupyter-widgets/controls",
          "model_name": "FloatProgressModel",
          "state": {
            "_view_name": "ProgressView",
            "style": "IPY_MODEL_82bdbb6711064b8f933f6ed385c98113",
            "_dom_classes": [],
            "description": "100%",
            "_model_name": "FloatProgressModel",
            "bar_style": "success",
            "max": 233,
            "_view_module": "@jupyter-widgets/controls",
            "_model_module_version": "1.5.0",
            "value": 233,
            "_view_count": null,
            "_view_module_version": "1.5.0",
            "orientation": "horizontal",
            "min": 0,
            "description_tooltip": null,
            "_model_module": "@jupyter-widgets/controls",
            "layout": "IPY_MODEL_1b251bd2b3b343188221a6f0eac8a731"
          }
        },
        "a04c54f82ebd41648d6d2b284eb36199": {
          "model_module": "@jupyter-widgets/controls",
          "model_name": "HTMLModel",
          "state": {
            "_view_name": "HTMLView",
            "style": "IPY_MODEL_1e2a020cfaac4ac883be830c2de6ea6c",
            "_dom_classes": [],
            "description": "",
            "_model_name": "HTMLModel",
            "placeholder": "​",
            "_view_module": "@jupyter-widgets/controls",
            "_model_module_version": "1.5.0",
            "value": " 233/233 [00:00&lt;00:00, 494.71it/s]",
            "_view_count": null,
            "_view_module_version": "1.5.0",
            "description_tooltip": null,
            "_model_module": "@jupyter-widgets/controls",
            "layout": "IPY_MODEL_99489ae6a5d54adab08a21495d40a472"
          }
        },
        "82bdbb6711064b8f933f6ed385c98113": {
          "model_module": "@jupyter-widgets/controls",
          "model_name": "ProgressStyleModel",
          "state": {
            "_view_name": "StyleView",
            "_model_name": "ProgressStyleModel",
            "description_width": "initial",
            "_view_module": "@jupyter-widgets/base",
            "_model_module_version": "1.5.0",
            "_view_count": null,
            "_view_module_version": "1.2.0",
            "bar_color": null,
            "_model_module": "@jupyter-widgets/controls"
          }
        },
        "1b251bd2b3b343188221a6f0eac8a731": {
          "model_module": "@jupyter-widgets/base",
          "model_name": "LayoutModel",
          "state": {
            "_view_name": "LayoutView",
            "grid_template_rows": null,
            "right": null,
            "justify_content": null,
            "_view_module": "@jupyter-widgets/base",
            "overflow": null,
            "_model_module_version": "1.2.0",
            "_view_count": null,
            "flex_flow": null,
            "width": null,
            "min_width": null,
            "border": null,
            "align_items": null,
            "bottom": null,
            "_model_module": "@jupyter-widgets/base",
            "top": null,
            "grid_column": null,
            "overflow_y": null,
            "overflow_x": null,
            "grid_auto_flow": null,
            "grid_area": null,
            "grid_template_columns": null,
            "flex": null,
            "_model_name": "LayoutModel",
            "justify_items": null,
            "grid_row": null,
            "max_height": null,
            "align_content": null,
            "visibility": null,
            "align_self": null,
            "height": null,
            "min_height": null,
            "padding": null,
            "grid_auto_rows": null,
            "grid_gap": null,
            "max_width": null,
            "order": null,
            "_view_module_version": "1.2.0",
            "grid_template_areas": null,
            "object_position": null,
            "object_fit": null,
            "grid_auto_columns": null,
            "margin": null,
            "display": null,
            "left": null
          }
        },
        "1e2a020cfaac4ac883be830c2de6ea6c": {
          "model_module": "@jupyter-widgets/controls",
          "model_name": "DescriptionStyleModel",
          "state": {
            "_view_name": "StyleView",
            "_model_name": "DescriptionStyleModel",
            "description_width": "",
            "_view_module": "@jupyter-widgets/base",
            "_model_module_version": "1.5.0",
            "_view_count": null,
            "_view_module_version": "1.2.0",
            "_model_module": "@jupyter-widgets/controls"
          }
        },
        "99489ae6a5d54adab08a21495d40a472": {
          "model_module": "@jupyter-widgets/base",
          "model_name": "LayoutModel",
          "state": {
            "_view_name": "LayoutView",
            "grid_template_rows": null,
            "right": null,
            "justify_content": null,
            "_view_module": "@jupyter-widgets/base",
            "overflow": null,
            "_model_module_version": "1.2.0",
            "_view_count": null,
            "flex_flow": null,
            "width": null,
            "min_width": null,
            "border": null,
            "align_items": null,
            "bottom": null,
            "_model_module": "@jupyter-widgets/base",
            "top": null,
            "grid_column": null,
            "overflow_y": null,
            "overflow_x": null,
            "grid_auto_flow": null,
            "grid_area": null,
            "grid_template_columns": null,
            "flex": null,
            "_model_name": "LayoutModel",
            "justify_items": null,
            "grid_row": null,
            "max_height": null,
            "align_content": null,
            "visibility": null,
            "align_self": null,
            "height": null,
            "min_height": null,
            "padding": null,
            "grid_auto_rows": null,
            "grid_gap": null,
            "max_width": null,
            "order": null,
            "_view_module_version": "1.2.0",
            "grid_template_areas": null,
            "object_position": null,
            "object_fit": null,
            "grid_auto_columns": null,
            "margin": null,
            "display": null,
            "left": null
          }
        },
        "7ac736917231460cb8b05508fb15a239": {
          "model_module": "@jupyter-widgets/controls",
          "model_name": "HBoxModel",
          "state": {
            "_view_name": "HBoxView",
            "_dom_classes": [],
            "_model_name": "HBoxModel",
            "_view_module": "@jupyter-widgets/controls",
            "_model_module_version": "1.5.0",
            "_view_count": null,
            "_view_module_version": "1.5.0",
            "box_style": "",
            "layout": "IPY_MODEL_6d328023a31a4960a533c0a661666f31",
            "_model_module": "@jupyter-widgets/controls",
            "children": [
              "IPY_MODEL_eedcaa2c46de44b8a84cae4361802a17",
              "IPY_MODEL_eed34dd7731443e5bb09e47ad3aa8897"
            ]
          }
        },
        "6d328023a31a4960a533c0a661666f31": {
          "model_module": "@jupyter-widgets/base",
          "model_name": "LayoutModel",
          "state": {
            "_view_name": "LayoutView",
            "grid_template_rows": null,
            "right": null,
            "justify_content": null,
            "_view_module": "@jupyter-widgets/base",
            "overflow": null,
            "_model_module_version": "1.2.0",
            "_view_count": null,
            "flex_flow": null,
            "width": null,
            "min_width": null,
            "border": null,
            "align_items": null,
            "bottom": null,
            "_model_module": "@jupyter-widgets/base",
            "top": null,
            "grid_column": null,
            "overflow_y": null,
            "overflow_x": null,
            "grid_auto_flow": null,
            "grid_area": null,
            "grid_template_columns": null,
            "flex": null,
            "_model_name": "LayoutModel",
            "justify_items": null,
            "grid_row": null,
            "max_height": null,
            "align_content": null,
            "visibility": null,
            "align_self": null,
            "height": null,
            "min_height": null,
            "padding": null,
            "grid_auto_rows": null,
            "grid_gap": null,
            "max_width": null,
            "order": null,
            "_view_module_version": "1.2.0",
            "grid_template_areas": null,
            "object_position": null,
            "object_fit": null,
            "grid_auto_columns": null,
            "margin": null,
            "display": null,
            "left": null
          }
        },
        "eedcaa2c46de44b8a84cae4361802a17": {
          "model_module": "@jupyter-widgets/controls",
          "model_name": "FloatProgressModel",
          "state": {
            "_view_name": "ProgressView",
            "style": "IPY_MODEL_48d2b349d40a4b4a89cc4423335b3696",
            "_dom_classes": [],
            "description": "100%",
            "_model_name": "FloatProgressModel",
            "bar_style": "success",
            "max": 233,
            "_view_module": "@jupyter-widgets/controls",
            "_model_module_version": "1.5.0",
            "value": 233,
            "_view_count": null,
            "_view_module_version": "1.5.0",
            "orientation": "horizontal",
            "min": 0,
            "description_tooltip": null,
            "_model_module": "@jupyter-widgets/controls",
            "layout": "IPY_MODEL_2de2d5c23ed84d0b9c0315ca2e52cd7a"
          }
        },
        "eed34dd7731443e5bb09e47ad3aa8897": {
          "model_module": "@jupyter-widgets/controls",
          "model_name": "HTMLModel",
          "state": {
            "_view_name": "HTMLView",
            "style": "IPY_MODEL_c0bbb22486e04761bc9aed89e083a48d",
            "_dom_classes": [],
            "description": "",
            "_model_name": "HTMLModel",
            "placeholder": "​",
            "_view_module": "@jupyter-widgets/controls",
            "_model_module_version": "1.5.0",
            "value": " 233/233 [00:00&lt;00:00, 2967.88it/s]",
            "_view_count": null,
            "_view_module_version": "1.5.0",
            "description_tooltip": null,
            "_model_module": "@jupyter-widgets/controls",
            "layout": "IPY_MODEL_1209ee4d80144bbe9e9a0d7c6a6738ad"
          }
        },
        "48d2b349d40a4b4a89cc4423335b3696": {
          "model_module": "@jupyter-widgets/controls",
          "model_name": "ProgressStyleModel",
          "state": {
            "_view_name": "StyleView",
            "_model_name": "ProgressStyleModel",
            "description_width": "initial",
            "_view_module": "@jupyter-widgets/base",
            "_model_module_version": "1.5.0",
            "_view_count": null,
            "_view_module_version": "1.2.0",
            "bar_color": null,
            "_model_module": "@jupyter-widgets/controls"
          }
        },
        "2de2d5c23ed84d0b9c0315ca2e52cd7a": {
          "model_module": "@jupyter-widgets/base",
          "model_name": "LayoutModel",
          "state": {
            "_view_name": "LayoutView",
            "grid_template_rows": null,
            "right": null,
            "justify_content": null,
            "_view_module": "@jupyter-widgets/base",
            "overflow": null,
            "_model_module_version": "1.2.0",
            "_view_count": null,
            "flex_flow": null,
            "width": null,
            "min_width": null,
            "border": null,
            "align_items": null,
            "bottom": null,
            "_model_module": "@jupyter-widgets/base",
            "top": null,
            "grid_column": null,
            "overflow_y": null,
            "overflow_x": null,
            "grid_auto_flow": null,
            "grid_area": null,
            "grid_template_columns": null,
            "flex": null,
            "_model_name": "LayoutModel",
            "justify_items": null,
            "grid_row": null,
            "max_height": null,
            "align_content": null,
            "visibility": null,
            "align_self": null,
            "height": null,
            "min_height": null,
            "padding": null,
            "grid_auto_rows": null,
            "grid_gap": null,
            "max_width": null,
            "order": null,
            "_view_module_version": "1.2.0",
            "grid_template_areas": null,
            "object_position": null,
            "object_fit": null,
            "grid_auto_columns": null,
            "margin": null,
            "display": null,
            "left": null
          }
        },
        "c0bbb22486e04761bc9aed89e083a48d": {
          "model_module": "@jupyter-widgets/controls",
          "model_name": "DescriptionStyleModel",
          "state": {
            "_view_name": "StyleView",
            "_model_name": "DescriptionStyleModel",
            "description_width": "",
            "_view_module": "@jupyter-widgets/base",
            "_model_module_version": "1.5.0",
            "_view_count": null,
            "_view_module_version": "1.2.0",
            "_model_module": "@jupyter-widgets/controls"
          }
        },
        "1209ee4d80144bbe9e9a0d7c6a6738ad": {
          "model_module": "@jupyter-widgets/base",
          "model_name": "LayoutModel",
          "state": {
            "_view_name": "LayoutView",
            "grid_template_rows": null,
            "right": null,
            "justify_content": null,
            "_view_module": "@jupyter-widgets/base",
            "overflow": null,
            "_model_module_version": "1.2.0",
            "_view_count": null,
            "flex_flow": null,
            "width": null,
            "min_width": null,
            "border": null,
            "align_items": null,
            "bottom": null,
            "_model_module": "@jupyter-widgets/base",
            "top": null,
            "grid_column": null,
            "overflow_y": null,
            "overflow_x": null,
            "grid_auto_flow": null,
            "grid_area": null,
            "grid_template_columns": null,
            "flex": null,
            "_model_name": "LayoutModel",
            "justify_items": null,
            "grid_row": null,
            "max_height": null,
            "align_content": null,
            "visibility": null,
            "align_self": null,
            "height": null,
            "min_height": null,
            "padding": null,
            "grid_auto_rows": null,
            "grid_gap": null,
            "max_width": null,
            "order": null,
            "_view_module_version": "1.2.0",
            "grid_template_areas": null,
            "object_position": null,
            "object_fit": null,
            "grid_auto_columns": null,
            "margin": null,
            "display": null,
            "left": null
          }
        }
      }
    }
  },
  "cells": [
    {
      "cell_type": "markdown",
      "metadata": {
        "id": "WF91gO78yhO1",
        "colab_type": "text"
      },
      "source": [
        "# Melakukan Prediksi dengan menggunakan model LSTM\n",
        "\n",
        "Model LSTM (Long Short Term Memory) merupakan Deep Neural Network yang mampu melakukan prediksi pergerakan saham ataupun jenis prediksi lainnya. Untuk menggunakan model ini, ada beberapa hal yang harus diperlukan, yaitu :\n",
        "1. Membuat data generator <br/>Sebelum membuat data generator, data harus dibersihkan dan dilakukan Pre-processing\n",
        "2. Menentukan hyperparameter yang tepat untuk meminimalisir nilai Error <br/>Untuk menentukan nilai hyperparameter yang tepat, dapat dilihat di <a href=\"s.id/hyper_lstm_saham\"> **sini**</a>\n",
        "3. Melakukan visualisasi dan evaluasi\n",
        "4. Menganalisa secara teknikal yang bisa dilihat di <a href=\"s.id/teknikal_lstm_saham\"> **sini**</a>"
      ]
    },
    {
      "cell_type": "markdown",
      "metadata": {
        "id": "6LvIsXq5zvxJ",
        "colab_type": "text"
      },
      "source": [
        "# Membersihkan Data dan melakukan Pre-Processing"
      ]
    },
    {
      "cell_type": "markdown",
      "metadata": {
        "id": "VWopyiFGz3xq",
        "colab_type": "text"
      },
      "source": [
        "## Library yang digunakan <br/>\n",
        "Tahap awal adalah menentukan dan mendownload library yang akan digunakan. Di bawah ini adalah library - library yang akan digunakan dalam penelitian ini"
      ]
    },
    {
      "cell_type": "code",
      "metadata": {
        "id": "38YqdEyfaHAI",
        "colab_type": "code",
        "outputId": "aa1f911a-d49b-4986-cde2-5afba747839d",
        "colab": {
          "base_uri": "https://localhost:8080/",
          "height": 247
        }
      },
      "source": [
        "pip install tqdm --upgrade"
      ],
      "execution_count": 1,
      "outputs": [
        {
          "output_type": "stream",
          "text": [
            "Collecting tqdm\n",
            "\u001b[?25l  Downloading https://files.pythonhosted.org/packages/47/55/fd9170ba08a1a64a18a7f8a18f088037316f2a41be04d2fe6ece5a653e8f/tqdm-4.43.0-py2.py3-none-any.whl (59kB)\n",
            "\r\u001b[K     |█████▌                          | 10kB 22.4MB/s eta 0:00:01\r\u001b[K     |███████████                     | 20kB 6.9MB/s eta 0:00:01\r\u001b[K     |████████████████▋               | 30kB 7.9MB/s eta 0:00:01\r\u001b[K     |██████████████████████▏         | 40kB 6.3MB/s eta 0:00:01\r\u001b[K     |███████████████████████████▊    | 51kB 7.6MB/s eta 0:00:01\r\u001b[K     |████████████████████████████████| 61kB 5.1MB/s \n",
            "\u001b[?25hInstalling collected packages: tqdm\n",
            "  Found existing installation: tqdm 4.28.1\n",
            "    Uninstalling tqdm-4.28.1:\n",
            "      Successfully uninstalled tqdm-4.28.1\n",
            "Successfully installed tqdm-4.43.0\n"
          ],
          "name": "stdout"
        },
        {
          "output_type": "display_data",
          "data": {
            "application/vnd.colab-display-data+json": {
              "pip_warning": {
                "packages": [
                  "tqdm"
                ]
              }
            }
          },
          "metadata": {
            "tags": []
          }
        }
      ]
    },
    {
      "cell_type": "code",
      "metadata": {
        "id": "TtVwl_4FZjac",
        "colab_type": "code",
        "outputId": "1942836f-7dd2-44eb-cd89-85e91869f7a0",
        "colab": {
          "base_uri": "https://localhost:8080/",
          "height": 117
        }
      },
      "source": [
        "# Numpy untuk formatting number atau array\n",
        "import numpy as np\n",
        "\n",
        "# Pandas untuk membuat DataFrame dan membaca dokumen csv\n",
        "import pandas as pd \n",
        "\n",
        "# Tensorflow dan Keras sebagai Framework dan Backend\n",
        "import keras\n",
        "import tensorflow as tf\n",
        "from keras.models import Sequential, load_model\n",
        "from keras.layers import Dense, Dropout\n",
        "from keras.layers import LSTM\n",
        "from keras.callbacks import ModelCheckpoint, EarlyStopping, ReduceLROnPlateau, CSVLogger\n",
        "from keras import optimizers\n",
        "\n",
        "# Sklearn sebagai komponen machine learning, untuk normalisasi, membagi dataset dan menghitung nilai error\n",
        "from sklearn.preprocessing import MinMaxScaler\n",
        "from sklearn.model_selection import train_test_split\n",
        "from sklearn.metrics import mean_squared_error\n",
        "\n",
        "# Logging untuk mencatat tiap aktivitas yang dilakukan sistem\n",
        "import logging\n",
        "\n",
        "# Pickle untuk mengambil model jika sudah dibuat sebelumnya\n",
        "import pickle\n",
        "\n",
        "# OS untuk operation system, sys untuk system, time untuk waktu, tqdm notebook untuk notebook jika dibuat selain google colab\n",
        "import os\n",
        "import sys\n",
        "import time\n",
        "from tqdm._tqdm_notebook import tqdm_notebook"
      ],
      "execution_count": 2,
      "outputs": [
        {
          "output_type": "stream",
          "text": [
            "Using TensorFlow backend.\n"
          ],
          "name": "stderr"
        },
        {
          "output_type": "display_data",
          "data": {
            "text/html": [
              "<p style=\"color: red;\">\n",
              "The default version of TensorFlow in Colab will soon switch to TensorFlow 2.x.<br>\n",
              "We recommend you <a href=\"https://www.tensorflow.org/guide/migrate\" target=\"_blank\">upgrade</a> now \n",
              "or ensure your notebook will continue to use TensorFlow 1.x via the <code>%tensorflow_version 1.x</code> magic:\n",
              "<a href=\"https://colab.research.google.com/notebooks/tensorflow_version.ipynb\" target=\"_blank\">more info</a>.</p>\n"
            ],
            "text/plain": [
              "<IPython.core.display.HTML object>"
            ]
          },
          "metadata": {
            "tags": []
          }
        },
        {
          "output_type": "stream",
          "text": [
            "/usr/local/lib/python3.6/dist-packages/ipykernel_launcher.py:30: TqdmDeprecationWarning: This function will be removed in tqdm==5.0.0\n",
            "Please use `tqdm.notebook.*` instead of `tqdm._tqdm_notebook.*`\n"
          ],
          "name": "stderr"
        }
      ]
    },
    {
      "cell_type": "markdown",
      "metadata": {
        "id": "yVkZD4_p0VeJ",
        "colab_type": "text"
      },
      "source": [
        "## Mengatur zona waktu dan logging\n",
        "Zona waktu digunakan untuk mengetahui seberapa lama sistem akan melatih data, dan logging digunakan untuk mencatat segala aktivitas yang dilakukan"
      ]
    },
    {
      "cell_type": "code",
      "metadata": {
        "id": "syttPyDvaVxa",
        "colab_type": "code",
        "colab": {}
      },
      "source": [
        "os.environ['TF_CPP_MIN_LOG_LEVEL'] = '2'\n",
        "logging.getLogger(\"tensorflow\").setLevel(logging.ERROR)\n",
        "os.environ['TZ'] = 'Asia/Kolkata'  \n",
        "time.tzset()"
      ],
      "execution_count": 0,
      "outputs": []
    },
    {
      "cell_type": "code",
      "metadata": {
        "id": "OlUS45gPaZ83",
        "colab_type": "code",
        "outputId": "6cc206df-51b5-4adb-a82c-ea85678f6b37",
        "colab": {
          "base_uri": "https://localhost:8080/",
          "height": 35
        }
      },
      "source": [
        "print(\"Penelitian ini menggunakan Framework Keras versi \" + keras.__version__ + \" dan Backend Tensorflow versi \" + tf.__version__)"
      ],
      "execution_count": 4,
      "outputs": [
        {
          "output_type": "stream",
          "text": [
            "Penelitian ini menggunakan Framework Keras versi 2.2.5 dan Backend Tensorflow versi 1.15.0\n"
          ],
          "name": "stdout"
        }
      ]
    },
    {
      "cell_type": "markdown",
      "metadata": {
        "id": "c7Vnk_K20mXh",
        "colab_type": "text"
      },
      "source": [
        "## Membaca dataset dan membagi dataset\n",
        "Dataset yang digunakan berupa Historical Data Price PT Adaro Energy Tbk sejak 2008 sampai 3 januari 2020"
      ]
    },
    {
      "cell_type": "code",
      "metadata": {
        "id": "snrXej7uZyPS",
        "colab_type": "code",
        "outputId": "fa130107-5af3-41d1-8b4e-d85f432c7330",
        "colab": {
          "base_uri": "https://localhost:8080/",
          "height": 126
        }
      },
      "source": [
        "from google.colab import drive\n",
        "drive.mount('/content/drive')"
      ],
      "execution_count": 5,
      "outputs": [
        {
          "output_type": "stream",
          "text": [
            "Go to this URL in a browser: https://accounts.google.com/o/oauth2/auth?client_id=947318989803-6bn6qk8qdgf4n4g3pfee6491hc0brc4i.apps.googleusercontent.com&redirect_uri=urn%3aietf%3awg%3aoauth%3a2.0%3aoob&response_type=code&scope=email%20https%3a%2f%2fwww.googleapis.com%2fauth%2fdocs.test%20https%3a%2f%2fwww.googleapis.com%2fauth%2fdrive%20https%3a%2f%2fwww.googleapis.com%2fauth%2fdrive.photos.readonly%20https%3a%2f%2fwww.googleapis.com%2fauth%2fpeopleapi.readonly\n",
            "\n",
            "Enter your authorization code:\n",
            "··········\n",
            "Mounted at /content/drive\n"
          ],
          "name": "stdout"
        }
      ]
    },
    {
      "cell_type": "code",
      "metadata": {
        "id": "KQqJ1BBR5Ipy",
        "colab_type": "code",
        "colab": {}
      },
      "source": [
        "params = {\n",
        "    \"batch_size\": 20, \n",
        "    \"epochs\": 200,\n",
        "    \"lr\": 0.0001,\n",
        "    \"time_steps\": 50\n",
        "}\n",
        "iter_changes = \"dropout_layers_0.4_0.4\""
      ],
      "execution_count": 0,
      "outputs": []
    },
    {
      "cell_type": "code",
      "metadata": {
        "id": "5kTXk8AZbYNF",
        "colab_type": "code",
        "colab": {}
      },
      "source": [
        "INPUT_PATH = \"/content/drive/My Drive/TA_LSTM\"+\"/inputs\"\n",
        "OUTPUT_PATH = \"/content/drive/My Drive/TA_LSTM/outputs/lstm_best_11-1-20_2PM/\"+\"iter_changes\"\n",
        "TIME_STEPS = params[\"time_steps\"]\n",
        "BATCH_SIZE = params[\"batch_size\"]\n",
        "stime = time.time()"
      ],
      "execution_count": 0,
      "outputs": []
    },
    {
      "cell_type": "code",
      "metadata": {
        "id": "KVz3OSwkbjTH",
        "colab_type": "code",
        "outputId": "93917337-8de3-4365-f9b1-1c407d7ef8ab",
        "colab": {
          "base_uri": "https://localhost:8080/",
          "height": 35
        }
      },
      "source": [
        "if not os.path.exists(OUTPUT_PATH):\n",
        "  os.makedirs(OUTPUT_PATH)\n",
        "  print(\"Direktori output dibuat di \", OUTPUT_PATH)\n",
        "else:\n",
        "  print(\"Direktori sudah dibuat sebelumnya\")"
      ],
      "execution_count": 8,
      "outputs": [
        {
          "output_type": "stream",
          "text": [
            "Direktori sudah dibuat sebelumnya\n"
          ],
          "name": "stdout"
        }
      ]
    },
    {
      "cell_type": "code",
      "metadata": {
        "id": "ojtyuRzcbsrJ",
        "colab_type": "code",
        "outputId": "f33b189c-1a02-468d-915f-c094c210d203",
        "colab": {
          "base_uri": "https://localhost:8080/",
          "height": 478
        }
      },
      "source": [
        "stime = time.time()\n",
        "print(os.listdir(INPUT_PATH))\n",
        "\n",
        "# Membaca Dataset\n",
        "df = pd.read_csv(os.path.join(INPUT_PATH, \"ADRO.JK(max).csv\"), engine='python')\n",
        "df = df.dropna()\n",
        "df = df.reset_index(drop=True)\n",
        "print(df.shape)\n",
        "print(df.columns)\n",
        "display(df.head(5))\n",
        "\n",
        "# Menampilkan Feature dan Tipe Data yang digunakan\n",
        "print(\"\\n Tipe data pada Fitur yang digunakan :\")\n",
        "print(df.dtypes)\n",
        "\n",
        "# Mendefinisikan variable baru untuk menampung Feature\n",
        "train_cols = [\"Open\",\"High\",\"Low\",\"Close\",\"Volume\"]\n",
        "\n",
        "# Membagi dataset menjadi 80% untuk Data Latih dan 20% untuk Data Uji\n",
        "df_train, df_test = train_test_split(df, train_size=0.8, test_size=0.2, shuffle=False)\n",
        "print(\"\\nBanyaknya Data Latih : \", len(df_train))\n",
        "print(\"Banyaknya Data Uji : \", len(df_test))"
      ],
      "execution_count": 9,
      "outputs": [
        {
          "output_type": "stream",
          "text": [
            "['ADRO.JK(3m).csv', 'ADRO.JK(5y).csv', 'ADRO.JK(1y).csv', 'ADRO.JK(6m).csv', 'ADRO.JK(max).csv']\n",
            "(2828, 7)\n",
            "Index(['Date', 'Open', 'High', 'Low', 'Close', 'Adj Close', 'Volume'], dtype='object')\n"
          ],
          "name": "stdout"
        },
        {
          "output_type": "display_data",
          "data": {
            "text/html": [
              "<div>\n",
              "<style scoped>\n",
              "    .dataframe tbody tr th:only-of-type {\n",
              "        vertical-align: middle;\n",
              "    }\n",
              "\n",
              "    .dataframe tbody tr th {\n",
              "        vertical-align: top;\n",
              "    }\n",
              "\n",
              "    .dataframe thead th {\n",
              "        text-align: right;\n",
              "    }\n",
              "</style>\n",
              "<table border=\"1\" class=\"dataframe\">\n",
              "  <thead>\n",
              "    <tr style=\"text-align: right;\">\n",
              "      <th></th>\n",
              "      <th>Date</th>\n",
              "      <th>Open</th>\n",
              "      <th>High</th>\n",
              "      <th>Low</th>\n",
              "      <th>Close</th>\n",
              "      <th>Adj Close</th>\n",
              "      <th>Volume</th>\n",
              "    </tr>\n",
              "  </thead>\n",
              "  <tbody>\n",
              "    <tr>\n",
              "      <th>0</th>\n",
              "      <td>2008-07-16</td>\n",
              "      <td>1500.0</td>\n",
              "      <td>1760.0</td>\n",
              "      <td>1500.0</td>\n",
              "      <td>1730.0</td>\n",
              "      <td>1136.119507</td>\n",
              "      <td>789786000.0</td>\n",
              "    </tr>\n",
              "    <tr>\n",
              "      <th>1</th>\n",
              "      <td>2008-07-17</td>\n",
              "      <td>1700.0</td>\n",
              "      <td>1760.0</td>\n",
              "      <td>1700.0</td>\n",
              "      <td>1700.0</td>\n",
              "      <td>1116.418213</td>\n",
              "      <td>383602500.0</td>\n",
              "    </tr>\n",
              "    <tr>\n",
              "      <th>2</th>\n",
              "      <td>2008-07-18</td>\n",
              "      <td>1640.0</td>\n",
              "      <td>1700.0</td>\n",
              "      <td>1640.0</td>\n",
              "      <td>1640.0</td>\n",
              "      <td>1077.014893</td>\n",
              "      <td>95396000.0</td>\n",
              "    </tr>\n",
              "    <tr>\n",
              "      <th>3</th>\n",
              "      <td>2008-07-21</td>\n",
              "      <td>1680.0</td>\n",
              "      <td>1690.0</td>\n",
              "      <td>1640.0</td>\n",
              "      <td>1680.0</td>\n",
              "      <td>1103.283691</td>\n",
              "      <td>49749000.0</td>\n",
              "    </tr>\n",
              "    <tr>\n",
              "      <th>4</th>\n",
              "      <td>2008-07-22</td>\n",
              "      <td>1670.0</td>\n",
              "      <td>1690.0</td>\n",
              "      <td>1660.0</td>\n",
              "      <td>1670.0</td>\n",
              "      <td>1096.716309</td>\n",
              "      <td>29585500.0</td>\n",
              "    </tr>\n",
              "  </tbody>\n",
              "</table>\n",
              "</div>"
            ],
            "text/plain": [
              "         Date    Open    High     Low   Close    Adj Close       Volume\n",
              "0  2008-07-16  1500.0  1760.0  1500.0  1730.0  1136.119507  789786000.0\n",
              "1  2008-07-17  1700.0  1760.0  1700.0  1700.0  1116.418213  383602500.0\n",
              "2  2008-07-18  1640.0  1700.0  1640.0  1640.0  1077.014893   95396000.0\n",
              "3  2008-07-21  1680.0  1690.0  1640.0  1680.0  1103.283691   49749000.0\n",
              "4  2008-07-22  1670.0  1690.0  1660.0  1670.0  1096.716309   29585500.0"
            ]
          },
          "metadata": {
            "tags": []
          }
        },
        {
          "output_type": "stream",
          "text": [
            "\n",
            " Tipe data pada Fitur yang digunakan :\n",
            "Date          object\n",
            "Open         float64\n",
            "High         float64\n",
            "Low          float64\n",
            "Close        float64\n",
            "Adj Close    float64\n",
            "Volume       float64\n",
            "dtype: object\n",
            "\n",
            "Banyaknya Data Latih :  2262\n",
            "Banyaknya Data Uji :  566\n"
          ],
          "name": "stdout"
        }
      ]
    },
    {
      "cell_type": "code",
      "metadata": {
        "id": "ynrZyL0ePPs9",
        "colab_type": "code",
        "outputId": "9c2d03e4-d319-4ba5-8934-5b1a95b1c2ac",
        "colab": {
          "base_uri": "https://localhost:8080/",
          "height": 247
        }
      },
      "source": [
        "# Split skip 2 hari untuk prediksi tanggal 4, dimulai dari tanggal 2 januari, 27 desember dll\n",
        "df2 = df.iloc[::2]\n",
        "df2_train, df2_test = train_test_split(df2, train_size=0.8, test_size=0.2, shuffle=False)\n",
        "print(\"\\nBanyaknya Data Latih : \", len(df2_train))\n",
        "print(\"Banyaknya Data Uji : \", len(df2_test))\n",
        "df2.tail()"
      ],
      "execution_count": 10,
      "outputs": [
        {
          "output_type": "stream",
          "text": [
            "\n",
            "Banyaknya Data Latih :  1131\n",
            "Banyaknya Data Uji :  283\n"
          ],
          "name": "stdout"
        },
        {
          "output_type": "execute_result",
          "data": {
            "text/html": [
              "<div>\n",
              "<style scoped>\n",
              "    .dataframe tbody tr th:only-of-type {\n",
              "        vertical-align: middle;\n",
              "    }\n",
              "\n",
              "    .dataframe tbody tr th {\n",
              "        vertical-align: top;\n",
              "    }\n",
              "\n",
              "    .dataframe thead th {\n",
              "        text-align: right;\n",
              "    }\n",
              "</style>\n",
              "<table border=\"1\" class=\"dataframe\">\n",
              "  <thead>\n",
              "    <tr style=\"text-align: right;\">\n",
              "      <th></th>\n",
              "      <th>Date</th>\n",
              "      <th>Open</th>\n",
              "      <th>High</th>\n",
              "      <th>Low</th>\n",
              "      <th>Close</th>\n",
              "      <th>Adj Close</th>\n",
              "      <th>Volume</th>\n",
              "    </tr>\n",
              "  </thead>\n",
              "  <tbody>\n",
              "    <tr>\n",
              "      <th>2818</th>\n",
              "      <td>2019-12-17</td>\n",
              "      <td>1660.0</td>\n",
              "      <td>1665.0</td>\n",
              "      <td>1525.0</td>\n",
              "      <td>1655.0</td>\n",
              "      <td>1582.512085</td>\n",
              "      <td>152206000.0</td>\n",
              "    </tr>\n",
              "    <tr>\n",
              "      <th>2820</th>\n",
              "      <td>2019-12-19</td>\n",
              "      <td>1610.0</td>\n",
              "      <td>1625.0</td>\n",
              "      <td>1545.0</td>\n",
              "      <td>1595.0</td>\n",
              "      <td>1525.140015</td>\n",
              "      <td>75920100.0</td>\n",
              "    </tr>\n",
              "    <tr>\n",
              "      <th>2822</th>\n",
              "      <td>2019-12-23</td>\n",
              "      <td>1540.0</td>\n",
              "      <td>1590.0</td>\n",
              "      <td>1540.0</td>\n",
              "      <td>1580.0</td>\n",
              "      <td>1510.796997</td>\n",
              "      <td>51031300.0</td>\n",
              "    </tr>\n",
              "    <tr>\n",
              "      <th>2824</th>\n",
              "      <td>2019-12-27</td>\n",
              "      <td>1590.0</td>\n",
              "      <td>1610.0</td>\n",
              "      <td>1575.0</td>\n",
              "      <td>1580.0</td>\n",
              "      <td>1510.796997</td>\n",
              "      <td>31331800.0</td>\n",
              "    </tr>\n",
              "    <tr>\n",
              "      <th>2826</th>\n",
              "      <td>2020-01-02</td>\n",
              "      <td>1555.0</td>\n",
              "      <td>1555.0</td>\n",
              "      <td>1490.0</td>\n",
              "      <td>1495.0</td>\n",
              "      <td>1429.520020</td>\n",
              "      <td>76612000.0</td>\n",
              "    </tr>\n",
              "  </tbody>\n",
              "</table>\n",
              "</div>"
            ],
            "text/plain": [
              "            Date    Open    High     Low   Close    Adj Close       Volume\n",
              "2818  2019-12-17  1660.0  1665.0  1525.0  1655.0  1582.512085  152206000.0\n",
              "2820  2019-12-19  1610.0  1625.0  1545.0  1595.0  1525.140015   75920100.0\n",
              "2822  2019-12-23  1540.0  1590.0  1540.0  1580.0  1510.796997   51031300.0\n",
              "2824  2019-12-27  1590.0  1610.0  1575.0  1580.0  1510.796997   31331800.0\n",
              "2826  2020-01-02  1555.0  1555.0  1490.0  1495.0  1429.520020   76612000.0"
            ]
          },
          "metadata": {
            "tags": []
          },
          "execution_count": 10
        }
      ]
    },
    {
      "cell_type": "code",
      "metadata": {
        "id": "Q9RRVWJHRRDt",
        "colab_type": "code",
        "outputId": "75c8ee6d-98b7-4dd4-fa67-a5ed969be689",
        "colab": {
          "base_uri": "https://localhost:8080/",
          "height": 247
        }
      },
      "source": [
        "# Split skip 2 hari untuk prediksi tanggal 5, dimulai dari tanggal 3 januari, 30 desember dll\n",
        "df3 = df.iloc[1::2]\n",
        "df3_train, df3_test = train_test_split(df3, train_size=0.8, test_size=0.2, shuffle=False)\n",
        "print(\"\\nBanyaknya Data Latih : \", len(df3_train))\n",
        "print(\"Banyaknya Data Uji : \", len(df3_test))\n",
        "df3.tail()"
      ],
      "execution_count": 11,
      "outputs": [
        {
          "output_type": "stream",
          "text": [
            "\n",
            "Banyaknya Data Latih :  1131\n",
            "Banyaknya Data Uji :  283\n"
          ],
          "name": "stdout"
        },
        {
          "output_type": "execute_result",
          "data": {
            "text/html": [
              "<div>\n",
              "<style scoped>\n",
              "    .dataframe tbody tr th:only-of-type {\n",
              "        vertical-align: middle;\n",
              "    }\n",
              "\n",
              "    .dataframe tbody tr th {\n",
              "        vertical-align: top;\n",
              "    }\n",
              "\n",
              "    .dataframe thead th {\n",
              "        text-align: right;\n",
              "    }\n",
              "</style>\n",
              "<table border=\"1\" class=\"dataframe\">\n",
              "  <thead>\n",
              "    <tr style=\"text-align: right;\">\n",
              "      <th></th>\n",
              "      <th>Date</th>\n",
              "      <th>Open</th>\n",
              "      <th>High</th>\n",
              "      <th>Low</th>\n",
              "      <th>Close</th>\n",
              "      <th>Adj Close</th>\n",
              "      <th>Volume</th>\n",
              "    </tr>\n",
              "  </thead>\n",
              "  <tbody>\n",
              "    <tr>\n",
              "      <th>2819</th>\n",
              "      <td>2019-12-18</td>\n",
              "      <td>1655.0</td>\n",
              "      <td>1655.0</td>\n",
              "      <td>1595.0</td>\n",
              "      <td>1610.0</td>\n",
              "      <td>1539.483032</td>\n",
              "      <td>68583400.0</td>\n",
              "    </tr>\n",
              "    <tr>\n",
              "      <th>2821</th>\n",
              "      <td>2019-12-20</td>\n",
              "      <td>1605.0</td>\n",
              "      <td>1605.0</td>\n",
              "      <td>1505.0</td>\n",
              "      <td>1540.0</td>\n",
              "      <td>1472.549072</td>\n",
              "      <td>88766700.0</td>\n",
              "    </tr>\n",
              "    <tr>\n",
              "      <th>2823</th>\n",
              "      <td>2019-12-26</td>\n",
              "      <td>1590.0</td>\n",
              "      <td>1620.0</td>\n",
              "      <td>1570.0</td>\n",
              "      <td>1585.0</td>\n",
              "      <td>1515.578003</td>\n",
              "      <td>41404600.0</td>\n",
              "    </tr>\n",
              "    <tr>\n",
              "      <th>2825</th>\n",
              "      <td>2019-12-30</td>\n",
              "      <td>1565.0</td>\n",
              "      <td>1590.0</td>\n",
              "      <td>1555.0</td>\n",
              "      <td>1555.0</td>\n",
              "      <td>1486.891968</td>\n",
              "      <td>49275500.0</td>\n",
              "    </tr>\n",
              "    <tr>\n",
              "      <th>2827</th>\n",
              "      <td>2020-01-03</td>\n",
              "      <td>1460.0</td>\n",
              "      <td>1470.0</td>\n",
              "      <td>1425.0</td>\n",
              "      <td>1465.0</td>\n",
              "      <td>1465.000000</td>\n",
              "      <td>117795600.0</td>\n",
              "    </tr>\n",
              "  </tbody>\n",
              "</table>\n",
              "</div>"
            ],
            "text/plain": [
              "            Date    Open    High     Low   Close    Adj Close       Volume\n",
              "2819  2019-12-18  1655.0  1655.0  1595.0  1610.0  1539.483032   68583400.0\n",
              "2821  2019-12-20  1605.0  1605.0  1505.0  1540.0  1472.549072   88766700.0\n",
              "2823  2019-12-26  1590.0  1620.0  1570.0  1585.0  1515.578003   41404600.0\n",
              "2825  2019-12-30  1565.0  1590.0  1555.0  1555.0  1486.891968   49275500.0\n",
              "2827  2020-01-03  1460.0  1470.0  1425.0  1465.0  1465.000000  117795600.0"
            ]
          },
          "metadata": {
            "tags": []
          },
          "execution_count": 11
        }
      ]
    },
    {
      "cell_type": "markdown",
      "metadata": {
        "id": "5AloXdC21wah",
        "colab_type": "text"
      },
      "source": [
        "## Visualisasi terhadap dataset\n",
        "Visualisasi ini bertujuan untuk mengetahui OHLC (Open, High, Low, Close) dengan menampilkan nya berbentuk grafik candle stick"
      ]
    },
    {
      "cell_type": "code",
      "metadata": {
        "id": "DC3nOmQZKGnA",
        "colab_type": "code",
        "outputId": "045e06a0-3639-4252-dd58-0a9a680f6f29",
        "colab": {
          "base_uri": "https://localhost:8080/",
          "height": 542
        }
      },
      "source": [
        "import plotly.graph_objects as go\n",
        "import pandas as pd\n",
        "from datetime import datetime\n",
        "\n",
        "fig = go.Figure(data=[go.Candlestick(x=df['Date'],\n",
        "                open=df['Open'],\n",
        "                high=df['High'],\n",
        "                low=df['Low'],\n",
        "                close=df['Close'])])\n",
        "fig.show()"
      ],
      "execution_count": 12,
      "outputs": [
        {
          "output_type": "display_data",
          "data": {
            "text/html": [
              "<html>\n",
              "<head><meta charset=\"utf-8\" /></head>\n",
              "<body>\n",
              "    <div>\n",
              "            <script src=\"https://cdnjs.cloudflare.com/ajax/libs/mathjax/2.7.5/MathJax.js?config=TeX-AMS-MML_SVG\"></script><script type=\"text/javascript\">if (window.MathJax) {MathJax.Hub.Config({SVG: {font: \"STIX-Web\"}});}</script>\n",
              "                <script type=\"text/javascript\">window.PlotlyConfig = {MathJaxConfig: 'local'};</script>\n",
              "        <script src=\"https://cdn.plot.ly/plotly-latest.min.js\"></script>    \n",
              "            <div id=\"751acce4-eb20-40a0-8ecd-326f575b93bd\" class=\"plotly-graph-div\" style=\"height:525px; width:100%;\"></div>\n",
              "            <script type=\"text/javascript\">\n",
              "                \n",
              "                    window.PLOTLYENV=window.PLOTLYENV || {};\n",
              "                    \n",
              "                if (document.getElementById(\"751acce4-eb20-40a0-8ecd-326f575b93bd\")) {\n",
              "                    Plotly.newPlot(\n",
              "                        '751acce4-eb20-40a0-8ecd-326f575b93bd',\n",
              "                        [{\"close\": [1730.0, 1700.0, 1640.0, 1680.0, 1670.0, 1660.0, 1630.0, 1630.0, 1670.0, 1680.0, 1690.0, 1630.0, 1590.0, 1550.0, 1540.0, 1560.0, 1600.0, 1540.0, 1510.0, 1500.0, 1520.0, 1530.0, 1490.0, 1530.0, 1530.0, 1560.0, 1540.0, 1540.0, 1530.0, 1530.0, 1540.0, 1530.0, 1510.0, 1480.0, 1490.0, 1450.0, 1450.0, 1410.0, 1410.0, 1400.0, 1390.0, 1360.0, 1320.0, 1350.0, 1430.0, 1510.0, 1510.0, 1510.0, 1510.0, 1490.0, 1440.0, 1210.0, 1000.0, 810.0, 730.0, 730.0, 730.0, 740.0, 740.0, 790.0, 760.0, 730.0, 690.0, 700.0, 630.0, 570.0, 520.0, 570.0, 680.0, 810.0, 810.0, 770.0, 700.0, 660.0, 620.0, 640.0, 640.0, 580.0, 560.0, 530.0, 520.0, 500.0, 490.0, 480.0, 470.0, 480.0, 530.0, 500.0, 520.0, 510.0, 470.0, 470.0, 495.0, 475.0, 490.0, 520.0, 530.0, 500.0, 490.0, 500.0, 510.0, 500.0, 480.0, 485.0, 485.0, 490.0, 485.0, 520.0, 510.0, 520.0, 500.0, 510.0, 550.0, 660.0, 680.0, 660.0, 670.0, 650.0, 630.0, 640.0, 640.0, 640.0, 690.0, 690.0, 720.0, 740.0, 730.0, 730.0, 770.0, 820.0, 870.0, 830.0, 850.0, 860.0, 850.0, 840.0, 830.0, 800.0, 820.0, 810.0, 790.0, 800.0, 780.0, 780.0, 770.0, 770.0, 730.0, 720.0, 760.0, 760.0, 750.0, 770.0, 770.0, 770.0, 770.0, 750.0, 740.0, 740.0, 740.0, 780.0, 820.0, 890.0, 890.0, 940.0, 890.0, 880.0, 890.0, 890.0, 890.0, 910.0, 900.0, 900.0, 950.0, 970.0, 970.0, 950.0, 950.0, 980.0, 970.0, 1010.0, 1000.0, 1020.0, 1000.0, 1010.0, 1020.0, 1060.0, 1140.0, 1130.0, 1160.0, 1200.0, 1180.0, 1180.0, 1170.0, 1180.0, 1100.0, 1070.0, 1080.0, 1120.0, 1130.0, 1280.0, 1310.0, 1230.0, 1280.0, 1290.0, 1340.0, 1380.0, 1370.0, 1300.0, 1340.0, 1320.0, 1290.0, 1300.0, 1310.0, 1310.0, 1300.0, 1260.0, 1260.0, 1240.0, 1180.0, 1240.0, 1180.0, 1080.0, 1180.0, 1250.0, 1240.0, 1220.0, 1200.0, 1200.0, 1180.0, 1170.0, 1130.0, 1190.0, 1150.0, 1140.0, 1100.0, 1160.0, 1180.0, 1160.0, 1150.0, 1200.0, 1180.0, 1200.0, 1210.0, 1250.0, 1270.0, 1240.0, 1260.0, 1280.0, 1280.0, 1330.0, 1360.0, 1460.0, 1450.0, 1480.0, 1460.0, 1410.0, 1460.0, 1450.0, 1420.0, 1330.0, 1410.0, 1390.0, 1440.0, 1390.0, 1390.0, 1350.0, 1350.0, 1360.0, 1360.0, 1350.0, 1350.0, 1340.0, 1330.0, 1380.0, 1360.0, 1370.0, 1370.0, 1350.0, 1350.0, 1370.0, 1390.0, 1400.0, 1400.0, 1410.0, 1420.0, 1430.0, 1420.0, 1400.0, 1420.0, 1440.0, 1410.0, 1390.0, 1400.0, 1380.0, 1390.0, 1430.0, 1450.0, 1460.0, 1530.0, 1510.0, 1560.0, 1520.0, 1620.0, 1600.0, 1570.0, 1520.0, 1540.0, 1540.0, 1580.0, 1510.0, 1560.0, 1540.0, 1540.0, 1540.0, 1510.0, 1550.0, 1620.0, 1710.0, 1710.0, 1700.0, 1700.0, 1680.0, 1700.0, 1770.0, 1710.0, 1720.0, 1670.0, 1740.0, 1740.0, 1730.0, 1730.0, 1750.0, 1750.0, 1700.0, 1740.0, 1730.0, 1750.0, 1740.0, 1730.0, 1750.0, 1720.0, 1680.0, 1710.0, 1700.0, 1720.0, 1730.0, 1730.0, 1750.0, 1790.0, 1800.0, 1840.0, 1960.0, 1980.0, 1960.0, 1960.0, 2050.0, 1990.0, 1990.0, 1990.0, 1970.0, 1960.0, 1940.0, 1940.0, 1880.0, 1840.0, 1900.0, 1890.0, 1850.0, 1860.0, 1920.0, 1930.0, 1860.0, 1840.0, 1830.0, 1790.0, 1810.0, 1840.0, 1830.0, 1860.0, 1860.0, 1810.0, 1800.0, 1810.0, 1840.0, 1860.0, 1830.0, 1840.0, 1830.0, 1840.0, 1840.0, 1850.0, 1860.0, 1870.0, 1890.0, 1890.0, 1880.0, 1870.0, 1920.0, 1900.0, 1880.0, 1840.0, 1830.0, 1880.0, 1860.0, 1870.0, 1890.0, 1910.0, 1960.0, 2025.0, 2075.0, 2100.0, 2150.0, 2100.0, 2125.0, 2150.0, 2175.0, 2150.0, 2200.0, 2225.0, 2175.0, 2200.0, 2200.0, 2250.0, 2200.0, 2200.0, 2200.0, 2150.0, 2125.0, 2200.0, 2125.0, 2125.0, 1980.0, 2000.0, 1930.0, 2000.0, 2050.0, 2100.0, 2075.0, 2050.0, 2050.0, 1950.0, 1920.0, 1840.0, 1800.0, 1720.0, 1890.0, 1910.0, 2000.0, 1920.0, 1930.0, 1950.0, 1940.0, 1840.0, 1850.0, 1860.0, 1860.0, 1870.0, 1890.0, 1880.0, 1970.0, 1980.0, 1980.0, 2075.0, 2000.0, 2025.0, 1990.0, 2025.0, 2050.0, 1970.0, 1990.0, 1970.0, 1990.0, 1990.0, 2025.0, 1990.0, 2025.0, 2050.0, 2025.0, 2025.0, 2050.0, 2025.0, 2025.0, 1990.0, 2000.0, 2025.0, 2025.0, 2050.0, 2025.0, 2025.0, 2075.0, 2050.0, 2000.0, 2050.0, 2025.0, 2025.0, 2050.0, 2125.0, 2125.0, 2100.0, 2075.0, 2050.0, 2075.0, 2050.0, 2100.0, 2100.0, 2100.0, 2075.0, 2050.0, 2050.0, 2025.0, 1990.0, 1980.0, 1900.0, 1870.0, 1790.0, 1840.0, 1920.0, 1940.0, 2000.0, 2100.0, 2150.0, 2050.0, 2025.0, 1980.0, 1980.0, 2025.0, 2075.0, 2050.0, 2050.0, 2025.0, 2050.0, 2025.0, 2050.0, 2100.0, 2050.0, 2050.0, 2075.0, 2050.0, 2100.0, 2175.0, 2225.0, 2175.0, 2175.0, 2125.0, 2125.0, 2250.0, 2175.0, 2200.0, 2100.0, 2125.0, 2100.0, 2125.0, 2125.0, 2150.0, 2225.0, 2275.0, 2350.0, 2500.0, 2400.0, 2450.0, 2400.0, 2400.0, 2475.0, 2450.0, 2450.0, 2450.0, 2425.0, 2400.0, 2350.0, 2325.0, 2300.0, 2325.0, 2375.0, 2400.0, 2375.0, 2475.0, 2625.0, 2625.0, 2600.0, 2575.0, 2550.0, 2550.0, 2525.0, 2300.0, 2500.0, 2550.0, 2475.0, 2525.0, 2525.0, 2500.0, 2525.0, 2550.0, 2675.0, 2875.0, 2850.0, 2775.0, 2700.0, 2500.0, 2475.0, 2625.0, 2625.0, 2625.0, 2575.0, 2675.0, 2650.0, 2450.0, 2350.0, 2350.0, 2475.0, 2400.0, 2425.0, 2375.0, 2250.0, 2400.0, 2500.0, 2450.0, 2400.0, 2350.0, 2300.0, 2300.0, 2375.0, 2425.0, 2375.0, 2375.0, 2425.0, 2475.0, 2375.0, 2450.0, 2450.0, 2475.0, 2450.0, 2425.0, 2350.0, 2325.0, 2375.0, 2375.0, 2400.0, 2350.0, 2325.0, 2325.0, 2400.0, 2400.0, 2375.0, 2375.0, 2375.0, 2325.0, 2225.0, 2275.0, 2275.0, 2300.0, 2275.0, 2225.0, 2200.0, 2275.0, 2350.0, 2300.0, 2350.0, 2325.0, 2300.0, 2300.0, 2275.0, 2275.0, 2250.0, 2275.0, 2225.0, 2225.0, 2250.0, 2225.0, 2250.0, 2225.0, 2200.0, 2225.0, 2200.0, 2225.0, 2225.0, 2250.0, 2325.0, 2300.0, 2325.0, 2300.0, 2325.0, 2250.0, 2275.0, 2250.0, 2350.0, 2375.0, 2375.0, 2325.0, 2325.0, 2375.0, 2375.0, 2400.0, 2375.0, 2450.0, 2425.0, 2450.0, 2475.0, 2475.0, 2450.0, 2450.0, 2400.0, 2400.0, 2425.0, 2400.0, 2350.0, 2275.0, 2300.0, 2375.0, 2375.0, 2350.0, 2375.0, 2375.0, 2400.0, 2450.0, 2500.0, 2500.0, 2525.0, 2550.0, 2600.0, 2575.0, 2475.0, 2525.0, 2500.0, 2550.0, 2600.0, 2575.0, 2575.0, 2525.0, 2525.0, 2500.0, 2575.0, 2600.0, 2675.0, 2650.0, 2675.0, 2650.0, 2600.0, 2600.0, 2375.0, 2325.0, 2175.0, 2450.0, 2325.0, 2325.0, 2350.0, 2350.0, 2400.0, 2250.0, 2225.0, 2250.0, 2125.0, 2100.0, 2025.0, 1990.0, 2025.0, 2075.0, 2050.0, 2025.0, 1970.0, 1970.0, 1960.0, 1940.0, 1980.0, 1940.0, 1920.0, 1900.0, 1710.0, 1650.0, 1520.0, 1630.0, 1690.0, 1730.0, 1720.0, 1610.0, 1530.0, 1530.0, 1680.0, 1680.0, 1670.0, 1780.0, 1860.0, 1860.0, 1900.0, 1960.0, 1880.0, 1980.0, 1900.0, 1910.0, 1950.0, 2000.0, 2000.0, 2075.0, 2125.0, 2025.0, 1990.0, 2050.0, 2000.0, 2050.0, 2075.0, 2075.0, 2150.0, 2075.0, 2050.0, 2050.0, 2000.0, 2025.0, 2000.0, 1960.0, 1880.0, 1920.0, 1910.0, 1910.0, 1870.0, 1900.0, 1900.0, 1910.0, 1910.0, 1970.0, 1970.0, 1970.0, 2000.0, 1990.0, 1920.0, 1930.0, 1880.0, 1860.0, 1820.0, 1840.0, 1840.0, 1730.0, 1760.0, 1760.0, 1770.0, 1780.0, 1770.0, 1760.0, 1770.0, 1760.0, 1810.0, 1830.0, 1790.0, 1770.0, 1780.0, 1820.0, 1810.0, 1810.0, 1810.0, 1780.0, 1800.0, 1820.0, 1830.0, 1820.0, 1830.0, 1840.0, 1840.0, 1860.0, 1820.0, 1830.0, 1870.0, 1960.0, 1920.0, 1940.0, 1980.0, 2000.0, 1980.0, 1930.0, 1950.0, 1920.0, 1950.0, 1920.0, 1980.0, 1990.0, 1990.0, 2000.0, 1960.0, 1920.0, 1890.0, 1900.0, 1920.0, 1900.0, 1970.0, 1950.0, 1930.0, 1920.0, 1930.0, 1920.0, 1950.0, 1940.0, 1970.0, 1940.0, 1920.0, 1910.0, 1920.0, 1900.0, 1900.0, 1890.0, 1890.0, 1930.0, 1920.0, 1930.0, 1960.0, 1960.0, 1910.0, 1910.0, 1900.0, 1880.0, 1830.0, 1810.0, 1830.0, 1820.0, 1810.0, 1820.0, 1810.0, 1800.0, 1800.0, 1830.0, 1820.0, 1810.0, 1810.0, 1860.0, 1870.0, 1870.0, 1840.0, 1810.0, 1770.0, 1760.0, 1760.0, 1760.0, 1730.0, 1730.0, 1680.0, 1650.0, 1650.0, 1700.0, 1650.0, 1650.0, 1620.0, 1610.0, 1610.0, 1590.0, 1470.0, 1380.0, 1200.0, 1220.0, 1270.0, 1300.0, 1260.0, 1270.0, 1230.0, 1230.0, 1210.0, 1240.0, 1270.0, 1330.0, 1420.0, 1420.0, 1370.0, 1330.0, 1390.0, 1400.0, 1360.0, 1450.0, 1560.0, 1550.0, 1620.0, 1590.0, 1570.0, 1480.0, 1440.0, 1420.0, 1370.0, 1380.0, 1420.0, 1420.0, 1410.0, 1420.0, 1420.0, 1370.0, 1360.0, 1350.0, 1360.0, 1430.0, 1440.0, 1460.0, 1510.0, 1520.0, 1520.0, 1590.0, 1550.0, 1500.0, 1540.0, 1560.0, 1520.0, 1540.0, 1570.0, 1520.0, 1450.0, 1410.0, 1430.0, 1400.0, 1360.0, 1350.0, 1370.0, 1390.0, 1380.0, 1360.0, 1360.0, 1400.0, 1430.0, 1440.0, 1500.0, 1510.0, 1590.0, 1590.0, 1550.0, 1570.0, 1530.0, 1550.0, 1480.0, 1500.0, 1490.0, 1490.0, 1500.0, 1480.0, 1480.0, 1450.0, 1430.0, 1460.0, 1440.0, 1440.0, 1440.0, 1420.0, 1410.0, 1390.0, 1400.0, 1410.0, 1390.0, 1350.0, 1400.0, 1410.0, 1390.0, 1400.0, 1390.0, 1380.0, 1370.0, 1370.0, 1370.0, 1350.0, 1390.0, 1410.0, 1390.0, 1410.0, 1420.0, 1420.0, 1430.0, 1400.0, 1390.0, 1380.0, 1370.0, 1350.0, 1350.0, 1360.0, 1390.0, 1350.0, 1340.0, 1320.0, 1340.0, 1370.0, 1370.0, 1380.0, 1390.0, 1410.0, 1460.0, 1600.0, 1570.0, 1590.0, 1590.0, 1580.0, 1560.0, 1570.0, 1600.0, 1590.0, 1590.0, 1740.0, 1750.0, 1750.0, 1730.0, 1740.0, 1730.0, 1750.0, 1660.0, 1690.0, 1690.0, 1700.0, 1670.0, 1690.0, 1650.0, 1620.0, 1630.0, 1700.0, 1670.0, 1680.0, 1680.0, 1650.0, 1640.0, 1610.0, 1570.0, 1600.0, 1570.0, 1570.0, 1570.0, 1580.0, 1600.0, 1630.0, 1630.0, 1620.0, 1590.0, 1600.0, 1580.0, 1580.0, 1600.0, 1560.0, 1600.0, 1570.0, 1560.0, 1560.0, 1500.0, 1550.0, 1530.0, 1540.0, 1540.0, 1510.0, 1490.0, 1540.0, 1490.0, 1460.0, 1400.0, 1350.0, 1290.0, 1260.0, 1290.0, 1310.0, 1310.0, 1300.0, 1320.0, 1320.0, 1300.0, 1290.0, 1270.0, 1260.0, 1280.0, 1290.0, 1290.0, 1270.0, 1250.0, 1270.0, 1280.0, 1260.0, 1230.0, 1220.0, 1240.0, 1220.0, 1230.0, 1230.0, 1230.0, 1200.0, 1200.0, 1200.0, 1200.0, 1210.0, 1200.0, 1190.0, 1170.0, 1150.0, 1090.0, 1050.0, 1100.0, 1120.0, 1110.0, 1110.0, 1060.0, 1070.0, 1030.0, 1030.0, 990.0, 950.0, 930.0, 890.0, 910.0, 910.0, 840.0, 860.0, 820.0, 830.0, 830.0, 840.0, 850.0, 850.0, 810.0, 790.0, 830.0, 770.0, 770.0, 810.0, 800.0, 860.0, 830.0, 800.0, 770.0, 770.0, 790.0, 760.0, 740.0, 720.0, 700.0, 710.0, 700.0, 690.0, 700.0, 710.0, 700.0, 700.0, 710.0, 720.0, 710.0, 710.0, 700.0, 710.0, 700.0, 680.0, 650.0, 770.0, 790.0, 770.0, 790.0, 800.0, 740.0, 710.0, 720.0, 850.0, 850.0, 870.0, 860.0, 870.0, 910.0, 930.0, 960.0, 970.0, 960.0, 990.0, 990.0, 1010.0, 910.0, 950.0, 970.0, 940.0, 950.0, 950.0, 950.0, 970.0, 960.0, 960.0, 930.0, 930.0, 920.0, 910.0, 900.0, 890.0, 900.0, 940.0, 900.0, 910.0, 920.0, 990.0, 990.0, 990.0, 970.0, 1040.0, 1120.0, 1070.0, 1070.0, 1060.0, 1070.0, 1060.0, 1040.0, 1020.0, 1050.0, 1020.0, 1040.0, 1060.0, 1030.0, 1080.0, 1160.0, 1190.0, 1150.0, 1140.0, 1180.0, 1170.0, 1220.0, 1190.0, 1170.0, 1150.0, 1180.0, 1210.0, 1140.0, 1130.0, 1120.0, 1130.0, 1140.0, 1120.0, 1170.0, 1190.0, 1170.0, 1200.0, 1230.0, 1220.0, 1180.0, 1160.0, 1110.0, 1130.0, 1150.0, 1150.0, 1130.0, 1120.0, 1120.0, 1080.0, 1090.0, 1060.0, 1010.0, 930.0, 880.0, 940.0, 945.0, 940.0, 955.0, 950.0, 975.0, 975.0, 975.0, 980.0, 1025.0, 1025.0, 1040.0, 965.0, 935.0, 955.0, 950.0, 910.0, 895.0, 905.0, 910.0, 905.0, 910.0, 945.0, 940.0, 935.0, 945.0, 975.0, 955.0, 950.0, 975.0, 970.0, 970.0, 940.0, 935.0, 950.0, 995.0, 980.0, 1015.0, 1020.0, 1020.0, 1015.0, 1000.0, 965.0, 945.0, 970.0, 970.0, 980.0, 975.0, 1000.0, 960.0, 990.0, 975.0, 980.0, 975.0, 970.0, 980.0, 985.0, 980.0, 985.0, 970.0, 980.0, 970.0, 970.0, 955.0, 1010.0, 1010.0, 970.0, 985.0, 980.0, 975.0, 1010.0, 1070.0, 1085.0, 1090.0, 1135.0, 1125.0, 1185.0, 1140.0, 1165.0, 1180.0, 1135.0, 1100.0, 1120.0, 1195.0, 1230.0, 1235.0, 1245.0, 1275.0, 1300.0, 1285.0, 1300.0, 1305.0, 1305.0, 1290.0, 1225.0, 1270.0, 1275.0, 1280.0, 1280.0, 1320.0, 1280.0, 1300.0, 1325.0, 1270.0, 1280.0, 1225.0, 1285.0, 1265.0, 1230.0, 1185.0, 1155.0, 1135.0, 1145.0, 1200.0, 1185.0, 1175.0, 1165.0, 1200.0, 1190.0, 1190.0, 1195.0, 1180.0, 1180.0, 1180.0, 1130.0, 1105.0, 1145.0, 1150.0, 1110.0, 1115.0, 1130.0, 1095.0, 1105.0, 1155.0, 1185.0, 1235.0, 1255.0, 1255.0, 1270.0, 1255.0, 1265.0, 1265.0, 1285.0, 1295.0, 1295.0, 1320.0, 1330.0, 1320.0, 1280.0, 1255.0, 1230.0, 1270.0, 1340.0, 1315.0, 1315.0, 1320.0, 1335.0, 1370.0, 1375.0, 1355.0, 1385.0, 1330.0, 1285.0, 1285.0, 1305.0, 1275.0, 1270.0, 1320.0, 1290.0, 1265.0, 1255.0, 1270.0, 1265.0, 1275.0, 1195.0, 1165.0, 1175.0, 1160.0, 1120.0, 1105.0, 1140.0, 1140.0, 1155.0, 1140.0, 1090.0, 1010.0, 1010.0, 940.0, 965.0, 980.0, 960.0, 975.0, 1030.0, 1050.0, 1055.0, 1045.0, 1030.0, 1100.0, 1100.0, 1135.0, 1150.0, 1140.0, 1100.0, 1080.0, 1095.0, 1085.0, 1090.0, 1020.0, 1000.0, 1000.0, 1005.0, 1015.0, 1030.0, 1070.0, 1075.0, 1090.0, 1095.0, 1105.0, 1100.0, 1080.0, 1065.0, 1085.0, 1095.0, 1135.0, 1120.0, 1095.0, 1090.0, 1065.0, 1060.0, 1025.0, 1025.0, 1040.0, 1050.0, 1065.0, 1060.0, 1060.0, 1055.0, 1060.0, 1040.0, 1040.0, 1040.0, 1025.0, 1010.0, 1010.0, 985.0, 1005.0, 995.0, 965.0, 945.0, 935.0, 935.0, 945.0, 980.0, 1005.0, 1015.0, 1000.0, 980.0, 1000.0, 995.0, 985.0, 1000.0, 995.0, 990.0, 1000.0, 995.0, 995.0, 980.0, 995.0, 980.0, 985.0, 1000.0, 990.0, 1000.0, 995.0, 995.0, 980.0, 965.0, 960.0, 945.0, 960.0, 1020.0, 1015.0, 985.0, 1005.0, 985.0, 990.0, 985.0, 955.0, 970.0, 970.0, 945.0, 955.0, 955.0, 970.0, 950.0, 970.0, 975.0, 965.0, 945.0, 950.0, 960.0, 950.0, 960.0, 980.0, 980.0, 980.0, 965.0, 980.0, 975.0, 955.0, 955.0, 960.0, 965.0, 960.0, 950.0, 975.0, 970.0, 980.0, 970.0, 920.0, 930.0, 895.0, 875.0, 845.0, 870.0, 875.0, 855.0, 860.0, 905.0, 915.0, 930.0, 905.0, 880.0, 895.0, 890.0, 880.0, 885.0, 875.0, 900.0, 895.0, 900.0, 860.0, 880.0, 925.0, 890.0, 895.0, 865.0, 835.0, 830.0, 840.0, 830.0, 765.0, 780.0, 805.0, 775.0, 810.0, 790.0, 785.0, 790.0, 780.0, 785.0, 760.0, 760.0, 755.0, 760.0, 760.0, 740.0, 700.0, 655.0, 630.0, 635.0, 620.0, 585.0, 595.0, 575.0, 595.0, 560.0, 555.0, 600.0, 590.0, 585.0, 590.0, 570.0, 590.0, 600.0, 595.0, 580.0, 565.0, 530.0, 485.0, 498.0, 500.0, 487.0, 486.0, 484.0, 490.0, 474.0, 545.0, 540.0, 590.0, 620.0, 595.0, 575.0, 610.0, 620.0, 580.0, 555.0, 570.0, 580.0, 540.0, 565.0, 570.0, 580.0, 570.0, 585.0, 600.0, 600.0, 595.0, 580.0, 585.0, 550.0, 535.0, 535.0, 530.0, 520.0, 535.0, 560.0, 615.0, 620.0, 680.0, 700.0, 635.0, 640.0, 640.0, 645.0, 670.0, 650.0, 635.0, 670.0, 680.0, 665.0, 650.0, 615.0, 595.0, 610.0, 640.0, 655.0, 630.0, 620.0, 615.0, 610.0, 640.0, 610.0, 580.0, 560.0, 555.0, 575.0, 600.0, 585.0, 570.0, 565.0, 585.0, 585.0, 565.0, 550.0, 545.0, 540.0, 535.0, 525.0, 510.0, 490.0, 490.0, 475.0, 485.0, 477.0, 463.0, 492.0, 510.0, 490.0, 495.0, 500.0, 500.0, 510.0, 520.0, 515.0, 494.0, 499.0, 500.0, 485.0, 493.0, 486.0, 481.0, 473.0, 464.0, 449.0, 450.0, 461.0, 437.0, 450.0, 515.0, 498.0, 476.0, 477.0, 520.0, 525.0, 515.0, 555.0, 575.0, 620.0, 640.0, 590.0, 575.0, 605.0, 600.0, 585.0, 615.0, 620.0, 605.0, 585.0, 595.0, 595.0, 595.0, 570.0, 600.0, 605.0, 670.0, 660.0, 650.0, 680.0, 745.0, 790.0, 770.0, 700.0, 730.0, 745.0, 680.0, 705.0, 695.0, 690.0, 660.0, 670.0, 650.0, 665.0, 645.0, 665.0, 680.0, 670.0, 695.0, 690.0, 705.0, 695.0, 695.0, 720.0, 750.0, 745.0, 750.0, 720.0, 725.0, 735.0, 730.0, 715.0, 715.0, 720.0, 695.0, 665.0, 685.0, 695.0, 670.0, 685.0, 695.0, 690.0, 675.0, 670.0, 670.0, 660.0, 680.0, 700.0, 695.0, 695.0, 710.0, 720.0, 755.0, 815.0, 840.0, 910.0, 870.0, 925.0, 890.0, 860.0, 845.0, 865.0, 845.0, 800.0, 845.0, 845.0, 845.0, 850.0, 840.0, 835.0, 855.0, 855.0, 850.0, 885.0, 925.0, 970.0, 1025.0, 1040.0, 995.0, 1030.0, 1025.0, 1035.0, 1055.0, 1050.0, 1070.0, 1060.0, 1045.0, 1060.0, 1040.0, 1040.0, 1105.0, 1140.0, 1110.0, 1145.0, 1150.0, 1200.0, 1155.0, 1085.0, 1135.0, 1120.0, 1145.0, 1170.0, 1105.0, 1115.0, 1080.0, 1060.0, 1100.0, 1080.0, 1065.0, 1135.0, 1150.0, 1185.0, 1170.0, 1220.0, 1225.0, 1245.0, 1270.0, 1270.0, 1165.0, 1120.0, 1165.0, 1165.0, 1185.0, 1180.0, 1170.0, 1185.0, 1210.0, 1200.0, 1210.0, 1200.0, 1280.0, 1205.0, 1300.0, 1305.0, 1290.0, 1360.0, 1375.0, 1385.0, 1400.0, 1405.0, 1405.0, 1425.0, 1460.0, 1440.0, 1530.0, 1510.0, 1500.0, 1525.0, 1525.0, 1555.0, 1550.0, 1580.0, 1585.0, 1640.0, 1720.0, 1640.0, 1670.0, 1685.0, 1630.0, 1570.0, 1650.0, 1660.0, 1605.0, 1465.0, 1535.0, 1515.0, 1500.0, 1530.0, 1620.0, 1630.0, 1645.0, 1640.0, 1680.0, 1630.0, 1530.0, 1610.0, 1665.0, 1730.0, 1730.0, 1710.0, 1650.0, 1680.0, 1700.0, 1690.0, 1670.0, 1660.0, 1695.0, 1700.0, 1670.0, 1680.0, 1655.0, 1675.0, 1690.0, 1690.0, 1695.0, 1695.0, 1740.0, 1700.0, 1665.0, 1695.0, 1720.0, 1685.0, 1745.0, 1715.0, 1700.0, 1700.0, 1700.0, 1720.0, 1730.0, 1730.0, 1725.0, 1725.0, 1740.0, 1730.0, 1725.0, 1715.0, 1695.0, 1750.0, 1740.0, 1720.0, 1740.0, 1730.0, 1720.0, 1725.0, 1710.0, 1680.0, 1645.0, 1645.0, 1700.0, 1660.0, 1695.0, 1720.0, 1705.0, 1715.0, 1700.0, 1700.0, 1695.0, 1675.0, 1685.0, 1685.0, 1685.0, 1695.0, 1695.0, 1685.0, 1600.0, 1625.0, 1645.0, 1650.0, 1680.0, 1705.0, 1705.0, 1730.0, 1730.0, 1740.0, 1770.0, 1800.0, 1820.0, 1820.0, 1750.0, 1805.0, 1930.0, 1890.0, 1895.0, 1890.0, 1890.0, 1870.0, 1890.0, 1860.0, 1850.0, 1835.0, 1835.0, 1840.0, 1840.0, 1845.0, 1820.0, 1840.0, 1775.0, 1720.0, 1630.0, 1615.0, 1560.0, 1615.0, 1550.0, 1495.0, 1480.0, 1485.0, 1465.0, 1410.0, 1435.0, 1465.0, 1435.0, 1475.0, 1480.0, 1485.0, 1465.0, 1460.0, 1520.0, 1520.0, 1470.0, 1545.0, 1605.0, 1600.0, 1575.0, 1555.0, 1540.0, 1600.0, 1660.0, 1645.0, 1605.0, 1565.0, 1640.0, 1595.0, 1580.0, 1580.0, 1580.0, 1580.0, 1580.0, 1580.0, 1580.0, 1630.0, 1580.0, 1620.0, 1635.0, 1610.0, 1595.0, 1615.0, 1665.0, 1625.0, 1665.0, 1700.0, 1695.0, 1765.0, 1820.0, 1820.0, 1835.0, 1830.0, 1800.0, 1800.0, 1825.0, 1785.0, 1860.0, 1895.0, 1845.0, 1870.0, 1850.0, 1870.0, 1805.0, 1850.0, 1820.0, 1850.0, 1855.0, 1880.0, 1880.0, 1875.0, 1865.0, 1860.0, 1955.0, 1965.0, 1945.0, 1890.0, 1870.0, 1890.0, 1825.0, 1825.0, 1815.0, 1860.0, 1890.0, 1865.0, 1885.0, 1900.0, 1865.0, 1715.0, 1740.0, 1775.0, 1820.0, 1870.0, 1860.0, 1860.0, 1815.0, 1755.0, 1710.0, 1670.0, 1765.0, 1825.0, 1775.0, 1780.0, 1825.0, 1830.0, 1875.0, 1890.0, 1900.0, 1880.0, 1900.0, 1900.0, 1870.0, 1900.0, 1880.0, 1865.0, 1855.0, 1850.0, 1890.0, 1900.0, 1825.0, 1840.0, 1835.0, 1825.0, 1910.0, 1900.0, 1895.0, 1900.0, 1900.0, 1820.0, 1830.0, 1815.0, 1820.0, 1815.0, 1735.0, 1755.0, 1770.0, 1755.0, 1715.0, 1745.0, 1725.0, 1710.0, 1695.0, 1715.0, 1775.0, 1700.0, 1700.0, 1775.0, 1780.0, 1755.0, 1710.0, 1725.0, 1710.0, 1810.0, 1815.0, 1805.0, 1805.0, 1800.0, 1835.0, 1800.0, 1870.0, 1890.0, 1890.0, 1890.0, 1895.0, 1890.0, 1860.0, 1860.0, 1880.0, 1830.0, 1915.0, 1990.0, 2160.0, 2180.0, 2210.0, 2180.0, 2230.0, 2230.0, 2190.0, 2170.0, 2170.0, 2180.0, 2310.0, 2420.0, 2440.0, 2450.0, 2440.0, 2560.0, 2550.0, 2450.0, 2400.0, 2470.0, 2520.0, 2450.0, 2450.0, 2420.0, 2320.0, 2350.0, 2420.0, 2440.0, 2470.0, 2470.0, 2490.0, 2430.0, 2470.0, 2480.0, 2480.0, 2390.0, 2400.0, 2350.0, 2420.0, 2310.0, 2320.0, 2330.0, 2160.0, 2190.0, 2170.0, 2220.0, 2170.0, 2070.0, 2050.0, 2040.0, 2040.0, 2070.0, 2040.0, 2020.0, 1995.0, 2030.0, 2040.0, 2040.0, 2130.0, 2130.0, 2130.0, 2120.0, 2040.0, 2020.0, 2030.0, 2070.0, 2110.0, 2140.0, 2110.0, 2130.0, 2130.0, 2130.0, 2100.0, 2100.0, 2100.0, 2260.0, 2200.0, 2200.0, 2200.0, 2200.0, 1835.0, 1835.0, 1775.0, 1680.0, 1640.0, 1710.0, 1625.0, 1700.0, 1700.0, 1715.0, 1675.0, 1715.0, 1800.0, 1880.0, 1905.0, 1950.0, 1930.0, 1825.0, 1835.0, 1830.0, 1820.0, 1820.0, 1830.0, 1885.0, 1885.0, 1970.0, 2030.0, 1985.0, 1990.0, 1935.0, 1935.0, 1935.0, 1935.0, 1935.0, 1935.0, 1935.0, 1935.0, 2000.0, 2010.0, 1930.0, 1870.0, 1755.0, 1705.0, 1665.0, 1790.0, 1745.0, 1720.0, 1770.0, 1825.0, 1785.0, 1835.0, 1865.0, 1900.0, 1870.0, 1860.0, 1800.0, 1760.0, 1865.0, 1870.0, 1825.0, 1800.0, 1800.0, 1880.0, 1850.0, 1965.0, 2090.0, 1905.0, 1980.0, 1935.0, 1940.0, 1960.0, 1980.0, 1990.0, 1935.0, 1910.0, 1830.0, 1800.0, 1855.0, 1780.0, 1780.0, 1835.0, 1880.0, 1880.0, 1940.0, 1910.0, 1895.0, 1910.0, 1910.0, 1895.0, 1865.0, 1855.0, 1805.0, 1700.0, 1725.0, 1730.0, 1735.0, 1735.0, 1760.0, 1735.0, 1740.0, 1715.0, 1750.0, 1740.0, 1805.0, 1880.0, 1820.0, 1815.0, 1815.0, 1825.0, 1835.0, 1840.0, 1845.0, 1865.0, 1825.0, 1810.0, 1750.0, 1730.0, 1780.0, 1720.0, 1710.0, 1675.0, 1750.0, 1760.0, 1730.0, 1700.0, 1730.0, 1700.0, 1670.0, 1650.0, 1725.0, 1665.0, 1650.0, 1650.0, 1645.0, 1585.0, 1575.0, 1630.0, 1595.0, 1610.0, 1580.0, 1510.0, 1515.0, 1565.0, 1555.0, 1545.0, 1485.0, 1485.0, 1310.0, 1285.0, 1295.0, 1275.0, 1220.0, 1255.0, 1280.0, 1285.0, 1305.0, 1300.0, 1285.0, 1295.0, 1300.0, 1310.0, 1285.0, 1255.0, 1280.0, 1285.0, 1280.0, 1240.0, 1245.0, 1255.0, 1250.0, 1250.0, 1250.0, 1220.0, 1240.0, 1215.0, 1215.0, 1215.0, 1225.0, 1230.0, 1390.0, 1390.0, 1410.0, 1395.0, 1405.0, 1405.0, 1410.0, 1460.0, 1460.0, 1460.0, 1485.0, 1470.0, 1410.0, 1380.0, 1380.0, 1395.0, 1390.0, 1340.0, 1350.0, 1390.0, 1375.0, 1360.0, 1360.0, 1365.0, 1345.0, 1305.0, 1260.0, 1275.0, 1260.0, 1240.0, 1220.0, 1245.0, 1295.0, 1345.0, 1415.0, 1410.0, 1405.0, 1350.0, 1375.0, 1310.0, 1310.0, 1410.0, 1400.0, 1360.0, 1360.0, 1390.0, 1450.0, 1390.0, 1440.0, 1460.0, 1435.0, 1430.0, 1435.0, 1430.0, 1420.0, 1415.0, 1345.0, 1360.0, 1350.0, 1340.0, 1340.0, 1350.0, 1325.0, 1325.0, 1275.0, 1260.0, 1260.0, 1295.0, 1300.0, 1295.0, 1300.0, 1285.0, 1305.0, 1305.0, 1295.0, 1295.0, 1270.0, 1305.0, 1305.0, 1290.0, 1290.0, 1315.0, 1305.0, 1305.0, 1345.0, 1335.0, 1315.0, 1310.0, 1295.0, 1280.0, 1265.0, 1250.0, 1235.0, 1235.0, 1160.0, 1175.0, 1175.0, 1235.0, 1235.0, 1280.0, 1260.0, 1265.0, 1270.0, 1270.0, 1270.0, 1295.0, 1295.0, 1295.0, 1295.0, 1295.0, 1295.0, 1285.0, 1280.0, 1285.0, 1275.0, 1235.0, 1230.0, 1245.0, 1275.0, 1265.0, 1225.0, 1245.0, 1330.0, 1360.0, 1385.0, 1360.0, 1440.0, 1420.0, 1360.0, 1420.0, 1415.0, 1380.0, 1335.0, 1345.0, 1335.0, 1280.0, 1275.0, 1285.0, 1280.0, 1300.0, 1295.0, 1285.0, 1275.0, 1255.0, 1250.0, 1230.0, 1255.0, 1295.0, 1270.0, 1225.0, 1175.0, 1120.0, 1085.0, 1105.0, 1100.0, 1095.0, 1070.0, 1035.0, 1050.0, 1025.0, 1030.0, 1050.0, 1030.0, 1020.0, 1085.0, 1120.0, 1130.0, 1105.0, 1100.0, 1125.0, 1155.0, 1190.0, 1235.0, 1260.0, 1335.0, 1415.0, 1410.0, 1470.0, 1435.0, 1375.0, 1430.0, 1435.0, 1405.0, 1370.0, 1400.0, 1370.0, 1295.0, 1310.0, 1285.0, 1315.0, 1290.0, 1320.0, 1270.0, 1270.0, 1265.0, 1250.0, 1280.0, 1270.0, 1260.0, 1295.0, 1295.0, 1330.0, 1315.0, 1320.0, 1310.0, 1365.0, 1365.0, 1355.0, 1370.0, 1350.0, 1370.0, 1335.0, 1305.0, 1310.0, 1270.0, 1280.0, 1370.0, 1390.0, 1385.0, 1415.0, 1415.0, 1425.0, 1335.0, 1300.0, 1340.0, 1320.0, 1335.0, 1310.0, 1320.0, 1310.0, 1315.0, 1295.0, 1245.0, 1230.0, 1315.0, 1315.0, 1360.0, 1460.0, 1425.0, 1420.0, 1485.0, 1490.0, 1475.0, 1590.0, 1640.0, 1655.0, 1610.0, 1595.0, 1540.0, 1580.0, 1585.0, 1580.0, 1555.0, 1495.0, 1465.0], \"high\": [1760.0, 1760.0, 1700.0, 1690.0, 1690.0, 1670.0, 1650.0, 1650.0, 1680.0, 1690.0, 1710.0, 1680.0, 1630.0, 1580.0, 1570.0, 1570.0, 1600.0, 1600.0, 1560.0, 1510.0, 1540.0, 1540.0, 1510.0, 1540.0, 1540.0, 1570.0, 1550.0, 1560.0, 1540.0, 1540.0, 1550.0, 1550.0, 1520.0, 1510.0, 1490.0, 1470.0, 1480.0, 1450.0, 1410.0, 1410.0, 1400.0, 1390.0, 1340.0, 1380.0, 1430.0, 1530.0, 1540.0, 1540.0, 1510.0, 1510.0, 1490.0, 1350.0, 1100.0, 910.0, 810.0, 730.0, 730.0, 800.0, 770.0, 800.0, 830.0, 750.0, 710.0, 700.0, 640.0, 600.0, 600.0, 570.0, 680.0, 810.0, 850.0, 850.0, 700.0, 670.0, 690.0, 660.0, 650.0, 620.0, 610.0, 560.0, 520.0, 510.0, 500.0, 485.0, 485.0, 500.0, 550.0, 570.0, 530.0, 540.0, 480.0, 485.0, 500.0, 490.0, 505.0, 530.0, 550.0, 530.0, 540.0, 505.0, 520.0, 510.0, 500.0, 495.0, 490.0, 500.0, 495.0, 520.0, 540.0, 550.0, 510.0, 520.0, 580.0, 660.0, 750.0, 690.0, 700.0, 680.0, 650.0, 680.0, 670.0, 640.0, 690.0, 690.0, 740.0, 760.0, 750.0, 740.0, 770.0, 830.0, 870.0, 890.0, 870.0, 870.0, 860.0, 850.0, 850.0, 830.0, 830.0, 820.0, 820.0, 820.0, 790.0, 790.0, 790.0, 790.0, 780.0, 740.0, 760.0, 800.0, 770.0, 780.0, 790.0, 790.0, 790.0, 790.0, 760.0, 750.0, 760.0, 790.0, 830.0, 1000.0, 930.0, 950.0, 940.0, 910.0, 910.0, 920.0, 900.0, 940.0, 920.0, 920.0, 950.0, 980.0, 980.0, 1000.0, 980.0, 980.0, 1060.0, 1040.0, 1050.0, 1050.0, 1040.0, 1020.0, 1040.0, 1090.0, 1150.0, 1200.0, 1170.0, 1210.0, 1200.0, 1240.0, 1180.0, 1200.0, 1170.0, 1140.0, 1100.0, 1150.0, 1150.0, 1280.0, 1360.0, 1330.0, 1330.0, 1310.0, 1350.0, 1380.0, 1450.0, 1410.0, 1340.0, 1360.0, 1340.0, 1320.0, 1330.0, 1340.0, 1320.0, 1300.0, 1260.0, 1260.0, 1260.0, 1240.0, 1250.0, 1130.0, 1180.0, 1270.0, 1280.0, 1240.0, 1260.0, 1210.0, 1220.0, 1180.0, 1160.0, 1200.0, 1220.0, 1170.0, 1140.0, 1160.0, 1190.0, 1210.0, 1150.0, 1200.0, 1220.0, 1200.0, 1230.0, 1260.0, 1280.0, 1270.0, 1260.0, 1300.0, 1310.0, 1360.0, 1370.0, 1460.0, 1520.0, 1520.0, 1490.0, 1440.0, 1480.0, 1480.0, 1420.0, 1430.0, 1430.0, 1410.0, 1450.0, 1430.0, 1400.0, 1390.0, 1370.0, 1420.0, 1390.0, 1360.0, 1370.0, 1350.0, 1350.0, 1380.0, 1400.0, 1380.0, 1390.0, 1370.0, 1380.0, 1380.0, 1420.0, 1420.0, 1420.0, 1420.0, 1440.0, 1440.0, 1430.0, 1410.0, 1420.0, 1460.0, 1460.0, 1430.0, 1420.0, 1410.0, 1410.0, 1430.0, 1470.0, 1470.0, 1530.0, 1550.0, 1570.0, 1570.0, 1630.0, 1630.0, 1600.0, 1570.0, 1550.0, 1590.0, 1590.0, 1590.0, 1570.0, 1550.0, 1570.0, 1560.0, 1570.0, 1560.0, 1660.0, 1710.0, 1720.0, 1720.0, 1730.0, 1710.0, 1710.0, 1770.0, 1770.0, 1750.0, 1720.0, 1750.0, 1740.0, 1750.0, 1750.0, 1760.0, 1780.0, 1730.0, 1740.0, 1760.0, 1750.0, 1740.0, 1740.0, 1760.0, 1760.0, 1730.0, 1710.0, 1720.0, 1740.0, 1730.0, 1740.0, 1750.0, 1800.0, 1830.0, 1850.0, 1980.0, 2025.0, 1970.0, 1960.0, 2075.0, 2050.0, 2025.0, 2000.0, 2000.0, 1990.0, 1940.0, 1950.0, 1950.0, 1910.0, 1910.0, 1890.0, 1880.0, 1890.0, 1950.0, 1960.0, 1880.0, 1860.0, 1840.0, 1850.0, 1830.0, 1850.0, 1840.0, 1870.0, 1890.0, 1860.0, 1810.0, 1830.0, 1850.0, 1860.0, 1870.0, 1860.0, 1850.0, 1860.0, 1860.0, 1860.0, 1880.0, 1880.0, 1910.0, 1900.0, 1890.0, 1880.0, 1920.0, 1930.0, 1910.0, 1880.0, 1860.0, 1880.0, 1890.0, 1890.0, 1910.0, 1930.0, 1980.0, 2050.0, 2100.0, 2150.0, 2200.0, 2150.0, 2150.0, 2175.0, 2175.0, 2175.0, 2225.0, 2250.0, 2200.0, 2200.0, 2225.0, 2250.0, 2250.0, 2225.0, 2200.0, 2200.0, 2175.0, 2225.0, 2175.0, 2175.0, 2100.0, 2025.0, 1970.0, 2025.0, 2125.0, 2100.0, 2125.0, 2075.0, 2075.0, 2025.0, 1990.0, 1870.0, 1880.0, 1790.0, 1900.0, 1930.0, 2025.0, 1990.0, 1970.0, 1980.0, 1940.0, 1870.0, 1860.0, 1870.0, 1870.0, 1890.0, 1900.0, 1900.0, 2000.0, 1990.0, 2000.0, 2100.0, 2075.0, 2025.0, 2050.0, 2025.0, 2075.0, 2050.0, 2000.0, 1980.0, 1990.0, 2000.0, 2050.0, 2025.0, 2050.0, 2050.0, 2050.0, 2025.0, 2075.0, 2050.0, 2025.0, 2000.0, 2025.0, 2025.0, 2025.0, 2075.0, 2075.0, 2100.0, 2075.0, 2075.0, 2050.0, 2050.0, 2100.0, 2050.0, 2050.0, 2125.0, 2150.0, 2125.0, 2100.0, 2050.0, 2075.0, 2075.0, 2100.0, 2125.0, 2100.0, 2100.0, 2075.0, 2050.0, 2050.0, 2025.0, 2025.0, 1960.0, 1900.0, 1880.0, 1850.0, 1950.0, 1960.0, 2025.0, 2100.0, 2150.0, 2150.0, 2075.0, 2025.0, 1990.0, 2025.0, 2100.0, 2125.0, 2075.0, 2075.0, 2075.0, 2100.0, 2050.0, 2100.0, 2100.0, 2075.0, 2075.0, 2075.0, 2100.0, 2200.0, 2250.0, 2225.0, 2175.0, 2150.0, 2150.0, 2300.0, 2250.0, 2225.0, 2200.0, 2125.0, 2125.0, 2150.0, 2150.0, 2200.0, 2225.0, 2325.0, 2400.0, 2500.0, 2500.0, 2450.0, 2450.0, 2450.0, 2500.0, 2475.0, 2500.0, 2475.0, 2450.0, 2425.0, 2425.0, 2350.0, 2325.0, 2375.0, 2375.0, 2475.0, 2450.0, 2475.0, 2625.0, 2650.0, 2625.0, 2650.0, 2600.0, 2550.0, 2550.0, 2600.0, 2575.0, 2575.0, 2550.0, 2550.0, 2525.0, 2525.0, 2550.0, 2550.0, 2675.0, 2900.0, 2850.0, 2850.0, 2725.0, 2700.0, 2600.0, 2625.0, 2675.0, 2625.0, 2625.0, 2675.0, 2725.0, 2625.0, 2425.0, 2375.0, 2475.0, 2475.0, 2475.0, 2400.0, 2350.0, 2400.0, 2500.0, 2500.0, 2475.0, 2425.0, 2375.0, 2325.0, 2400.0, 2425.0, 2400.0, 2375.0, 2475.0, 2475.0, 2425.0, 2500.0, 2475.0, 2500.0, 2450.0, 2475.0, 2425.0, 2375.0, 2375.0, 2400.0, 2425.0, 2400.0, 2375.0, 2350.0, 2425.0, 2400.0, 2400.0, 2400.0, 2400.0, 2375.0, 2325.0, 2300.0, 2325.0, 2300.0, 2300.0, 2300.0, 2250.0, 2300.0, 2350.0, 2350.0, 2350.0, 2350.0, 2325.0, 2300.0, 2300.0, 2300.0, 2300.0, 2300.0, 2275.0, 2250.0, 2275.0, 2275.0, 2250.0, 2250.0, 2250.0, 2250.0, 2250.0, 2250.0, 2250.0, 2275.0, 2375.0, 2350.0, 2325.0, 2325.0, 2325.0, 2300.0, 2275.0, 2250.0, 2350.0, 2400.0, 2375.0, 2350.0, 2325.0, 2375.0, 2400.0, 2400.0, 2400.0, 2475.0, 2450.0, 2450.0, 2500.0, 2475.0, 2475.0, 2475.0, 2475.0, 2400.0, 2425.0, 2450.0, 2375.0, 2350.0, 2350.0, 2375.0, 2400.0, 2400.0, 2400.0, 2400.0, 2425.0, 2475.0, 2525.0, 2550.0, 2600.0, 2575.0, 2600.0, 2600.0, 2575.0, 2525.0, 2525.0, 2575.0, 2625.0, 2600.0, 2600.0, 2575.0, 2575.0, 2550.0, 2600.0, 2600.0, 2700.0, 2700.0, 2700.0, 2675.0, 2650.0, 2675.0, 2500.0, 2350.0, 2350.0, 2450.0, 2400.0, 2375.0, 2375.0, 2450.0, 2425.0, 2350.0, 2300.0, 2300.0, 2300.0, 2175.0, 2050.0, 2125.0, 2025.0, 2100.0, 2100.0, 2050.0, 2000.0, 2025.0, 2025.0, 1990.0, 2000.0, 1970.0, 1940.0, 1930.0, 1860.0, 1720.0, 1630.0, 1650.0, 1720.0, 1750.0, 1780.0, 1690.0, 1620.0, 1580.0, 1700.0, 1760.0, 1690.0, 1790.0, 1870.0, 1920.0, 1910.0, 1960.0, 1930.0, 1990.0, 1970.0, 1930.0, 1990.0, 2000.0, 2025.0, 2125.0, 2150.0, 2125.0, 2100.0, 2075.0, 2025.0, 2075.0, 2100.0, 2100.0, 2150.0, 2075.0, 2075.0, 2100.0, 2050.0, 2025.0, 2000.0, 1990.0, 1940.0, 1920.0, 1910.0, 1930.0, 1890.0, 1920.0, 1920.0, 1960.0, 1910.0, 1970.0, 1980.0, 1970.0, 2025.0, 2000.0, 1980.0, 1960.0, 1920.0, 1900.0, 1820.0, 1840.0, 1840.0, 1790.0, 1790.0, 1780.0, 1790.0, 1790.0, 1780.0, 1770.0, 1790.0, 1770.0, 1820.0, 1830.0, 1830.0, 1800.0, 1790.0, 1820.0, 1830.0, 1810.0, 1820.0, 1800.0, 1800.0, 1820.0, 1850.0, 1850.0, 1840.0, 1850.0, 1850.0, 1860.0, 1860.0, 1840.0, 1880.0, 1960.0, 1980.0, 1980.0, 2000.0, 2025.0, 2000.0, 1990.0, 1950.0, 1950.0, 1960.0, 1940.0, 1980.0, 2000.0, 1990.0, 2000.0, 2000.0, 1960.0, 1920.0, 1900.0, 1930.0, 1920.0, 1970.0, 1970.0, 1940.0, 1920.0, 1940.0, 1920.0, 1970.0, 1970.0, 1980.0, 1980.0, 1950.0, 1940.0, 1930.0, 1930.0, 1910.0, 1930.0, 1920.0, 1930.0, 1930.0, 1930.0, 1960.0, 1960.0, 1950.0, 1920.0, 1920.0, 1910.0, 1880.0, 1860.0, 1840.0, 1840.0, 1840.0, 1860.0, 1820.0, 1800.0, 1810.0, 1830.0, 1820.0, 1820.0, 1820.0, 1860.0, 1870.0, 1870.0, 1860.0, 1850.0, 1790.0, 1790.0, 1770.0, 1770.0, 1750.0, 1740.0, 1720.0, 1660.0, 1660.0, 1720.0, 1680.0, 1670.0, 1650.0, 1620.0, 1640.0, 1600.0, 1580.0, 1490.0, 1350.0, 1260.0, 1280.0, 1340.0, 1290.0, 1310.0, 1260.0, 1260.0, 1260.0, 1260.0, 1310.0, 1340.0, 1430.0, 1470.0, 1380.0, 1370.0, 1410.0, 1430.0, 1420.0, 1460.0, 1580.0, 1580.0, 1630.0, 1620.0, 1610.0, 1560.0, 1490.0, 1440.0, 1420.0, 1410.0, 1440.0, 1440.0, 1420.0, 1440.0, 1440.0, 1390.0, 1390.0, 1360.0, 1370.0, 1440.0, 1480.0, 1470.0, 1520.0, 1530.0, 1530.0, 1610.0, 1600.0, 1580.0, 1540.0, 1570.0, 1580.0, 1560.0, 1570.0, 1570.0, 1530.0, 1430.0, 1450.0, 1430.0, 1420.0, 1380.0, 1390.0, 1410.0, 1410.0, 1390.0, 1380.0, 1400.0, 1430.0, 1450.0, 1500.0, 1540.0, 1600.0, 1610.0, 1600.0, 1580.0, 1560.0, 1550.0, 1530.0, 1510.0, 1510.0, 1510.0, 1510.0, 1490.0, 1490.0, 1480.0, 1460.0, 1490.0, 1470.0, 1460.0, 1450.0, 1440.0, 1430.0, 1410.0, 1410.0, 1420.0, 1420.0, 1400.0, 1410.0, 1430.0, 1450.0, 1410.0, 1400.0, 1390.0, 1380.0, 1370.0, 1380.0, 1380.0, 1400.0, 1410.0, 1390.0, 1410.0, 1430.0, 1420.0, 1430.0, 1430.0, 1410.0, 1390.0, 1390.0, 1370.0, 1370.0, 1370.0, 1390.0, 1380.0, 1370.0, 1340.0, 1340.0, 1370.0, 1390.0, 1400.0, 1390.0, 1420.0, 1470.0, 1610.0, 1610.0, 1600.0, 1600.0, 1600.0, 1590.0, 1580.0, 1600.0, 1600.0, 1600.0, 1770.0, 1770.0, 1760.0, 1760.0, 1750.0, 1760.0, 1750.0, 1750.0, 1700.0, 1720.0, 1700.0, 1710.0, 1690.0, 1700.0, 1660.0, 1650.0, 1700.0, 1730.0, 1700.0, 1700.0, 1680.0, 1680.0, 1680.0, 1610.0, 1610.0, 1600.0, 1580.0, 1590.0, 1590.0, 1610.0, 1640.0, 1650.0, 1640.0, 1630.0, 1610.0, 1600.0, 1580.0, 1600.0, 1590.0, 1610.0, 1620.0, 1580.0, 1560.0, 1530.0, 1550.0, 1570.0, 1550.0, 1550.0, 1550.0, 1530.0, 1540.0, 1540.0, 1500.0, 1460.0, 1400.0, 1370.0, 1320.0, 1300.0, 1320.0, 1310.0, 1310.0, 1340.0, 1370.0, 1330.0, 1310.0, 1290.0, 1290.0, 1300.0, 1300.0, 1300.0, 1290.0, 1270.0, 1280.0, 1280.0, 1280.0, 1270.0, 1260.0, 1250.0, 1250.0, 1250.0, 1240.0, 1240.0, 1210.0, 1210.0, 1220.0, 1210.0, 1220.0, 1220.0, 1240.0, 1200.0, 1170.0, 1150.0, 1100.0, 1110.0, 1140.0, 1130.0, 1130.0, 1110.0, 1090.0, 1080.0, 1050.0, 1030.0, 970.0, 960.0, 930.0, 930.0, 910.0, 910.0, 880.0, 890.0, 850.0, 840.0, 890.0, 880.0, 870.0, 870.0, 810.0, 840.0, 830.0, 810.0, 820.0, 830.0, 860.0, 860.0, 840.0, 810.0, 810.0, 790.0, 780.0, 770.0, 760.0, 750.0, 720.0, 710.0, 710.0, 720.0, 740.0, 720.0, 710.0, 720.0, 720.0, 730.0, 720.0, 710.0, 710.0, 720.0, 700.0, 690.0, 800.0, 820.0, 790.0, 790.0, 820.0, 790.0, 720.0, 740.0, 850.0, 870.0, 890.0, 880.0, 880.0, 920.0, 940.0, 980.0, 1000.0, 1000.0, 990.0, 990.0, 1030.0, 1030.0, 950.0, 980.0, 970.0, 960.0, 960.0, 960.0, 980.0, 970.0, 960.0, 970.0, 930.0, 950.0, 940.0, 900.0, 900.0, 930.0, 950.0, 950.0, 920.0, 920.0, 1000.0, 1020.0, 1010.0, 990.0, 1060.0, 1130.0, 1130.0, 1100.0, 1090.0, 1080.0, 1090.0, 1060.0, 1040.0, 1050.0, 1040.0, 1060.0, 1070.0, 1070.0, 1100.0, 1160.0, 1210.0, 1190.0, 1170.0, 1200.0, 1200.0, 1240.0, 1230.0, 1200.0, 1170.0, 1180.0, 1230.0, 1230.0, 1170.0, 1150.0, 1160.0, 1170.0, 1160.0, 1180.0, 1200.0, 1190.0, 1200.0, 1250.0, 1250.0, 1210.0, 1190.0, 1160.0, 1140.0, 1170.0, 1170.0, 1150.0, 1130.0, 1140.0, 1130.0, 1090.0, 1110.0, 1060.0, 1010.0, 945.0, 940.0, 970.0, 965.0, 960.0, 990.0, 985.0, 985.0, 990.0, 1005.0, 1025.0, 1050.0, 1040.0, 1015.0, 975.0, 965.0, 960.0, 965.0, 905.0, 920.0, 910.0, 925.0, 920.0, 950.0, 955.0, 950.0, 945.0, 980.0, 980.0, 965.0, 975.0, 990.0, 980.0, 975.0, 950.0, 965.0, 995.0, 990.0, 1025.0, 1040.0, 1025.0, 1035.0, 1020.0, 1010.0, 960.0, 985.0, 985.0, 990.0, 1010.0, 1005.0, 1015.0, 990.0, 995.0, 980.0, 990.0, 985.0, 980.0, 995.0, 995.0, 985.0, 985.0, 990.0, 990.0, 970.0, 975.0, 1010.0, 1055.0, 1030.0, 995.0, 990.0, 990.0, 1015.0, 1070.0, 1110.0, 1105.0, 1145.0, 1135.0, 1205.0, 1195.0, 1175.0, 1200.0, 1185.0, 1150.0, 1130.0, 1205.0, 1240.0, 1250.0, 1245.0, 1280.0, 1320.0, 1300.0, 1305.0, 1315.0, 1320.0, 1305.0, 1295.0, 1280.0, 1290.0, 1285.0, 1295.0, 1335.0, 1340.0, 1310.0, 1335.0, 1310.0, 1285.0, 1290.0, 1285.0, 1305.0, 1265.0, 1245.0, 1205.0, 1170.0, 1160.0, 1200.0, 1200.0, 1195.0, 1190.0, 1200.0, 1210.0, 1200.0, 1210.0, 1210.0, 1180.0, 1200.0, 1175.0, 1135.0, 1145.0, 1170.0, 1160.0, 1120.0, 1145.0, 1135.0, 1115.0, 1155.0, 1185.0, 1235.0, 1270.0, 1255.0, 1295.0, 1270.0, 1270.0, 1285.0, 1285.0, 1320.0, 1310.0, 1325.0, 1340.0, 1340.0, 1320.0, 1290.0, 1265.0, 1280.0, 1345.0, 1345.0, 1350.0, 1325.0, 1335.0, 1370.0, 1390.0, 1385.0, 1390.0, 1380.0, 1335.0, 1305.0, 1315.0, 1305.0, 1285.0, 1320.0, 1330.0, 1300.0, 1285.0, 1280.0, 1285.0, 1285.0, 1260.0, 1205.0, 1185.0, 1185.0, 1150.0, 1135.0, 1145.0, 1175.0, 1170.0, 1170.0, 1125.0, 1080.0, 1025.0, 1020.0, 980.0, 980.0, 1015.0, 990.0, 1035.0, 1075.0, 1060.0, 1080.0, 1045.0, 1110.0, 1120.0, 1135.0, 1150.0, 1150.0, 1140.0, 1115.0, 1100.0, 1130.0, 1110.0, 1105.0, 1035.0, 1005.0, 1020.0, 1030.0, 1045.0, 1070.0, 1085.0, 1105.0, 1110.0, 1105.0, 1110.0, 1090.0, 1080.0, 1100.0, 1115.0, 1145.0, 1145.0, 1135.0, 1105.0, 1100.0, 1075.0, 1050.0, 1025.0, 1055.0, 1075.0, 1075.0, 1090.0, 1075.0, 1065.0, 1065.0, 1065.0, 1050.0, 1050.0, 1050.0, 1025.0, 1030.0, 1015.0, 1020.0, 1015.0, 1000.0, 970.0, 955.0, 955.0, 955.0, 985.0, 1010.0, 1020.0, 1030.0, 1000.0, 1005.0, 1010.0, 995.0, 1000.0, 1005.0, 1010.0, 1025.0, 1005.0, 1005.0, 1000.0, 1005.0, 1005.0, 995.0, 1015.0, 1015.0, 1005.0, 1005.0, 1005.0, 1000.0, 980.0, 975.0, 970.0, 965.0, 1025.0, 1035.0, 1015.0, 1015.0, 1010.0, 1000.0, 995.0, 975.0, 980.0, 980.0, 965.0, 960.0, 965.0, 970.0, 970.0, 980.0, 995.0, 985.0, 970.0, 955.0, 965.0, 970.0, 965.0, 985.0, 990.0, 990.0, 985.0, 980.0, 980.0, 980.0, 970.0, 965.0, 980.0, 980.0, 965.0, 975.0, 975.0, 980.0, 985.0, 975.0, 930.0, 945.0, 900.0, 875.0, 870.0, 885.0, 875.0, 875.0, 915.0, 940.0, 940.0, 925.0, 915.0, 895.0, 900.0, 895.0, 890.0, 885.0, 915.0, 905.0, 910.0, 900.0, 885.0, 925.0, 925.0, 900.0, 900.0, 875.0, 850.0, 845.0, 845.0, 820.0, 800.0, 810.0, 805.0, 810.0, 815.0, 805.0, 795.0, 790.0, 785.0, 785.0, 775.0, 770.0, 775.0, 770.0, 760.0, 745.0, 705.0, 665.0, 655.0, 645.0, 625.0, 605.0, 600.0, 600.0, 595.0, 575.0, 600.0, 615.0, 600.0, 595.0, 595.0, 600.0, 610.0, 600.0, 595.0, 580.0, 580.0, 505.0, 505.0, 505.0, 500.0, 500.0, 491.0, 495.0, 480.0, 585.0, 580.0, 590.0, 650.0, 635.0, 620.0, 615.0, 630.0, 620.0, 595.0, 585.0, 595.0, 570.0, 565.0, 585.0, 580.0, 590.0, 590.0, 610.0, 610.0, 615.0, 595.0, 585.0, 590.0, 540.0, 540.0, 545.0, 530.0, 540.0, 570.0, 630.0, 625.0, 710.0, 705.0, 695.0, 665.0, 675.0, 660.0, 695.0, 695.0, 655.0, 675.0, 680.0, 675.0, 660.0, 660.0, 620.0, 615.0, 645.0, 660.0, 655.0, 645.0, 640.0, 635.0, 645.0, 645.0, 610.0, 575.0, 575.0, 580.0, 605.0, 605.0, 595.0, 580.0, 585.0, 595.0, 585.0, 565.0, 560.0, 550.0, 535.0, 540.0, 530.0, 515.0, 490.0, 498.0, 494.0, 482.0, 482.0, 510.0, 530.0, 515.0, 505.0, 510.0, 505.0, 520.0, 520.0, 530.0, 515.0, 510.0, 510.0, 500.0, 499.0, 499.0, 490.0, 488.0, 471.0, 469.0, 452.0, 463.0, 466.0, 462.0, 520.0, 530.0, 493.0, 495.0, 520.0, 540.0, 535.0, 580.0, 580.0, 630.0, 655.0, 625.0, 595.0, 615.0, 610.0, 620.0, 620.0, 630.0, 645.0, 620.0, 600.0, 615.0, 605.0, 605.0, 600.0, 610.0, 670.0, 690.0, 675.0, 685.0, 745.0, 795.0, 800.0, 735.0, 735.0, 755.0, 760.0, 715.0, 720.0, 705.0, 685.0, 680.0, 670.0, 670.0, 670.0, 665.0, 690.0, 685.0, 695.0, 715.0, 705.0, 715.0, 695.0, 730.0, 760.0, 760.0, 770.0, 745.0, 735.0, 745.0, 735.0, 730.0, 725.0, 720.0, 715.0, 685.0, 700.0, 700.0, 695.0, 695.0, 710.0, 705.0, 685.0, 685.0, 685.0, 680.0, 690.0, 705.0, 710.0, 710.0, 710.0, 725.0, 770.0, 825.0, 845.0, 915.0, 930.0, 945.0, 935.0, 875.0, 895.0, 875.0, 865.0, 850.0, 850.0, 865.0, 870.0, 865.0, 855.0, 840.0, 865.0, 885.0, 875.0, 895.0, 940.0, 980.0, 1075.0, 1070.0, 1060.0, 1040.0, 1050.0, 1065.0, 1055.0, 1060.0, 1070.0, 1090.0, 1065.0, 1070.0, 1070.0, 1045.0, 1120.0, 1190.0, 1185.0, 1155.0, 1165.0, 1200.0, 1200.0, 1145.0, 1145.0, 1150.0, 1170.0, 1175.0, 1165.0, 1130.0, 1115.0, 1090.0, 1105.0, 1115.0, 1095.0, 1135.0, 1190.0, 1190.0, 1190.0, 1220.0, 1245.0, 1250.0, 1285.0, 1275.0, 1250.0, 1150.0, 1170.0, 1195.0, 1210.0, 1195.0, 1180.0, 1230.0, 1230.0, 1215.0, 1215.0, 1215.0, 1290.0, 1270.0, 1300.0, 1345.0, 1325.0, 1370.0, 1380.0, 1400.0, 1415.0, 1410.0, 1430.0, 1425.0, 1480.0, 1520.0, 1545.0, 1540.0, 1545.0, 1540.0, 1540.0, 1595.0, 1605.0, 1585.0, 1585.0, 1650.0, 1735.0, 1710.0, 1670.0, 1710.0, 1720.0, 1645.0, 1685.0, 1695.0, 1680.0, 1650.0, 1555.0, 1555.0, 1535.0, 1540.0, 1620.0, 1680.0, 1665.0, 1675.0, 1685.0, 1700.0, 1660.0, 1620.0, 1670.0, 1735.0, 1770.0, 1720.0, 1710.0, 1700.0, 1715.0, 1710.0, 1700.0, 1710.0, 1710.0, 1710.0, 1710.0, 1695.0, 1705.0, 1685.0, 1700.0, 1705.0, 1705.0, 1695.0, 1750.0, 1735.0, 1710.0, 1705.0, 1720.0, 1705.0, 1760.0, 1750.0, 1735.0, 1725.0, 1705.0, 1740.0, 1735.0, 1745.0, 1740.0, 1740.0, 1740.0, 1750.0, 1725.0, 1730.0, 1730.0, 1750.0, 1755.0, 1750.0, 1745.0, 1740.0, 1740.0, 1730.0, 1715.0, 1725.0, 1675.0, 1645.0, 1700.0, 1705.0, 1700.0, 1725.0, 1725.0, 1715.0, 1720.0, 1705.0, 1700.0, 1690.0, 1690.0, 1705.0, 1700.0, 1710.0, 1755.0, 1695.0, 1700.0, 1645.0, 1670.0, 1665.0, 1690.0, 1705.0, 1710.0, 1730.0, 1730.0, 1750.0, 1780.0, 1800.0, 1845.0, 1830.0, 1815.0, 1835.0, 1940.0, 1940.0, 1895.0, 1920.0, 1920.0, 1890.0, 1895.0, 1890.0, 1880.0, 1870.0, 1835.0, 1885.0, 1850.0, 1850.0, 1845.0, 1850.0, 1850.0, 1795.0, 1750.0, 1660.0, 1620.0, 1630.0, 1620.0, 1565.0, 1560.0, 1515.0, 1500.0, 1470.0, 1455.0, 1535.0, 1515.0, 1490.0, 1485.0, 1500.0, 1490.0, 1475.0, 1520.0, 1520.0, 1525.0, 1550.0, 1630.0, 1625.0, 1620.0, 1610.0, 1570.0, 1600.0, 1660.0, 1660.0, 1670.0, 1610.0, 1645.0, 1635.0, 1630.0, 1580.0, 1580.0, 1580.0, 1580.0, 1580.0, 1580.0, 1635.0, 1645.0, 1630.0, 1645.0, 1640.0, 1630.0, 1625.0, 1670.0, 1675.0, 1665.0, 1700.0, 1700.0, 1805.0, 1820.0, 1830.0, 1835.0, 1830.0, 1850.0, 1815.0, 1830.0, 1825.0, 1895.0, 1920.0, 1895.0, 1895.0, 1885.0, 1870.0, 1865.0, 1855.0, 1850.0, 1870.0, 1865.0, 1885.0, 1880.0, 1900.0, 1885.0, 1875.0, 1970.0, 1995.0, 1985.0, 1965.0, 1950.0, 1890.0, 1900.0, 1825.0, 1840.0, 1885.0, 1890.0, 1890.0, 1890.0, 1920.0, 1930.0, 1865.0, 1800.0, 1775.0, 1820.0, 1875.0, 1875.0, 1860.0, 1850.0, 1815.0, 1780.0, 1685.0, 1825.0, 1830.0, 1850.0, 1820.0, 1840.0, 1860.0, 1885.0, 1915.0, 1920.0, 1915.0, 1935.0, 1915.0, 1915.0, 1905.0, 1905.0, 1895.0, 1900.0, 1860.0, 1895.0, 1910.0, 1900.0, 1880.0, 1885.0, 1875.0, 1915.0, 1925.0, 1925.0, 1900.0, 1915.0, 1885.0, 1840.0, 1845.0, 1840.0, 1835.0, 1810.0, 1760.0, 1795.0, 1785.0, 1760.0, 1760.0, 1745.0, 1745.0, 1720.0, 1715.0, 1775.0, 1785.0, 1700.0, 1810.0, 1800.0, 1795.0, 1770.0, 1755.0, 1740.0, 1810.0, 1845.0, 1815.0, 1825.0, 1815.0, 1850.0, 1845.0, 1875.0, 1890.0, 1890.0, 1890.0, 1905.0, 1905.0, 1880.0, 1860.0, 1900.0, 1890.0, 1935.0, 1990.0, 2180.0, 2240.0, 2210.0, 2220.0, 2260.0, 2260.0, 2250.0, 2230.0, 2200.0, 2230.0, 2350.0, 2440.0, 2470.0, 2480.0, 2470.0, 2650.0, 2610.0, 2560.0, 2480.0, 2530.0, 2590.0, 2530.0, 2520.0, 2480.0, 2370.0, 2370.0, 2450.0, 2490.0, 2500.0, 2470.0, 2510.0, 2520.0, 2500.0, 2490.0, 2510.0, 2480.0, 2430.0, 2450.0, 2420.0, 2390.0, 2340.0, 2370.0, 2380.0, 2210.0, 2220.0, 2240.0, 2260.0, 2160.0, 2120.0, 2080.0, 2080.0, 2090.0, 2110.0, 2070.0, 2010.0, 2050.0, 2070.0, 2070.0, 2160.0, 2130.0, 2180.0, 2130.0, 2140.0, 2080.0, 2060.0, 2090.0, 2130.0, 2210.0, 2170.0, 2150.0, 2130.0, 2130.0, 2130.0, 2100.0, 2100.0, 2290.0, 2280.0, 2200.0, 2200.0, 2200.0, 1875.0, 1835.0, 1835.0, 1760.0, 1705.0, 1715.0, 1720.0, 1715.0, 1700.0, 1755.0, 1715.0, 1730.0, 1800.0, 1910.0, 1960.0, 1980.0, 1965.0, 1935.0, 1865.0, 1875.0, 1860.0, 1820.0, 1880.0, 1930.0, 1885.0, 1975.0, 2070.0, 2060.0, 2030.0, 2030.0, 1935.0, 1935.0, 1935.0, 1935.0, 1935.0, 1935.0, 1935.0, 2000.0, 2020.0, 1990.0, 1960.0, 1895.0, 1805.0, 1750.0, 1790.0, 1820.0, 1770.0, 1780.0, 1835.0, 1845.0, 1835.0, 1880.0, 1920.0, 1930.0, 1895.0, 1860.0, 1810.0, 1865.0, 1915.0, 1875.0, 1840.0, 1840.0, 1885.0, 1910.0, 1975.0, 2130.0, 2070.0, 1990.0, 1995.0, 1960.0, 1970.0, 2030.0, 2030.0, 1995.0, 1965.0, 1900.0, 1890.0, 1860.0, 1840.0, 1780.0, 1850.0, 1880.0, 1880.0, 1950.0, 1940.0, 1935.0, 1925.0, 1915.0, 1930.0, 1880.0, 1890.0, 1860.0, 1805.0, 1735.0, 1745.0, 1780.0, 1735.0, 1780.0, 1775.0, 1760.0, 1740.0, 1765.0, 1790.0, 1825.0, 1900.0, 1875.0, 1830.0, 1865.0, 1845.0, 1850.0, 1865.0, 1900.0, 1870.0, 1860.0, 1835.0, 1820.0, 1770.0, 1780.0, 1750.0, 1735.0, 1725.0, 1750.0, 1780.0, 1750.0, 1735.0, 1745.0, 1725.0, 1705.0, 1670.0, 1730.0, 1730.0, 1675.0, 1680.0, 1650.0, 1645.0, 1610.0, 1635.0, 1645.0, 1625.0, 1605.0, 1590.0, 1540.0, 1585.0, 1575.0, 1585.0, 1550.0, 1485.0, 1470.0, 1340.0, 1315.0, 1290.0, 1285.0, 1290.0, 1305.0, 1330.0, 1330.0, 1320.0, 1345.0, 1320.0, 1310.0, 1330.0, 1320.0, 1295.0, 1290.0, 1310.0, 1295.0, 1270.0, 1260.0, 1275.0, 1260.0, 1250.0, 1250.0, 1240.0, 1260.0, 1230.0, 1215.0, 1215.0, 1225.0, 1235.0, 1390.0, 1430.0, 1415.0, 1435.0, 1415.0, 1420.0, 1415.0, 1470.0, 1495.0, 1510.0, 1495.0, 1505.0, 1460.0, 1420.0, 1405.0, 1410.0, 1430.0, 1390.0, 1375.0, 1415.0, 1400.0, 1380.0, 1360.0, 1380.0, 1380.0, 1330.0, 1305.0, 1290.0, 1300.0, 1280.0, 1245.0, 1265.0, 1310.0, 1350.0, 1420.0, 1460.0, 1430.0, 1410.0, 1395.0, 1390.0, 1345.0, 1420.0, 1455.0, 1415.0, 1360.0, 1395.0, 1470.0, 1460.0, 1450.0, 1480.0, 1460.0, 1435.0, 1450.0, 1440.0, 1450.0, 1435.0, 1405.0, 1385.0, 1380.0, 1355.0, 1365.0, 1360.0, 1345.0, 1325.0, 1320.0, 1295.0, 1285.0, 1320.0, 1305.0, 1325.0, 1315.0, 1315.0, 1315.0, 1305.0, 1330.0, 1295.0, 1295.0, 1310.0, 1315.0, 1305.0, 1295.0, 1315.0, 1340.0, 1305.0, 1360.0, 1350.0, 1325.0, 1330.0, 1310.0, 1305.0, 1275.0, 1285.0, 1250.0, 1260.0, 1235.0, 1200.0, 1215.0, 1255.0, 1250.0, 1290.0, 1290.0, 1280.0, 1285.0, 1305.0, 1270.0, 1295.0, 1295.0, 1295.0, 1295.0, 1295.0, 1295.0, 1315.0, 1295.0, 1295.0, 1280.0, 1295.0, 1245.0, 1250.0, 1280.0, 1290.0, 1280.0, 1250.0, 1335.0, 1375.0, 1400.0, 1390.0, 1455.0, 1445.0, 1415.0, 1435.0, 1470.0, 1415.0, 1385.0, 1360.0, 1365.0, 1340.0, 1295.0, 1305.0, 1295.0, 1335.0, 1315.0, 1305.0, 1295.0, 1285.0, 1270.0, 1260.0, 1255.0, 1295.0, 1285.0, 1275.0, 1220.0, 1180.0, 1100.0, 1130.0, 1130.0, 1120.0, 1110.0, 1070.0, 1070.0, 1035.0, 1095.0, 1060.0, 1055.0, 1040.0, 1145.0, 1120.0, 1155.0, 1140.0, 1120.0, 1145.0, 1160.0, 1215.0, 1250.0, 1265.0, 1345.0, 1450.0, 1440.0, 1475.0, 1485.0, 1445.0, 1460.0, 1460.0, 1420.0, 1410.0, 1400.0, 1405.0, 1370.0, 1315.0, 1320.0, 1345.0, 1335.0, 1330.0, 1310.0, 1285.0, 1285.0, 1290.0, 1285.0, 1300.0, 1275.0, 1310.0, 1325.0, 1330.0, 1365.0, 1325.0, 1350.0, 1370.0, 1375.0, 1375.0, 1385.0, 1375.0, 1375.0, 1375.0, 1335.0, 1320.0, 1310.0, 1300.0, 1370.0, 1410.0, 1390.0, 1435.0, 1435.0, 1440.0, 1435.0, 1360.0, 1350.0, 1350.0, 1335.0, 1335.0, 1345.0, 1335.0, 1335.0, 1345.0, 1300.0, 1260.0, 1315.0, 1330.0, 1400.0, 1460.0, 1465.0, 1460.0, 1490.0, 1520.0, 1505.0, 1600.0, 1715.0, 1665.0, 1655.0, 1625.0, 1605.0, 1590.0, 1620.0, 1610.0, 1590.0, 1555.0, 1470.0], \"low\": [1500.0, 1700.0, 1640.0, 1640.0, 1660.0, 1650.0, 1610.0, 1600.0, 1620.0, 1650.0, 1680.0, 1620.0, 1590.0, 1540.0, 1540.0, 1540.0, 1560.0, 1540.0, 1510.0, 1500.0, 1510.0, 1510.0, 1490.0, 1490.0, 1530.0, 1550.0, 1520.0, 1530.0, 1530.0, 1530.0, 1530.0, 1530.0, 1500.0, 1480.0, 1470.0, 1440.0, 1450.0, 1400.0, 1340.0, 1390.0, 1380.0, 1360.0, 1240.0, 1330.0, 1300.0, 1440.0, 1510.0, 1510.0, 1500.0, 1490.0, 1430.0, 1190.0, 980.0, 780.0, 730.0, 730.0, 730.0, 660.0, 720.0, 710.0, 760.0, 710.0, 680.0, 630.0, 630.0, 570.0, 520.0, 490.0, 540.0, 710.0, 770.0, 760.0, 700.0, 630.0, 620.0, 600.0, 610.0, 580.0, 560.0, 530.0, 480.0, 480.0, 470.0, 460.0, 465.0, 470.0, 485.0, 480.0, 490.0, 500.0, 460.0, 465.0, 480.0, 470.0, 485.0, 480.0, 510.0, 490.0, 490.0, 490.0, 500.0, 490.0, 480.0, 475.0, 480.0, 485.0, 485.0, 485.0, 510.0, 510.0, 500.0, 510.0, 510.0, 540.0, 660.0, 620.0, 650.0, 640.0, 610.0, 600.0, 630.0, 620.0, 650.0, 680.0, 700.0, 710.0, 710.0, 710.0, 730.0, 770.0, 830.0, 820.0, 810.0, 830.0, 830.0, 830.0, 820.0, 790.0, 770.0, 800.0, 770.0, 780.0, 760.0, 770.0, 760.0, 770.0, 730.0, 710.0, 720.0, 760.0, 750.0, 760.0, 770.0, 760.0, 770.0, 750.0, 730.0, 730.0, 740.0, 750.0, 790.0, 820.0, 880.0, 910.0, 880.0, 880.0, 880.0, 880.0, 880.0, 890.0, 890.0, 890.0, 910.0, 940.0, 940.0, 940.0, 930.0, 950.0, 950.0, 970.0, 990.0, 1000.0, 980.0, 1000.0, 1010.0, 1030.0, 1080.0, 1130.0, 1120.0, 1180.0, 1170.0, 1160.0, 1110.0, 1170.0, 1100.0, 1010.0, 1000.0, 1100.0, 1110.0, 1080.0, 1260.0, 1220.0, 1240.0, 1250.0, 1300.0, 1340.0, 1360.0, 1260.0, 1270.0, 1310.0, 1280.0, 1270.0, 1300.0, 1290.0, 1290.0, 1260.0, 1210.0, 1220.0, 1170.0, 1150.0, 1170.0, 1050.0, 1070.0, 1170.0, 1220.0, 1200.0, 1190.0, 1180.0, 1180.0, 1150.0, 1120.0, 1130.0, 1140.0, 1130.0, 1070.0, 1100.0, 1150.0, 1140.0, 1100.0, 1170.0, 1170.0, 1180.0, 1180.0, 1220.0, 1240.0, 1200.0, 1210.0, 1260.0, 1260.0, 1300.0, 1320.0, 1360.0, 1430.0, 1460.0, 1440.0, 1350.0, 1440.0, 1430.0, 1370.0, 1310.0, 1360.0, 1360.0, 1420.0, 1380.0, 1380.0, 1340.0, 1320.0, 1360.0, 1350.0, 1320.0, 1330.0, 1330.0, 1320.0, 1310.0, 1350.0, 1360.0, 1360.0, 1340.0, 1350.0, 1360.0, 1370.0, 1380.0, 1370.0, 1380.0, 1410.0, 1400.0, 1410.0, 1390.0, 1390.0, 1420.0, 1400.0, 1390.0, 1390.0, 1370.0, 1380.0, 1400.0, 1430.0, 1440.0, 1430.0, 1500.0, 1490.0, 1510.0, 1520.0, 1580.0, 1550.0, 1480.0, 1440.0, 1530.0, 1490.0, 1510.0, 1530.0, 1520.0, 1540.0, 1530.0, 1510.0, 1510.0, 1570.0, 1600.0, 1680.0, 1680.0, 1690.0, 1670.0, 1660.0, 1680.0, 1700.0, 1710.0, 1650.0, 1670.0, 1710.0, 1720.0, 1720.0, 1730.0, 1730.0, 1700.0, 1700.0, 1720.0, 1730.0, 1720.0, 1720.0, 1710.0, 1720.0, 1650.0, 1690.0, 1690.0, 1710.0, 1720.0, 1720.0, 1730.0, 1750.0, 1790.0, 1810.0, 1840.0, 1970.0, 1920.0, 1910.0, 1970.0, 1980.0, 1950.0, 1980.0, 1960.0, 1950.0, 1900.0, 1910.0, 1860.0, 1820.0, 1860.0, 1840.0, 1830.0, 1850.0, 1870.0, 1910.0, 1840.0, 1760.0, 1780.0, 1790.0, 1780.0, 1810.0, 1810.0, 1810.0, 1840.0, 1800.0, 1780.0, 1790.0, 1790.0, 1810.0, 1820.0, 1820.0, 1820.0, 1820.0, 1830.0, 1840.0, 1860.0, 1860.0, 1860.0, 1870.0, 1870.0, 1860.0, 1880.0, 1890.0, 1880.0, 1830.0, 1820.0, 1830.0, 1860.0, 1860.0, 1870.0, 1900.0, 1890.0, 1970.0, 2025.0, 2050.0, 2100.0, 2075.0, 2100.0, 2125.0, 2100.0, 2125.0, 2150.0, 2175.0, 2125.0, 2150.0, 2175.0, 2175.0, 2175.0, 2175.0, 2150.0, 2125.0, 2125.0, 2150.0, 2125.0, 2100.0, 1970.0, 1930.0, 1900.0, 1950.0, 1990.0, 2050.0, 2075.0, 2000.0, 2025.0, 1950.0, 1900.0, 1810.0, 1790.0, 1700.0, 1760.0, 1810.0, 1920.0, 1910.0, 1880.0, 1940.0, 1910.0, 1820.0, 1830.0, 1830.0, 1850.0, 1860.0, 1870.0, 1870.0, 1900.0, 1960.0, 1970.0, 2000.0, 1990.0, 1990.0, 1990.0, 1990.0, 2025.0, 1960.0, 1930.0, 1940.0, 1980.0, 1980.0, 1980.0, 1980.0, 2000.0, 2000.0, 2000.0, 2000.0, 2025.0, 2000.0, 1990.0, 1980.0, 1990.0, 1990.0, 1990.0, 2025.0, 2025.0, 2025.0, 2025.0, 2025.0, 2000.0, 2000.0, 2000.0, 2000.0, 2025.0, 2025.0, 2100.0, 2050.0, 2050.0, 2000.0, 2025.0, 2025.0, 2025.0, 2050.0, 2050.0, 2050.0, 2025.0, 2025.0, 1990.0, 1970.0, 1960.0, 1880.0, 1840.0, 1760.0, 1810.0, 1850.0, 1900.0, 1960.0, 2000.0, 2075.0, 2025.0, 1990.0, 1950.0, 1960.0, 1980.0, 2025.0, 2025.0, 2025.0, 2000.0, 2025.0, 2025.0, 2000.0, 2050.0, 2025.0, 2025.0, 2025.0, 2025.0, 2050.0, 2075.0, 2150.0, 2150.0, 2150.0, 2100.0, 2100.0, 2125.0, 2150.0, 2175.0, 2075.0, 2100.0, 2075.0, 2100.0, 2100.0, 2125.0, 2175.0, 2225.0, 2275.0, 2350.0, 2400.0, 2400.0, 2375.0, 2350.0, 2425.0, 2400.0, 2425.0, 2450.0, 2350.0, 2325.0, 2350.0, 2300.0, 2275.0, 2300.0, 2300.0, 2375.0, 2350.0, 2400.0, 2475.0, 2575.0, 2575.0, 2550.0, 2525.0, 2500.0, 2500.0, 2250.0, 2475.0, 2500.0, 2425.0, 2450.0, 2500.0, 2500.0, 2500.0, 2500.0, 2525.0, 2675.0, 2750.0, 2725.0, 2650.0, 2500.0, 2450.0, 2500.0, 2575.0, 2550.0, 2525.0, 2550.0, 2600.0, 2425.0, 2300.0, 2300.0, 2350.0, 2375.0, 2400.0, 2325.0, 2225.0, 2275.0, 2450.0, 2425.0, 2375.0, 2350.0, 2275.0, 2250.0, 2250.0, 2375.0, 2350.0, 2325.0, 2350.0, 2425.0, 2375.0, 2375.0, 2400.0, 2425.0, 2400.0, 2400.0, 2325.0, 2325.0, 2325.0, 2350.0, 2375.0, 2350.0, 2325.0, 2275.0, 2300.0, 2325.0, 2350.0, 2325.0, 2325.0, 2275.0, 2200.0, 2225.0, 2250.0, 2250.0, 2250.0, 2225.0, 2175.0, 2200.0, 2250.0, 2300.0, 2300.0, 2275.0, 2275.0, 2275.0, 2250.0, 2250.0, 2250.0, 2225.0, 2225.0, 2200.0, 2225.0, 2225.0, 2225.0, 2200.0, 2200.0, 2200.0, 2200.0, 2200.0, 2200.0, 2225.0, 2250.0, 2275.0, 2275.0, 2275.0, 2300.0, 2250.0, 2225.0, 2200.0, 2250.0, 2350.0, 2350.0, 2300.0, 2275.0, 2300.0, 2350.0, 2350.0, 2350.0, 2375.0, 2400.0, 2375.0, 2425.0, 2425.0, 2425.0, 2425.0, 2400.0, 2350.0, 2350.0, 2375.0, 2300.0, 2250.0, 2275.0, 2325.0, 2350.0, 2350.0, 2325.0, 2350.0, 2375.0, 2425.0, 2450.0, 2500.0, 2500.0, 2525.0, 2575.0, 2550.0, 2450.0, 2450.0, 2500.0, 2500.0, 2550.0, 2525.0, 2550.0, 2525.0, 2500.0, 2475.0, 2525.0, 2550.0, 2550.0, 2650.0, 2650.0, 2625.0, 2550.0, 2550.0, 2325.0, 2275.0, 2150.0, 2250.0, 2275.0, 2300.0, 2300.0, 2350.0, 2350.0, 2225.0, 2175.0, 2200.0, 2125.0, 2050.0, 1990.0, 1990.0, 1980.0, 2025.0, 2025.0, 2000.0, 1950.0, 1960.0, 1950.0, 1930.0, 1950.0, 1930.0, 1900.0, 1890.0, 1700.0, 1560.0, 1430.0, 1570.0, 1600.0, 1660.0, 1700.0, 1610.0, 1500.0, 1510.0, 1570.0, 1610.0, 1640.0, 1720.0, 1760.0, 1850.0, 1840.0, 1930.0, 1860.0, 1920.0, 1870.0, 1890.0, 1940.0, 1960.0, 1970.0, 2025.0, 2075.0, 2025.0, 1980.0, 1930.0, 1980.0, 2025.0, 2050.0, 2075.0, 2075.0, 2025.0, 2025.0, 2025.0, 1990.0, 1990.0, 1980.0, 1950.0, 1850.0, 1860.0, 1870.0, 1890.0, 1830.0, 1880.0, 1880.0, 1890.0, 1910.0, 1930.0, 1950.0, 1940.0, 1970.0, 1980.0, 1920.0, 1920.0, 1870.0, 1840.0, 1790.0, 1820.0, 1840.0, 1730.0, 1750.0, 1740.0, 1760.0, 1760.0, 1750.0, 1740.0, 1760.0, 1750.0, 1770.0, 1810.0, 1780.0, 1760.0, 1760.0, 1770.0, 1790.0, 1790.0, 1790.0, 1760.0, 1780.0, 1790.0, 1820.0, 1800.0, 1820.0, 1830.0, 1830.0, 1830.0, 1820.0, 1810.0, 1790.0, 1870.0, 1920.0, 1930.0, 1940.0, 1950.0, 1970.0, 1910.0, 1920.0, 1900.0, 1920.0, 1910.0, 1930.0, 1960.0, 1970.0, 1960.0, 1960.0, 1900.0, 1870.0, 1870.0, 1890.0, 1900.0, 1920.0, 1930.0, 1920.0, 1900.0, 1920.0, 1900.0, 1940.0, 1940.0, 1960.0, 1920.0, 1910.0, 1910.0, 1900.0, 1870.0, 1870.0, 1880.0, 1870.0, 1890.0, 1910.0, 1910.0, 1930.0, 1960.0, 1900.0, 1890.0, 1890.0, 1880.0, 1820.0, 1800.0, 1820.0, 1810.0, 1800.0, 1810.0, 1790.0, 1770.0, 1780.0, 1790.0, 1790.0, 1800.0, 1800.0, 1830.0, 1840.0, 1840.0, 1830.0, 1800.0, 1760.0, 1760.0, 1740.0, 1750.0, 1730.0, 1710.0, 1670.0, 1610.0, 1620.0, 1660.0, 1630.0, 1630.0, 1600.0, 1580.0, 1580.0, 1570.0, 1460.0, 1360.0, 1180.0, 1210.0, 1220.0, 1280.0, 1260.0, 1240.0, 1220.0, 1220.0, 1200.0, 1190.0, 1260.0, 1270.0, 1340.0, 1400.0, 1340.0, 1320.0, 1310.0, 1370.0, 1350.0, 1380.0, 1470.0, 1530.0, 1570.0, 1580.0, 1570.0, 1460.0, 1410.0, 1410.0, 1350.0, 1360.0, 1400.0, 1410.0, 1380.0, 1410.0, 1410.0, 1350.0, 1350.0, 1320.0, 1340.0, 1380.0, 1430.0, 1440.0, 1450.0, 1490.0, 1490.0, 1540.0, 1520.0, 1490.0, 1500.0, 1530.0, 1510.0, 1510.0, 1530.0, 1500.0, 1440.0, 1400.0, 1410.0, 1390.0, 1350.0, 1340.0, 1330.0, 1370.0, 1380.0, 1350.0, 1360.0, 1370.0, 1400.0, 1410.0, 1450.0, 1490.0, 1540.0, 1580.0, 1530.0, 1530.0, 1510.0, 1480.0, 1470.0, 1460.0, 1450.0, 1480.0, 1480.0, 1470.0, 1470.0, 1450.0, 1420.0, 1440.0, 1420.0, 1430.0, 1420.0, 1410.0, 1400.0, 1390.0, 1390.0, 1390.0, 1390.0, 1350.0, 1340.0, 1400.0, 1390.0, 1390.0, 1370.0, 1370.0, 1350.0, 1330.0, 1360.0, 1340.0, 1350.0, 1370.0, 1360.0, 1370.0, 1400.0, 1400.0, 1410.0, 1380.0, 1370.0, 1360.0, 1360.0, 1340.0, 1350.0, 1350.0, 1330.0, 1340.0, 1320.0, 1320.0, 1320.0, 1340.0, 1360.0, 1370.0, 1370.0, 1390.0, 1410.0, 1450.0, 1570.0, 1570.0, 1570.0, 1570.0, 1540.0, 1530.0, 1540.0, 1570.0, 1560.0, 1590.0, 1720.0, 1720.0, 1730.0, 1700.0, 1710.0, 1730.0, 1650.0, 1620.0, 1670.0, 1660.0, 1660.0, 1670.0, 1620.0, 1610.0, 1610.0, 1640.0, 1670.0, 1660.0, 1670.0, 1630.0, 1630.0, 1610.0, 1550.0, 1580.0, 1560.0, 1560.0, 1570.0, 1570.0, 1580.0, 1610.0, 1600.0, 1610.0, 1560.0, 1580.0, 1570.0, 1550.0, 1560.0, 1550.0, 1570.0, 1570.0, 1560.0, 1560.0, 1500.0, 1510.0, 1520.0, 1530.0, 1520.0, 1500.0, 1480.0, 1490.0, 1490.0, 1450.0, 1390.0, 1330.0, 1250.0, 1260.0, 1260.0, 1280.0, 1290.0, 1290.0, 1300.0, 1310.0, 1290.0, 1280.0, 1270.0, 1260.0, 1270.0, 1280.0, 1280.0, 1270.0, 1250.0, 1260.0, 1260.0, 1250.0, 1230.0, 1210.0, 1220.0, 1220.0, 1230.0, 1210.0, 1190.0, 1190.0, 1180.0, 1190.0, 1190.0, 1200.0, 1200.0, 1190.0, 1160.0, 1120.0, 1090.0, 1030.0, 1040.0, 1100.0, 1080.0, 1090.0, 1060.0, 1060.0, 1020.0, 1020.0, 990.0, 940.0, 920.0, 880.0, 880.0, 880.0, 840.0, 840.0, 810.0, 800.0, 810.0, 840.0, 840.0, 850.0, 810.0, 770.0, 750.0, 770.0, 760.0, 770.0, 790.0, 800.0, 820.0, 790.0, 760.0, 770.0, 770.0, 760.0, 740.0, 720.0, 690.0, 690.0, 680.0, 680.0, 670.0, 700.0, 700.0, 690.0, 700.0, 700.0, 700.0, 700.0, 690.0, 690.0, 690.0, 660.0, 640.0, 660.0, 750.0, 750.0, 760.0, 760.0, 730.0, 660.0, 710.0, 690.0, 820.0, 850.0, 820.0, 820.0, 860.0, 890.0, 910.0, 960.0, 950.0, 940.0, 960.0, 990.0, 870.0, 880.0, 940.0, 930.0, 940.0, 920.0, 940.0, 950.0, 940.0, 930.0, 910.0, 900.0, 910.0, 910.0, 890.0, 890.0, 900.0, 900.0, 900.0, 890.0, 900.0, 900.0, 980.0, 980.0, 960.0, 970.0, 1040.0, 1050.0, 1050.0, 1050.0, 1050.0, 1010.0, 1030.0, 1010.0, 1000.0, 1010.0, 1010.0, 1040.0, 1030.0, 1040.0, 1070.0, 1140.0, 1140.0, 1120.0, 1150.0, 1160.0, 1180.0, 1160.0, 1140.0, 1140.0, 1140.0, 1170.0, 1140.0, 1110.0, 1090.0, 1100.0, 1120.0, 1120.0, 1090.0, 1140.0, 1160.0, 1170.0, 1190.0, 1210.0, 1170.0, 1150.0, 1100.0, 1110.0, 1110.0, 1130.0, 1110.0, 1100.0, 1100.0, 1070.0, 1040.0, 1060.0, 1000.0, 905.0, 870.0, 880.0, 935.0, 930.0, 935.0, 930.0, 955.0, 970.0, 970.0, 980.0, 980.0, 1020.0, 1010.0, 960.0, 930.0, 940.0, 930.0, 910.0, 880.0, 900.0, 900.0, 905.0, 905.0, 910.0, 935.0, 930.0, 930.0, 935.0, 950.0, 950.0, 950.0, 970.0, 960.0, 940.0, 930.0, 935.0, 950.0, 970.0, 970.0, 1005.0, 1000.0, 1010.0, 995.0, 960.0, 945.0, 950.0, 955.0, 965.0, 975.0, 980.0, 960.0, 945.0, 975.0, 965.0, 975.0, 970.0, 970.0, 980.0, 970.0, 970.0, 970.0, 970.0, 965.0, 970.0, 930.0, 940.0, 1010.0, 970.0, 975.0, 975.0, 975.0, 975.0, 1010.0, 1060.0, 1090.0, 1085.0, 1110.0, 1150.0, 1135.0, 1125.0, 1165.0, 1135.0, 1100.0, 1105.0, 1120.0, 1190.0, 1210.0, 1220.0, 1240.0, 1255.0, 1255.0, 1270.0, 1290.0, 1300.0, 1270.0, 1225.0, 1185.0, 1245.0, 1265.0, 1270.0, 1285.0, 1265.0, 1280.0, 1300.0, 1270.0, 1250.0, 1225.0, 1235.0, 1255.0, 1230.0, 1185.0, 1155.0, 1130.0, 1135.0, 1155.0, 1170.0, 1165.0, 1160.0, 1160.0, 1180.0, 1180.0, 1180.0, 1180.0, 1180.0, 1170.0, 1105.0, 1090.0, 1105.0, 1135.0, 1100.0, 1090.0, 1120.0, 1080.0, 1095.0, 1105.0, 1140.0, 1170.0, 1230.0, 1230.0, 1250.0, 1250.0, 1250.0, 1255.0, 1270.0, 1285.0, 1285.0, 1300.0, 1315.0, 1315.0, 1265.0, 1250.0, 1225.0, 1225.0, 1270.0, 1315.0, 1295.0, 1300.0, 1300.0, 1330.0, 1360.0, 1345.0, 1345.0, 1325.0, 1285.0, 1250.0, 1255.0, 1265.0, 1255.0, 1275.0, 1285.0, 1260.0, 1250.0, 1255.0, 1260.0, 1265.0, 1195.0, 1155.0, 1150.0, 1160.0, 1105.0, 1090.0, 1090.0, 1135.0, 1105.0, 1140.0, 1085.0, 1005.0, 990.0, 940.0, 920.0, 955.0, 960.0, 965.0, 980.0, 1025.0, 1030.0, 1035.0, 1015.0, 1040.0, 1080.0, 1090.0, 1130.0, 1130.0, 1090.0, 1080.0, 1075.0, 1085.0, 1090.0, 1015.0, 990.0, 980.0, 1000.0, 980.0, 1015.0, 1025.0, 1060.0, 1080.0, 1060.0, 1080.0, 1090.0, 1075.0, 1055.0, 1070.0, 1085.0, 1095.0, 1120.0, 1090.0, 1080.0, 1060.0, 1040.0, 1025.0, 995.0, 995.0, 1050.0, 1055.0, 1050.0, 1050.0, 1050.0, 1055.0, 1040.0, 1030.0, 1035.0, 1015.0, 1005.0, 1000.0, 980.0, 990.0, 995.0, 960.0, 945.0, 930.0, 925.0, 940.0, 935.0, 970.0, 1000.0, 985.0, 975.0, 985.0, 995.0, 980.0, 980.0, 985.0, 990.0, 995.0, 995.0, 985.0, 975.0, 980.0, 980.0, 980.0, 990.0, 990.0, 990.0, 995.0, 985.0, 975.0, 955.0, 950.0, 940.0, 940.0, 965.0, 1015.0, 985.0, 990.0, 985.0, 975.0, 980.0, 955.0, 955.0, 960.0, 945.0, 950.0, 945.0, 960.0, 950.0, 960.0, 975.0, 960.0, 935.0, 935.0, 950.0, 950.0, 950.0, 960.0, 975.0, 975.0, 965.0, 965.0, 960.0, 955.0, 950.0, 950.0, 965.0, 960.0, 950.0, 950.0, 960.0, 965.0, 955.0, 920.0, 910.0, 865.0, 835.0, 835.0, 840.0, 860.0, 850.0, 850.0, 865.0, 900.0, 910.0, 900.0, 870.0, 880.0, 880.0, 880.0, 880.0, 875.0, 875.0, 880.0, 890.0, 860.0, 865.0, 900.0, 890.0, 880.0, 865.0, 830.0, 830.0, 810.0, 830.0, 755.0, 765.0, 790.0, 775.0, 780.0, 790.0, 780.0, 780.0, 775.0, 770.0, 760.0, 760.0, 755.0, 750.0, 755.0, 735.0, 695.0, 655.0, 605.0, 620.0, 610.0, 580.0, 585.0, 560.0, 575.0, 555.0, 550.0, 550.0, 575.0, 580.0, 580.0, 560.0, 565.0, 585.0, 590.0, 575.0, 560.0, 520.0, 471.0, 489.0, 490.0, 484.0, 484.0, 480.0, 472.0, 467.0, 468.0, 520.0, 545.0, 600.0, 590.0, 575.0, 555.0, 610.0, 570.0, 555.0, 555.0, 575.0, 540.0, 545.0, 565.0, 560.0, 565.0, 575.0, 580.0, 585.0, 590.0, 570.0, 565.0, 550.0, 510.0, 515.0, 515.0, 515.0, 525.0, 540.0, 570.0, 590.0, 635.0, 680.0, 635.0, 620.0, 620.0, 635.0, 640.0, 645.0, 630.0, 645.0, 660.0, 650.0, 645.0, 605.0, 585.0, 590.0, 620.0, 645.0, 625.0, 620.0, 615.0, 610.0, 605.0, 610.0, 580.0, 555.0, 555.0, 555.0, 585.0, 585.0, 570.0, 560.0, 565.0, 580.0, 565.0, 525.0, 540.0, 530.0, 525.0, 520.0, 510.0, 490.0, 490.0, 472.0, 475.0, 475.0, 441.0, 458.0, 498.0, 490.0, 494.0, 497.0, 500.0, 500.0, 500.0, 515.0, 494.0, 495.0, 495.0, 485.0, 490.0, 486.0, 481.0, 473.0, 450.0, 449.0, 439.0, 451.0, 437.0, 441.0, 456.0, 497.0, 476.0, 475.0, 490.0, 510.0, 500.0, 500.0, 535.0, 570.0, 620.0, 580.0, 565.0, 575.0, 585.0, 580.0, 590.0, 610.0, 595.0, 580.0, 580.0, 595.0, 585.0, 570.0, 575.0, 595.0, 610.0, 655.0, 645.0, 660.0, 685.0, 755.0, 760.0, 700.0, 700.0, 735.0, 680.0, 680.0, 690.0, 690.0, 645.0, 655.0, 650.0, 650.0, 640.0, 645.0, 655.0, 670.0, 665.0, 690.0, 680.0, 695.0, 695.0, 700.0, 725.0, 735.0, 740.0, 710.0, 710.0, 715.0, 715.0, 695.0, 705.0, 695.0, 675.0, 655.0, 660.0, 685.0, 670.0, 665.0, 680.0, 680.0, 675.0, 670.0, 670.0, 655.0, 670.0, 675.0, 690.0, 695.0, 690.0, 705.0, 720.0, 760.0, 815.0, 830.0, 870.0, 870.0, 880.0, 855.0, 845.0, 830.0, 840.0, 800.0, 815.0, 840.0, 845.0, 840.0, 805.0, 820.0, 830.0, 845.0, 850.0, 860.0, 900.0, 915.0, 990.0, 1030.0, 995.0, 1005.0, 1015.0, 1020.0, 1035.0, 1040.0, 1030.0, 1060.0, 1025.0, 1035.0, 1000.0, 1015.0, 1055.0, 1105.0, 1110.0, 1120.0, 1140.0, 1155.0, 1140.0, 1085.0, 1110.0, 1105.0, 1110.0, 1150.0, 1100.0, 1100.0, 1065.0, 1055.0, 1055.0, 1065.0, 1050.0, 1070.0, 1140.0, 1135.0, 1160.0, 1180.0, 1215.0, 1205.0, 1215.0, 1230.0, 1150.0, 1105.0, 1115.0, 1155.0, 1180.0, 1165.0, 1160.0, 1185.0, 1190.0, 1190.0, 1185.0, 1175.0, 1230.0, 1205.0, 1250.0, 1305.0, 1280.0, 1315.0, 1335.0, 1345.0, 1375.0, 1385.0, 1405.0, 1390.0, 1435.0, 1440.0, 1485.0, 1505.0, 1450.0, 1495.0, 1520.0, 1545.0, 1535.0, 1555.0, 1555.0, 1605.0, 1645.0, 1630.0, 1580.0, 1675.0, 1610.0, 1475.0, 1610.0, 1550.0, 1605.0, 1465.0, 1490.0, 1500.0, 1480.0, 1480.0, 1550.0, 1595.0, 1620.0, 1635.0, 1645.0, 1630.0, 1530.0, 1580.0, 1615.0, 1665.0, 1720.0, 1660.0, 1620.0, 1665.0, 1675.0, 1685.0, 1665.0, 1660.0, 1675.0, 1665.0, 1670.0, 1650.0, 1655.0, 1665.0, 1675.0, 1680.0, 1660.0, 1695.0, 1685.0, 1690.0, 1660.0, 1655.0, 1685.0, 1680.0, 1700.0, 1715.0, 1685.0, 1700.0, 1680.0, 1715.0, 1715.0, 1715.0, 1720.0, 1725.0, 1725.0, 1700.0, 1700.0, 1705.0, 1695.0, 1705.0, 1725.0, 1720.0, 1730.0, 1730.0, 1705.0, 1705.0, 1685.0, 1670.0, 1615.0, 1645.0, 1660.0, 1660.0, 1670.0, 1700.0, 1665.0, 1685.0, 1690.0, 1695.0, 1675.0, 1665.0, 1675.0, 1665.0, 1680.0, 1675.0, 1690.0, 1670.0, 1590.0, 1565.0, 1640.0, 1630.0, 1660.0, 1675.0, 1675.0, 1695.0, 1690.0, 1720.0, 1745.0, 1780.0, 1800.0, 1800.0, 1750.0, 1775.0, 1855.0, 1870.0, 1840.0, 1865.0, 1870.0, 1850.0, 1855.0, 1860.0, 1850.0, 1830.0, 1835.0, 1835.0, 1815.0, 1820.0, 1785.0, 1820.0, 1770.0, 1720.0, 1625.0, 1610.0, 1560.0, 1575.0, 1510.0, 1460.0, 1475.0, 1440.0, 1460.0, 1410.0, 1395.0, 1430.0, 1415.0, 1445.0, 1450.0, 1460.0, 1465.0, 1455.0, 1445.0, 1520.0, 1465.0, 1490.0, 1545.0, 1590.0, 1575.0, 1555.0, 1540.0, 1540.0, 1590.0, 1635.0, 1585.0, 1555.0, 1580.0, 1595.0, 1575.0, 1580.0, 1580.0, 1580.0, 1580.0, 1580.0, 1580.0, 1565.0, 1575.0, 1600.0, 1615.0, 1610.0, 1585.0, 1595.0, 1600.0, 1615.0, 1630.0, 1660.0, 1685.0, 1700.0, 1750.0, 1795.0, 1775.0, 1790.0, 1800.0, 1760.0, 1790.0, 1785.0, 1825.0, 1840.0, 1840.0, 1830.0, 1830.0, 1845.0, 1805.0, 1815.0, 1820.0, 1825.0, 1850.0, 1840.0, 1880.0, 1850.0, 1850.0, 1850.0, 1865.0, 1945.0, 1935.0, 1885.0, 1850.0, 1870.0, 1825.0, 1825.0, 1785.0, 1785.0, 1865.0, 1840.0, 1860.0, 1875.0, 1860.0, 1680.0, 1720.0, 1700.0, 1750.0, 1805.0, 1835.0, 1860.0, 1815.0, 1755.0, 1710.0, 1630.0, 1665.0, 1730.0, 1765.0, 1745.0, 1810.0, 1830.0, 1830.0, 1850.0, 1860.0, 1860.0, 1895.0, 1865.0, 1855.0, 1880.0, 1865.0, 1860.0, 1790.0, 1830.0, 1855.0, 1870.0, 1825.0, 1835.0, 1835.0, 1825.0, 1850.0, 1885.0, 1895.0, 1870.0, 1895.0, 1815.0, 1800.0, 1810.0, 1810.0, 1810.0, 1735.0, 1695.0, 1765.0, 1750.0, 1715.0, 1720.0, 1725.0, 1690.0, 1685.0, 1680.0, 1720.0, 1700.0, 1700.0, 1730.0, 1750.0, 1755.0, 1700.0, 1700.0, 1695.0, 1715.0, 1810.0, 1785.0, 1790.0, 1790.0, 1800.0, 1795.0, 1815.0, 1855.0, 1890.0, 1890.0, 1890.0, 1870.0, 1845.0, 1860.0, 1865.0, 1810.0, 1850.0, 1935.0, 1975.0, 2140.0, 2150.0, 2140.0, 2190.0, 2210.0, 2150.0, 2130.0, 2150.0, 2160.0, 2210.0, 2350.0, 2380.0, 2420.0, 2410.0, 2440.0, 2460.0, 2450.0, 2360.0, 2320.0, 2390.0, 2420.0, 2390.0, 2390.0, 2300.0, 2330.0, 2370.0, 2410.0, 2460.0, 2470.0, 2450.0, 2410.0, 2430.0, 2430.0, 2460.0, 2370.0, 2350.0, 2350.0, 2370.0, 2290.0, 2300.0, 2300.0, 2150.0, 1995.0, 2110.0, 2170.0, 2130.0, 2060.0, 2020.0, 2000.0, 2020.0, 2000.0, 2030.0, 2000.0, 1945.0, 1990.0, 2030.0, 2020.0, 2030.0, 2130.0, 2110.0, 2080.0, 2030.0, 2010.0, 2000.0, 2020.0, 2050.0, 2110.0, 2110.0, 2110.0, 2130.0, 2130.0, 2080.0, 2100.0, 2100.0, 2210.0, 2180.0, 2200.0, 2200.0, 2200.0, 1835.0, 1835.0, 1770.0, 1595.0, 1625.0, 1605.0, 1615.0, 1575.0, 1700.0, 1700.0, 1640.0, 1650.0, 1665.0, 1815.0, 1865.0, 1880.0, 1905.0, 1825.0, 1800.0, 1830.0, 1795.0, 1820.0, 1815.0, 1870.0, 1885.0, 1915.0, 1990.0, 1985.0, 1980.0, 1935.0, 1935.0, 1935.0, 1935.0, 1935.0, 1935.0, 1935.0, 1935.0, 1830.0, 1965.0, 1905.0, 1865.0, 1755.0, 1705.0, 1650.0, 1665.0, 1735.0, 1690.0, 1690.0, 1745.0, 1775.0, 1795.0, 1830.0, 1820.0, 1865.0, 1825.0, 1780.0, 1755.0, 1780.0, 1860.0, 1825.0, 1800.0, 1795.0, 1810.0, 1845.0, 1840.0, 2030.0, 1880.0, 1900.0, 1925.0, 1930.0, 1950.0, 1965.0, 1980.0, 1925.0, 1900.0, 1810.0, 1800.0, 1780.0, 1780.0, 1780.0, 1800.0, 1845.0, 1880.0, 1865.0, 1890.0, 1860.0, 1885.0, 1885.0, 1895.0, 1840.0, 1840.0, 1800.0, 1700.0, 1675.0, 1720.0, 1705.0, 1735.0, 1745.0, 1725.0, 1720.0, 1690.0, 1700.0, 1725.0, 1730.0, 1795.0, 1815.0, 1805.0, 1805.0, 1810.0, 1820.0, 1820.0, 1830.0, 1835.0, 1810.0, 1790.0, 1750.0, 1730.0, 1730.0, 1700.0, 1705.0, 1675.0, 1685.0, 1745.0, 1710.0, 1690.0, 1695.0, 1695.0, 1655.0, 1610.0, 1665.0, 1660.0, 1640.0, 1615.0, 1630.0, 1585.0, 1565.0, 1585.0, 1585.0, 1595.0, 1580.0, 1510.0, 1490.0, 1530.0, 1530.0, 1535.0, 1485.0, 1485.0, 1300.0, 1250.0, 1280.0, 1240.0, 1220.0, 1220.0, 1270.0, 1265.0, 1300.0, 1250.0, 1270.0, 1275.0, 1295.0, 1290.0, 1285.0, 1250.0, 1255.0, 1270.0, 1260.0, 1235.0, 1230.0, 1245.0, 1235.0, 1250.0, 1250.0, 1215.0, 1235.0, 1215.0, 1215.0, 1215.0, 1215.0, 1215.0, 1220.0, 1365.0, 1360.0, 1380.0, 1370.0, 1395.0, 1385.0, 1405.0, 1455.0, 1455.0, 1475.0, 1445.0, 1375.0, 1370.0, 1380.0, 1380.0, 1380.0, 1335.0, 1340.0, 1360.0, 1365.0, 1355.0, 1360.0, 1355.0, 1335.0, 1305.0, 1255.0, 1240.0, 1260.0, 1240.0, 1215.0, 1240.0, 1270.0, 1285.0, 1330.0, 1410.0, 1380.0, 1350.0, 1360.0, 1305.0, 1310.0, 1325.0, 1385.0, 1360.0, 1360.0, 1365.0, 1365.0, 1380.0, 1390.0, 1430.0, 1430.0, 1405.0, 1410.0, 1420.0, 1415.0, 1400.0, 1335.0, 1350.0, 1335.0, 1330.0, 1340.0, 1320.0, 1310.0, 1325.0, 1265.0, 1255.0, 1250.0, 1275.0, 1275.0, 1295.0, 1295.0, 1280.0, 1280.0, 1305.0, 1290.0, 1295.0, 1260.0, 1275.0, 1300.0, 1285.0, 1280.0, 1280.0, 1300.0, 1305.0, 1315.0, 1310.0, 1290.0, 1310.0, 1295.0, 1275.0, 1250.0, 1250.0, 1220.0, 1215.0, 1160.0, 1160.0, 1170.0, 1185.0, 1210.0, 1240.0, 1260.0, 1265.0, 1260.0, 1265.0, 1270.0, 1260.0, 1295.0, 1295.0, 1295.0, 1295.0, 1295.0, 1275.0, 1265.0, 1265.0, 1265.0, 1230.0, 1215.0, 1220.0, 1250.0, 1265.0, 1225.0, 1225.0, 1230.0, 1330.0, 1340.0, 1345.0, 1350.0, 1380.0, 1360.0, 1380.0, 1415.0, 1375.0, 1320.0, 1330.0, 1330.0, 1275.0, 1265.0, 1270.0, 1265.0, 1270.0, 1285.0, 1280.0, 1265.0, 1250.0, 1250.0, 1230.0, 1220.0, 1245.0, 1260.0, 1215.0, 1165.0, 1110.0, 1040.0, 1090.0, 1100.0, 1095.0, 1060.0, 1030.0, 1035.0, 1010.0, 1010.0, 1030.0, 1025.0, 1020.0, 1045.0, 1050.0, 1090.0, 1100.0, 1100.0, 1110.0, 1105.0, 1165.0, 1205.0, 1220.0, 1275.0, 1350.0, 1355.0, 1425.0, 1430.0, 1355.0, 1400.0, 1420.0, 1380.0, 1370.0, 1355.0, 1365.0, 1275.0, 1260.0, 1285.0, 1290.0, 1280.0, 1300.0, 1270.0, 1225.0, 1255.0, 1250.0, 1240.0, 1265.0, 1255.0, 1270.0, 1270.0, 1280.0, 1300.0, 1300.0, 1310.0, 1320.0, 1345.0, 1325.0, 1345.0, 1335.0, 1345.0, 1325.0, 1300.0, 1295.0, 1250.0, 1270.0, 1290.0, 1340.0, 1325.0, 1395.0, 1385.0, 1400.0, 1330.0, 1275.0, 1300.0, 1290.0, 1300.0, 1305.0, 1310.0, 1305.0, 1300.0, 1280.0, 1245.0, 1210.0, 1225.0, 1290.0, 1290.0, 1365.0, 1405.0, 1415.0, 1405.0, 1465.0, 1465.0, 1465.0, 1590.0, 1525.0, 1595.0, 1545.0, 1505.0, 1540.0, 1570.0, 1575.0, 1555.0, 1490.0, 1425.0], \"open\": [1500.0, 1700.0, 1640.0, 1680.0, 1670.0, 1660.0, 1630.0, 1630.0, 1670.0, 1680.0, 1690.0, 1630.0, 1590.0, 1550.0, 1540.0, 1560.0, 1600.0, 1540.0, 1510.0, 1500.0, 1520.0, 1530.0, 1490.0, 1530.0, 1530.0, 1560.0, 1540.0, 1540.0, 1530.0, 1530.0, 1540.0, 1530.0, 1510.0, 1480.0, 1490.0, 1450.0, 1450.0, 1410.0, 1410.0, 1400.0, 1390.0, 1360.0, 1320.0, 1350.0, 1430.0, 1510.0, 1510.0, 1510.0, 1510.0, 1490.0, 1440.0, 1210.0, 1000.0, 810.0, 730.0, 730.0, 730.0, 740.0, 740.0, 790.0, 760.0, 730.0, 690.0, 690.0, 630.0, 570.0, 520.0, 570.0, 680.0, 810.0, 810.0, 770.0, 700.0, 660.0, 620.0, 640.0, 640.0, 580.0, 560.0, 530.0, 520.0, 500.0, 490.0, 480.0, 470.0, 480.0, 530.0, 500.0, 490.0, 510.0, 470.0, 470.0, 495.0, 475.0, 490.0, 520.0, 530.0, 500.0, 490.0, 500.0, 510.0, 500.0, 480.0, 485.0, 485.0, 490.0, 485.0, 520.0, 520.0, 520.0, 500.0, 510.0, 550.0, 660.0, 680.0, 660.0, 670.0, 650.0, 630.0, 640.0, 640.0, 640.0, 690.0, 690.0, 720.0, 740.0, 730.0, 730.0, 770.0, 820.0, 870.0, 830.0, 850.0, 860.0, 850.0, 840.0, 830.0, 800.0, 820.0, 810.0, 790.0, 800.0, 780.0, 780.0, 770.0, 770.0, 730.0, 720.0, 760.0, 760.0, 750.0, 770.0, 770.0, 770.0, 770.0, 750.0, 740.0, 740.0, 740.0, 780.0, 820.0, 890.0, 890.0, 940.0, 890.0, 880.0, 890.0, 890.0, 890.0, 910.0, 900.0, 900.0, 950.0, 970.0, 970.0, 950.0, 960.0, 980.0, 970.0, 1010.0, 1000.0, 1020.0, 1000.0, 1010.0, 1020.0, 1060.0, 1140.0, 1130.0, 1160.0, 1200.0, 1180.0, 1180.0, 1170.0, 1180.0, 1100.0, 1070.0, 1080.0, 1120.0, 1130.0, 1280.0, 1310.0, 1230.0, 1280.0, 1290.0, 1340.0, 1380.0, 1370.0, 1300.0, 1340.0, 1320.0, 1290.0, 1300.0, 1310.0, 1310.0, 1300.0, 1260.0, 1260.0, 1240.0, 1180.0, 1240.0, 1180.0, 1080.0, 1180.0, 1250.0, 1240.0, 1220.0, 1200.0, 1200.0, 1210.0, 1170.0, 1130.0, 1190.0, 1150.0, 1170.0, 1100.0, 1160.0, 1180.0, 1160.0, 1150.0, 1200.0, 1180.0, 1200.0, 1210.0, 1250.0, 1270.0, 1240.0, 1260.0, 1280.0, 1280.0, 1330.0, 1360.0, 1370.0, 1450.0, 1480.0, 1460.0, 1440.0, 1460.0, 1450.0, 1420.0, 1330.0, 1410.0, 1390.0, 1440.0, 1390.0, 1390.0, 1350.0, 1350.0, 1360.0, 1360.0, 1350.0, 1350.0, 1340.0, 1330.0, 1380.0, 1360.0, 1370.0, 1370.0, 1350.0, 1350.0, 1370.0, 1390.0, 1400.0, 1400.0, 1410.0, 1420.0, 1430.0, 1420.0, 1400.0, 1420.0, 1440.0, 1410.0, 1390.0, 1400.0, 1380.0, 1390.0, 1430.0, 1450.0, 1460.0, 1530.0, 1510.0, 1560.0, 1520.0, 1620.0, 1600.0, 1570.0, 1520.0, 1540.0, 1540.0, 1580.0, 1510.0, 1560.0, 1540.0, 1540.0, 1540.0, 1510.0, 1550.0, 1620.0, 1710.0, 1710.0, 1700.0, 1700.0, 1680.0, 1700.0, 1770.0, 1710.0, 1720.0, 1670.0, 1740.0, 1740.0, 1750.0, 1730.0, 1740.0, 1750.0, 1710.0, 1740.0, 1730.0, 1750.0, 1740.0, 1730.0, 1750.0, 1720.0, 1680.0, 1710.0, 1700.0, 1710.0, 1730.0, 1730.0, 1750.0, 1790.0, 1800.0, 1840.0, 1960.0, 1980.0, 1960.0, 1960.0, 2050.0, 1990.0, 1950.0, 1990.0, 1970.0, 1960.0, 1940.0, 1940.0, 1950.0, 1840.0, 1900.0, 1890.0, 1850.0, 1860.0, 1920.0, 1930.0, 1860.0, 1840.0, 1830.0, 1790.0, 1810.0, 1840.0, 1830.0, 1860.0, 1860.0, 1810.0, 1800.0, 1810.0, 1840.0, 1860.0, 1830.0, 1840.0, 1830.0, 1840.0, 1840.0, 1850.0, 1860.0, 1870.0, 1890.0, 1890.0, 1880.0, 1870.0, 1920.0, 1900.0, 1880.0, 1840.0, 1830.0, 1880.0, 1860.0, 1870.0, 1890.0, 1910.0, 1960.0, 2025.0, 2025.0, 2100.0, 2150.0, 2100.0, 2125.0, 2150.0, 2150.0, 2150.0, 2200.0, 2225.0, 2175.0, 2200.0, 2200.0, 2250.0, 2200.0, 2200.0, 2200.0, 2150.0, 2125.0, 2200.0, 2125.0, 2125.0, 1980.0, 2000.0, 1930.0, 1970.0, 2025.0, 2100.0, 2075.0, 2050.0, 2050.0, 1950.0, 1920.0, 1840.0, 1800.0, 1720.0, 1890.0, 1910.0, 2000.0, 1920.0, 1930.0, 1950.0, 1940.0, 1840.0, 1850.0, 1860.0, 1860.0, 1870.0, 1890.0, 1880.0, 1970.0, 1980.0, 1980.0, 2075.0, 2000.0, 2025.0, 1990.0, 2025.0, 2050.0, 1970.0, 1990.0, 1970.0, 1990.0, 1990.0, 2025.0, 1990.0, 2025.0, 2050.0, 2025.0, 2025.0, 2050.0, 2025.0, 2025.0, 1990.0, 2000.0, 2025.0, 2025.0, 2050.0, 2025.0, 2025.0, 2075.0, 2050.0, 2000.0, 2050.0, 2025.0, 2025.0, 2050.0, 2125.0, 2125.0, 2100.0, 2075.0, 2050.0, 2075.0, 2050.0, 2100.0, 2100.0, 2100.0, 2075.0, 2050.0, 2050.0, 2025.0, 1990.0, 1980.0, 1900.0, 1870.0, 1790.0, 1840.0, 1920.0, 1940.0, 1970.0, 2100.0, 2150.0, 2050.0, 2025.0, 1980.0, 1980.0, 2025.0, 2075.0, 2050.0, 2050.0, 2025.0, 2050.0, 2025.0, 2050.0, 2100.0, 2050.0, 2050.0, 2075.0, 2050.0, 2100.0, 2175.0, 2225.0, 2175.0, 2175.0, 2125.0, 2125.0, 2250.0, 2175.0, 2200.0, 2100.0, 2125.0, 2100.0, 2125.0, 2125.0, 2150.0, 2225.0, 2275.0, 2350.0, 2500.0, 2400.0, 2450.0, 2400.0, 2400.0, 2475.0, 2450.0, 2450.0, 2450.0, 2425.0, 2400.0, 2350.0, 2325.0, 2300.0, 2325.0, 2375.0, 2400.0, 2375.0, 2475.0, 2625.0, 2625.0, 2600.0, 2575.0, 2550.0, 2550.0, 2525.0, 2300.0, 2500.0, 2550.0, 2475.0, 2525.0, 2525.0, 2500.0, 2525.0, 2550.0, 2675.0, 2875.0, 2850.0, 2775.0, 2700.0, 2500.0, 2475.0, 2625.0, 2625.0, 2625.0, 2575.0, 2675.0, 2650.0, 2450.0, 2350.0, 2350.0, 2475.0, 2400.0, 2425.0, 2375.0, 2250.0, 2400.0, 2500.0, 2450.0, 2400.0, 2350.0, 2300.0, 2300.0, 2375.0, 2425.0, 2375.0, 2375.0, 2425.0, 2475.0, 2375.0, 2450.0, 2450.0, 2475.0, 2450.0, 2425.0, 2350.0, 2325.0, 2375.0, 2375.0, 2400.0, 2350.0, 2325.0, 2325.0, 2400.0, 2400.0, 2375.0, 2375.0, 2375.0, 2325.0, 2225.0, 2275.0, 2275.0, 2300.0, 2275.0, 2225.0, 2200.0, 2275.0, 2350.0, 2300.0, 2350.0, 2325.0, 2300.0, 2300.0, 2275.0, 2275.0, 2250.0, 2275.0, 2225.0, 2225.0, 2250.0, 2225.0, 2250.0, 2225.0, 2200.0, 2225.0, 2200.0, 2225.0, 2225.0, 2250.0, 2325.0, 2300.0, 2325.0, 2300.0, 2325.0, 2250.0, 2275.0, 2250.0, 2350.0, 2375.0, 2375.0, 2325.0, 2325.0, 2375.0, 2375.0, 2400.0, 2375.0, 2450.0, 2425.0, 2450.0, 2475.0, 2475.0, 2450.0, 2450.0, 2400.0, 2400.0, 2425.0, 2400.0, 2350.0, 2275.0, 2300.0, 2375.0, 2375.0, 2350.0, 2375.0, 2375.0, 2400.0, 2450.0, 2500.0, 2500.0, 2525.0, 2550.0, 2600.0, 2575.0, 2475.0, 2525.0, 2500.0, 2550.0, 2600.0, 2575.0, 2575.0, 2525.0, 2525.0, 2500.0, 2575.0, 2600.0, 2675.0, 2650.0, 2675.0, 2650.0, 2600.0, 2600.0, 2375.0, 2325.0, 2175.0, 2450.0, 2325.0, 2325.0, 2350.0, 2350.0, 2400.0, 2250.0, 2225.0, 2250.0, 2125.0, 2100.0, 2025.0, 1990.0, 2025.0, 2075.0, 2050.0, 2025.0, 1970.0, 1970.0, 1960.0, 1940.0, 1980.0, 1940.0, 1920.0, 1900.0, 1710.0, 1650.0, 1520.0, 1630.0, 1690.0, 1730.0, 1720.0, 1610.0, 1530.0, 1530.0, 1680.0, 1680.0, 1670.0, 1780.0, 1860.0, 1860.0, 1900.0, 1960.0, 1880.0, 1980.0, 1900.0, 1910.0, 1950.0, 2000.0, 2000.0, 2075.0, 2125.0, 2025.0, 1990.0, 2050.0, 2000.0, 2050.0, 2075.0, 2075.0, 2150.0, 2075.0, 2050.0, 2050.0, 2000.0, 2025.0, 2000.0, 1960.0, 1880.0, 1920.0, 1910.0, 1910.0, 1870.0, 1900.0, 1900.0, 1910.0, 1910.0, 1970.0, 1970.0, 1970.0, 2000.0, 1990.0, 1920.0, 1930.0, 1880.0, 1860.0, 1820.0, 1840.0, 1840.0, 1730.0, 1760.0, 1760.0, 1770.0, 1780.0, 1770.0, 1760.0, 1770.0, 1760.0, 1810.0, 1830.0, 1790.0, 1770.0, 1780.0, 1820.0, 1810.0, 1810.0, 1810.0, 1780.0, 1800.0, 1820.0, 1830.0, 1820.0, 1830.0, 1840.0, 1840.0, 1860.0, 1820.0, 1830.0, 1870.0, 1960.0, 1920.0, 1940.0, 1980.0, 2000.0, 1980.0, 1930.0, 1950.0, 1920.0, 1950.0, 1920.0, 1980.0, 1990.0, 1990.0, 2000.0, 1960.0, 1920.0, 1890.0, 1900.0, 1920.0, 1900.0, 1970.0, 1950.0, 1930.0, 1920.0, 1930.0, 1920.0, 1950.0, 1940.0, 1970.0, 1940.0, 1920.0, 1910.0, 1920.0, 1900.0, 1900.0, 1890.0, 1890.0, 1930.0, 1920.0, 1930.0, 1960.0, 1960.0, 1910.0, 1910.0, 1900.0, 1880.0, 1830.0, 1810.0, 1830.0, 1820.0, 1810.0, 1820.0, 1810.0, 1800.0, 1800.0, 1830.0, 1820.0, 1810.0, 1810.0, 1860.0, 1870.0, 1870.0, 1840.0, 1810.0, 1770.0, 1760.0, 1760.0, 1760.0, 1730.0, 1730.0, 1680.0, 1650.0, 1650.0, 1700.0, 1650.0, 1650.0, 1620.0, 1610.0, 1610.0, 1590.0, 1470.0, 1380.0, 1200.0, 1220.0, 1270.0, 1300.0, 1260.0, 1270.0, 1230.0, 1230.0, 1210.0, 1240.0, 1270.0, 1330.0, 1420.0, 1420.0, 1370.0, 1370.0, 1330.0, 1390.0, 1400.0, 1360.0, 1560.0, 1550.0, 1620.0, 1590.0, 1570.0, 1480.0, 1440.0, 1420.0, 1370.0, 1380.0, 1420.0, 1420.0, 1410.0, 1420.0, 1420.0, 1370.0, 1360.0, 1350.0, 1360.0, 1430.0, 1440.0, 1460.0, 1510.0, 1520.0, 1520.0, 1590.0, 1550.0, 1500.0, 1540.0, 1560.0, 1520.0, 1540.0, 1570.0, 1520.0, 1450.0, 1410.0, 1430.0, 1400.0, 1360.0, 1350.0, 1370.0, 1390.0, 1380.0, 1360.0, 1360.0, 1400.0, 1430.0, 1440.0, 1500.0, 1510.0, 1590.0, 1590.0, 1550.0, 1570.0, 1530.0, 1550.0, 1480.0, 1500.0, 1490.0, 1490.0, 1500.0, 1480.0, 1480.0, 1450.0, 1430.0, 1460.0, 1440.0, 1440.0, 1440.0, 1420.0, 1410.0, 1390.0, 1400.0, 1410.0, 1390.0, 1350.0, 1400.0, 1410.0, 1390.0, 1400.0, 1390.0, 1380.0, 1370.0, 1370.0, 1370.0, 1350.0, 1390.0, 1410.0, 1390.0, 1410.0, 1420.0, 1420.0, 1430.0, 1400.0, 1390.0, 1380.0, 1370.0, 1350.0, 1350.0, 1360.0, 1390.0, 1350.0, 1340.0, 1320.0, 1340.0, 1370.0, 1370.0, 1380.0, 1390.0, 1410.0, 1460.0, 1600.0, 1570.0, 1590.0, 1590.0, 1580.0, 1560.0, 1570.0, 1600.0, 1590.0, 1590.0, 1740.0, 1750.0, 1750.0, 1730.0, 1740.0, 1730.0, 1750.0, 1660.0, 1690.0, 1690.0, 1700.0, 1670.0, 1690.0, 1650.0, 1620.0, 1630.0, 1700.0, 1670.0, 1680.0, 1680.0, 1650.0, 1640.0, 1610.0, 1570.0, 1600.0, 1570.0, 1570.0, 1570.0, 1580.0, 1600.0, 1630.0, 1630.0, 1620.0, 1590.0, 1600.0, 1580.0, 1580.0, 1600.0, 1560.0, 1600.0, 1570.0, 1560.0, 1560.0, 1500.0, 1550.0, 1530.0, 1540.0, 1540.0, 1510.0, 1510.0, 1500.0, 1540.0, 1480.0, 1460.0, 1390.0, 1350.0, 1300.0, 1270.0, 1290.0, 1310.0, 1310.0, 1300.0, 1330.0, 1310.0, 1300.0, 1280.0, 1290.0, 1270.0, 1280.0, 1280.0, 1280.0, 1270.0, 1270.0, 1260.0, 1270.0, 1270.0, 1250.0, 1240.0, 1250.0, 1240.0, 1240.0, 1240.0, 1200.0, 1190.0, 1190.0, 1190.0, 1210.0, 1210.0, 1210.0, 1200.0, 1160.0, 1090.0, 1100.0, 1060.0, 1120.0, 1120.0, 1110.0, 1110.0, 1070.0, 1080.0, 1040.0, 1030.0, 970.0, 950.0, 930.0, 890.0, 910.0, 840.0, 860.0, 820.0, 810.0, 840.0, 850.0, 840.0, 850.0, 810.0, 800.0, 760.0, 770.0, 800.0, 780.0, 820.0, 810.0, 850.0, 830.0, 810.0, 770.0, 780.0, 780.0, 770.0, 750.0, 720.0, 700.0, 700.0, 700.0, 690.0, 710.0, 710.0, 710.0, 710.0, 710.0, 720.0, 710.0, 700.0, 700.0, 710.0, 700.0, 690.0, 660.0, 780.0, 790.0, 760.0, 780.0, 790.0, 720.0, 710.0, 720.0, 850.0, 850.0, 850.0, 830.0, 880.0, 920.0, 920.0, 970.0, 970.0, 960.0, 980.0, 990.0, 1020.0, 930.0, 960.0, 970.0, 950.0, 950.0, 940.0, 970.0, 950.0, 930.0, 960.0, 900.0, 920.0, 940.0, 890.0, 900.0, 920.0, 900.0, 940.0, 900.0, 900.0, 920.0, 1000.0, 1010.0, 980.0, 980.0, 1050.0, 1120.0, 1060.0, 1070.0, 1060.0, 1060.0, 1060.0, 1040.0, 1020.0, 1030.0, 1010.0, 1040.0, 1070.0, 1050.0, 1070.0, 1160.0, 1170.0, 1140.0, 1150.0, 1190.0, 1180.0, 1220.0, 1190.0, 1160.0, 1170.0, 1180.0, 1220.0, 1170.0, 1140.0, 1100.0, 1120.0, 1140.0, 1100.0, 1170.0, 1180.0, 1170.0, 1200.0, 1230.0, 1200.0, 1190.0, 1160.0, 1110.0, 1130.0, 1160.0, 1150.0, 1120.0, 1110.0, 1120.0, 1080.0, 1090.0, 1050.0, 1010.0, 930.0, 885.0, 940.0, 960.0, 945.0, 955.0, 960.0, 970.0, 975.0, 980.0, 985.0, 1035.0, 1040.0, 1010.0, 965.0, 945.0, 940.0, 960.0, 895.0, 920.0, 905.0, 915.0, 915.0, 910.0, 955.0, 940.0, 945.0, 945.0, 975.0, 955.0, 950.0, 985.0, 970.0, 975.0, 930.0, 935.0, 960.0, 980.0, 975.0, 1025.0, 1015.0, 1030.0, 1005.0, 995.0, 955.0, 950.0, 970.0, 975.0, 980.0, 980.0, 1005.0, 980.0, 990.0, 970.0, 985.0, 980.0, 975.0, 985.0, 985.0, 985.0, 985.0, 970.0, 985.0, 970.0, 965.0, 940.0, 1020.0, 1020.0, 975.0, 990.0, 985.0, 980.0, 1015.0, 1080.0, 1095.0, 1095.0, 1130.0, 1150.0, 1190.0, 1150.0, 1170.0, 1175.0, 1135.0, 1110.0, 1120.0, 1205.0, 1230.0, 1230.0, 1275.0, 1300.0, 1285.0, 1300.0, 1305.0, 1305.0, 1290.0, 1225.0, 1270.0, 1275.0, 1280.0, 1295.0, 1320.0, 1280.0, 1300.0, 1325.0, 1270.0, 1280.0, 1225.0, 1285.0, 1265.0, 1230.0, 1185.0, 1155.0, 1135.0, 1145.0, 1200.0, 1185.0, 1175.0, 1165.0, 1200.0, 1190.0, 1190.0, 1195.0, 1180.0, 1180.0, 1180.0, 1130.0, 1105.0, 1145.0, 1150.0, 1110.0, 1115.0, 1130.0, 1095.0, 1105.0, 1155.0, 1185.0, 1235.0, 1255.0, 1255.0, 1270.0, 1255.0, 1265.0, 1265.0, 1285.0, 1295.0, 1295.0, 1320.0, 1330.0, 1320.0, 1280.0, 1255.0, 1230.0, 1270.0, 1340.0, 1315.0, 1315.0, 1320.0, 1335.0, 1370.0, 1375.0, 1355.0, 1385.0, 1330.0, 1285.0, 1285.0, 1305.0, 1275.0, 1270.0, 1320.0, 1290.0, 1265.0, 1255.0, 1270.0, 1265.0, 1275.0, 1195.0, 1165.0, 1175.0, 1160.0, 1120.0, 1105.0, 1140.0, 1140.0, 1155.0, 1140.0, 1090.0, 1010.0, 1010.0, 940.0, 965.0, 980.0, 960.0, 975.0, 1030.0, 1050.0, 1055.0, 1045.0, 1030.0, 1100.0, 1100.0, 1135.0, 1150.0, 1140.0, 1100.0, 1080.0, 1095.0, 1085.0, 1090.0, 1020.0, 1000.0, 1000.0, 1000.0, 1015.0, 1030.0, 1070.0, 1075.0, 1090.0, 1095.0, 1105.0, 1100.0, 1080.0, 1080.0, 1075.0, 1090.0, 1100.0, 1140.0, 1125.0, 1085.0, 1090.0, 1055.0, 1050.0, 1005.0, 1000.0, 1055.0, 1065.0, 1080.0, 1075.0, 1060.0, 1055.0, 1050.0, 1045.0, 1045.0, 1050.0, 1005.0, 1015.0, 1010.0, 995.0, 1010.0, 990.0, 955.0, 935.0, 925.0, 950.0, 955.0, 985.0, 1015.0, 1025.0, 990.0, 985.0, 1000.0, 990.0, 995.0, 1000.0, 1005.0, 1005.0, 1000.0, 1005.0, 1000.0, 985.0, 990.0, 980.0, 995.0, 1010.0, 990.0, 1000.0, 995.0, 1000.0, 980.0, 960.0, 965.0, 945.0, 970.0, 1025.0, 1010.0, 1005.0, 1005.0, 980.0, 985.0, 975.0, 955.0, 975.0, 960.0, 950.0, 945.0, 965.0, 965.0, 960.0, 975.0, 980.0, 955.0, 945.0, 960.0, 970.0, 955.0, 960.0, 990.0, 985.0, 980.0, 965.0, 980.0, 955.0, 960.0, 960.0, 970.0, 960.0, 965.0, 950.0, 965.0, 975.0, 985.0, 970.0, 910.0, 930.0, 890.0, 850.0, 850.0, 860.0, 870.0, 860.0, 865.0, 905.0, 925.0, 910.0, 900.0, 880.0, 895.0, 880.0, 885.0, 885.0, 880.0, 895.0, 905.0, 895.0, 880.0, 900.0, 925.0, 885.0, 890.0, 875.0, 840.0, 840.0, 845.0, 820.0, 775.0, 790.0, 805.0, 795.0, 815.0, 800.0, 780.0, 780.0, 780.0, 775.0, 760.0, 760.0, 760.0, 760.0, 755.0, 740.0, 695.0, 650.0, 635.0, 640.0, 620.0, 590.0, 600.0, 580.0, 590.0, 560.0, 565.0, 600.0, 600.0, 590.0, 590.0, 570.0, 595.0, 600.0, 595.0, 580.0, 570.0, 505.0, 491.0, 505.0, 492.0, 497.0, 491.0, 484.0, 480.0, 468.0, 540.0, 555.0, 605.0, 625.0, 595.0, 565.0, 620.0, 620.0, 580.0, 555.0, 580.0, 570.0, 550.0, 575.0, 575.0, 590.0, 585.0, 585.0, 590.0, 605.0, 590.0, 580.0, 585.0, 525.0, 520.0, 515.0, 525.0, 525.0, 545.0, 570.0, 620.0, 635.0, 685.0, 695.0, 635.0, 650.0, 650.0, 640.0, 685.0, 650.0, 650.0, 675.0, 675.0, 650.0, 650.0, 610.0, 600.0, 620.0, 650.0, 650.0, 640.0, 630.0, 615.0, 615.0, 640.0, 600.0, 575.0, 570.0, 560.0, 585.0, 605.0, 595.0, 560.0, 565.0, 590.0, 585.0, 555.0, 555.0, 550.0, 535.0, 525.0, 525.0, 500.0, 490.0, 490.0, 480.0, 475.0, 477.0, 465.0, 500.0, 505.0, 494.0, 500.0, 505.0, 505.0, 505.0, 530.0, 510.0, 500.0, 499.0, 495.0, 490.0, 493.0, 486.0, 481.0, 469.0, 467.0, 440.0, 453.0, 460.0, 441.0, 460.0, 525.0, 493.0, 488.0, 490.0, 530.0, 535.0, 500.0, 545.0, 585.0, 620.0, 620.0, 575.0, 575.0, 600.0, 610.0, 595.0, 615.0, 630.0, 595.0, 590.0, 610.0, 600.0, 605.0, 585.0, 600.0, 610.0, 685.0, 665.0, 660.0, 685.0, 755.0, 775.0, 735.0, 705.0, 745.0, 755.0, 685.0, 710.0, 695.0, 680.0, 660.0, 665.0, 660.0, 665.0, 645.0, 665.0, 680.0, 665.0, 705.0, 685.0, 710.0, 695.0, 700.0, 760.0, 750.0, 745.0, 745.0, 735.0, 735.0, 730.0, 720.0, 725.0, 705.0, 710.0, 675.0, 685.0, 685.0, 690.0, 670.0, 700.0, 690.0, 685.0, 680.0, 675.0, 675.0, 670.0, 685.0, 710.0, 700.0, 700.0, 710.0, 725.0, 760.0, 825.0, 845.0, 920.0, 880.0, 925.0, 870.0, 860.0, 845.0, 865.0, 840.0, 815.0, 855.0, 850.0, 850.0, 850.0, 830.0, 835.0, 865.0, 870.0, 860.0, 900.0, 930.0, 1025.0, 1045.0, 1045.0, 1020.0, 1030.0, 1020.0, 1050.0, 1055.0, 1045.0, 1070.0, 1065.0, 1045.0, 1055.0, 1040.0, 1055.0, 1105.0, 1110.0, 1120.0, 1150.0, 1170.0, 1200.0, 1145.0, 1130.0, 1140.0, 1120.0, 1160.0, 1150.0, 1110.0, 1115.0, 1090.0, 1060.0, 1100.0, 1080.0, 1100.0, 1145.0, 1150.0, 1175.0, 1180.0, 1230.0, 1240.0, 1245.0, 1270.0, 1250.0, 1150.0, 1120.0, 1180.0, 1180.0, 1185.0, 1175.0, 1185.0, 1210.0, 1210.0, 1215.0, 1215.0, 1230.0, 1270.0, 1250.0, 1325.0, 1305.0, 1320.0, 1365.0, 1370.0, 1400.0, 1390.0, 1415.0, 1405.0, 1435.0, 1480.0, 1485.0, 1530.0, 1510.0, 1500.0, 1540.0, 1545.0, 1590.0, 1565.0, 1560.0, 1605.0, 1650.0, 1700.0, 1605.0, 1685.0, 1700.0, 1635.0, 1610.0, 1590.0, 1650.0, 1595.0, 1490.0, 1530.0, 1500.0, 1500.0, 1555.0, 1650.0, 1635.0, 1665.0, 1660.0, 1680.0, 1660.0, 1580.0, 1620.0, 1680.0, 1745.0, 1695.0, 1710.0, 1685.0, 1700.0, 1710.0, 1680.0, 1690.0, 1685.0, 1710.0, 1710.0, 1690.0, 1680.0, 1670.0, 1695.0, 1700.0, 1660.0, 1695.0, 1690.0, 1730.0, 1695.0, 1660.0, 1700.0, 1695.0, 1720.0, 1750.0, 1730.0, 1700.0, 1680.0, 1720.0, 1730.0, 1745.0, 1735.0, 1735.0, 1740.0, 1750.0, 1700.0, 1705.0, 1695.0, 1705.0, 1750.0, 1740.0, 1740.0, 1735.0, 1740.0, 1720.0, 1715.0, 1715.0, 1670.0, 1645.0, 1660.0, 1705.0, 1680.0, 1710.0, 1720.0, 1690.0, 1720.0, 1700.0, 1700.0, 1680.0, 1680.0, 1665.0, 1685.0, 1680.0, 1750.0, 1685.0, 1700.0, 1600.0, 1650.0, 1630.0, 1670.0, 1690.0, 1675.0, 1700.0, 1700.0, 1740.0, 1750.0, 1800.0, 1800.0, 1820.0, 1800.0, 1780.0, 1855.0, 1890.0, 1885.0, 1910.0, 1910.0, 1850.0, 1880.0, 1890.0, 1880.0, 1850.0, 1835.0, 1870.0, 1820.0, 1850.0, 1825.0, 1820.0, 1840.0, 1780.0, 1725.0, 1630.0, 1615.0, 1585.0, 1610.0, 1550.0, 1510.0, 1505.0, 1495.0, 1470.0, 1400.0, 1450.0, 1500.0, 1450.0, 1455.0, 1500.0, 1485.0, 1465.0, 1470.0, 1520.0, 1500.0, 1510.0, 1550.0, 1610.0, 1620.0, 1590.0, 1565.0, 1560.0, 1615.0, 1660.0, 1645.0, 1600.0, 1585.0, 1630.0, 1600.0, 1580.0, 1580.0, 1580.0, 1580.0, 1580.0, 1580.0, 1600.0, 1635.0, 1605.0, 1630.0, 1625.0, 1600.0, 1625.0, 1600.0, 1665.0, 1640.0, 1665.0, 1700.0, 1700.0, 1765.0, 1820.0, 1790.0, 1810.0, 1830.0, 1805.0, 1800.0, 1825.0, 1825.0, 1895.0, 1895.0, 1845.0, 1870.0, 1850.0, 1860.0, 1815.0, 1845.0, 1825.0, 1850.0, 1850.0, 1880.0, 1850.0, 1875.0, 1850.0, 1875.0, 1955.0, 1970.0, 1955.0, 1930.0, 1885.0, 1870.0, 1825.0, 1840.0, 1815.0, 1865.0, 1890.0, 1860.0, 1890.0, 1920.0, 1865.0, 1740.0, 1770.0, 1775.0, 1840.0, 1870.0, 1860.0, 1830.0, 1810.0, 1760.0, 1670.0, 1680.0, 1770.0, 1835.0, 1800.0, 1820.0, 1830.0, 1850.0, 1875.0, 1900.0, 1900.0, 1905.0, 1895.0, 1900.0, 1900.0, 1900.0, 1885.0, 1850.0, 1855.0, 1855.0, 1895.0, 1900.0, 1845.0, 1860.0, 1875.0, 1860.0, 1915.0, 1915.0, 1870.0, 1900.0, 1885.0, 1820.0, 1830.0, 1815.0, 1830.0, 1810.0, 1735.0, 1770.0, 1770.0, 1755.0, 1730.0, 1745.0, 1745.0, 1720.0, 1690.0, 1725.0, 1775.0, 1700.0, 1740.0, 1775.0, 1780.0, 1755.0, 1725.0, 1735.0, 1720.0, 1820.0, 1805.0, 1805.0, 1800.0, 1800.0, 1835.0, 1815.0, 1860.0, 1890.0, 1890.0, 1895.0, 1895.0, 1865.0, 1860.0, 1865.0, 1890.0, 1860.0, 1935.0, 2000.0, 2180.0, 2200.0, 2200.0, 2200.0, 2250.0, 2230.0, 2210.0, 2200.0, 2180.0, 2210.0, 2350.0, 2440.0, 2480.0, 2460.0, 2440.0, 2600.0, 2500.0, 2460.0, 2400.0, 2430.0, 2430.0, 2500.0, 2400.0, 2300.0, 2340.0, 2370.0, 2450.0, 2480.0, 2470.0, 2460.0, 2510.0, 2430.0, 2470.0, 2480.0, 2450.0, 2390.0, 2430.0, 2370.0, 2380.0, 2310.0, 2330.0, 2360.0, 2160.0, 2200.0, 2200.0, 2220.0, 2120.0, 2050.0, 2070.0, 2060.0, 2010.0, 2090.0, 2060.0, 1980.0, 1995.0, 2050.0, 2040.0, 2070.0, 2130.0, 2150.0, 2100.0, 2140.0, 2070.0, 2030.0, 2030.0, 2090.0, 2110.0, 2140.0, 2130.0, 2130.0, 2130.0, 2130.0, 2100.0, 2100.0, 2250.0, 2280.0, 2200.0, 2200.0, 2200.0, 1840.0, 1835.0, 1835.0, 1755.0, 1680.0, 1660.0, 1710.0, 1625.0, 1700.0, 1720.0, 1700.0, 1695.0, 1705.0, 1815.0, 1895.0, 1900.0, 1950.0, 1920.0, 1825.0, 1860.0, 1800.0, 1820.0, 1820.0, 1875.0, 1885.0, 1915.0, 2000.0, 2050.0, 2000.0, 2010.0, 1935.0, 1935.0, 1935.0, 1935.0, 1935.0, 1935.0, 1935.0, 1870.0, 1990.0, 1990.0, 1930.0, 1870.0, 1770.0, 1690.0, 1675.0, 1810.0, 1760.0, 1710.0, 1770.0, 1830.0, 1810.0, 1855.0, 1835.0, 1900.0, 1885.0, 1830.0, 1800.0, 1790.0, 1890.0, 1850.0, 1805.0, 1815.0, 1820.0, 1895.0, 1850.0, 2030.0, 2070.0, 1915.0, 1990.0, 1935.0, 1950.0, 1980.0, 2000.0, 1990.0, 1940.0, 1900.0, 1825.0, 1820.0, 1830.0, 1780.0, 1800.0, 1845.0, 1880.0, 1900.0, 1940.0, 1930.0, 1910.0, 1910.0, 1920.0, 1880.0, 1890.0, 1845.0, 1800.0, 1680.0, 1725.0, 1730.0, 1735.0, 1745.0, 1770.0, 1735.0, 1735.0, 1705.0, 1780.0, 1755.0, 1820.0, 1870.0, 1825.0, 1825.0, 1815.0, 1835.0, 1830.0, 1840.0, 1845.0, 1850.0, 1800.0, 1810.0, 1760.0, 1740.0, 1720.0, 1710.0, 1715.0, 1685.0, 1780.0, 1740.0, 1710.0, 1715.0, 1720.0, 1700.0, 1630.0, 1665.0, 1730.0, 1665.0, 1665.0, 1650.0, 1645.0, 1585.0, 1590.0, 1640.0, 1620.0, 1600.0, 1575.0, 1500.0, 1535.0, 1540.0, 1555.0, 1545.0, 1485.0, 1470.0, 1330.0, 1290.0, 1285.0, 1280.0, 1220.0, 1285.0, 1290.0, 1330.0, 1305.0, 1280.0, 1275.0, 1300.0, 1300.0, 1315.0, 1290.0, 1260.0, 1280.0, 1290.0, 1270.0, 1235.0, 1245.0, 1255.0, 1250.0, 1250.0, 1240.0, 1250.0, 1230.0, 1215.0, 1215.0, 1215.0, 1225.0, 1220.0, 1410.0, 1395.0, 1425.0, 1395.0, 1405.0, 1405.0, 1420.0, 1475.0, 1480.0, 1480.0, 1495.0, 1460.0, 1410.0, 1385.0, 1380.0, 1400.0, 1390.0, 1340.0, 1365.0, 1395.0, 1370.0, 1360.0, 1370.0, 1375.0, 1330.0, 1300.0, 1275.0, 1295.0, 1265.0, 1240.0, 1240.0, 1270.0, 1305.0, 1345.0, 1420.0, 1430.0, 1405.0, 1360.0, 1380.0, 1320.0, 1330.0, 1400.0, 1410.0, 1360.0, 1370.0, 1385.0, 1460.0, 1405.0, 1450.0, 1460.0, 1420.0, 1445.0, 1440.0, 1450.0, 1435.0, 1400.0, 1370.0, 1380.0, 1350.0, 1360.0, 1325.0, 1325.0, 1325.0, 1315.0, 1295.0, 1275.0, 1280.0, 1305.0, 1320.0, 1305.0, 1310.0, 1285.0, 1305.0, 1330.0, 1295.0, 1295.0, 1275.0, 1310.0, 1305.0, 1290.0, 1290.0, 1315.0, 1305.0, 1330.0, 1345.0, 1300.0, 1320.0, 1310.0, 1290.0, 1250.0, 1285.0, 1250.0, 1245.0, 1230.0, 1180.0, 1185.0, 1190.0, 1235.0, 1250.0, 1280.0, 1265.0, 1265.0, 1270.0, 1270.0, 1295.0, 1295.0, 1295.0, 1295.0, 1295.0, 1295.0, 1305.0, 1295.0, 1265.0, 1275.0, 1290.0, 1245.0, 1225.0, 1255.0, 1280.0, 1275.0, 1240.0, 1245.0, 1350.0, 1370.0, 1385.0, 1380.0, 1440.0, 1410.0, 1400.0, 1435.0, 1415.0, 1360.0, 1335.0, 1360.0, 1335.0, 1295.0, 1280.0, 1290.0, 1275.0, 1310.0, 1300.0, 1285.0, 1285.0, 1255.0, 1260.0, 1220.0, 1255.0, 1280.0, 1270.0, 1220.0, 1175.0, 1100.0, 1090.0, 1120.0, 1105.0, 1100.0, 1070.0, 1060.0, 1025.0, 1030.0, 1060.0, 1050.0, 1035.0, 1055.0, 1060.0, 1130.0, 1130.0, 1115.0, 1120.0, 1125.0, 1165.0, 1220.0, 1235.0, 1275.0, 1350.0, 1430.0, 1430.0, 1475.0, 1435.0, 1425.0, 1440.0, 1420.0, 1400.0, 1370.0, 1400.0, 1370.0, 1270.0, 1300.0, 1290.0, 1315.0, 1305.0, 1300.0, 1250.0, 1260.0, 1280.0, 1275.0, 1275.0, 1260.0, 1275.0, 1305.0, 1305.0, 1340.0, 1315.0, 1320.0, 1325.0, 1365.0, 1365.0, 1355.0, 1375.0, 1350.0, 1370.0, 1320.0, 1305.0, 1300.0, 1280.0, 1290.0, 1375.0, 1390.0, 1400.0, 1425.0, 1420.0, 1425.0, 1345.0, 1315.0, 1340.0, 1315.0, 1325.0, 1335.0, 1330.0, 1325.0, 1320.0, 1295.0, 1240.0, 1225.0, 1295.0, 1300.0, 1365.0, 1460.0, 1440.0, 1405.0, 1485.0, 1500.0, 1500.0, 1595.0, 1660.0, 1655.0, 1610.0, 1605.0, 1540.0, 1590.0, 1590.0, 1565.0, 1555.0, 1460.0], \"type\": \"candlestick\", \"x\": [\"2008-07-16\", \"2008-07-17\", \"2008-07-18\", \"2008-07-21\", \"2008-07-22\", \"2008-07-23\", \"2008-07-24\", \"2008-07-25\", \"2008-07-28\", \"2008-07-29\", \"2008-07-31\", \"2008-08-01\", \"2008-08-04\", \"2008-08-05\", \"2008-08-06\", \"2008-08-07\", \"2008-08-08\", \"2008-08-11\", \"2008-08-12\", \"2008-08-13\", \"2008-08-14\", \"2008-08-15\", \"2008-08-19\", \"2008-08-20\", \"2008-08-21\", \"2008-08-22\", \"2008-08-25\", \"2008-08-26\", \"2008-08-27\", \"2008-08-28\", \"2008-08-29\", \"2008-09-01\", \"2008-09-02\", \"2008-09-03\", \"2008-09-04\", \"2008-09-05\", \"2008-09-08\", \"2008-09-09\", \"2008-09-10\", \"2008-09-11\", \"2008-09-12\", \"2008-09-15\", \"2008-09-16\", \"2008-09-17\", \"2008-09-18\", \"2008-09-19\", \"2008-09-22\", \"2008-09-23\", \"2008-09-24\", \"2008-09-25\", \"2008-09-26\", \"2008-10-06\", \"2008-10-07\", \"2008-10-08\", \"2008-10-13\", \"2008-10-14\", \"2008-10-15\", \"2008-10-16\", \"2008-10-17\", \"2008-10-20\", \"2008-10-21\", \"2008-10-22\", \"2008-10-23\", \"2008-10-24\", \"2008-10-27\", \"2008-10-28\", \"2008-10-29\", \"2008-10-30\", \"2008-10-31\", \"2008-11-03\", \"2008-11-04\", \"2008-11-05\", \"2008-11-06\", \"2008-11-07\", \"2008-11-10\", \"2008-11-11\", \"2008-11-12\", \"2008-11-13\", \"2008-11-14\", \"2008-11-17\", \"2008-11-18\", \"2008-11-19\", \"2008-11-20\", \"2008-11-21\", \"2008-11-24\", \"2008-11-25\", \"2008-11-26\", \"2008-11-27\", \"2008-11-28\", \"2008-12-01\", \"2008-12-02\", \"2008-12-03\", \"2008-12-04\", \"2008-12-05\", \"2008-12-09\", \"2008-12-10\", \"2008-12-11\", \"2008-12-12\", \"2008-12-15\", \"2008-12-16\", \"2008-12-17\", \"2008-12-18\", \"2008-12-19\", \"2008-12-22\", \"2008-12-23\", \"2008-12-24\", \"2008-12-30\", \"2009-01-05\", \"2009-01-06\", \"2009-01-07\", \"2009-01-08\", \"2009-01-09\", \"2009-01-12\", \"2009-01-13\", \"2009-01-14\", \"2009-01-15\", \"2009-01-16\", \"2009-01-19\", \"2009-01-20\", \"2009-01-21\", \"2009-01-22\", \"2009-01-23\", \"2009-01-27\", \"2009-01-28\", \"2009-01-29\", \"2009-01-30\", \"2009-02-02\", \"2009-02-03\", \"2009-02-04\", \"2009-02-05\", \"2009-02-06\", \"2009-02-09\", \"2009-02-10\", \"2009-02-11\", \"2009-02-12\", \"2009-02-13\", \"2009-02-16\", \"2009-02-17\", \"2009-02-18\", \"2009-02-19\", \"2009-02-20\", \"2009-02-23\", \"2009-02-24\", \"2009-02-25\", \"2009-02-26\", \"2009-02-27\", \"2009-03-02\", \"2009-03-03\", \"2009-03-04\", \"2009-03-05\", \"2009-03-06\", \"2009-03-10\", \"2009-03-11\", \"2009-03-12\", \"2009-03-13\", \"2009-03-16\", \"2009-03-17\", \"2009-03-18\", \"2009-03-19\", \"2009-03-20\", \"2009-03-23\", \"2009-03-24\", \"2009-03-25\", \"2009-03-27\", \"2009-03-30\", \"2009-03-31\", \"2009-04-01\", \"2009-04-02\", \"2009-04-03\", \"2009-04-06\", \"2009-04-07\", \"2009-04-08\", \"2009-04-13\", \"2009-04-14\", \"2009-04-15\", \"2009-04-16\", \"2009-04-17\", \"2009-04-20\", \"2009-04-22\", \"2009-04-23\", \"2009-04-24\", \"2009-04-27\", \"2009-04-28\", \"2009-04-29\", \"2009-04-30\", \"2009-05-01\", \"2009-05-04\", \"2009-05-05\", \"2009-05-06\", \"2009-05-07\", \"2009-05-08\", \"2009-05-11\", \"2009-05-12\", \"2009-05-13\", \"2009-05-14\", \"2009-05-15\", \"2009-05-18\", \"2009-05-19\", \"2009-05-20\", \"2009-05-22\", \"2009-05-25\", \"2009-05-26\", \"2009-05-27\", \"2009-05-28\", \"2009-05-29\", \"2009-06-01\", \"2009-06-02\", \"2009-06-03\", \"2009-06-04\", \"2009-06-05\", \"2009-06-08\", \"2009-06-09\", \"2009-06-10\", \"2009-06-11\", \"2009-06-12\", \"2009-06-15\", \"2009-06-16\", \"2009-06-17\", \"2009-06-18\", \"2009-06-19\", \"2009-06-22\", \"2009-06-23\", \"2009-06-24\", \"2009-06-25\", \"2009-06-26\", \"2009-06-29\", \"2009-06-30\", \"2009-07-01\", \"2009-07-02\", \"2009-07-03\", \"2009-07-06\", \"2009-07-07\", \"2009-07-09\", \"2009-07-10\", \"2009-07-13\", \"2009-07-14\", \"2009-07-15\", \"2009-07-16\", \"2009-07-17\", \"2009-07-21\", \"2009-07-22\", \"2009-07-23\", \"2009-07-24\", \"2009-07-27\", \"2009-07-28\", \"2009-07-29\", \"2009-07-30\", \"2009-07-31\", \"2009-08-03\", \"2009-08-04\", \"2009-08-05\", \"2009-08-06\", \"2009-08-07\", \"2009-08-10\", \"2009-08-11\", \"2009-08-12\", \"2009-08-13\", \"2009-08-14\", \"2009-08-18\", \"2009-08-19\", \"2009-08-20\", \"2009-08-21\", \"2009-08-24\", \"2009-08-25\", \"2009-08-26\", \"2009-08-27\", \"2009-08-28\", \"2009-08-31\", \"2009-09-01\", \"2009-09-02\", \"2009-09-03\", \"2009-09-04\", \"2009-09-07\", \"2009-09-08\", \"2009-09-09\", \"2009-09-10\", \"2009-09-11\", \"2009-09-14\", \"2009-09-15\", \"2009-09-16\", \"2009-09-17\", \"2009-09-24\", \"2009-09-25\", \"2009-09-28\", \"2009-09-29\", \"2009-09-30\", \"2009-10-01\", \"2009-10-02\", \"2009-10-05\", \"2009-10-06\", \"2009-10-07\", \"2009-10-08\", \"2009-10-09\", \"2009-10-12\", \"2009-10-13\", \"2009-10-14\", \"2009-10-15\", \"2009-10-16\", \"2009-10-19\", \"2009-10-20\", \"2009-10-21\", \"2009-10-22\", \"2009-10-23\", \"2009-10-26\", \"2009-10-27\", \"2009-10-28\", \"2009-10-29\", \"2009-10-30\", \"2009-11-02\", \"2009-11-03\", \"2009-11-04\", \"2009-11-05\", \"2009-11-06\", \"2009-11-09\", \"2009-11-10\", \"2009-11-11\", \"2009-11-12\", \"2009-11-13\", \"2009-11-16\", \"2009-11-17\", \"2009-11-18\", \"2009-11-19\", \"2009-11-20\", \"2009-11-23\", \"2009-11-24\", \"2009-11-25\", \"2009-11-26\", \"2009-11-30\", \"2009-12-01\", \"2009-12-02\", \"2009-12-03\", \"2009-12-04\", \"2009-12-07\", \"2009-12-08\", \"2009-12-09\", \"2009-12-10\", \"2009-12-11\", \"2009-12-14\", \"2009-12-15\", \"2009-12-16\", \"2009-12-17\", \"2009-12-21\", \"2009-12-22\", \"2009-12-23\", \"2009-12-28\", \"2009-12-29\", \"2009-12-30\", \"2010-01-04\", \"2010-01-05\", \"2010-01-06\", \"2010-01-07\", \"2010-01-08\", \"2010-01-11\", \"2010-01-12\", \"2010-01-13\", \"2010-01-14\", \"2010-01-15\", \"2010-01-18\", \"2010-01-19\", \"2010-01-20\", \"2010-01-21\", \"2010-01-22\", \"2010-01-25\", \"2010-01-26\", \"2010-01-27\", \"2010-01-28\", \"2010-01-29\", \"2010-02-01\", \"2010-02-02\", \"2010-02-03\", \"2010-02-04\", \"2010-02-05\", \"2010-02-08\", \"2010-02-09\", \"2010-02-10\", \"2010-02-11\", \"2010-02-12\", \"2010-02-15\", \"2010-02-16\", \"2010-02-17\", \"2010-02-18\", \"2010-02-19\", \"2010-02-22\", \"2010-02-23\", \"2010-02-24\", \"2010-02-25\", \"2010-03-01\", \"2010-03-02\", \"2010-03-03\", \"2010-03-04\", \"2010-03-05\", \"2010-03-08\", \"2010-03-09\", \"2010-03-10\", \"2010-03-11\", \"2010-03-12\", \"2010-03-15\", \"2010-03-17\", \"2010-03-18\", \"2010-03-19\", \"2010-03-22\", \"2010-03-23\", \"2010-03-24\", \"2010-03-25\", \"2010-03-26\", \"2010-03-29\", \"2010-03-30\", \"2010-03-31\", \"2010-04-01\", \"2010-04-05\", \"2010-04-06\", \"2010-04-07\", \"2010-04-08\", \"2010-04-09\", \"2010-04-12\", \"2010-04-13\", \"2010-04-14\", \"2010-04-15\", \"2010-04-16\", \"2010-04-19\", \"2010-04-20\", \"2010-04-21\", \"2010-04-22\", \"2010-04-23\", \"2010-04-26\", \"2010-04-27\", \"2010-04-28\", \"2010-04-29\", \"2010-04-30\", \"2010-05-03\", \"2010-05-04\", \"2010-05-05\", \"2010-05-06\", \"2010-05-07\", \"2010-05-10\", \"2010-05-11\", \"2010-05-12\", \"2010-05-14\", \"2010-05-17\", \"2010-05-18\", \"2010-05-19\", \"2010-05-20\", \"2010-05-21\", \"2010-05-24\", \"2010-05-25\", \"2010-05-26\", \"2010-05-27\", \"2010-05-31\", \"2010-06-01\", \"2010-06-02\", \"2010-06-03\", \"2010-06-04\", \"2010-06-07\", \"2010-06-08\", \"2010-06-09\", \"2010-06-10\", \"2010-06-11\", \"2010-06-14\", \"2010-06-15\", \"2010-06-16\", \"2010-06-17\", \"2010-06-18\", \"2010-06-21\", \"2010-06-22\", \"2010-06-23\", \"2010-06-24\", \"2010-06-25\", \"2010-06-28\", \"2010-06-29\", \"2010-06-30\", \"2010-07-01\", \"2010-07-02\", \"2010-07-05\", \"2010-07-06\", \"2010-07-07\", \"2010-07-08\", \"2010-07-09\", \"2010-07-12\", \"2010-07-13\", \"2010-07-14\", \"2010-07-15\", \"2010-07-16\", \"2010-07-19\", \"2010-07-20\", \"2010-07-21\", \"2010-07-22\", \"2010-07-23\", \"2010-07-26\", \"2010-07-27\", \"2010-07-28\", \"2010-07-29\", \"2010-07-30\", \"2010-08-02\", \"2010-08-03\", \"2010-08-04\", \"2010-08-05\", \"2010-08-06\", \"2010-08-09\", \"2010-08-10\", \"2010-08-11\", \"2010-08-12\", \"2010-08-13\", \"2010-08-16\", \"2010-08-18\", \"2010-08-19\", \"2010-08-20\", \"2010-08-23\", \"2010-08-24\", \"2010-08-25\", \"2010-08-26\", \"2010-08-27\", \"2010-08-30\", \"2010-08-31\", \"2010-09-01\", \"2010-09-02\", \"2010-09-03\", \"2010-09-06\", \"2010-09-07\", \"2010-09-15\", \"2010-09-16\", \"2010-09-17\", \"2010-09-20\", \"2010-09-21\", \"2010-09-22\", \"2010-09-23\", \"2010-09-24\", \"2010-09-27\", \"2010-09-28\", \"2010-09-29\", \"2010-09-30\", \"2010-10-01\", \"2010-10-04\", \"2010-10-05\", \"2010-10-06\", \"2010-10-07\", \"2010-10-08\", \"2010-10-11\", \"2010-10-12\", \"2010-10-13\", \"2010-10-14\", \"2010-10-15\", \"2010-10-18\", \"2010-10-19\", \"2010-10-20\", \"2010-10-21\", \"2010-10-22\", \"2010-10-25\", \"2010-10-26\", \"2010-10-27\", \"2010-10-28\", \"2010-10-29\", \"2010-11-01\", \"2010-11-02\", \"2010-11-03\", \"2010-11-04\", \"2010-11-05\", \"2010-11-08\", \"2010-11-09\", \"2010-11-10\", \"2010-11-11\", \"2010-11-12\", \"2010-11-15\", \"2010-11-16\", \"2010-11-18\", \"2010-11-19\", \"2010-11-22\", \"2010-11-23\", \"2010-11-24\", \"2010-11-25\", \"2010-11-26\", \"2010-11-29\", \"2010-11-30\", \"2010-12-01\", \"2010-12-02\", \"2010-12-03\", \"2010-12-06\", \"2010-12-08\", \"2010-12-09\", \"2010-12-10\", \"2010-12-13\", \"2010-12-14\", \"2010-12-15\", \"2010-12-16\", \"2010-12-17\", \"2010-12-20\", \"2010-12-21\", \"2010-12-22\", \"2010-12-23\", \"2010-12-27\", \"2010-12-28\", \"2010-12-29\", \"2010-12-30\", \"2011-01-03\", \"2011-01-04\", \"2011-01-05\", \"2011-01-06\", \"2011-01-07\", \"2011-01-10\", \"2011-01-11\", \"2011-01-12\", \"2011-01-13\", \"2011-01-14\", \"2011-01-17\", \"2011-01-18\", \"2011-01-19\", \"2011-01-20\", \"2011-01-21\", \"2011-01-24\", \"2011-01-25\", \"2011-01-26\", \"2011-01-27\", \"2011-01-28\", \"2011-01-31\", \"2011-02-01\", \"2011-02-02\", \"2011-02-04\", \"2011-02-07\", \"2011-02-08\", \"2011-02-09\", \"2011-02-10\", \"2011-02-11\", \"2011-02-14\", \"2011-02-16\", \"2011-02-17\", \"2011-02-18\", \"2011-02-21\", \"2011-02-22\", \"2011-02-23\", \"2011-02-24\", \"2011-02-25\", \"2011-02-28\", \"2011-03-01\", \"2011-03-02\", \"2011-03-03\", \"2011-03-04\", \"2011-03-07\", \"2011-03-08\", \"2011-03-09\", \"2011-03-10\", \"2011-03-11\", \"2011-03-14\", \"2011-03-15\", \"2011-03-16\", \"2011-03-17\", \"2011-03-18\", \"2011-03-21\", \"2011-03-22\", \"2011-03-24\", \"2011-03-25\", \"2011-03-28\", \"2011-03-29\", \"2011-03-30\", \"2011-03-31\", \"2011-04-01\", \"2011-04-04\", \"2011-04-05\", \"2011-04-06\", \"2011-04-07\", \"2011-04-08\", \"2011-04-11\", \"2011-04-12\", \"2011-04-13\", \"2011-04-14\", \"2011-04-15\", \"2011-04-18\", \"2011-04-19\", \"2011-04-20\", \"2011-04-21\", \"2011-04-25\", \"2011-04-26\", \"2011-04-27\", \"2011-04-28\", \"2011-04-29\", \"2011-05-02\", \"2011-05-03\", \"2011-05-04\", \"2011-05-05\", \"2011-05-06\", \"2011-05-09\", \"2011-05-10\", \"2011-05-11\", \"2011-05-12\", \"2011-05-13\", \"2011-05-16\", \"2011-05-18\", \"2011-05-19\", \"2011-05-20\", \"2011-05-23\", \"2011-05-24\", \"2011-05-25\", \"2011-05-26\", \"2011-05-27\", \"2011-05-30\", \"2011-05-31\", \"2011-06-01\", \"2011-06-03\", \"2011-06-06\", \"2011-06-07\", \"2011-06-08\", \"2011-06-09\", \"2011-06-10\", \"2011-06-13\", \"2011-06-14\", \"2011-06-15\", \"2011-06-16\", \"2011-06-17\", \"2011-06-20\", \"2011-06-21\", \"2011-06-22\", \"2011-06-23\", \"2011-06-24\", \"2011-06-27\", \"2011-06-28\", \"2011-06-30\", \"2011-07-01\", \"2011-07-05\", \"2011-07-06\", \"2011-07-07\", \"2011-07-08\", \"2011-07-11\", \"2011-07-12\", \"2011-07-13\", \"2011-07-14\", \"2011-07-15\", \"2011-07-18\", \"2011-07-19\", \"2011-07-20\", \"2011-07-21\", \"2011-07-22\", \"2011-07-25\", \"2011-07-26\", \"2011-07-27\", \"2011-07-28\", \"2011-07-29\", \"2011-08-01\", \"2011-08-02\", \"2011-08-03\", \"2011-08-04\", \"2011-08-05\", \"2011-08-08\", \"2011-08-09\", \"2011-08-10\", \"2011-08-11\", \"2011-08-12\", \"2011-08-15\", \"2011-08-16\", \"2011-08-18\", \"2011-08-19\", \"2011-08-22\", \"2011-08-23\", \"2011-08-24\", \"2011-08-25\", \"2011-08-26\", \"2011-09-05\", \"2011-09-06\", \"2011-09-07\", \"2011-09-08\", \"2011-09-09\", \"2011-09-12\", \"2011-09-13\", \"2011-09-14\", \"2011-09-15\", \"2011-09-16\", \"2011-09-19\", \"2011-09-20\", \"2011-09-21\", \"2011-09-22\", \"2011-09-23\", \"2011-09-26\", \"2011-09-27\", \"2011-09-28\", \"2011-09-29\", \"2011-09-30\", \"2011-10-03\", \"2011-10-04\", \"2011-10-05\", \"2011-10-06\", \"2011-10-07\", \"2011-10-10\", \"2011-10-11\", \"2011-10-12\", \"2011-10-13\", \"2011-10-14\", \"2011-10-17\", \"2011-10-18\", \"2011-10-19\", \"2011-10-20\", \"2011-10-21\", \"2011-10-24\", \"2011-10-25\", \"2011-10-26\", \"2011-10-27\", \"2011-10-28\", \"2011-10-31\", \"2011-11-01\", \"2011-11-02\", \"2011-11-03\", \"2011-11-04\", \"2011-11-07\", \"2011-11-08\", \"2011-11-09\", \"2011-11-10\", \"2011-11-11\", \"2011-11-14\", \"2011-11-15\", \"2011-11-16\", \"2011-11-17\", \"2011-11-18\", \"2011-11-21\", \"2011-11-22\", \"2011-11-23\", \"2011-11-24\", \"2011-11-25\", \"2011-11-28\", \"2011-11-29\", \"2011-11-30\", \"2011-12-01\", \"2011-12-02\", \"2011-12-05\", \"2011-12-06\", \"2011-12-07\", \"2011-12-08\", \"2011-12-09\", \"2011-12-12\", \"2011-12-13\", \"2011-12-14\", \"2011-12-15\", \"2011-12-16\", \"2011-12-19\", \"2011-12-20\", \"2011-12-21\", \"2011-12-22\", \"2011-12-23\", \"2011-12-27\", \"2011-12-28\", \"2011-12-29\", \"2011-12-30\", \"2012-01-02\", \"2012-01-03\", \"2012-01-04\", \"2012-01-05\", \"2012-01-06\", \"2012-01-09\", \"2012-01-10\", \"2012-01-11\", \"2012-01-12\", \"2012-01-13\", \"2012-01-16\", \"2012-01-17\", \"2012-01-18\", \"2012-01-19\", \"2012-01-20\", \"2012-01-24\", \"2012-01-25\", \"2012-01-26\", \"2012-01-27\", \"2012-01-30\", \"2012-01-31\", \"2012-02-01\", \"2012-02-02\", \"2012-02-03\", \"2012-02-06\", \"2012-02-07\", \"2012-02-08\", \"2012-02-09\", \"2012-02-10\", \"2012-02-13\", \"2012-02-14\", \"2012-02-15\", \"2012-02-16\", \"2012-02-17\", \"2012-02-20\", \"2012-02-21\", \"2012-02-22\", \"2012-02-23\", \"2012-02-24\", \"2012-02-27\", \"2012-02-28\", \"2012-02-29\", \"2012-03-01\", \"2012-03-02\", \"2012-03-05\", \"2012-03-06\", \"2012-03-07\", \"2012-03-08\", \"2012-03-09\", \"2012-03-12\", \"2012-03-13\", \"2012-03-14\", \"2012-03-15\", \"2012-03-16\", \"2012-03-19\", \"2012-03-20\", \"2012-03-21\", \"2012-03-22\", \"2012-03-26\", \"2012-03-27\", \"2012-03-28\", \"2012-03-29\", \"2012-03-30\", \"2012-04-02\", \"2012-04-03\", \"2012-04-04\", \"2012-04-05\", \"2012-04-09\", \"2012-04-10\", \"2012-04-11\", \"2012-04-12\", \"2012-04-13\", \"2012-04-16\", \"2012-04-17\", \"2012-04-18\", \"2012-04-19\", \"2012-04-20\", \"2012-04-23\", \"2012-04-24\", \"2012-04-25\", \"2012-04-26\", \"2012-04-27\", \"2012-04-30\", \"2012-05-01\", \"2012-05-02\", \"2012-05-03\", \"2012-05-04\", \"2012-05-07\", \"2012-05-08\", \"2012-05-09\", \"2012-05-10\", \"2012-05-11\", \"2012-05-14\", \"2012-05-15\", \"2012-05-16\", \"2012-05-21\", \"2012-05-22\", \"2012-05-23\", \"2012-05-24\", \"2012-05-25\", \"2012-05-28\", \"2012-05-29\", \"2012-05-30\", \"2012-05-31\", \"2012-06-01\", \"2012-06-04\", \"2012-06-05\", \"2012-06-06\", \"2012-06-07\", \"2012-06-08\", \"2012-06-11\", \"2012-06-12\", \"2012-06-13\", \"2012-06-14\", \"2012-06-15\", \"2012-06-18\", \"2012-06-19\", \"2012-06-20\", \"2012-06-21\", \"2012-06-22\", \"2012-06-25\", \"2012-06-26\", \"2012-06-27\", \"2012-06-28\", \"2012-06-29\", \"2012-07-02\", \"2012-07-03\", \"2012-07-04\", \"2012-07-05\", \"2012-07-06\", \"2012-07-09\", \"2012-07-10\", \"2012-07-11\", \"2012-07-12\", \"2012-07-13\", \"2012-07-16\", \"2012-07-17\", \"2012-07-18\", \"2012-07-19\", \"2012-07-20\", \"2012-07-23\", \"2012-07-24\", \"2012-07-25\", \"2012-07-26\", \"2012-07-27\", \"2012-07-30\", \"2012-07-31\", \"2012-08-01\", \"2012-08-02\", \"2012-08-03\", \"2012-08-06\", \"2012-08-07\", \"2012-08-08\", \"2012-08-09\", \"2012-08-10\", \"2012-08-13\", \"2012-08-14\", \"2012-08-15\", \"2012-08-16\", \"2012-08-23\", \"2012-08-24\", \"2012-08-27\", \"2012-08-28\", \"2012-08-29\", \"2012-08-30\", \"2012-08-31\", \"2012-09-03\", \"2012-09-04\", \"2012-09-05\", \"2012-09-06\", \"2012-09-07\", \"2012-09-10\", \"2012-09-11\", \"2012-09-12\", \"2012-09-13\", \"2012-09-14\", \"2012-09-17\", \"2012-09-18\", \"2012-09-19\", \"2012-09-20\", \"2012-09-21\", \"2012-09-24\", \"2012-09-25\", \"2012-09-26\", \"2012-09-27\", \"2012-09-28\", \"2012-10-01\", \"2012-10-02\", \"2012-10-03\", \"2012-10-04\", \"2012-10-05\", \"2012-10-08\", \"2012-10-09\", \"2012-10-10\", \"2012-10-11\", \"2012-10-12\", \"2012-10-15\", \"2012-10-16\", \"2012-10-17\", \"2012-10-18\", \"2012-10-19\", \"2012-10-22\", \"2012-10-23\", \"2012-10-24\", \"2012-10-25\", \"2012-10-29\", \"2012-10-30\", \"2012-10-31\", \"2012-11-01\", \"2012-11-02\", \"2012-11-05\", \"2012-11-06\", \"2012-11-07\", \"2012-11-08\", \"2012-11-09\", \"2012-11-12\", \"2012-11-13\", \"2012-11-14\", \"2012-11-19\", \"2012-11-20\", \"2012-11-21\", \"2012-11-22\", \"2012-11-23\", \"2012-11-26\", \"2012-11-27\", \"2012-11-28\", \"2012-11-29\", \"2012-11-30\", \"2012-12-03\", \"2012-12-04\", \"2012-12-05\", \"2012-12-06\", \"2012-12-07\", \"2012-12-10\", \"2012-12-11\", \"2012-12-12\", \"2012-12-13\", \"2012-12-14\", \"2012-12-17\", \"2012-12-18\", \"2012-12-19\", \"2012-12-20\", \"2012-12-21\", \"2012-12-26\", \"2012-12-27\", \"2012-12-28\", \"2013-01-02\", \"2013-01-03\", \"2013-01-04\", \"2013-01-07\", \"2013-01-08\", \"2013-01-09\", \"2013-01-10\", \"2013-01-11\", \"2013-01-14\", \"2013-01-15\", \"2013-01-16\", \"2013-01-17\", \"2013-01-18\", \"2013-01-21\", \"2013-01-22\", \"2013-01-23\", \"2013-01-25\", \"2013-01-28\", \"2013-01-29\", \"2013-01-30\", \"2013-01-31\", \"2013-02-01\", \"2013-02-04\", \"2013-02-05\", \"2013-02-06\", \"2013-02-07\", \"2013-02-08\", \"2013-02-11\", \"2013-02-12\", \"2013-02-13\", \"2013-02-14\", \"2013-02-15\", \"2013-02-18\", \"2013-02-19\", \"2013-02-20\", \"2013-02-21\", \"2013-02-22\", \"2013-02-25\", \"2013-02-26\", \"2013-02-27\", \"2013-02-28\", \"2013-03-01\", \"2013-03-04\", \"2013-03-05\", \"2013-03-06\", \"2013-03-07\", \"2013-03-08\", \"2013-03-11\", \"2013-03-13\", \"2013-03-14\", \"2013-03-15\", \"2013-03-18\", \"2013-03-19\", \"2013-03-20\", \"2013-03-21\", \"2013-03-22\", \"2013-03-25\", \"2013-03-26\", \"2013-03-27\", \"2013-03-28\", \"2013-04-01\", \"2013-04-02\", \"2013-04-03\", \"2013-04-04\", \"2013-04-05\", \"2013-04-08\", \"2013-04-09\", \"2013-04-10\", \"2013-04-11\", \"2013-04-12\", \"2013-04-15\", \"2013-04-16\", \"2013-04-17\", \"2013-04-18\", \"2013-04-19\", \"2013-04-22\", \"2013-04-23\", \"2013-04-24\", \"2013-04-25\", \"2013-04-26\", \"2013-04-29\", \"2013-04-30\", \"2013-05-01\", \"2013-05-02\", \"2013-05-03\", \"2013-05-06\", \"2013-05-07\", \"2013-05-08\", \"2013-05-10\", \"2013-05-13\", \"2013-05-14\", \"2013-05-15\", \"2013-05-16\", \"2013-05-17\", \"2013-05-20\", \"2013-05-21\", \"2013-05-22\", \"2013-05-23\", \"2013-05-24\", \"2013-05-27\", \"2013-05-28\", \"2013-05-29\", \"2013-05-30\", \"2013-05-31\", \"2013-06-03\", \"2013-06-04\", \"2013-06-05\", \"2013-06-07\", \"2013-06-10\", \"2013-06-11\", \"2013-06-12\", \"2013-06-13\", \"2013-06-14\", \"2013-06-17\", \"2013-06-18\", \"2013-06-19\", \"2013-06-20\", \"2013-06-21\", \"2013-06-24\", \"2013-06-25\", \"2013-06-26\", \"2013-06-27\", \"2013-06-28\", \"2013-07-01\", \"2013-07-02\", \"2013-07-03\", \"2013-07-04\", \"2013-07-05\", \"2013-07-08\", \"2013-07-09\", \"2013-07-10\", \"2013-07-11\", \"2013-07-12\", \"2013-07-15\", \"2013-07-16\", \"2013-07-17\", \"2013-07-18\", \"2013-07-19\", \"2013-07-22\", \"2013-07-23\", \"2013-07-24\", \"2013-07-25\", \"2013-07-26\", \"2013-07-29\", \"2013-07-30\", \"2013-07-31\", \"2013-08-01\", \"2013-08-02\", \"2013-08-12\", \"2013-08-13\", \"2013-08-14\", \"2013-08-15\", \"2013-08-16\", \"2013-08-19\", \"2013-08-20\", \"2013-08-21\", \"2013-08-22\", \"2013-08-23\", \"2013-08-26\", \"2013-08-27\", \"2013-08-28\", \"2013-08-29\", \"2013-08-30\", \"2013-09-02\", \"2013-09-03\", \"2013-09-04\", \"2013-09-05\", \"2013-09-06\", \"2013-09-09\", \"2013-09-10\", \"2013-09-11\", \"2013-09-12\", \"2013-09-13\", \"2013-09-16\", \"2013-09-17\", \"2013-09-18\", \"2013-09-19\", \"2013-09-20\", \"2013-09-23\", \"2013-09-24\", \"2013-09-25\", \"2013-09-26\", \"2013-09-27\", \"2013-09-30\", \"2013-10-01\", \"2013-10-02\", \"2013-10-03\", \"2013-10-04\", \"2013-10-07\", \"2013-10-08\", \"2013-10-09\", \"2013-10-10\", \"2013-10-11\", \"2013-10-16\", \"2013-10-17\", \"2013-10-18\", \"2013-10-21\", \"2013-10-22\", \"2013-10-23\", \"2013-10-24\", \"2013-10-25\", \"2013-10-28\", \"2013-10-29\", \"2013-10-30\", \"2013-10-31\", \"2013-11-01\", \"2013-11-04\", \"2013-11-06\", \"2013-11-07\", \"2013-11-08\", \"2013-11-11\", \"2013-11-12\", \"2013-11-13\", \"2013-11-14\", \"2013-11-15\", \"2013-11-18\", \"2013-11-19\", \"2013-11-20\", \"2013-11-21\", \"2013-11-22\", \"2013-11-25\", \"2013-11-26\", \"2013-11-27\", \"2013-11-28\", \"2013-11-29\", \"2013-12-02\", \"2013-12-03\", \"2013-12-04\", \"2013-12-05\", \"2013-12-06\", \"2013-12-09\", \"2013-12-10\", \"2013-12-11\", \"2013-12-12\", \"2013-12-13\", \"2013-12-16\", \"2013-12-17\", \"2013-12-18\", \"2013-12-19\", \"2013-12-20\", \"2013-12-23\", \"2013-12-24\", \"2013-12-27\", \"2013-12-30\", \"2014-01-02\", \"2014-01-03\", \"2014-01-06\", \"2014-01-07\", \"2014-01-08\", \"2014-01-09\", \"2014-01-10\", \"2014-01-13\", \"2014-01-15\", \"2014-01-16\", \"2014-01-17\", \"2014-01-20\", \"2014-01-21\", \"2014-01-22\", \"2014-01-23\", \"2014-01-24\", \"2014-01-27\", \"2014-01-28\", \"2014-01-29\", \"2014-01-30\", \"2014-02-03\", \"2014-02-04\", \"2014-02-05\", \"2014-02-06\", \"2014-02-07\", \"2014-02-10\", \"2014-02-11\", \"2014-02-12\", \"2014-02-13\", \"2014-02-14\", \"2014-02-17\", \"2014-02-18\", \"2014-02-19\", \"2014-02-20\", \"2014-02-21\", \"2014-02-24\", \"2014-02-25\", \"2014-02-26\", \"2014-02-27\", \"2014-02-28\", \"2014-03-03\", \"2014-03-04\", \"2014-03-05\", \"2014-03-06\", \"2014-03-07\", \"2014-03-10\", \"2014-03-11\", \"2014-03-12\", \"2014-03-13\", \"2014-03-14\", \"2014-03-17\", \"2014-03-18\", \"2014-03-19\", \"2014-03-20\", \"2014-03-21\", \"2014-03-24\", \"2014-03-25\", \"2014-03-26\", \"2014-03-27\", \"2014-03-28\", \"2014-04-01\", \"2014-04-02\", \"2014-04-03\", \"2014-04-04\", \"2014-04-07\", \"2014-04-08\", \"2014-04-09\", \"2014-04-10\", \"2014-04-11\", \"2014-04-14\", \"2014-04-15\", \"2014-04-16\", \"2014-04-17\", \"2014-04-21\", \"2014-04-22\", \"2014-04-23\", \"2014-04-24\", \"2014-04-25\", \"2014-04-28\", \"2014-04-29\", \"2014-04-30\", \"2014-05-02\", \"2014-05-05\", \"2014-05-06\", \"2014-05-07\", \"2014-05-08\", \"2014-05-09\", \"2014-05-12\", \"2014-05-13\", \"2014-05-14\", \"2014-05-16\", \"2014-05-19\", \"2014-05-20\", \"2014-05-21\", \"2014-05-22\", \"2014-05-23\", \"2014-05-26\", \"2014-05-28\", \"2014-05-30\", \"2014-06-02\", \"2014-06-03\", \"2014-06-04\", \"2014-06-05\", \"2014-06-06\", \"2014-06-09\", \"2014-06-10\", \"2014-06-11\", \"2014-06-12\", \"2014-06-13\", \"2014-06-16\", \"2014-06-17\", \"2014-06-18\", \"2014-06-19\", \"2014-06-20\", \"2014-06-23\", \"2014-06-24\", \"2014-06-25\", \"2014-06-26\", \"2014-06-27\", \"2014-06-30\", \"2014-07-01\", \"2014-07-02\", \"2014-07-03\", \"2014-07-04\", \"2014-07-07\", \"2014-07-08\", \"2014-07-09\", \"2014-07-10\", \"2014-07-11\", \"2014-07-14\", \"2014-07-15\", \"2014-07-16\", \"2014-07-17\", \"2014-07-18\", \"2014-07-21\", \"2014-07-22\", \"2014-07-23\", \"2014-07-24\", \"2014-07-25\", \"2014-08-04\", \"2014-08-05\", \"2014-08-06\", \"2014-08-07\", \"2014-08-08\", \"2014-08-11\", \"2014-08-12\", \"2014-08-13\", \"2014-08-14\", \"2014-08-15\", \"2014-08-18\", \"2014-08-19\", \"2014-08-20\", \"2014-08-21\", \"2014-08-22\", \"2014-08-25\", \"2014-08-26\", \"2014-08-27\", \"2014-08-28\", \"2014-08-29\", \"2014-09-01\", \"2014-09-02\", \"2014-09-03\", \"2014-09-04\", \"2014-09-05\", \"2014-09-08\", \"2014-09-09\", \"2014-09-10\", \"2014-09-11\", \"2014-09-12\", \"2014-09-15\", \"2014-09-16\", \"2014-09-17\", \"2014-09-18\", \"2014-09-19\", \"2014-09-22\", \"2014-09-23\", \"2014-09-24\", \"2014-09-25\", \"2014-09-26\", \"2014-09-29\", \"2014-09-30\", \"2014-10-01\", \"2014-10-02\", \"2014-10-03\", \"2014-10-06\", \"2014-10-07\", \"2014-10-08\", \"2014-10-09\", \"2014-10-10\", \"2014-10-13\", \"2014-10-14\", \"2014-10-15\", \"2014-10-16\", \"2014-10-17\", \"2014-10-20\", \"2014-10-21\", \"2014-10-22\", \"2014-10-23\", \"2014-10-24\", \"2014-10-27\", \"2014-10-28\", \"2014-10-29\", \"2014-10-30\", \"2014-10-31\", \"2014-11-03\", \"2014-11-04\", \"2014-11-05\", \"2014-11-06\", \"2014-11-07\", \"2014-11-10\", \"2014-11-11\", \"2014-11-12\", \"2014-11-13\", \"2014-11-14\", \"2014-11-17\", \"2014-11-18\", \"2014-11-19\", \"2014-11-20\", \"2014-11-21\", \"2014-11-24\", \"2014-11-25\", \"2014-11-26\", \"2014-11-27\", \"2014-11-28\", \"2014-12-01\", \"2014-12-02\", \"2014-12-03\", \"2014-12-04\", \"2014-12-05\", \"2014-12-08\", \"2014-12-09\", \"2014-12-10\", \"2014-12-11\", \"2014-12-12\", \"2014-12-15\", \"2014-12-16\", \"2014-12-17\", \"2014-12-18\", \"2014-12-19\", \"2014-12-22\", \"2014-12-23\", \"2014-12-24\", \"2014-12-29\", \"2014-12-30\", \"2015-01-02\", \"2015-01-05\", \"2015-01-06\", \"2015-01-07\", \"2015-01-08\", \"2015-01-09\", \"2015-01-12\", \"2015-01-13\", \"2015-01-14\", \"2015-01-15\", \"2015-01-16\", \"2015-01-19\", \"2015-01-20\", \"2015-01-21\", \"2015-01-22\", \"2015-01-23\", \"2015-01-26\", \"2015-01-27\", \"2015-01-28\", \"2015-01-29\", \"2015-01-30\", \"2015-02-02\", \"2015-02-03\", \"2015-02-04\", \"2015-02-05\", \"2015-02-06\", \"2015-02-09\", \"2015-02-10\", \"2015-02-11\", \"2015-02-12\", \"2015-02-13\", \"2015-02-16\", \"2015-02-17\", \"2015-02-18\", \"2015-02-20\", \"2015-02-23\", \"2015-02-24\", \"2015-02-25\", \"2015-02-26\", \"2015-02-27\", \"2015-03-02\", \"2015-03-03\", \"2015-03-04\", \"2015-03-05\", \"2015-03-06\", \"2015-03-09\", \"2015-03-10\", \"2015-03-11\", \"2015-03-12\", \"2015-03-13\", \"2015-03-16\", \"2015-03-17\", \"2015-03-18\", \"2015-03-19\", \"2015-03-20\", \"2015-03-23\", \"2015-03-24\", \"2015-03-25\", \"2015-03-26\", \"2015-03-27\", \"2015-03-30\", \"2015-03-31\", \"2015-04-01\", \"2015-04-02\", \"2015-04-06\", \"2015-04-07\", \"2015-04-08\", \"2015-04-09\", \"2015-04-10\", \"2015-04-13\", \"2015-04-14\", \"2015-04-15\", \"2015-04-16\", \"2015-04-17\", \"2015-04-20\", \"2015-04-21\", \"2015-04-22\", \"2015-04-23\", \"2015-04-24\", \"2015-04-27\", \"2015-04-28\", \"2015-04-29\", \"2015-04-30\", \"2015-05-04\", \"2015-05-05\", \"2015-05-06\", \"2015-05-07\", \"2015-05-08\", \"2015-05-11\", \"2015-05-12\", \"2015-05-13\", \"2015-05-15\", \"2015-05-18\", \"2015-05-19\", \"2015-05-20\", \"2015-05-21\", \"2015-05-22\", \"2015-05-25\", \"2015-05-26\", \"2015-05-27\", \"2015-05-28\", \"2015-05-29\", \"2015-06-01\", \"2015-06-03\", \"2015-06-04\", \"2015-06-05\", \"2015-06-08\", \"2015-06-09\", \"2015-06-10\", \"2015-06-11\", \"2015-06-12\", \"2015-06-15\", \"2015-06-16\", \"2015-06-17\", \"2015-06-18\", \"2015-06-19\", \"2015-06-22\", \"2015-06-23\", \"2015-06-24\", \"2015-06-25\", \"2015-06-26\", \"2015-06-29\", \"2015-06-30\", \"2015-07-01\", \"2015-07-02\", \"2015-07-03\", \"2015-07-06\", \"2015-07-07\", \"2015-07-08\", \"2015-07-09\", \"2015-07-10\", \"2015-07-13\", \"2015-07-14\", \"2015-07-15\", \"2015-07-22\", \"2015-07-23\", \"2015-07-24\", \"2015-07-27\", \"2015-07-28\", \"2015-07-29\", \"2015-07-30\", \"2015-07-31\", \"2015-08-03\", \"2015-08-04\", \"2015-08-05\", \"2015-08-06\", \"2015-08-07\", \"2015-08-10\", \"2015-08-11\", \"2015-08-12\", \"2015-08-13\", \"2015-08-14\", \"2015-08-18\", \"2015-08-19\", \"2015-08-20\", \"2015-08-21\", \"2015-08-24\", \"2015-08-25\", \"2015-08-26\", \"2015-08-27\", \"2015-08-28\", \"2015-08-31\", \"2015-09-01\", \"2015-09-02\", \"2015-09-03\", \"2015-09-04\", \"2015-09-07\", \"2015-09-08\", \"2015-09-09\", \"2015-09-10\", \"2015-09-11\", \"2015-09-14\", \"2015-09-15\", \"2015-09-16\", \"2015-09-17\", \"2015-09-18\", \"2015-09-21\", \"2015-09-22\", \"2015-09-23\", \"2015-09-25\", \"2015-09-28\", \"2015-09-29\", \"2015-09-30\", \"2015-10-01\", \"2015-10-02\", \"2015-10-05\", \"2015-10-06\", \"2015-10-07\", \"2015-10-08\", \"2015-10-09\", \"2015-10-12\", \"2015-10-13\", \"2015-10-15\", \"2015-10-16\", \"2015-10-19\", \"2015-10-20\", \"2015-10-21\", \"2015-10-22\", \"2015-10-23\", \"2015-10-26\", \"2015-10-27\", \"2015-10-28\", \"2015-10-29\", \"2015-10-30\", \"2015-11-02\", \"2015-11-03\", \"2015-11-04\", \"2015-11-05\", \"2015-11-06\", \"2015-11-09\", \"2015-11-10\", \"2015-11-11\", \"2015-11-12\", \"2015-11-13\", \"2015-11-16\", \"2015-11-17\", \"2015-11-18\", \"2015-11-19\", \"2015-11-20\", \"2015-11-23\", \"2015-11-24\", \"2015-11-25\", \"2015-11-26\", \"2015-11-27\", \"2015-11-30\", \"2015-12-01\", \"2015-12-02\", \"2015-12-03\", \"2015-12-04\", \"2015-12-07\", \"2015-12-08\", \"2015-12-09\", \"2015-12-10\", \"2015-12-11\", \"2015-12-14\", \"2015-12-15\", \"2015-12-16\", \"2015-12-17\", \"2015-12-18\", \"2015-12-21\", \"2015-12-22\", \"2015-12-23\", \"2015-12-28\", \"2015-12-29\", \"2015-12-30\", \"2016-01-04\", \"2016-01-05\", \"2016-01-06\", \"2016-01-07\", \"2016-01-08\", \"2016-01-11\", \"2016-01-12\", \"2016-01-13\", \"2016-01-14\", \"2016-01-15\", \"2016-01-18\", \"2016-01-19\", \"2016-01-20\", \"2016-01-21\", \"2016-01-22\", \"2016-01-25\", \"2016-01-26\", \"2016-01-27\", \"2016-01-28\", \"2016-01-29\", \"2016-02-01\", \"2016-02-02\", \"2016-02-03\", \"2016-02-04\", \"2016-02-05\", \"2016-02-09\", \"2016-02-10\", \"2016-02-11\", \"2016-02-12\", \"2016-02-15\", \"2016-02-16\", \"2016-02-17\", \"2016-02-18\", \"2016-02-19\", \"2016-02-22\", \"2016-02-23\", \"2016-02-24\", \"2016-02-25\", \"2016-02-26\", \"2016-02-29\", \"2016-03-01\", \"2016-03-02\", \"2016-03-03\", \"2016-03-04\", \"2016-03-07\", \"2016-03-08\", \"2016-03-10\", \"2016-03-15\", \"2016-03-16\", \"2016-03-17\", \"2016-03-18\", \"2016-03-21\", \"2016-03-22\", \"2016-03-23\", \"2016-03-24\", \"2016-03-28\", \"2016-03-29\", \"2016-03-30\", \"2016-03-31\", \"2016-04-01\", \"2016-04-04\", \"2016-04-05\", \"2016-04-06\", \"2016-04-07\", \"2016-04-08\", \"2016-04-12\", \"2016-04-19\", \"2016-04-20\", \"2016-04-21\", \"2016-04-22\", \"2016-04-25\", \"2016-04-26\", \"2016-04-27\", \"2016-04-28\", \"2016-04-29\", \"2016-05-02\", \"2016-05-03\", \"2016-05-04\", \"2016-05-09\", \"2016-05-10\", \"2016-05-11\", \"2016-05-12\", \"2016-05-13\", \"2016-05-16\", \"2016-05-17\", \"2016-05-18\", \"2016-05-19\", \"2016-05-20\", \"2016-05-23\", \"2016-05-24\", \"2016-05-25\", \"2016-05-26\", \"2016-05-27\", \"2016-05-30\", \"2016-05-31\", \"2016-06-01\", \"2016-06-02\", \"2016-06-03\", \"2016-06-06\", \"2016-06-07\", \"2016-06-08\", \"2016-06-09\", \"2016-06-10\", \"2016-06-13\", \"2016-06-14\", \"2016-06-15\", \"2016-06-16\", \"2016-06-17\", \"2016-06-20\", \"2016-06-21\", \"2016-06-22\", \"2016-06-23\", \"2016-06-24\", \"2016-06-27\", \"2016-06-28\", \"2016-06-29\", \"2016-06-30\", \"2016-07-01\", \"2016-07-11\", \"2016-07-12\", \"2016-07-13\", \"2016-07-14\", \"2016-07-15\", \"2016-07-18\", \"2016-07-19\", \"2016-07-20\", \"2016-07-21\", \"2016-07-22\", \"2016-07-25\", \"2016-07-26\", \"2016-07-27\", \"2016-07-28\", \"2016-07-29\", \"2016-08-01\", \"2016-08-02\", \"2016-08-03\", \"2016-08-04\", \"2016-08-05\", \"2016-08-08\", \"2016-08-09\", \"2016-08-10\", \"2016-08-11\", \"2016-08-12\", \"2016-08-15\", \"2016-08-16\", \"2016-08-18\", \"2016-08-19\", \"2016-08-22\", \"2016-08-23\", \"2016-08-24\", \"2016-08-25\", \"2016-08-26\", \"2016-08-29\", \"2016-08-30\", \"2016-08-31\", \"2016-09-01\", \"2016-09-02\", \"2016-09-05\", \"2016-09-06\", \"2016-09-07\", \"2016-09-08\", \"2016-09-09\", \"2016-09-13\", \"2016-09-14\", \"2016-09-15\", \"2016-09-16\", \"2016-09-19\", \"2016-09-20\", \"2016-09-21\", \"2016-09-22\", \"2016-09-23\", \"2016-09-26\", \"2016-09-27\", \"2016-09-28\", \"2016-09-29\", \"2016-09-30\", \"2016-10-03\", \"2016-10-04\", \"2016-10-05\", \"2016-10-06\", \"2016-10-07\", \"2016-10-10\", \"2016-10-11\", \"2016-10-12\", \"2016-10-13\", \"2016-10-14\", \"2016-10-17\", \"2016-10-18\", \"2016-10-19\", \"2016-10-20\", \"2016-10-21\", \"2016-10-24\", \"2016-10-25\", \"2016-10-26\", \"2016-10-27\", \"2016-10-28\", \"2016-10-31\", \"2016-11-01\", \"2016-11-02\", \"2016-11-03\", \"2016-11-04\", \"2016-11-07\", \"2016-11-08\", \"2016-11-09\", \"2016-11-10\", \"2016-11-11\", \"2016-11-14\", \"2016-11-15\", \"2016-11-16\", \"2016-11-17\", \"2016-11-18\", \"2016-11-21\", \"2016-11-22\", \"2016-11-23\", \"2016-11-24\", \"2016-11-25\", \"2016-11-28\", \"2016-11-29\", \"2016-11-30\", \"2016-12-01\", \"2016-12-02\", \"2016-12-05\", \"2016-12-06\", \"2016-12-07\", \"2016-12-08\", \"2016-12-09\", \"2016-12-13\", \"2016-12-14\", \"2016-12-15\", \"2016-12-16\", \"2016-12-19\", \"2016-12-20\", \"2016-12-21\", \"2016-12-22\", \"2016-12-23\", \"2016-12-27\", \"2016-12-28\", \"2016-12-29\", \"2016-12-30\", \"2017-01-02\", \"2017-01-03\", \"2017-01-04\", \"2017-01-05\", \"2017-01-06\", \"2017-01-09\", \"2017-01-10\", \"2017-01-11\", \"2017-01-12\", \"2017-01-13\", \"2017-01-16\", \"2017-01-17\", \"2017-01-18\", \"2017-01-19\", \"2017-01-20\", \"2017-01-23\", \"2017-01-24\", \"2017-01-25\", \"2017-01-26\", \"2017-01-27\", \"2017-01-30\", \"2017-01-31\", \"2017-02-01\", \"2017-02-02\", \"2017-02-03\", \"2017-02-06\", \"2017-02-07\", \"2017-02-08\", \"2017-02-09\", \"2017-02-10\", \"2017-02-13\", \"2017-02-14\", \"2017-02-15\", \"2017-02-16\", \"2017-02-17\", \"2017-02-20\", \"2017-02-21\", \"2017-02-22\", \"2017-02-23\", \"2017-02-24\", \"2017-02-27\", \"2017-02-28\", \"2017-03-01\", \"2017-03-02\", \"2017-03-03\", \"2017-03-06\", \"2017-03-07\", \"2017-03-08\", \"2017-03-09\", \"2017-03-10\", \"2017-03-13\", \"2017-03-14\", \"2017-03-15\", \"2017-03-16\", \"2017-03-17\", \"2017-03-20\", \"2017-03-21\", \"2017-03-22\", \"2017-03-23\", \"2017-03-24\", \"2017-03-27\", \"2017-03-29\", \"2017-03-30\", \"2017-03-31\", \"2017-04-03\", \"2017-04-04\", \"2017-04-05\", \"2017-04-06\", \"2017-04-07\", \"2017-04-10\", \"2017-04-11\", \"2017-04-12\", \"2017-04-13\", \"2017-04-17\", \"2017-04-18\", \"2017-04-19\", \"2017-04-20\", \"2017-04-21\", \"2017-04-25\", \"2017-04-26\", \"2017-04-27\", \"2017-04-28\", \"2017-05-02\", \"2017-05-03\", \"2017-05-04\", \"2017-05-05\", \"2017-05-08\", \"2017-05-09\", \"2017-05-10\", \"2017-05-12\", \"2017-05-15\", \"2017-05-16\", \"2017-05-17\", \"2017-05-18\", \"2017-05-19\", \"2017-05-22\", \"2017-05-23\", \"2017-05-24\", \"2017-05-26\", \"2017-05-29\", \"2017-05-30\", \"2017-05-31\", \"2017-06-01\", \"2017-06-02\", \"2017-06-05\", \"2017-06-06\", \"2017-06-07\", \"2017-06-08\", \"2017-06-09\", \"2017-06-12\", \"2017-06-13\", \"2017-06-14\", \"2017-06-15\", \"2017-06-16\", \"2017-06-19\", \"2017-06-20\", \"2017-06-21\", \"2017-06-22\", \"2017-06-23\", \"2017-06-26\", \"2017-06-27\", \"2017-06-28\", \"2017-06-29\", \"2017-06-30\", \"2017-07-03\", \"2017-07-04\", \"2017-07-05\", \"2017-07-06\", \"2017-07-07\", \"2017-07-10\", \"2017-07-11\", \"2017-07-12\", \"2017-07-13\", \"2017-07-14\", \"2017-07-17\", \"2017-07-18\", \"2017-07-19\", \"2017-07-20\", \"2017-07-21\", \"2017-07-24\", \"2017-07-25\", \"2017-07-26\", \"2017-07-27\", \"2017-07-28\", \"2017-07-31\", \"2017-08-01\", \"2017-08-02\", \"2017-08-03\", \"2017-08-04\", \"2017-08-07\", \"2017-08-08\", \"2017-08-09\", \"2017-08-10\", \"2017-08-11\", \"2017-08-14\", \"2017-08-15\", \"2017-08-16\", \"2017-08-17\", \"2017-08-18\", \"2017-08-21\", \"2017-08-22\", \"2017-08-23\", \"2017-08-24\", \"2017-08-25\", \"2017-08-28\", \"2017-08-29\", \"2017-08-30\", \"2017-08-31\", \"2017-09-01\", \"2017-09-04\", \"2017-09-05\", \"2017-09-06\", \"2017-09-07\", \"2017-09-08\", \"2017-09-11\", \"2017-09-12\", \"2017-09-13\", \"2017-09-14\", \"2017-09-15\", \"2017-09-18\", \"2017-09-19\", \"2017-09-20\", \"2017-09-21\", \"2017-09-22\", \"2017-09-25\", \"2017-09-26\", \"2017-09-27\", \"2017-09-28\", \"2017-09-29\", \"2017-10-02\", \"2017-10-03\", \"2017-10-04\", \"2017-10-05\", \"2017-10-06\", \"2017-10-09\", \"2017-10-10\", \"2017-10-11\", \"2017-10-12\", \"2017-10-13\", \"2017-10-16\", \"2017-10-17\", \"2017-10-18\", \"2017-10-19\", \"2017-10-20\", \"2017-10-23\", \"2017-10-24\", \"2017-10-25\", \"2017-10-26\", \"2017-10-27\", \"2017-10-30\", \"2017-10-31\", \"2017-11-01\", \"2017-11-02\", \"2017-11-03\", \"2017-11-06\", \"2017-11-07\", \"2017-11-08\", \"2017-11-09\", \"2017-11-10\", \"2017-11-13\", \"2017-11-14\", \"2017-11-15\", \"2017-11-16\", \"2017-11-17\", \"2017-11-20\", \"2017-11-21\", \"2017-11-22\", \"2017-11-23\", \"2017-11-24\", \"2017-11-27\", \"2017-11-28\", \"2017-11-29\", \"2017-11-30\", \"2017-12-01\", \"2017-12-04\", \"2017-12-05\", \"2017-12-06\", \"2017-12-07\", \"2017-12-08\", \"2017-12-11\", \"2017-12-12\", \"2017-12-13\", \"2017-12-14\", \"2017-12-15\", \"2017-12-18\", \"2017-12-19\", \"2017-12-20\", \"2017-12-21\", \"2017-12-22\", \"2017-12-25\", \"2017-12-26\", \"2017-12-27\", \"2017-12-28\", \"2017-12-29\", \"2018-01-01\", \"2018-01-02\", \"2018-01-03\", \"2018-01-04\", \"2018-01-05\", \"2018-01-08\", \"2018-01-09\", \"2018-01-10\", \"2018-01-11\", \"2018-01-12\", \"2018-01-15\", \"2018-01-16\", \"2018-01-17\", \"2018-01-18\", \"2018-01-19\", \"2018-01-22\", \"2018-01-23\", \"2018-01-24\", \"2018-01-25\", \"2018-01-26\", \"2018-01-29\", \"2018-01-30\", \"2018-01-31\", \"2018-02-01\", \"2018-02-02\", \"2018-02-05\", \"2018-02-06\", \"2018-02-07\", \"2018-02-08\", \"2018-02-09\", \"2018-02-12\", \"2018-02-13\", \"2018-02-14\", \"2018-02-15\", \"2018-02-16\", \"2018-02-19\", \"2018-02-20\", \"2018-02-21\", \"2018-02-22\", \"2018-02-23\", \"2018-02-26\", \"2018-02-27\", \"2018-02-28\", \"2018-03-01\", \"2018-03-02\", \"2018-03-05\", \"2018-03-06\", \"2018-03-07\", \"2018-03-08\", \"2018-03-09\", \"2018-03-12\", \"2018-03-13\", \"2018-03-14\", \"2018-03-15\", \"2018-03-16\", \"2018-03-19\", \"2018-03-20\", \"2018-03-21\", \"2018-03-22\", \"2018-03-23\", \"2018-03-26\", \"2018-03-27\", \"2018-03-28\", \"2018-03-29\", \"2018-03-30\", \"2018-04-02\", \"2018-04-03\", \"2018-04-04\", \"2018-04-05\", \"2018-04-06\", \"2018-04-09\", \"2018-04-10\", \"2018-04-11\", \"2018-04-12\", \"2018-04-13\", \"2018-04-16\", \"2018-04-17\", \"2018-04-18\", \"2018-04-19\", \"2018-04-20\", \"2018-04-23\", \"2018-04-24\", \"2018-04-25\", \"2018-04-26\", \"2018-04-27\", \"2018-04-30\", \"2018-05-01\", \"2018-05-02\", \"2018-05-03\", \"2018-05-04\", \"2018-05-07\", \"2018-05-08\", \"2018-05-09\", \"2018-05-10\", \"2018-05-11\", \"2018-05-14\", \"2018-05-15\", \"2018-05-16\", \"2018-05-17\", \"2018-05-18\", \"2018-05-21\", \"2018-05-22\", \"2018-05-23\", \"2018-05-24\", \"2018-05-25\", \"2018-05-28\", \"2018-05-29\", \"2018-05-30\", \"2018-05-31\", \"2018-06-01\", \"2018-06-04\", \"2018-06-05\", \"2018-06-06\", \"2018-06-07\", \"2018-06-08\", \"2018-06-11\", \"2018-06-12\", \"2018-06-13\", \"2018-06-14\", \"2018-06-15\", \"2018-06-18\", \"2018-06-19\", \"2018-06-20\", \"2018-06-21\", \"2018-06-22\", \"2018-06-25\", \"2018-06-26\", \"2018-06-27\", \"2018-06-28\", \"2018-06-29\", \"2018-07-02\", \"2018-07-03\", \"2018-07-04\", \"2018-07-05\", \"2018-07-06\", \"2018-07-09\", \"2018-07-10\", \"2018-07-11\", \"2018-07-12\", \"2018-07-13\", \"2018-07-16\", \"2018-07-17\", \"2018-07-18\", \"2018-07-19\", \"2018-07-20\", \"2018-07-23\", \"2018-07-24\", \"2018-07-25\", \"2018-07-26\", \"2018-07-27\", \"2018-07-30\", \"2018-07-31\", \"2018-08-01\", \"2018-08-02\", \"2018-08-03\", \"2018-08-06\", \"2018-08-07\", \"2018-08-08\", \"2018-08-09\", \"2018-08-10\", \"2018-08-13\", \"2018-08-14\", \"2018-08-15\", \"2018-08-16\", \"2018-08-17\", \"2018-08-20\", \"2018-08-21\", \"2018-08-22\", \"2018-08-23\", \"2018-08-24\", \"2018-08-27\", \"2018-08-28\", \"2018-08-29\", \"2018-08-30\", \"2018-08-31\", \"2018-09-03\", \"2018-09-04\", \"2018-09-05\", \"2018-09-06\", \"2018-09-07\", \"2018-09-10\", \"2018-09-11\", \"2018-09-12\", \"2018-09-13\", \"2018-09-14\", \"2018-09-17\", \"2018-09-18\", \"2018-09-19\", \"2018-09-20\", \"2018-09-21\", \"2018-09-24\", \"2018-09-25\", \"2018-09-26\", \"2018-09-27\", \"2018-09-28\", \"2018-10-01\", \"2018-10-02\", \"2018-10-03\", \"2018-10-04\", \"2018-10-05\", \"2018-10-08\", \"2018-10-09\", \"2018-10-10\", \"2018-10-11\", \"2018-10-12\", \"2018-10-15\", \"2018-10-16\", \"2018-10-17\", \"2018-10-18\", \"2018-10-19\", \"2018-10-22\", \"2018-10-23\", \"2018-10-24\", \"2018-10-25\", \"2018-10-26\", \"2018-10-29\", \"2018-10-30\", \"2018-10-31\", \"2018-11-01\", \"2018-11-02\", \"2018-11-05\", \"2018-11-06\", \"2018-11-07\", \"2018-11-08\", \"2018-11-09\", \"2018-11-12\", \"2018-11-13\", \"2018-11-14\", \"2018-11-15\", \"2018-11-16\", \"2018-11-19\", \"2018-11-20\", \"2018-11-21\", \"2018-11-22\", \"2018-11-23\", \"2018-11-26\", \"2018-11-27\", \"2018-11-28\", \"2018-11-29\", \"2018-11-30\", \"2018-12-03\", \"2018-12-04\", \"2018-12-05\", \"2018-12-06\", \"2018-12-07\", \"2018-12-10\", \"2018-12-11\", \"2018-12-12\", \"2018-12-13\", \"2018-12-14\", \"2018-12-17\", \"2018-12-18\", \"2018-12-19\", \"2018-12-20\", \"2018-12-21\", \"2018-12-24\", \"2018-12-25\", \"2018-12-26\", \"2018-12-27\", \"2018-12-28\", \"2018-12-31\", \"2019-01-01\", \"2019-01-02\", \"2019-01-03\", \"2019-01-04\", \"2019-01-07\", \"2019-01-08\", \"2019-01-09\", \"2019-01-10\", \"2019-01-11\", \"2019-01-14\", \"2019-01-15\", \"2019-01-16\", \"2019-01-17\", \"2019-01-18\", \"2019-01-21\", \"2019-01-22\", \"2019-01-23\", \"2019-01-24\", \"2019-01-25\", \"2019-01-28\", \"2019-01-29\", \"2019-01-30\", \"2019-01-31\", \"2019-02-01\", \"2019-02-04\", \"2019-02-05\", \"2019-02-06\", \"2019-02-07\", \"2019-02-08\", \"2019-02-11\", \"2019-02-12\", \"2019-02-13\", \"2019-02-14\", \"2019-02-15\", \"2019-02-18\", \"2019-02-19\", \"2019-02-20\", \"2019-02-21\", \"2019-02-22\", \"2019-02-25\", \"2019-02-26\", \"2019-02-27\", \"2019-02-28\", \"2019-03-01\", \"2019-03-04\", \"2019-03-05\", \"2019-03-06\", \"2019-03-07\", \"2019-03-08\", \"2019-03-11\", \"2019-03-12\", \"2019-03-13\", \"2019-03-14\", \"2019-03-15\", \"2019-03-18\", \"2019-03-19\", \"2019-03-20\", \"2019-03-21\", \"2019-03-22\", \"2019-03-25\", \"2019-03-26\", \"2019-03-27\", \"2019-03-28\", \"2019-03-29\", \"2019-04-01\", \"2019-04-02\", \"2019-04-03\", \"2019-04-04\", \"2019-04-05\", \"2019-04-08\", \"2019-04-09\", \"2019-04-10\", \"2019-04-11\", \"2019-04-12\", \"2019-04-15\", \"2019-04-16\", \"2019-04-17\", \"2019-04-18\", \"2019-04-19\", \"2019-04-22\", \"2019-04-23\", \"2019-04-24\", \"2019-04-25\", \"2019-04-26\", \"2019-04-29\", \"2019-04-30\", \"2019-05-01\", \"2019-05-02\", \"2019-05-03\", \"2019-05-06\", \"2019-05-07\", \"2019-05-08\", \"2019-05-09\", \"2019-05-10\", \"2019-05-13\", \"2019-05-14\", \"2019-05-15\", \"2019-05-16\", \"2019-05-17\", \"2019-05-20\", \"2019-05-21\", \"2019-05-22\", \"2019-05-23\", \"2019-05-24\", \"2019-05-27\", \"2019-05-28\", \"2019-05-29\", \"2019-05-30\", \"2019-05-31\", \"2019-06-03\", \"2019-06-04\", \"2019-06-05\", \"2019-06-06\", \"2019-06-07\", \"2019-06-10\", \"2019-06-11\", \"2019-06-12\", \"2019-06-13\", \"2019-06-14\", \"2019-06-17\", \"2019-06-18\", \"2019-06-19\", \"2019-06-20\", \"2019-06-21\", \"2019-06-24\", \"2019-06-25\", \"2019-06-26\", \"2019-06-27\", \"2019-06-28\", \"2019-07-01\", \"2019-07-02\", \"2019-07-03\", \"2019-07-04\", \"2019-07-05\", \"2019-07-08\", \"2019-07-09\", \"2019-07-10\", \"2019-07-11\", \"2019-07-12\", \"2019-07-15\", \"2019-07-16\", \"2019-07-17\", \"2019-07-18\", \"2019-07-19\", \"2019-07-22\", \"2019-07-23\", \"2019-07-24\", \"2019-07-25\", \"2019-07-26\", \"2019-07-29\", \"2019-07-30\", \"2019-07-31\", \"2019-08-01\", \"2019-08-02\", \"2019-08-05\", \"2019-08-06\", \"2019-08-07\", \"2019-08-08\", \"2019-08-09\", \"2019-08-12\", \"2019-08-13\", \"2019-08-14\", \"2019-08-15\", \"2019-08-16\", \"2019-08-20\", \"2019-08-21\", \"2019-08-22\", \"2019-08-23\", \"2019-08-26\", \"2019-08-27\", \"2019-08-28\", \"2019-08-29\", \"2019-08-30\", \"2019-09-02\", \"2019-09-03\", \"2019-09-04\", \"2019-09-05\", \"2019-09-06\", \"2019-09-09\", \"2019-09-10\", \"2019-09-11\", \"2019-09-12\", \"2019-09-13\", \"2019-09-16\", \"2019-09-17\", \"2019-09-18\", \"2019-09-19\", \"2019-09-20\", \"2019-09-23\", \"2019-09-24\", \"2019-09-25\", \"2019-09-26\", \"2019-09-27\", \"2019-09-30\", \"2019-10-01\", \"2019-10-02\", \"2019-10-03\", \"2019-10-04\", \"2019-10-07\", \"2019-10-08\", \"2019-10-09\", \"2019-10-10\", \"2019-10-11\", \"2019-10-14\", \"2019-10-15\", \"2019-10-16\", \"2019-10-17\", \"2019-10-18\", \"2019-10-21\", \"2019-10-22\", \"2019-10-23\", \"2019-10-24\", \"2019-10-25\", \"2019-10-28\", \"2019-10-29\", \"2019-10-30\", \"2019-10-31\", \"2019-11-01\", \"2019-11-04\", \"2019-11-05\", \"2019-11-06\", \"2019-11-07\", \"2019-11-08\", \"2019-11-11\", \"2019-11-12\", \"2019-11-13\", \"2019-11-14\", \"2019-11-15\", \"2019-11-19\", \"2019-11-20\", \"2019-11-21\", \"2019-11-22\", \"2019-11-25\", \"2019-11-26\", \"2019-11-27\", \"2019-11-28\", \"2019-11-29\", \"2019-12-02\", \"2019-12-03\", \"2019-12-04\", \"2019-12-05\", \"2019-12-06\", \"2019-12-09\", \"2019-12-10\", \"2019-12-11\", \"2019-12-12\", \"2019-12-13\", \"2019-12-16\", \"2019-12-17\", \"2019-12-18\", \"2019-12-19\", \"2019-12-20\", \"2019-12-23\", \"2019-12-26\", \"2019-12-27\", \"2019-12-30\", \"2020-01-02\", \"2020-01-03\"]}],\n",
              "                        {\"template\": {\"data\": {\"bar\": [{\"error_x\": {\"color\": \"#2a3f5f\"}, \"error_y\": {\"color\": \"#2a3f5f\"}, \"marker\": {\"line\": {\"color\": \"#E5ECF6\", \"width\": 0.5}}, \"type\": \"bar\"}], \"barpolar\": [{\"marker\": {\"line\": {\"color\": \"#E5ECF6\", \"width\": 0.5}}, \"type\": \"barpolar\"}], \"carpet\": [{\"aaxis\": {\"endlinecolor\": \"#2a3f5f\", \"gridcolor\": \"white\", \"linecolor\": \"white\", \"minorgridcolor\": \"white\", \"startlinecolor\": \"#2a3f5f\"}, \"baxis\": {\"endlinecolor\": \"#2a3f5f\", \"gridcolor\": \"white\", \"linecolor\": \"white\", \"minorgridcolor\": \"white\", \"startlinecolor\": \"#2a3f5f\"}, \"type\": \"carpet\"}], \"choropleth\": [{\"colorbar\": {\"outlinewidth\": 0, \"ticks\": \"\"}, \"type\": \"choropleth\"}], \"contour\": [{\"colorbar\": {\"outlinewidth\": 0, \"ticks\": \"\"}, \"colorscale\": [[0.0, \"#0d0887\"], [0.1111111111111111, \"#46039f\"], [0.2222222222222222, \"#7201a8\"], [0.3333333333333333, \"#9c179e\"], [0.4444444444444444, \"#bd3786\"], [0.5555555555555556, \"#d8576b\"], [0.6666666666666666, \"#ed7953\"], [0.7777777777777778, \"#fb9f3a\"], [0.8888888888888888, \"#fdca26\"], [1.0, \"#f0f921\"]], \"type\": \"contour\"}], \"contourcarpet\": [{\"colorbar\": {\"outlinewidth\": 0, \"ticks\": \"\"}, \"type\": \"contourcarpet\"}], \"heatmap\": [{\"colorbar\": {\"outlinewidth\": 0, \"ticks\": \"\"}, \"colorscale\": [[0.0, \"#0d0887\"], [0.1111111111111111, \"#46039f\"], [0.2222222222222222, \"#7201a8\"], [0.3333333333333333, \"#9c179e\"], [0.4444444444444444, \"#bd3786\"], [0.5555555555555556, \"#d8576b\"], [0.6666666666666666, \"#ed7953\"], [0.7777777777777778, \"#fb9f3a\"], [0.8888888888888888, \"#fdca26\"], [1.0, \"#f0f921\"]], \"type\": \"heatmap\"}], \"heatmapgl\": [{\"colorbar\": {\"outlinewidth\": 0, \"ticks\": \"\"}, \"colorscale\": [[0.0, \"#0d0887\"], [0.1111111111111111, \"#46039f\"], [0.2222222222222222, \"#7201a8\"], [0.3333333333333333, \"#9c179e\"], [0.4444444444444444, \"#bd3786\"], [0.5555555555555556, \"#d8576b\"], [0.6666666666666666, \"#ed7953\"], [0.7777777777777778, \"#fb9f3a\"], [0.8888888888888888, \"#fdca26\"], [1.0, \"#f0f921\"]], \"type\": \"heatmapgl\"}], \"histogram\": [{\"marker\": {\"colorbar\": {\"outlinewidth\": 0, \"ticks\": \"\"}}, \"type\": \"histogram\"}], \"histogram2d\": [{\"colorbar\": {\"outlinewidth\": 0, \"ticks\": \"\"}, \"colorscale\": [[0.0, \"#0d0887\"], [0.1111111111111111, \"#46039f\"], [0.2222222222222222, \"#7201a8\"], [0.3333333333333333, \"#9c179e\"], [0.4444444444444444, \"#bd3786\"], [0.5555555555555556, \"#d8576b\"], [0.6666666666666666, \"#ed7953\"], [0.7777777777777778, \"#fb9f3a\"], [0.8888888888888888, \"#fdca26\"], [1.0, \"#f0f921\"]], \"type\": \"histogram2d\"}], \"histogram2dcontour\": [{\"colorbar\": {\"outlinewidth\": 0, \"ticks\": \"\"}, \"colorscale\": [[0.0, \"#0d0887\"], [0.1111111111111111, \"#46039f\"], [0.2222222222222222, \"#7201a8\"], [0.3333333333333333, \"#9c179e\"], [0.4444444444444444, \"#bd3786\"], [0.5555555555555556, \"#d8576b\"], [0.6666666666666666, \"#ed7953\"], [0.7777777777777778, \"#fb9f3a\"], [0.8888888888888888, \"#fdca26\"], [1.0, \"#f0f921\"]], \"type\": \"histogram2dcontour\"}], \"mesh3d\": [{\"colorbar\": {\"outlinewidth\": 0, \"ticks\": \"\"}, \"type\": \"mesh3d\"}], \"parcoords\": [{\"line\": {\"colorbar\": {\"outlinewidth\": 0, \"ticks\": \"\"}}, \"type\": \"parcoords\"}], \"pie\": [{\"automargin\": true, \"type\": \"pie\"}], \"scatter\": [{\"marker\": {\"colorbar\": {\"outlinewidth\": 0, \"ticks\": \"\"}}, \"type\": \"scatter\"}], \"scatter3d\": [{\"line\": {\"colorbar\": {\"outlinewidth\": 0, \"ticks\": \"\"}}, \"marker\": {\"colorbar\": {\"outlinewidth\": 0, \"ticks\": \"\"}}, \"type\": \"scatter3d\"}], \"scattercarpet\": [{\"marker\": {\"colorbar\": {\"outlinewidth\": 0, \"ticks\": \"\"}}, \"type\": \"scattercarpet\"}], \"scattergeo\": [{\"marker\": {\"colorbar\": {\"outlinewidth\": 0, \"ticks\": \"\"}}, \"type\": \"scattergeo\"}], \"scattergl\": [{\"marker\": {\"colorbar\": {\"outlinewidth\": 0, \"ticks\": \"\"}}, \"type\": \"scattergl\"}], \"scattermapbox\": [{\"marker\": {\"colorbar\": {\"outlinewidth\": 0, \"ticks\": \"\"}}, \"type\": \"scattermapbox\"}], \"scatterpolar\": [{\"marker\": {\"colorbar\": {\"outlinewidth\": 0, \"ticks\": \"\"}}, \"type\": \"scatterpolar\"}], \"scatterpolargl\": [{\"marker\": {\"colorbar\": {\"outlinewidth\": 0, \"ticks\": \"\"}}, \"type\": \"scatterpolargl\"}], \"scatterternary\": [{\"marker\": {\"colorbar\": {\"outlinewidth\": 0, \"ticks\": \"\"}}, \"type\": \"scatterternary\"}], \"surface\": [{\"colorbar\": {\"outlinewidth\": 0, \"ticks\": \"\"}, \"colorscale\": [[0.0, \"#0d0887\"], [0.1111111111111111, \"#46039f\"], [0.2222222222222222, \"#7201a8\"], [0.3333333333333333, \"#9c179e\"], [0.4444444444444444, \"#bd3786\"], [0.5555555555555556, \"#d8576b\"], [0.6666666666666666, \"#ed7953\"], [0.7777777777777778, \"#fb9f3a\"], [0.8888888888888888, \"#fdca26\"], [1.0, \"#f0f921\"]], \"type\": \"surface\"}], \"table\": [{\"cells\": {\"fill\": {\"color\": \"#EBF0F8\"}, \"line\": {\"color\": \"white\"}}, \"header\": {\"fill\": {\"color\": \"#C8D4E3\"}, \"line\": {\"color\": \"white\"}}, \"type\": \"table\"}]}, \"layout\": {\"annotationdefaults\": {\"arrowcolor\": \"#2a3f5f\", \"arrowhead\": 0, \"arrowwidth\": 1}, \"coloraxis\": {\"colorbar\": {\"outlinewidth\": 0, \"ticks\": \"\"}}, \"colorscale\": {\"diverging\": [[0, \"#8e0152\"], [0.1, \"#c51b7d\"], [0.2, \"#de77ae\"], [0.3, \"#f1b6da\"], [0.4, \"#fde0ef\"], [0.5, \"#f7f7f7\"], [0.6, \"#e6f5d0\"], [0.7, \"#b8e186\"], [0.8, \"#7fbc41\"], [0.9, \"#4d9221\"], [1, \"#276419\"]], \"sequential\": [[0.0, \"#0d0887\"], [0.1111111111111111, \"#46039f\"], [0.2222222222222222, \"#7201a8\"], [0.3333333333333333, \"#9c179e\"], [0.4444444444444444, \"#bd3786\"], [0.5555555555555556, \"#d8576b\"], [0.6666666666666666, \"#ed7953\"], [0.7777777777777778, \"#fb9f3a\"], [0.8888888888888888, \"#fdca26\"], [1.0, \"#f0f921\"]], \"sequentialminus\": [[0.0, \"#0d0887\"], [0.1111111111111111, \"#46039f\"], [0.2222222222222222, \"#7201a8\"], [0.3333333333333333, \"#9c179e\"], [0.4444444444444444, \"#bd3786\"], [0.5555555555555556, \"#d8576b\"], [0.6666666666666666, \"#ed7953\"], [0.7777777777777778, \"#fb9f3a\"], [0.8888888888888888, \"#fdca26\"], [1.0, \"#f0f921\"]]}, \"colorway\": [\"#636efa\", \"#EF553B\", \"#00cc96\", \"#ab63fa\", \"#FFA15A\", \"#19d3f3\", \"#FF6692\", \"#B6E880\", \"#FF97FF\", \"#FECB52\"], \"font\": {\"color\": \"#2a3f5f\"}, \"geo\": {\"bgcolor\": \"white\", \"lakecolor\": \"white\", \"landcolor\": \"#E5ECF6\", \"showlakes\": true, \"showland\": true, \"subunitcolor\": \"white\"}, \"hoverlabel\": {\"align\": \"left\"}, \"hovermode\": \"closest\", \"mapbox\": {\"style\": \"light\"}, \"paper_bgcolor\": \"white\", \"plot_bgcolor\": \"#E5ECF6\", \"polar\": {\"angularaxis\": {\"gridcolor\": \"white\", \"linecolor\": \"white\", \"ticks\": \"\"}, \"bgcolor\": \"#E5ECF6\", \"radialaxis\": {\"gridcolor\": \"white\", \"linecolor\": \"white\", \"ticks\": \"\"}}, \"scene\": {\"xaxis\": {\"backgroundcolor\": \"#E5ECF6\", \"gridcolor\": \"white\", \"gridwidth\": 2, \"linecolor\": \"white\", \"showbackground\": true, \"ticks\": \"\", \"zerolinecolor\": \"white\"}, \"yaxis\": {\"backgroundcolor\": \"#E5ECF6\", \"gridcolor\": \"white\", \"gridwidth\": 2, \"linecolor\": \"white\", \"showbackground\": true, \"ticks\": \"\", \"zerolinecolor\": \"white\"}, \"zaxis\": {\"backgroundcolor\": \"#E5ECF6\", \"gridcolor\": \"white\", \"gridwidth\": 2, \"linecolor\": \"white\", \"showbackground\": true, \"ticks\": \"\", \"zerolinecolor\": \"white\"}}, \"shapedefaults\": {\"line\": {\"color\": \"#2a3f5f\"}}, \"ternary\": {\"aaxis\": {\"gridcolor\": \"white\", \"linecolor\": \"white\", \"ticks\": \"\"}, \"baxis\": {\"gridcolor\": \"white\", \"linecolor\": \"white\", \"ticks\": \"\"}, \"bgcolor\": \"#E5ECF6\", \"caxis\": {\"gridcolor\": \"white\", \"linecolor\": \"white\", \"ticks\": \"\"}}, \"title\": {\"x\": 0.05}, \"xaxis\": {\"automargin\": true, \"gridcolor\": \"white\", \"linecolor\": \"white\", \"ticks\": \"\", \"title\": {\"standoff\": 15}, \"zerolinecolor\": \"white\", \"zerolinewidth\": 2}, \"yaxis\": {\"automargin\": true, \"gridcolor\": \"white\", \"linecolor\": \"white\", \"ticks\": \"\", \"title\": {\"standoff\": 15}, \"zerolinecolor\": \"white\", \"zerolinewidth\": 2}}}},\n",
              "                        {\"responsive\": true}\n",
              "                    ).then(function(){\n",
              "                            \n",
              "var gd = document.getElementById('751acce4-eb20-40a0-8ecd-326f575b93bd');\n",
              "var x = new MutationObserver(function (mutations, observer) {{\n",
              "        var display = window.getComputedStyle(gd).display;\n",
              "        if (!display || display === 'none') {{\n",
              "            console.log([gd, 'removed!']);\n",
              "            Plotly.purge(gd);\n",
              "            observer.disconnect();\n",
              "        }}\n",
              "}});\n",
              "\n",
              "// Listen for the removal of the full notebook cells\n",
              "var notebookContainer = gd.closest('#notebook-container');\n",
              "if (notebookContainer) {{\n",
              "    x.observe(notebookContainer, {childList: true});\n",
              "}}\n",
              "\n",
              "// Listen for the clearing of the current output cell\n",
              "var outputEl = gd.closest('.output');\n",
              "if (outputEl) {{\n",
              "    x.observe(outputEl, {childList: true});\n",
              "}}\n",
              "\n",
              "                        })\n",
              "                };\n",
              "                \n",
              "            </script>\n",
              "        </div>\n",
              "</body>\n",
              "</html>"
            ]
          },
          "metadata": {
            "tags": []
          }
        }
      ]
    },
    {
      "cell_type": "markdown",
      "metadata": {
        "id": "cPFGPnl01dQD",
        "colab_type": "text"
      },
      "source": [
        "## Melakukan Normalisasi data\n",
        "Normalisasi data dilakukan untuk memudahkan melakukan prediksi. Normalisasi yang digunakan berupa MinMaxScaller."
      ]
    },
    {
      "cell_type": "code",
      "metadata": {
        "id": "C90dpZAVctoE",
        "colab_type": "code",
        "colab": {}
      },
      "source": [
        "# Melakukan Normalisasi untuk Data Latih dan Data Uji\n",
        "x = df_train.loc[:,train_cols].values\n",
        "min_max_scaler = MinMaxScaler()\n",
        "x_train = min_max_scaler.fit_transform(x)\n",
        "x_test = min_max_scaler.transform(df_test.loc[:,train_cols])"
      ],
      "execution_count": 0,
      "outputs": []
    },
    {
      "cell_type": "code",
      "metadata": {
        "id": "53p3lSPnTu72",
        "colab_type": "code",
        "colab": {}
      },
      "source": [
        "# Melakukan Normalisasi untuk Data Latih dan Data Uji\n",
        "x2 = df2_train.loc[:,train_cols].values\n",
        "min_max_scaler = MinMaxScaler()\n",
        "x2_train = min_max_scaler.fit_transform(x2)\n",
        "x2_test = min_max_scaler.transform(df2_test.loc[:,train_cols])"
      ],
      "execution_count": 0,
      "outputs": []
    },
    {
      "cell_type": "code",
      "metadata": {
        "id": "WStzTUJJT66G",
        "colab_type": "code",
        "colab": {}
      },
      "source": [
        "# Melakukan Normalisasi untuk Data Latih dan Data Uji\n",
        "x3 = df3_train.loc[:,train_cols].values\n",
        "min_max_scaler = MinMaxScaler()\n",
        "x3_train = min_max_scaler.fit_transform(x3)\n",
        "x3_test = min_max_scaler.transform(df3_test.loc[:,train_cols])"
      ],
      "execution_count": 0,
      "outputs": []
    },
    {
      "cell_type": "markdown",
      "metadata": {
        "id": "v3-6HiTZ2Cbh",
        "colab_type": "text"
      },
      "source": [
        "## Menghapus data yang tidak diperlukan\n"
      ]
    },
    {
      "cell_type": "code",
      "metadata": {
        "id": "OkvHzjZaHqi4",
        "colab_type": "code",
        "outputId": "efb46c08-a7b5-4d91-8a83-0b3fa4254976",
        "colab": {
          "base_uri": "https://localhost:8080/",
          "height": 70
        }
      },
      "source": [
        "print(\"Menghapus dataframe yang tidak terpakai . . .\")\n",
        "apus  = (sys.getsizeof(df)+sys.getsizeof(df_train)+sys.getsizeof(df_test))//1024\n",
        "print (\"Dataframe terhapus sebesar \", apus ,\" KB\")\n",
        "del df_test\n",
        "del df_train\n",
        "del x\n",
        "print (\"Proses penghapusan selesai\")"
      ],
      "execution_count": 16,
      "outputs": [
        {
          "output_type": "stream",
          "text": [
            "Menghapus dataframe yang tidak terpakai . . .\n",
            "Dataframe terhapus sebesar  657  KB\n",
            "Proses penghapusan selesai\n"
          ],
          "name": "stdout"
        }
      ]
    },
    {
      "cell_type": "code",
      "metadata": {
        "id": "-ehZj6eNUIml",
        "colab_type": "code",
        "outputId": "d7230636-216b-489f-f9a6-e47c14c529b1",
        "colab": {
          "base_uri": "https://localhost:8080/",
          "height": 70
        }
      },
      "source": [
        "print(\"Menghapus dataframe yang tidak terpakai . . .\")\n",
        "apus  = (sys.getsizeof(df2)+sys.getsizeof(df2_train)+sys.getsizeof(df2_test))//1024\n",
        "print (\"Dataframe terhapus sebesar \", apus ,\" KB\")\n",
        "del df2_test\n",
        "del df2_train\n",
        "del x2\n",
        "print (\"Proses penghapusan selesai\")"
      ],
      "execution_count": 17,
      "outputs": [
        {
          "output_type": "stream",
          "text": [
            "Menghapus dataframe yang tidak terpakai . . .\n",
            "Dataframe terhapus sebesar  328  KB\n",
            "Proses penghapusan selesai\n"
          ],
          "name": "stdout"
        }
      ]
    },
    {
      "cell_type": "code",
      "metadata": {
        "id": "YuGz3XbyUPSs",
        "colab_type": "code",
        "outputId": "98f6cfa3-8ccc-46e6-cffe-94c8bcee876b",
        "colab": {
          "base_uri": "https://localhost:8080/",
          "height": 70
        }
      },
      "source": [
        "print(\"Menghapus dataframe yang tidak terpakai . . .\")\n",
        "apus  = (sys.getsizeof(df3)+sys.getsizeof(df3_train)+sys.getsizeof(df3_test))//1024\n",
        "print (\"Dataframe terhapus sebesar \", apus ,\" KB\")\n",
        "del df3_test\n",
        "del df3_train\n",
        "del x3\n",
        "print (\"Proses penghapusan selesai\")"
      ],
      "execution_count": 18,
      "outputs": [
        {
          "output_type": "stream",
          "text": [
            "Menghapus dataframe yang tidak terpakai . . .\n",
            "Dataframe terhapus sebesar  328  KB\n",
            "Proses penghapusan selesai\n"
          ],
          "name": "stdout"
        }
      ]
    },
    {
      "cell_type": "markdown",
      "metadata": {
        "id": "TQvLiQRH2P89",
        "colab_type": "text"
      },
      "source": [
        "# Proses Data Generator untuk Model LSTM\n",
        "Proses ini terdiri dari beberapa step, yaitu :\n",
        "1. Memangkas dataset\n",
        "2. Membuat time series\n"
      ]
    },
    {
      "cell_type": "markdown",
      "metadata": {
        "id": "pSQUo8vo2nEO",
        "colab_type": "text"
      },
      "source": [
        "## Memangkas Dataset\n",
        "Pemangkasan ini bertujuan untuk membuang data yang tidak diperlukan"
      ]
    },
    {
      "cell_type": "code",
      "metadata": {
        "id": "_6-VV30kblhC",
        "colab_type": "code",
        "colab": {}
      },
      "source": [
        "def print_time(text, stime):\n",
        "    seconds = (time.time()-stime)\n",
        "    print(text, seconds//60,\"menit : \",np.round(seconds%60),\"detik\")"
      ],
      "execution_count": 0,
      "outputs": []
    },
    {
      "cell_type": "code",
      "metadata": {
        "id": "-os8_Jv7boAk",
        "colab_type": "code",
        "colab": {}
      },
      "source": [
        "def trim_dataset(mat,batch_size):\n",
        "    no_of_rows_drop = mat.shape[0]%batch_size\n",
        "    if no_of_rows_drop > 0:\n",
        "        return mat[:-no_of_rows_drop]\n",
        "    else:\n",
        "        return mat"
      ],
      "execution_count": 0,
      "outputs": []
    },
    {
      "cell_type": "markdown",
      "metadata": {
        "id": "W0oDR0Q022IB",
        "colab_type": "text"
      },
      "source": [
        "## Membuat Time Series\n",
        "Hal ini dilakukan untuk mengubah dimensi dari dataset, yang semula 2 dimensi, menjadi 3 dimensi. Dimensi tersebut adalah input data, jumlah data yang akan dijadikan ukuran untuk back-forward dan feature yang digunakan"
      ]
    },
    {
      "cell_type": "code",
      "metadata": {
        "id": "G5jq8sQVbp-k",
        "colab_type": "code",
        "colab": {}
      },
      "source": [
        "def build_timeseries(mat, y_col_index):\n",
        "    dim_0 = mat.shape[0] - TIME_STEPS\n",
        "    dim_1 = mat.shape[1]\n",
        "    x = np.zeros((dim_0, TIME_STEPS, dim_1))\n",
        "    y = np.zeros((dim_0,))\n",
        "    print(\"dim_0\",dim_0)\n",
        "    for i in tqdm_notebook(range(dim_0)):\n",
        "        x[i] = mat[i:TIME_STEPS+i]\n",
        "        y[i] = mat[TIME_STEPS+i, y_col_index]\n",
        "    print(\"Ukuran time-series untuk Input dan Output : \",x.shape,y.shape)\n",
        "    return x, y"
      ],
      "execution_count": 0,
      "outputs": []
    },
    {
      "cell_type": "code",
      "metadata": {
        "id": "bRSdIYeBc5hm",
        "colab_type": "code",
        "outputId": "801a9757-7b74-4e8c-f4de-4acaa6c78806",
        "colab": {
          "base_uri": "https://localhost:8080/",
          "height": 138,
          "referenced_widgets": [
            "48e4af66e9e845e6996378b1b7671b30",
            "cb7e0a179b574603948338dfe1dcc24f",
            "1b46f3e32e7f4fcc99dc3d637d981b47",
            "cd9b043a36d24cd68b5c718951362d04",
            "9db8c0cf35654465a7f480cf7854705c",
            "931888c21fa541f28bcc9f19a2c26308",
            "d54c717d95144edda51aed2433ce966f",
            "176b021a10c640e7b5da0e901195d790"
          ]
        }
      },
      "source": [
        "# Pengecekan data yang masih null\n",
        "print(\"Apa masih ada data yang berisikan null?\",np.isnan(x_train).any(), np.isnan(x_train).any())\n",
        "x_t, y_t = build_timeseries(x_train, 3)\n",
        "x_t = trim_dataset(x_t, BATCH_SIZE)\n",
        "y_t = trim_dataset(y_t, BATCH_SIZE)\n",
        "print(\"Data yang sudah dipangkas menjadi : \",x_t.shape, y_t.shape)"
      ],
      "execution_count": 22,
      "outputs": [
        {
          "output_type": "stream",
          "text": [
            "Apa masih ada data yang berisikan null? False False\n",
            "dim_0 2212\n"
          ],
          "name": "stdout"
        },
        {
          "output_type": "display_data",
          "data": {
            "application/vnd.jupyter.widget-view+json": {
              "model_id": "48e4af66e9e845e6996378b1b7671b30",
              "version_minor": 0,
              "version_major": 2
            },
            "text/plain": [
              "HBox(children=(FloatProgress(value=0.0, max=2212.0), HTML(value='')))"
            ]
          },
          "metadata": {
            "tags": []
          }
        },
        {
          "output_type": "stream",
          "text": [
            "\n",
            "Ukuran time-series untuk Input dan Output :  (2212, 50, 5) (2212,)\n",
            "Data yang sudah dipangkas menjadi :  (2200, 50, 5) (2200,)\n"
          ],
          "name": "stdout"
        }
      ]
    },
    {
      "cell_type": "code",
      "metadata": {
        "id": "uYoUw9G_Uy6W",
        "colab_type": "code",
        "outputId": "9857edc6-be90-42ff-ca48-a8ad97fb694d",
        "colab": {
          "base_uri": "https://localhost:8080/",
          "height": 138,
          "referenced_widgets": [
            "149157bb045c4536a4c25a097946ded6",
            "205712c5a3d04ae28c190b50b3280c9b",
            "3f45f1792ac5442aa52caa31dbbf9352",
            "426c6afe72f34a74ba4c28b6cd43b3c7",
            "e29cbd1c8a6d4d1084fdb2be2649b03e",
            "e67a4003f42b4f8c8ac963111070d138",
            "2ec77a7fedd74b418c73a47195e45bbe",
            "537bcb39ceba4455962e4d6dc567e6a4"
          ]
        }
      },
      "source": [
        "# Pengecekan data yang masih null\n",
        "print(\"Apa masih ada data yang berisikan null?\",np.isnan(x2_train).any(), np.isnan(x2_train).any())\n",
        "x2_t, y2_t = build_timeseries(x2_train, 3)\n",
        "x2_t = trim_dataset(x2_t, BATCH_SIZE)\n",
        "y2_t = trim_dataset(y2_t, BATCH_SIZE)\n",
        "print(\"Data yang sudah dipangkas menjadi : \",x2_t.shape, y2_t.shape)"
      ],
      "execution_count": 23,
      "outputs": [
        {
          "output_type": "stream",
          "text": [
            "Apa masih ada data yang berisikan null? False False\n",
            "dim_0 1081\n"
          ],
          "name": "stdout"
        },
        {
          "output_type": "display_data",
          "data": {
            "application/vnd.jupyter.widget-view+json": {
              "model_id": "149157bb045c4536a4c25a097946ded6",
              "version_minor": 0,
              "version_major": 2
            },
            "text/plain": [
              "HBox(children=(FloatProgress(value=0.0, max=1081.0), HTML(value='')))"
            ]
          },
          "metadata": {
            "tags": []
          }
        },
        {
          "output_type": "stream",
          "text": [
            "\n",
            "Ukuran time-series untuk Input dan Output :  (1081, 50, 5) (1081,)\n",
            "Data yang sudah dipangkas menjadi :  (1080, 50, 5) (1080,)\n"
          ],
          "name": "stdout"
        }
      ]
    },
    {
      "cell_type": "code",
      "metadata": {
        "id": "6yKqjo5MVAl9",
        "colab_type": "code",
        "outputId": "84984442-313e-4648-f463-67385f727815",
        "colab": {
          "base_uri": "https://localhost:8080/",
          "height": 138,
          "referenced_widgets": [
            "e978a0090f5a48aa9e65db1b7ad2efc6",
            "b7d082661f5a49b0ae754f75b73a9633",
            "076c879e95a441b9a7d54ead2d92d64b",
            "52101208b37c4f82aee9ba6ab2369316",
            "ac14469783bf45b3bda9a3404436ae4f",
            "ea0ff7958aee4b159d095df610516f6f",
            "5f8bd9da21194047a3d8c813e90478da",
            "fe3ad8383d08419bb1c35795ba9de76b"
          ]
        }
      },
      "source": [
        "# Pengecekan data yang masih null\n",
        "print(\"Apa masih ada data yang berisikan null?\",np.isnan(x3_train).any(), np.isnan(x3_train).any())\n",
        "x3_t, y3_t = build_timeseries(x3_train, 3)\n",
        "x3_t = trim_dataset(x3_t, BATCH_SIZE)\n",
        "y3_t = trim_dataset(y3_t, BATCH_SIZE)\n",
        "print(\"Data yang sudah dipangkas menjadi : \",x3_t.shape, y3_t.shape)"
      ],
      "execution_count": 24,
      "outputs": [
        {
          "output_type": "stream",
          "text": [
            "Apa masih ada data yang berisikan null? False False\n",
            "dim_0 1081\n"
          ],
          "name": "stdout"
        },
        {
          "output_type": "display_data",
          "data": {
            "application/vnd.jupyter.widget-view+json": {
              "model_id": "e978a0090f5a48aa9e65db1b7ad2efc6",
              "version_minor": 0,
              "version_major": 2
            },
            "text/plain": [
              "HBox(children=(FloatProgress(value=0.0, max=1081.0), HTML(value='')))"
            ]
          },
          "metadata": {
            "tags": []
          }
        },
        {
          "output_type": "stream",
          "text": [
            "\n",
            "Ukuran time-series untuk Input dan Output :  (1081, 50, 5) (1081,)\n",
            "Data yang sudah dipangkas menjadi :  (1080, 50, 5) (1080,)\n"
          ],
          "name": "stdout"
        }
      ]
    },
    {
      "cell_type": "code",
      "metadata": {
        "id": "pqkOzboqdZBi",
        "colab_type": "code",
        "outputId": "86bcdcae-2a28-45ca-f3e3-63b37c14112a",
        "colab": {
          "base_uri": "https://localhost:8080/",
          "height": 102,
          "referenced_widgets": [
            "1dce75a241aa4524959d3da849b18bf9",
            "30a3e6da629c4c58b7fd7be402d61f69",
            "fc3352e7ec6b4f0289ddeda20cfe9936",
            "9db10c3d2e784c1eb69d5155fde6995e",
            "94065e969e074bf7b48acac188823fa2",
            "a6563d0ce1d4465e8df74b2164277117",
            "6c1ec9603ac04c139e725c27393bbaa6",
            "3da12d32680348e4ab763a62f6d88f8c"
          ]
        }
      },
      "source": [
        "# Membuat Time-Series dari data uji\n",
        "x_temp, y_temp = build_timeseries(x_test, 3)\n",
        "x_val, x_test_t = np.split(trim_dataset(x_temp, BATCH_SIZE),2)\n",
        "y_val, y_test_t = np.split(trim_dataset(y_temp, BATCH_SIZE),2)"
      ],
      "execution_count": 25,
      "outputs": [
        {
          "output_type": "stream",
          "text": [
            "dim_0 516\n"
          ],
          "name": "stdout"
        },
        {
          "output_type": "display_data",
          "data": {
            "application/vnd.jupyter.widget-view+json": {
              "model_id": "1dce75a241aa4524959d3da849b18bf9",
              "version_minor": 0,
              "version_major": 2
            },
            "text/plain": [
              "HBox(children=(FloatProgress(value=0.0, max=516.0), HTML(value='')))"
            ]
          },
          "metadata": {
            "tags": []
          }
        },
        {
          "output_type": "stream",
          "text": [
            "\n",
            "Ukuran time-series untuk Input dan Output :  (516, 50, 5) (516,)\n"
          ],
          "name": "stdout"
        }
      ]
    },
    {
      "cell_type": "code",
      "metadata": {
        "id": "a08kpsDmVPog",
        "colab_type": "code",
        "outputId": "a3c103e0-953f-4ec3-e1c0-46cbca5369a5",
        "colab": {
          "base_uri": "https://localhost:8080/",
          "height": 102,
          "referenced_widgets": [
            "ab47d70678054fe981aacaf75f039a73",
            "1ec4524069ea4b909905cb181aedfe4d",
            "dc671b1e3a334b01b67eb64f0b250b92",
            "a04c54f82ebd41648d6d2b284eb36199",
            "82bdbb6711064b8f933f6ed385c98113",
            "1b251bd2b3b343188221a6f0eac8a731",
            "1e2a020cfaac4ac883be830c2de6ea6c",
            "99489ae6a5d54adab08a21495d40a472"
          ]
        }
      },
      "source": [
        "# Membuat Time-Series dari data uji\n",
        "x2_temp, y2_temp = build_timeseries(x2_test, 3)\n",
        "x2_val, x2_test_t = np.split(trim_dataset(x2_temp, BATCH_SIZE),2)\n",
        "y2_val, y2_test_t = np.split(trim_dataset(y2_temp, BATCH_SIZE),2)"
      ],
      "execution_count": 26,
      "outputs": [
        {
          "output_type": "stream",
          "text": [
            "dim_0 233\n"
          ],
          "name": "stdout"
        },
        {
          "output_type": "display_data",
          "data": {
            "application/vnd.jupyter.widget-view+json": {
              "model_id": "ab47d70678054fe981aacaf75f039a73",
              "version_minor": 0,
              "version_major": 2
            },
            "text/plain": [
              "HBox(children=(FloatProgress(value=0.0, max=233.0), HTML(value='')))"
            ]
          },
          "metadata": {
            "tags": []
          }
        },
        {
          "output_type": "stream",
          "text": [
            "\n",
            "Ukuran time-series untuk Input dan Output :  (233, 50, 5) (233,)\n"
          ],
          "name": "stdout"
        }
      ]
    },
    {
      "cell_type": "code",
      "metadata": {
        "id": "3Lzh9gmbVbMg",
        "colab_type": "code",
        "outputId": "85fbac9e-98c1-4761-d6ec-eda88b7855b8",
        "colab": {
          "base_uri": "https://localhost:8080/",
          "height": 102,
          "referenced_widgets": [
            "7ac736917231460cb8b05508fb15a239",
            "6d328023a31a4960a533c0a661666f31",
            "eedcaa2c46de44b8a84cae4361802a17",
            "eed34dd7731443e5bb09e47ad3aa8897",
            "48d2b349d40a4b4a89cc4423335b3696",
            "2de2d5c23ed84d0b9c0315ca2e52cd7a",
            "c0bbb22486e04761bc9aed89e083a48d",
            "1209ee4d80144bbe9e9a0d7c6a6738ad"
          ]
        }
      },
      "source": [
        "# Membuat Time-Series dari data uji\n",
        "x3_temp, y3_temp = build_timeseries(x3_test, 3)\n",
        "x3_val, x3_test_t = np.split(trim_dataset(x3_temp, BATCH_SIZE),2)\n",
        "y3_val, y3_test_t = np.split(trim_dataset(y3_temp, BATCH_SIZE),2)"
      ],
      "execution_count": 27,
      "outputs": [
        {
          "output_type": "stream",
          "text": [
            "dim_0 233\n"
          ],
          "name": "stdout"
        },
        {
          "output_type": "display_data",
          "data": {
            "application/vnd.jupyter.widget-view+json": {
              "model_id": "7ac736917231460cb8b05508fb15a239",
              "version_minor": 0,
              "version_major": 2
            },
            "text/plain": [
              "HBox(children=(FloatProgress(value=0.0, max=233.0), HTML(value='')))"
            ]
          },
          "metadata": {
            "tags": []
          }
        },
        {
          "output_type": "stream",
          "text": [
            "\n",
            "Ukuran time-series untuk Input dan Output :  (233, 50, 5) (233,)\n"
          ],
          "name": "stdout"
        }
      ]
    },
    {
      "cell_type": "code",
      "metadata": {
        "id": "Hii2JmhZdbnE",
        "colab_type": "code",
        "outputId": "6335fa2c-8c2b-4f8e-e2e4-36601d730a04",
        "colab": {
          "base_uri": "https://localhost:8080/",
          "height": 35
        }
      },
      "source": [
        "print(\"Banyaknya ukuran data validasi :\", x_val.shape, y_val.shape)"
      ],
      "execution_count": 28,
      "outputs": [
        {
          "output_type": "stream",
          "text": [
            "Banyaknya ukuran data validasi : (250, 50, 5) (250,)\n"
          ],
          "name": "stdout"
        }
      ]
    },
    {
      "cell_type": "code",
      "metadata": {
        "id": "uKqdPONzVnfm",
        "colab_type": "code",
        "outputId": "cb346ec0-87b9-499f-afb2-eda120464cf9",
        "colab": {
          "base_uri": "https://localhost:8080/",
          "height": 35
        }
      },
      "source": [
        "print(\"Banyaknya ukuran data validasi :\", x2_val.shape, y2_val.shape)"
      ],
      "execution_count": 29,
      "outputs": [
        {
          "output_type": "stream",
          "text": [
            "Banyaknya ukuran data validasi : (110, 50, 5) (110,)\n"
          ],
          "name": "stdout"
        }
      ]
    },
    {
      "cell_type": "code",
      "metadata": {
        "id": "-dZHT02fVrA9",
        "colab_type": "code",
        "outputId": "38e322de-b44d-4c05-a0ce-c1a5f058dc55",
        "colab": {
          "base_uri": "https://localhost:8080/",
          "height": 35
        }
      },
      "source": [
        "print(\"Banyaknya ukuran data validasi :\", x3_val.shape, y3_val.shape)"
      ],
      "execution_count": 30,
      "outputs": [
        {
          "output_type": "stream",
          "text": [
            "Banyaknya ukuran data validasi : (110, 50, 5) (110,)\n"
          ],
          "name": "stdout"
        }
      ]
    },
    {
      "cell_type": "markdown",
      "metadata": {
        "id": "Cw4R0IRb3cGf",
        "colab_type": "text"
      },
      "source": [
        "# Membuat model LSTM\n",
        "Pembuatan model ini tidak terlepas dari hyperparameter yang digunakan, banyanya sel LSTM yang dibuat dan banyaknya hidden layer yang dibuat"
      ]
    },
    {
      "cell_type": "code",
      "metadata": {
        "id": "e02rQZfgc8ei",
        "colab_type": "code",
        "colab": {}
      },
      "source": [
        "def create_model():\n",
        "    lstm_model = Sequential()\n",
        "    # (batch_size, timesteps, data_dim)\n",
        "    lstm_model.add(LSTM(256, batch_input_shape=(BATCH_SIZE, TIME_STEPS, x_t.shape[2]),\n",
        "                        dropout=0.0, recurrent_dropout=0.0, stateful=True, return_sequences=True,\n",
        "                        kernel_initializer='random_uniform'))\n",
        "    lstm_model.add(Dropout(0.4))\n",
        "    lstm_model.add(LSTM(256, dropout=0.4))\n",
        "    lstm_model.add(Dropout(0.4))\n",
        "    lstm_model.add(Dense(128,activation='tanh'))\n",
        "    lstm_model.add(Dense(1,activation='sigmoid'))\n",
        "    #optimizer = optimizers.RMSprop(lr=params[\"lr\"])\n",
        "    optimizer = optimizers.Adam(lr=params[\"lr\"], beta_1=0.9, beta_2=0.999, amsgrad=False, epsilon=None) # ini yg paling optimal\n",
        "    # optimizer = optimizers.SGD(lr=0.000001, decay=1e-6, momentum=0.9, nesterov=True)\n",
        "    lstm_model.compile(loss='mean_squared_error', optimizer=optimizer, metrics=['accuracy'])\n",
        "    return lstm_model"
      ],
      "execution_count": 0,
      "outputs": []
    },
    {
      "cell_type": "code",
      "metadata": {
        "id": "dAzAFaagdWMu",
        "colab_type": "code",
        "outputId": "9d55eee1-3596-4f79-d370-bf3fa9233101",
        "colab": {
          "base_uri": "https://localhost:8080/",
          "height": 35
        }
      },
      "source": [
        "model = None\n",
        "try:\n",
        "    #model = pickle.load(open(\"/content/drive/My Drive/TA_LSTM/outputs/lstm_model\", 'rb'))\n",
        "    model = pickle.load(open(\"lstm_model\", 'rb'))\n",
        "    print(\"Model ditemukan. Menggunakan model yang sudah ada . . .\")\n",
        "except FileNotFoundError:\n",
        "    print(\"Model tidak ditemukan\")"
      ],
      "execution_count": 32,
      "outputs": [
        {
          "output_type": "stream",
          "text": [
            "Model tidak ditemukan\n"
          ],
          "name": "stdout"
        }
      ]
    },
    {
      "cell_type": "code",
      "metadata": {
        "id": "CxD_MHQEZ0hw",
        "colab_type": "code",
        "outputId": "32903d3d-7631-42d3-bb5a-ce3c0e636156",
        "colab": {
          "base_uri": "https://localhost:8080/",
          "height": 55
        }
      },
      "source": [
        "'''\n",
        "if(not os.path.exists('/content/drive/My Drive/TA_LSTM/outputs/best_model.h5')):\n",
        "  print(\"Model belum dibuat sebelumnya\")\n",
        "else:\n",
        "  print(\"Model sudah dibuat sebelumnya. Model akan dimuat sesaat lagi . . .\")\n",
        "  model = load_model('/content/drive/My Drive/TA_LSTM/outputs/best_model.h5')\n",
        "  print(\"Model dimuat\")\n",
        "'''"
      ],
      "execution_count": 33,
      "outputs": [
        {
          "output_type": "execute_result",
          "data": {
            "text/plain": [
              "'\\nif(not os.path.exists(\\'/content/drive/My Drive/TA_LSTM/outputs/best_model.h5\\')):\\n  print(\"Model belum dibuat sebelumnya\")\\nelse:\\n  print(\"Model sudah dibuat sebelumnya. Model akan dimuat sesaat lagi . . .\")\\n  model = load_model(\\'/content/drive/My Drive/TA_LSTM/outputs/best_model.h5\\')\\n  print(\"Model dimuat\")\\n'"
            ]
          },
          "metadata": {
            "tags": []
          },
          "execution_count": 33
        }
      ]
    },
    {
      "cell_type": "markdown",
      "metadata": {
        "id": "J42pD2HD37Lm",
        "colab_type": "text"
      },
      "source": [
        "# Melakukan iterasi untuk melatih data dalam beberapa Epoch"
      ]
    },
    {
      "cell_type": "code",
      "metadata": {
        "id": "MX5cI0FNdiVR",
        "colab_type": "code",
        "outputId": "875d68a2-7a80-4d9f-895a-34788a492f1c",
        "colab": {
          "base_uri": "https://localhost:8080/",
          "height": 1000
        }
      },
      "source": [
        "is_update_model = True\n",
        "if model is None or is_update_model:\n",
        "    from keras import backend as K\n",
        "    print(\"Membuat Model ...\")\n",
        "    print(\"Mengecek ketersediaan GPU ...\", K.tensorflow_backend._get_available_gpus())\n",
        "    model = create_model()\n",
        "    \n",
        "    es = EarlyStopping(monitor='val_loss', mode='min', verbose=1,\n",
        "                       patience=40, min_delta=0.0001)\n",
        "    \n",
        "    mcp = ModelCheckpoint(os.path.join(OUTPUT_PATH,\n",
        "                          \"best_model.h5\"), monitor='val_loss', verbose=1,\n",
        "                          save_best_only=True, save_weights_only=False, mode='min', period=1)\n",
        "\n",
        "    # Not used here. But leaving it here as a reminder for future\n",
        "    r_lr_plat = ReduceLROnPlateau(monitor='val_loss', factor=0.1, patience=30, \n",
        "                                  verbose=0, mode='auto', min_delta=0.0001, cooldown=0, min_lr=0)\n",
        "    \n",
        "    csv_logger = CSVLogger(os.path.join(OUTPUT_PATH, 'training_log_' + time.ctime().replace(\" \",\"_\") + '.log'), append=True)\n",
        "    \n",
        "    history = model.fit(x_t, y_t, epochs=params[\"epochs\"], verbose=2, batch_size=BATCH_SIZE,\n",
        "                        shuffle=False, validation_data=(trim_dataset(x_val, BATCH_SIZE),\n",
        "                        trim_dataset(y_val, BATCH_SIZE)), callbacks=[es, mcp, csv_logger])\n",
        "    \n",
        "    print(\"Menyimpan model . . .\")\n",
        "    pickle.dump(model, open(\"lstm_model\", \"wb\"))\n",
        "    model.save(\"best_model.h5\")"
      ],
      "execution_count": 34,
      "outputs": [
        {
          "output_type": "stream",
          "text": [
            "Membuat Model ...\n",
            "Mengecek ketersediaan GPU ... ['/job:localhost/replica:0/task:0/device:GPU:0']\n",
            "Train on 2200 samples, validate on 240 samples\n",
            "Epoch 1/200\n",
            " - 22s - loss: 0.0646 - acc: 4.5455e-04 - val_loss: 0.0444 - val_acc: 0.0000e+00\n",
            "\n",
            "Epoch 00001: val_loss improved from inf to 0.04442, saving model to /content/drive/My Drive/TA_LSTM/outputs/lstm_best_11-1-20_2PM/iter_changes/best_model.h5\n",
            "Epoch 2/200\n",
            " - 13s - loss: 0.0490 - acc: 9.0909e-04 - val_loss: 0.0348 - val_acc: 0.0000e+00\n",
            "\n",
            "Epoch 00002: val_loss improved from 0.04442 to 0.03484, saving model to /content/drive/My Drive/TA_LSTM/outputs/lstm_best_11-1-20_2PM/iter_changes/best_model.h5\n",
            "Epoch 3/200\n",
            " - 13s - loss: 0.0248 - acc: 9.0909e-04 - val_loss: 0.0168 - val_acc: 0.0000e+00\n",
            "\n",
            "Epoch 00003: val_loss improved from 0.03484 to 0.01683, saving model to /content/drive/My Drive/TA_LSTM/outputs/lstm_best_11-1-20_2PM/iter_changes/best_model.h5\n",
            "Epoch 4/200\n",
            " - 13s - loss: 0.0114 - acc: 9.0909e-04 - val_loss: 0.0090 - val_acc: 0.0000e+00\n",
            "\n",
            "Epoch 00004: val_loss improved from 0.01683 to 0.00902, saving model to /content/drive/My Drive/TA_LSTM/outputs/lstm_best_11-1-20_2PM/iter_changes/best_model.h5\n",
            "Epoch 5/200\n",
            " - 13s - loss: 0.0045 - acc: 9.0909e-04 - val_loss: 0.0049 - val_acc: 0.0000e+00\n",
            "\n",
            "Epoch 00005: val_loss improved from 0.00902 to 0.00493, saving model to /content/drive/My Drive/TA_LSTM/outputs/lstm_best_11-1-20_2PM/iter_changes/best_model.h5\n",
            "Epoch 6/200\n",
            " - 13s - loss: 0.0038 - acc: 9.0909e-04 - val_loss: 0.0050 - val_acc: 0.0000e+00\n",
            "\n",
            "Epoch 00006: val_loss did not improve from 0.00493\n",
            "Epoch 7/200\n",
            " - 13s - loss: 0.0038 - acc: 9.0909e-04 - val_loss: 0.0049 - val_acc: 0.0000e+00\n",
            "\n",
            "Epoch 00007: val_loss improved from 0.00493 to 0.00492, saving model to /content/drive/My Drive/TA_LSTM/outputs/lstm_best_11-1-20_2PM/iter_changes/best_model.h5\n",
            "Epoch 8/200\n",
            " - 13s - loss: 0.0035 - acc: 9.0909e-04 - val_loss: 0.0049 - val_acc: 0.0000e+00\n",
            "\n",
            "Epoch 00008: val_loss improved from 0.00492 to 0.00492, saving model to /content/drive/My Drive/TA_LSTM/outputs/lstm_best_11-1-20_2PM/iter_changes/best_model.h5\n",
            "Epoch 9/200\n",
            " - 13s - loss: 0.0034 - acc: 9.0909e-04 - val_loss: 0.0049 - val_acc: 0.0000e+00\n",
            "\n",
            "Epoch 00009: val_loss improved from 0.00492 to 0.00486, saving model to /content/drive/My Drive/TA_LSTM/outputs/lstm_best_11-1-20_2PM/iter_changes/best_model.h5\n",
            "Epoch 10/200\n",
            " - 13s - loss: 0.0035 - acc: 9.0909e-04 - val_loss: 0.0050 - val_acc: 0.0000e+00\n",
            "\n",
            "Epoch 00010: val_loss did not improve from 0.00486\n",
            "Epoch 11/200\n",
            " - 13s - loss: 0.0034 - acc: 9.0909e-04 - val_loss: 0.0048 - val_acc: 0.0000e+00\n",
            "\n",
            "Epoch 00011: val_loss improved from 0.00486 to 0.00477, saving model to /content/drive/My Drive/TA_LSTM/outputs/lstm_best_11-1-20_2PM/iter_changes/best_model.h5\n",
            "Epoch 12/200\n",
            " - 13s - loss: 0.0032 - acc: 9.0909e-04 - val_loss: 0.0047 - val_acc: 0.0000e+00\n",
            "\n",
            "Epoch 00012: val_loss improved from 0.00477 to 0.00473, saving model to /content/drive/My Drive/TA_LSTM/outputs/lstm_best_11-1-20_2PM/iter_changes/best_model.h5\n",
            "Epoch 13/200\n",
            " - 13s - loss: 0.0031 - acc: 9.0909e-04 - val_loss: 0.0048 - val_acc: 0.0000e+00\n",
            "\n",
            "Epoch 00013: val_loss did not improve from 0.00473\n",
            "Epoch 14/200\n",
            " - 12s - loss: 0.0032 - acc: 9.0909e-04 - val_loss: 0.0048 - val_acc: 0.0000e+00\n",
            "\n",
            "Epoch 00014: val_loss did not improve from 0.00473\n",
            "Epoch 15/200\n",
            " - 12s - loss: 0.0030 - acc: 9.0909e-04 - val_loss: 0.0046 - val_acc: 0.0000e+00\n",
            "\n",
            "Epoch 00015: val_loss improved from 0.00473 to 0.00465, saving model to /content/drive/My Drive/TA_LSTM/outputs/lstm_best_11-1-20_2PM/iter_changes/best_model.h5\n",
            "Epoch 16/200\n",
            " - 13s - loss: 0.0030 - acc: 9.0909e-04 - val_loss: 0.0045 - val_acc: 0.0000e+00\n",
            "\n",
            "Epoch 00016: val_loss improved from 0.00465 to 0.00454, saving model to /content/drive/My Drive/TA_LSTM/outputs/lstm_best_11-1-20_2PM/iter_changes/best_model.h5\n",
            "Epoch 17/200\n",
            " - 13s - loss: 0.0029 - acc: 9.0909e-04 - val_loss: 0.0044 - val_acc: 0.0000e+00\n",
            "\n",
            "Epoch 00017: val_loss improved from 0.00454 to 0.00439, saving model to /content/drive/My Drive/TA_LSTM/outputs/lstm_best_11-1-20_2PM/iter_changes/best_model.h5\n",
            "Epoch 18/200\n",
            " - 12s - loss: 0.0028 - acc: 9.0909e-04 - val_loss: 0.0043 - val_acc: 0.0000e+00\n",
            "\n",
            "Epoch 00018: val_loss improved from 0.00439 to 0.00431, saving model to /content/drive/My Drive/TA_LSTM/outputs/lstm_best_11-1-20_2PM/iter_changes/best_model.h5\n",
            "Epoch 19/200\n",
            " - 13s - loss: 0.0027 - acc: 9.0909e-04 - val_loss: 0.0042 - val_acc: 0.0000e+00\n",
            "\n",
            "Epoch 00019: val_loss improved from 0.00431 to 0.00420, saving model to /content/drive/My Drive/TA_LSTM/outputs/lstm_best_11-1-20_2PM/iter_changes/best_model.h5\n",
            "Epoch 20/200\n",
            " - 12s - loss: 0.0027 - acc: 9.0909e-04 - val_loss: 0.0040 - val_acc: 0.0000e+00\n",
            "\n",
            "Epoch 00020: val_loss improved from 0.00420 to 0.00399, saving model to /content/drive/My Drive/TA_LSTM/outputs/lstm_best_11-1-20_2PM/iter_changes/best_model.h5\n",
            "Epoch 21/200\n",
            " - 12s - loss: 0.0026 - acc: 9.0909e-04 - val_loss: 0.0040 - val_acc: 0.0000e+00\n",
            "\n",
            "Epoch 00021: val_loss did not improve from 0.00399\n",
            "Epoch 22/200\n",
            " - 12s - loss: 0.0025 - acc: 9.0909e-04 - val_loss: 0.0039 - val_acc: 0.0000e+00\n",
            "\n",
            "Epoch 00022: val_loss improved from 0.00399 to 0.00388, saving model to /content/drive/My Drive/TA_LSTM/outputs/lstm_best_11-1-20_2PM/iter_changes/best_model.h5\n",
            "Epoch 23/200\n",
            " - 12s - loss: 0.0025 - acc: 9.0909e-04 - val_loss: 0.0038 - val_acc: 0.0000e+00\n",
            "\n",
            "Epoch 00023: val_loss improved from 0.00388 to 0.00377, saving model to /content/drive/My Drive/TA_LSTM/outputs/lstm_best_11-1-20_2PM/iter_changes/best_model.h5\n",
            "Epoch 24/200\n",
            " - 13s - loss: 0.0025 - acc: 9.0909e-04 - val_loss: 0.0036 - val_acc: 0.0000e+00\n",
            "\n",
            "Epoch 00024: val_loss improved from 0.00377 to 0.00361, saving model to /content/drive/My Drive/TA_LSTM/outputs/lstm_best_11-1-20_2PM/iter_changes/best_model.h5\n",
            "Epoch 25/200\n",
            " - 12s - loss: 0.0024 - acc: 9.0909e-04 - val_loss: 0.0035 - val_acc: 0.0000e+00\n",
            "\n",
            "Epoch 00025: val_loss improved from 0.00361 to 0.00345, saving model to /content/drive/My Drive/TA_LSTM/outputs/lstm_best_11-1-20_2PM/iter_changes/best_model.h5\n",
            "Epoch 26/200\n",
            " - 12s - loss: 0.0024 - acc: 9.0909e-04 - val_loss: 0.0033 - val_acc: 0.0000e+00\n",
            "\n",
            "Epoch 00026: val_loss improved from 0.00345 to 0.00334, saving model to /content/drive/My Drive/TA_LSTM/outputs/lstm_best_11-1-20_2PM/iter_changes/best_model.h5\n",
            "Epoch 27/200\n",
            " - 12s - loss: 0.0023 - acc: 9.0909e-04 - val_loss: 0.0033 - val_acc: 0.0000e+00\n",
            "\n",
            "Epoch 00027: val_loss did not improve from 0.00334\n",
            "Epoch 28/200\n",
            " - 12s - loss: 0.0024 - acc: 9.0909e-04 - val_loss: 0.0032 - val_acc: 0.0000e+00\n",
            "\n",
            "Epoch 00028: val_loss improved from 0.00334 to 0.00319, saving model to /content/drive/My Drive/TA_LSTM/outputs/lstm_best_11-1-20_2PM/iter_changes/best_model.h5\n",
            "Epoch 29/200\n",
            " - 13s - loss: 0.0023 - acc: 9.0909e-04 - val_loss: 0.0032 - val_acc: 0.0000e+00\n",
            "\n",
            "Epoch 00029: val_loss improved from 0.00319 to 0.00317, saving model to /content/drive/My Drive/TA_LSTM/outputs/lstm_best_11-1-20_2PM/iter_changes/best_model.h5\n",
            "Epoch 30/200\n",
            " - 12s - loss: 0.0023 - acc: 9.0909e-04 - val_loss: 0.0030 - val_acc: 0.0000e+00\n",
            "\n",
            "Epoch 00030: val_loss improved from 0.00317 to 0.00304, saving model to /content/drive/My Drive/TA_LSTM/outputs/lstm_best_11-1-20_2PM/iter_changes/best_model.h5\n",
            "Epoch 31/200\n",
            " - 12s - loss: 0.0022 - acc: 9.0909e-04 - val_loss: 0.0030 - val_acc: 0.0000e+00\n",
            "\n",
            "Epoch 00031: val_loss improved from 0.00304 to 0.00303, saving model to /content/drive/My Drive/TA_LSTM/outputs/lstm_best_11-1-20_2PM/iter_changes/best_model.h5\n",
            "Epoch 32/200\n",
            " - 12s - loss: 0.0021 - acc: 9.0909e-04 - val_loss: 0.0030 - val_acc: 0.0000e+00\n",
            "\n",
            "Epoch 00032: val_loss improved from 0.00303 to 0.00296, saving model to /content/drive/My Drive/TA_LSTM/outputs/lstm_best_11-1-20_2PM/iter_changes/best_model.h5\n",
            "Epoch 33/200\n",
            " - 12s - loss: 0.0020 - acc: 9.0909e-04 - val_loss: 0.0029 - val_acc: 0.0000e+00\n",
            "\n",
            "Epoch 00033: val_loss improved from 0.00296 to 0.00288, saving model to /content/drive/My Drive/TA_LSTM/outputs/lstm_best_11-1-20_2PM/iter_changes/best_model.h5\n",
            "Epoch 34/200\n",
            " - 13s - loss: 0.0021 - acc: 9.0909e-04 - val_loss: 0.0029 - val_acc: 0.0000e+00\n",
            "\n",
            "Epoch 00034: val_loss did not improve from 0.00288\n",
            "Epoch 35/200\n",
            " - 12s - loss: 0.0021 - acc: 9.0909e-04 - val_loss: 0.0028 - val_acc: 0.0000e+00\n",
            "\n",
            "Epoch 00035: val_loss improved from 0.00288 to 0.00277, saving model to /content/drive/My Drive/TA_LSTM/outputs/lstm_best_11-1-20_2PM/iter_changes/best_model.h5\n",
            "Epoch 36/200\n",
            " - 12s - loss: 0.0022 - acc: 9.0909e-04 - val_loss: 0.0027 - val_acc: 0.0000e+00\n",
            "\n",
            "Epoch 00036: val_loss improved from 0.00277 to 0.00272, saving model to /content/drive/My Drive/TA_LSTM/outputs/lstm_best_11-1-20_2PM/iter_changes/best_model.h5\n",
            "Epoch 37/200\n",
            " - 12s - loss: 0.0021 - acc: 9.0909e-04 - val_loss: 0.0026 - val_acc: 0.0000e+00\n",
            "\n",
            "Epoch 00037: val_loss improved from 0.00272 to 0.00261, saving model to /content/drive/My Drive/TA_LSTM/outputs/lstm_best_11-1-20_2PM/iter_changes/best_model.h5\n",
            "Epoch 38/200\n",
            " - 12s - loss: 0.0020 - acc: 9.0909e-04 - val_loss: 0.0026 - val_acc: 0.0000e+00\n",
            "\n",
            "Epoch 00038: val_loss did not improve from 0.00261\n",
            "Epoch 39/200\n",
            " - 12s - loss: 0.0019 - acc: 9.0909e-04 - val_loss: 0.0026 - val_acc: 0.0000e+00\n",
            "\n",
            "Epoch 00039: val_loss did not improve from 0.00261\n",
            "Epoch 40/200\n",
            " - 12s - loss: 0.0019 - acc: 9.0909e-04 - val_loss: 0.0025 - val_acc: 0.0000e+00\n",
            "\n",
            "Epoch 00040: val_loss improved from 0.00261 to 0.00246, saving model to /content/drive/My Drive/TA_LSTM/outputs/lstm_best_11-1-20_2PM/iter_changes/best_model.h5\n",
            "Epoch 41/200\n",
            " - 12s - loss: 0.0019 - acc: 9.0909e-04 - val_loss: 0.0024 - val_acc: 0.0000e+00\n",
            "\n",
            "Epoch 00041: val_loss improved from 0.00246 to 0.00242, saving model to /content/drive/My Drive/TA_LSTM/outputs/lstm_best_11-1-20_2PM/iter_changes/best_model.h5\n",
            "Epoch 42/200\n",
            " - 12s - loss: 0.0019 - acc: 9.0909e-04 - val_loss: 0.0024 - val_acc: 0.0000e+00\n",
            "\n",
            "Epoch 00042: val_loss improved from 0.00242 to 0.00238, saving model to /content/drive/My Drive/TA_LSTM/outputs/lstm_best_11-1-20_2PM/iter_changes/best_model.h5\n",
            "Epoch 43/200\n",
            " - 13s - loss: 0.0019 - acc: 9.0909e-04 - val_loss: 0.0023 - val_acc: 0.0000e+00\n",
            "\n",
            "Epoch 00043: val_loss improved from 0.00238 to 0.00234, saving model to /content/drive/My Drive/TA_LSTM/outputs/lstm_best_11-1-20_2PM/iter_changes/best_model.h5\n",
            "Epoch 44/200\n",
            " - 12s - loss: 0.0018 - acc: 9.0909e-04 - val_loss: 0.0023 - val_acc: 0.0000e+00\n",
            "\n",
            "Epoch 00044: val_loss improved from 0.00234 to 0.00230, saving model to /content/drive/My Drive/TA_LSTM/outputs/lstm_best_11-1-20_2PM/iter_changes/best_model.h5\n",
            "Epoch 45/200\n",
            " - 12s - loss: 0.0018 - acc: 9.0909e-04 - val_loss: 0.0022 - val_acc: 0.0000e+00\n",
            "\n",
            "Epoch 00045: val_loss improved from 0.00230 to 0.00219, saving model to /content/drive/My Drive/TA_LSTM/outputs/lstm_best_11-1-20_2PM/iter_changes/best_model.h5\n",
            "Epoch 46/200\n",
            " - 12s - loss: 0.0018 - acc: 9.0909e-04 - val_loss: 0.0022 - val_acc: 0.0000e+00\n",
            "\n",
            "Epoch 00046: val_loss improved from 0.00219 to 0.00216, saving model to /content/drive/My Drive/TA_LSTM/outputs/lstm_best_11-1-20_2PM/iter_changes/best_model.h5\n",
            "Epoch 47/200\n",
            " - 12s - loss: 0.0017 - acc: 9.0909e-04 - val_loss: 0.0021 - val_acc: 0.0000e+00\n",
            "\n",
            "Epoch 00047: val_loss improved from 0.00216 to 0.00209, saving model to /content/drive/My Drive/TA_LSTM/outputs/lstm_best_11-1-20_2PM/iter_changes/best_model.h5\n",
            "Epoch 48/200\n",
            " - 12s - loss: 0.0018 - acc: 9.0909e-04 - val_loss: 0.0021 - val_acc: 0.0000e+00\n",
            "\n",
            "Epoch 00048: val_loss did not improve from 0.00209\n",
            "Epoch 49/200\n",
            " - 12s - loss: 0.0017 - acc: 9.0909e-04 - val_loss: 0.0021 - val_acc: 0.0000e+00\n",
            "\n",
            "Epoch 00049: val_loss improved from 0.00209 to 0.00207, saving model to /content/drive/My Drive/TA_LSTM/outputs/lstm_best_11-1-20_2PM/iter_changes/best_model.h5\n",
            "Epoch 50/200\n",
            " - 12s - loss: 0.0016 - acc: 9.0909e-04 - val_loss: 0.0021 - val_acc: 0.0000e+00\n",
            "\n",
            "Epoch 00050: val_loss did not improve from 0.00207\n",
            "Epoch 51/200\n",
            " - 12s - loss: 0.0016 - acc: 9.0909e-04 - val_loss: 0.0020 - val_acc: 0.0000e+00\n",
            "\n",
            "Epoch 00051: val_loss improved from 0.00207 to 0.00203, saving model to /content/drive/My Drive/TA_LSTM/outputs/lstm_best_11-1-20_2PM/iter_changes/best_model.h5\n",
            "Epoch 52/200\n",
            " - 12s - loss: 0.0016 - acc: 9.0909e-04 - val_loss: 0.0020 - val_acc: 0.0000e+00\n",
            "\n",
            "Epoch 00052: val_loss improved from 0.00203 to 0.00203, saving model to /content/drive/My Drive/TA_LSTM/outputs/lstm_best_11-1-20_2PM/iter_changes/best_model.h5\n",
            "Epoch 53/200\n",
            " - 12s - loss: 0.0017 - acc: 9.0909e-04 - val_loss: 0.0020 - val_acc: 0.0000e+00\n",
            "\n",
            "Epoch 00053: val_loss improved from 0.00203 to 0.00200, saving model to /content/drive/My Drive/TA_LSTM/outputs/lstm_best_11-1-20_2PM/iter_changes/best_model.h5\n",
            "Epoch 54/200\n",
            " - 12s - loss: 0.0017 - acc: 9.0909e-04 - val_loss: 0.0020 - val_acc: 0.0000e+00\n",
            "\n",
            "Epoch 00054: val_loss improved from 0.00200 to 0.00196, saving model to /content/drive/My Drive/TA_LSTM/outputs/lstm_best_11-1-20_2PM/iter_changes/best_model.h5\n",
            "Epoch 55/200\n",
            " - 12s - loss: 0.0017 - acc: 9.0909e-04 - val_loss: 0.0019 - val_acc: 0.0000e+00\n",
            "\n",
            "Epoch 00055: val_loss improved from 0.00196 to 0.00188, saving model to /content/drive/My Drive/TA_LSTM/outputs/lstm_best_11-1-20_2PM/iter_changes/best_model.h5\n",
            "Epoch 56/200\n",
            " - 12s - loss: 0.0015 - acc: 9.0909e-04 - val_loss: 0.0019 - val_acc: 0.0000e+00\n",
            "\n",
            "Epoch 00056: val_loss improved from 0.00188 to 0.00185, saving model to /content/drive/My Drive/TA_LSTM/outputs/lstm_best_11-1-20_2PM/iter_changes/best_model.h5\n",
            "Epoch 57/200\n",
            " - 12s - loss: 0.0017 - acc: 9.0909e-04 - val_loss: 0.0018 - val_acc: 0.0000e+00\n",
            "\n",
            "Epoch 00057: val_loss improved from 0.00185 to 0.00180, saving model to /content/drive/My Drive/TA_LSTM/outputs/lstm_best_11-1-20_2PM/iter_changes/best_model.h5\n",
            "Epoch 58/200\n",
            " - 12s - loss: 0.0016 - acc: 9.0909e-04 - val_loss: 0.0018 - val_acc: 0.0000e+00\n",
            "\n",
            "Epoch 00058: val_loss improved from 0.00180 to 0.00178, saving model to /content/drive/My Drive/TA_LSTM/outputs/lstm_best_11-1-20_2PM/iter_changes/best_model.h5\n",
            "Epoch 59/200\n",
            " - 13s - loss: 0.0016 - acc: 9.0909e-04 - val_loss: 0.0018 - val_acc: 0.0000e+00\n",
            "\n",
            "Epoch 00059: val_loss improved from 0.00178 to 0.00177, saving model to /content/drive/My Drive/TA_LSTM/outputs/lstm_best_11-1-20_2PM/iter_changes/best_model.h5\n",
            "Epoch 60/200\n",
            " - 12s - loss: 0.0016 - acc: 9.0909e-04 - val_loss: 0.0018 - val_acc: 0.0000e+00\n",
            "\n",
            "Epoch 00060: val_loss did not improve from 0.00177\n",
            "Epoch 61/200\n",
            " - 12s - loss: 0.0015 - acc: 9.0909e-04 - val_loss: 0.0018 - val_acc: 0.0000e+00\n",
            "\n",
            "Epoch 00061: val_loss improved from 0.00177 to 0.00175, saving model to /content/drive/My Drive/TA_LSTM/outputs/lstm_best_11-1-20_2PM/iter_changes/best_model.h5\n",
            "Epoch 62/200\n",
            " - 12s - loss: 0.0016 - acc: 9.0909e-04 - val_loss: 0.0017 - val_acc: 0.0000e+00\n",
            "\n",
            "Epoch 00062: val_loss improved from 0.00175 to 0.00170, saving model to /content/drive/My Drive/TA_LSTM/outputs/lstm_best_11-1-20_2PM/iter_changes/best_model.h5\n",
            "Epoch 63/200\n",
            " - 12s - loss: 0.0015 - acc: 9.0909e-04 - val_loss: 0.0017 - val_acc: 0.0000e+00\n",
            "\n",
            "Epoch 00063: val_loss did not improve from 0.00170\n",
            "Epoch 64/200\n",
            " - 12s - loss: 0.0015 - acc: 9.0909e-04 - val_loss: 0.0017 - val_acc: 0.0000e+00\n",
            "\n",
            "Epoch 00064: val_loss improved from 0.00170 to 0.00166, saving model to /content/drive/My Drive/TA_LSTM/outputs/lstm_best_11-1-20_2PM/iter_changes/best_model.h5\n",
            "Epoch 65/200\n",
            " - 12s - loss: 0.0015 - acc: 9.0909e-04 - val_loss: 0.0016 - val_acc: 0.0000e+00\n",
            "\n",
            "Epoch 00065: val_loss improved from 0.00166 to 0.00161, saving model to /content/drive/My Drive/TA_LSTM/outputs/lstm_best_11-1-20_2PM/iter_changes/best_model.h5\n",
            "Epoch 66/200\n",
            " - 12s - loss: 0.0015 - acc: 9.0909e-04 - val_loss: 0.0016 - val_acc: 0.0000e+00\n",
            "\n",
            "Epoch 00066: val_loss improved from 0.00161 to 0.00158, saving model to /content/drive/My Drive/TA_LSTM/outputs/lstm_best_11-1-20_2PM/iter_changes/best_model.h5\n",
            "Epoch 67/200\n",
            " - 12s - loss: 0.0014 - acc: 9.0909e-04 - val_loss: 0.0016 - val_acc: 0.0000e+00\n",
            "\n",
            "Epoch 00067: val_loss did not improve from 0.00158\n",
            "Epoch 68/200\n",
            " - 12s - loss: 0.0014 - acc: 9.0909e-04 - val_loss: 0.0016 - val_acc: 0.0000e+00\n",
            "\n",
            "Epoch 00068: val_loss did not improve from 0.00158\n",
            "Epoch 69/200\n",
            " - 13s - loss: 0.0014 - acc: 9.0909e-04 - val_loss: 0.0016 - val_acc: 0.0000e+00\n",
            "\n",
            "Epoch 00069: val_loss improved from 0.00158 to 0.00156, saving model to /content/drive/My Drive/TA_LSTM/outputs/lstm_best_11-1-20_2PM/iter_changes/best_model.h5\n",
            "Epoch 70/200\n",
            " - 12s - loss: 0.0014 - acc: 9.0909e-04 - val_loss: 0.0016 - val_acc: 0.0000e+00\n",
            "\n",
            "Epoch 00070: val_loss did not improve from 0.00156\n",
            "Epoch 71/200\n",
            " - 12s - loss: 0.0015 - acc: 9.0909e-04 - val_loss: 0.0016 - val_acc: 0.0000e+00\n",
            "\n",
            "Epoch 00071: val_loss did not improve from 0.00156\n",
            "Epoch 72/200\n",
            " - 12s - loss: 0.0013 - acc: 9.0909e-04 - val_loss: 0.0016 - val_acc: 0.0000e+00\n",
            "\n",
            "Epoch 00072: val_loss did not improve from 0.00156\n",
            "Epoch 73/200\n",
            " - 12s - loss: 0.0014 - acc: 9.0909e-04 - val_loss: 0.0017 - val_acc: 0.0000e+00\n",
            "\n",
            "Epoch 00073: val_loss did not improve from 0.00156\n",
            "Epoch 74/200\n",
            " - 12s - loss: 0.0013 - acc: 9.0909e-04 - val_loss: 0.0016 - val_acc: 0.0000e+00\n",
            "\n",
            "Epoch 00074: val_loss did not improve from 0.00156\n",
            "Epoch 75/200\n",
            " - 12s - loss: 0.0013 - acc: 9.0909e-04 - val_loss: 0.0016 - val_acc: 0.0000e+00\n",
            "\n",
            "Epoch 00075: val_loss did not improve from 0.00156\n",
            "Epoch 76/200\n",
            " - 12s - loss: 0.0014 - acc: 9.0909e-04 - val_loss: 0.0017 - val_acc: 0.0000e+00\n",
            "\n",
            "Epoch 00076: val_loss did not improve from 0.00156\n",
            "Epoch 77/200\n",
            " - 12s - loss: 0.0013 - acc: 9.0909e-04 - val_loss: 0.0015 - val_acc: 0.0000e+00\n",
            "\n",
            "Epoch 00077: val_loss improved from 0.00156 to 0.00148, saving model to /content/drive/My Drive/TA_LSTM/outputs/lstm_best_11-1-20_2PM/iter_changes/best_model.h5\n",
            "Epoch 78/200\n",
            " - 12s - loss: 0.0013 - acc: 9.0909e-04 - val_loss: 0.0015 - val_acc: 0.0000e+00\n",
            "\n",
            "Epoch 00078: val_loss improved from 0.00148 to 0.00145, saving model to /content/drive/My Drive/TA_LSTM/outputs/lstm_best_11-1-20_2PM/iter_changes/best_model.h5\n",
            "Epoch 79/200\n",
            " - 12s - loss: 0.0013 - acc: 9.0909e-04 - val_loss: 0.0015 - val_acc: 0.0000e+00\n",
            "\n",
            "Epoch 00079: val_loss did not improve from 0.00145\n",
            "Epoch 80/200\n",
            " - 12s - loss: 0.0013 - acc: 9.0909e-04 - val_loss: 0.0014 - val_acc: 0.0000e+00\n",
            "\n",
            "Epoch 00080: val_loss improved from 0.00145 to 0.00141, saving model to /content/drive/My Drive/TA_LSTM/outputs/lstm_best_11-1-20_2PM/iter_changes/best_model.h5\n",
            "Epoch 81/200\n",
            " - 12s - loss: 0.0013 - acc: 9.0909e-04 - val_loss: 0.0016 - val_acc: 0.0000e+00\n",
            "\n",
            "Epoch 00081: val_loss did not improve from 0.00141\n",
            "Epoch 82/200\n",
            " - 12s - loss: 0.0012 - acc: 9.0909e-04 - val_loss: 0.0014 - val_acc: 0.0000e+00\n",
            "\n",
            "Epoch 00082: val_loss improved from 0.00141 to 0.00139, saving model to /content/drive/My Drive/TA_LSTM/outputs/lstm_best_11-1-20_2PM/iter_changes/best_model.h5\n",
            "Epoch 83/200\n",
            " - 13s - loss: 0.0013 - acc: 9.0909e-04 - val_loss: 0.0014 - val_acc: 0.0000e+00\n",
            "\n",
            "Epoch 00083: val_loss did not improve from 0.00139\n",
            "Epoch 84/200\n",
            " - 12s - loss: 0.0013 - acc: 9.0909e-04 - val_loss: 0.0014 - val_acc: 0.0000e+00\n",
            "\n",
            "Epoch 00084: val_loss did not improve from 0.00139\n",
            "Epoch 85/200\n",
            " - 12s - loss: 0.0013 - acc: 9.0909e-04 - val_loss: 0.0014 - val_acc: 0.0000e+00\n",
            "\n",
            "Epoch 00085: val_loss did not improve from 0.00139\n",
            "Epoch 86/200\n",
            " - 12s - loss: 0.0012 - acc: 9.0909e-04 - val_loss: 0.0014 - val_acc: 0.0000e+00\n",
            "\n",
            "Epoch 00086: val_loss did not improve from 0.00139\n",
            "Epoch 87/200\n",
            " - 12s - loss: 0.0012 - acc: 9.0909e-04 - val_loss: 0.0014 - val_acc: 0.0000e+00\n",
            "\n",
            "Epoch 00087: val_loss did not improve from 0.00139\n",
            "Epoch 88/200\n",
            " - 12s - loss: 0.0011 - acc: 9.0909e-04 - val_loss: 0.0014 - val_acc: 0.0000e+00\n",
            "\n",
            "Epoch 00088: val_loss improved from 0.00139 to 0.00139, saving model to /content/drive/My Drive/TA_LSTM/outputs/lstm_best_11-1-20_2PM/iter_changes/best_model.h5\n",
            "Epoch 89/200\n",
            " - 12s - loss: 0.0012 - acc: 9.0909e-04 - val_loss: 0.0013 - val_acc: 0.0000e+00\n",
            "\n",
            "Epoch 00089: val_loss improved from 0.00139 to 0.00130, saving model to /content/drive/My Drive/TA_LSTM/outputs/lstm_best_11-1-20_2PM/iter_changes/best_model.h5\n",
            "Epoch 90/200\n",
            " - 12s - loss: 0.0011 - acc: 9.0909e-04 - val_loss: 0.0013 - val_acc: 0.0000e+00\n",
            "\n",
            "Epoch 00090: val_loss did not improve from 0.00130\n",
            "Epoch 91/200\n",
            " - 12s - loss: 0.0011 - acc: 9.0909e-04 - val_loss: 0.0014 - val_acc: 0.0000e+00\n",
            "\n",
            "Epoch 00091: val_loss did not improve from 0.00130\n",
            "Epoch 92/200\n",
            " - 12s - loss: 0.0011 - acc: 9.0909e-04 - val_loss: 0.0013 - val_acc: 0.0000e+00\n",
            "\n",
            "Epoch 00092: val_loss improved from 0.00130 to 0.00129, saving model to /content/drive/My Drive/TA_LSTM/outputs/lstm_best_11-1-20_2PM/iter_changes/best_model.h5\n",
            "Epoch 93/200\n",
            " - 13s - loss: 0.0011 - acc: 9.0909e-04 - val_loss: 0.0013 - val_acc: 0.0000e+00\n",
            "\n",
            "Epoch 00093: val_loss did not improve from 0.00129\n",
            "Epoch 94/200\n",
            " - 12s - loss: 0.0011 - acc: 9.0909e-04 - val_loss: 0.0014 - val_acc: 0.0000e+00\n",
            "\n",
            "Epoch 00094: val_loss did not improve from 0.00129\n",
            "Epoch 95/200\n",
            " - 12s - loss: 0.0011 - acc: 9.0909e-04 - val_loss: 0.0013 - val_acc: 0.0000e+00\n",
            "\n",
            "Epoch 00095: val_loss did not improve from 0.00129\n",
            "Epoch 96/200\n",
            " - 12s - loss: 0.0011 - acc: 9.0909e-04 - val_loss: 0.0013 - val_acc: 0.0000e+00\n",
            "\n",
            "Epoch 00096: val_loss did not improve from 0.00129\n",
            "Epoch 97/200\n",
            " - 12s - loss: 0.0011 - acc: 9.0909e-04 - val_loss: 0.0013 - val_acc: 0.0000e+00\n",
            "\n",
            "Epoch 00097: val_loss did not improve from 0.00129\n",
            "Epoch 98/200\n",
            " - 12s - loss: 0.0011 - acc: 9.0909e-04 - val_loss: 0.0014 - val_acc: 0.0000e+00\n",
            "\n",
            "Epoch 00098: val_loss did not improve from 0.00129\n",
            "Epoch 99/200\n",
            " - 12s - loss: 0.0011 - acc: 9.0909e-04 - val_loss: 0.0013 - val_acc: 0.0000e+00\n",
            "\n",
            "Epoch 00099: val_loss did not improve from 0.00129\n",
            "Epoch 100/200\n",
            " - 12s - loss: 0.0011 - acc: 9.0909e-04 - val_loss: 0.0015 - val_acc: 0.0000e+00\n",
            "\n",
            "Epoch 00100: val_loss did not improve from 0.00129\n",
            "Epoch 101/200\n",
            " - 12s - loss: 0.0011 - acc: 9.0909e-04 - val_loss: 0.0014 - val_acc: 0.0000e+00\n",
            "\n",
            "Epoch 00101: val_loss did not improve from 0.00129\n",
            "Epoch 102/200\n",
            " - 12s - loss: 0.0011 - acc: 9.0909e-04 - val_loss: 0.0012 - val_acc: 0.0000e+00\n",
            "\n",
            "Epoch 00102: val_loss improved from 0.00129 to 0.00122, saving model to /content/drive/My Drive/TA_LSTM/outputs/lstm_best_11-1-20_2PM/iter_changes/best_model.h5\n",
            "Epoch 103/200\n",
            " - 12s - loss: 0.0010 - acc: 9.0909e-04 - val_loss: 0.0013 - val_acc: 0.0000e+00\n",
            "\n",
            "Epoch 00103: val_loss did not improve from 0.00122\n",
            "Epoch 104/200\n",
            " - 12s - loss: 0.0012 - acc: 9.0909e-04 - val_loss: 0.0013 - val_acc: 0.0000e+00\n",
            "\n",
            "Epoch 00104: val_loss did not improve from 0.00122\n",
            "Epoch 105/200\n",
            " - 12s - loss: 0.0011 - acc: 9.0909e-04 - val_loss: 0.0013 - val_acc: 0.0000e+00\n",
            "\n",
            "Epoch 00105: val_loss did not improve from 0.00122\n",
            "Epoch 106/200\n",
            " - 12s - loss: 0.0010 - acc: 9.0909e-04 - val_loss: 0.0013 - val_acc: 0.0000e+00\n",
            "\n",
            "Epoch 00106: val_loss did not improve from 0.00122\n",
            "Epoch 107/200\n",
            " - 12s - loss: 0.0011 - acc: 9.0909e-04 - val_loss: 0.0013 - val_acc: 0.0000e+00\n",
            "\n",
            "Epoch 00107: val_loss did not improve from 0.00122\n",
            "Epoch 108/200\n",
            " - 13s - loss: 0.0011 - acc: 9.0909e-04 - val_loss: 0.0012 - val_acc: 0.0000e+00\n",
            "\n",
            "Epoch 00108: val_loss did not improve from 0.00122\n",
            "Epoch 109/200\n",
            " - 12s - loss: 0.0010 - acc: 9.0909e-04 - val_loss: 0.0012 - val_acc: 0.0000e+00\n",
            "\n",
            "Epoch 00109: val_loss improved from 0.00122 to 0.00119, saving model to /content/drive/My Drive/TA_LSTM/outputs/lstm_best_11-1-20_2PM/iter_changes/best_model.h5\n",
            "Epoch 110/200\n",
            " - 12s - loss: 0.0010 - acc: 9.0909e-04 - val_loss: 0.0012 - val_acc: 0.0000e+00\n",
            "\n",
            "Epoch 00110: val_loss did not improve from 0.00119\n",
            "Epoch 111/200\n",
            " - 12s - loss: 0.0010 - acc: 9.0909e-04 - val_loss: 0.0012 - val_acc: 0.0000e+00\n",
            "\n",
            "Epoch 00111: val_loss did not improve from 0.00119\n",
            "Epoch 112/200\n",
            " - 12s - loss: 0.0010 - acc: 9.0909e-04 - val_loss: 0.0013 - val_acc: 0.0000e+00\n",
            "\n",
            "Epoch 00112: val_loss did not improve from 0.00119\n",
            "Epoch 113/200\n",
            " - 12s - loss: 0.0011 - acc: 9.0909e-04 - val_loss: 0.0012 - val_acc: 0.0000e+00\n",
            "\n",
            "Epoch 00113: val_loss did not improve from 0.00119\n",
            "Epoch 114/200\n",
            " - 12s - loss: 9.8003e-04 - acc: 9.0909e-04 - val_loss: 0.0012 - val_acc: 0.0000e+00\n",
            "\n",
            "Epoch 00114: val_loss did not improve from 0.00119\n",
            "Epoch 115/200\n",
            " - 12s - loss: 0.0010 - acc: 9.0909e-04 - val_loss: 0.0012 - val_acc: 0.0000e+00\n",
            "\n",
            "Epoch 00115: val_loss did not improve from 0.00119\n",
            "Epoch 116/200\n",
            " - 12s - loss: 9.8620e-04 - acc: 9.0909e-04 - val_loss: 0.0013 - val_acc: 0.0000e+00\n",
            "\n",
            "Epoch 00116: val_loss did not improve from 0.00119\n",
            "Epoch 117/200\n",
            " - 12s - loss: 0.0010 - acc: 9.0909e-04 - val_loss: 0.0012 - val_acc: 0.0000e+00\n",
            "\n",
            "Epoch 00117: val_loss did not improve from 0.00119\n",
            "Epoch 118/200\n",
            " - 12s - loss: 0.0010 - acc: 9.0909e-04 - val_loss: 0.0012 - val_acc: 0.0000e+00\n",
            "\n",
            "Epoch 00118: val_loss did not improve from 0.00119\n",
            "Epoch 119/200\n",
            " - 12s - loss: 9.5150e-04 - acc: 9.0909e-04 - val_loss: 0.0012 - val_acc: 0.0000e+00\n",
            "\n",
            "Epoch 00119: val_loss did not improve from 0.00119\n",
            "Epoch 120/200\n",
            " - 12s - loss: 9.3719e-04 - acc: 9.0909e-04 - val_loss: 0.0012 - val_acc: 0.0000e+00\n",
            "\n",
            "Epoch 00120: val_loss improved from 0.00119 to 0.00117, saving model to /content/drive/My Drive/TA_LSTM/outputs/lstm_best_11-1-20_2PM/iter_changes/best_model.h5\n",
            "Epoch 121/200\n",
            " - 13s - loss: 9.5863e-04 - acc: 9.0909e-04 - val_loss: 0.0011 - val_acc: 0.0000e+00\n",
            "\n",
            "Epoch 00121: val_loss improved from 0.00117 to 0.00114, saving model to /content/drive/My Drive/TA_LSTM/outputs/lstm_best_11-1-20_2PM/iter_changes/best_model.h5\n",
            "Epoch 122/200\n",
            " - 13s - loss: 0.0010 - acc: 9.0909e-04 - val_loss: 0.0012 - val_acc: 0.0000e+00\n",
            "\n",
            "Epoch 00122: val_loss did not improve from 0.00114\n",
            "Epoch 123/200\n",
            " - 13s - loss: 0.0010 - acc: 9.0909e-04 - val_loss: 0.0012 - val_acc: 0.0000e+00\n",
            "\n",
            "Epoch 00123: val_loss did not improve from 0.00114\n",
            "Epoch 124/200\n",
            " - 13s - loss: 9.7040e-04 - acc: 9.0909e-04 - val_loss: 0.0011 - val_acc: 0.0000e+00\n",
            "\n",
            "Epoch 00124: val_loss improved from 0.00114 to 0.00112, saving model to /content/drive/My Drive/TA_LSTM/outputs/lstm_best_11-1-20_2PM/iter_changes/best_model.h5\n",
            "Epoch 125/200\n",
            " - 13s - loss: 9.8964e-04 - acc: 9.0909e-04 - val_loss: 0.0011 - val_acc: 0.0000e+00\n",
            "\n",
            "Epoch 00125: val_loss did not improve from 0.00112\n",
            "Epoch 126/200\n",
            " - 13s - loss: 0.0010 - acc: 9.0909e-04 - val_loss: 0.0011 - val_acc: 0.0000e+00\n",
            "\n",
            "Epoch 00126: val_loss improved from 0.00112 to 0.00109, saving model to /content/drive/My Drive/TA_LSTM/outputs/lstm_best_11-1-20_2PM/iter_changes/best_model.h5\n",
            "Epoch 127/200\n",
            " - 13s - loss: 8.8462e-04 - acc: 9.0909e-04 - val_loss: 0.0011 - val_acc: 0.0000e+00\n",
            "\n",
            "Epoch 00127: val_loss did not improve from 0.00109\n",
            "Epoch 128/200\n",
            " - 13s - loss: 9.3412e-04 - acc: 9.0909e-04 - val_loss: 0.0011 - val_acc: 0.0000e+00\n",
            "\n",
            "Epoch 00128: val_loss improved from 0.00109 to 0.00109, saving model to /content/drive/My Drive/TA_LSTM/outputs/lstm_best_11-1-20_2PM/iter_changes/best_model.h5\n",
            "Epoch 129/200\n",
            " - 13s - loss: 8.9764e-04 - acc: 9.0909e-04 - val_loss: 0.0011 - val_acc: 0.0000e+00\n",
            "\n",
            "Epoch 00129: val_loss did not improve from 0.00109\n",
            "Epoch 130/200\n",
            " - 13s - loss: 9.7978e-04 - acc: 9.0909e-04 - val_loss: 0.0012 - val_acc: 0.0000e+00\n",
            "\n",
            "Epoch 00130: val_loss did not improve from 0.00109\n",
            "Epoch 131/200\n",
            " - 12s - loss: 8.7848e-04 - acc: 9.0909e-04 - val_loss: 0.0010 - val_acc: 0.0000e+00\n",
            "\n",
            "Epoch 00131: val_loss improved from 0.00109 to 0.00104, saving model to /content/drive/My Drive/TA_LSTM/outputs/lstm_best_11-1-20_2PM/iter_changes/best_model.h5\n",
            "Epoch 132/200\n",
            " - 13s - loss: 9.1720e-04 - acc: 9.0909e-04 - val_loss: 0.0011 - val_acc: 0.0000e+00\n",
            "\n",
            "Epoch 00132: val_loss did not improve from 0.00104\n",
            "Epoch 133/200\n",
            " - 13s - loss: 8.6049e-04 - acc: 9.0909e-04 - val_loss: 0.0012 - val_acc: 0.0000e+00\n",
            "\n",
            "Epoch 00133: val_loss did not improve from 0.00104\n",
            "Epoch 134/200\n",
            " - 13s - loss: 9.9984e-04 - acc: 9.0909e-04 - val_loss: 0.0011 - val_acc: 0.0000e+00\n",
            "\n",
            "Epoch 00134: val_loss did not improve from 0.00104\n",
            "Epoch 135/200\n",
            " - 13s - loss: 0.0010 - acc: 9.0909e-04 - val_loss: 0.0011 - val_acc: 0.0000e+00\n",
            "\n",
            "Epoch 00135: val_loss did not improve from 0.00104\n",
            "Epoch 136/200\n",
            " - 13s - loss: 8.6585e-04 - acc: 9.0909e-04 - val_loss: 0.0010 - val_acc: 0.0000e+00\n",
            "\n",
            "Epoch 00136: val_loss improved from 0.00104 to 0.00104, saving model to /content/drive/My Drive/TA_LSTM/outputs/lstm_best_11-1-20_2PM/iter_changes/best_model.h5\n",
            "Epoch 137/200\n",
            " - 13s - loss: 8.8170e-04 - acc: 9.0909e-04 - val_loss: 0.0011 - val_acc: 0.0000e+00\n",
            "\n",
            "Epoch 00137: val_loss did not improve from 0.00104\n",
            "Epoch 138/200\n",
            " - 13s - loss: 8.9645e-04 - acc: 9.0909e-04 - val_loss: 0.0011 - val_acc: 0.0000e+00\n",
            "\n",
            "Epoch 00138: val_loss did not improve from 0.00104\n",
            "Epoch 139/200\n",
            " - 13s - loss: 8.6820e-04 - acc: 9.0909e-04 - val_loss: 0.0011 - val_acc: 0.0000e+00\n",
            "\n",
            "Epoch 00139: val_loss did not improve from 0.00104\n",
            "Epoch 140/200\n",
            " - 13s - loss: 8.9821e-04 - acc: 9.0909e-04 - val_loss: 0.0011 - val_acc: 0.0000e+00\n",
            "\n",
            "Epoch 00140: val_loss did not improve from 0.00104\n",
            "Epoch 141/200\n",
            " - 13s - loss: 0.0010 - acc: 9.0909e-04 - val_loss: 9.9340e-04 - val_acc: 0.0000e+00\n",
            "\n",
            "Epoch 00141: val_loss improved from 0.00104 to 0.00099, saving model to /content/drive/My Drive/TA_LSTM/outputs/lstm_best_11-1-20_2PM/iter_changes/best_model.h5\n",
            "Epoch 142/200\n",
            " - 13s - loss: 9.3903e-04 - acc: 9.0909e-04 - val_loss: 0.0011 - val_acc: 0.0000e+00\n",
            "\n",
            "Epoch 00142: val_loss did not improve from 0.00099\n",
            "Epoch 143/200\n",
            " - 12s - loss: 8.6791e-04 - acc: 9.0909e-04 - val_loss: 0.0011 - val_acc: 0.0000e+00\n",
            "\n",
            "Epoch 00143: val_loss did not improve from 0.00099\n",
            "Epoch 144/200\n",
            " - 13s - loss: 9.4269e-04 - acc: 9.0909e-04 - val_loss: 9.9812e-04 - val_acc: 0.0000e+00\n",
            "\n",
            "Epoch 00144: val_loss did not improve from 0.00099\n",
            "Epoch 145/200\n",
            " - 12s - loss: 8.6624e-04 - acc: 9.0909e-04 - val_loss: 0.0011 - val_acc: 0.0000e+00\n",
            "\n",
            "Epoch 00145: val_loss did not improve from 0.00099\n",
            "Epoch 146/200\n",
            " - 12s - loss: 8.6073e-04 - acc: 9.0909e-04 - val_loss: 0.0011 - val_acc: 0.0000e+00\n",
            "\n",
            "Epoch 00146: val_loss did not improve from 0.00099\n",
            "Epoch 147/200\n",
            " - 13s - loss: 9.0614e-04 - acc: 9.0909e-04 - val_loss: 9.2770e-04 - val_acc: 0.0000e+00\n",
            "\n",
            "Epoch 00147: val_loss improved from 0.00099 to 0.00093, saving model to /content/drive/My Drive/TA_LSTM/outputs/lstm_best_11-1-20_2PM/iter_changes/best_model.h5\n",
            "Epoch 148/200\n",
            " - 12s - loss: 8.8099e-04 - acc: 9.0909e-04 - val_loss: 9.7019e-04 - val_acc: 0.0000e+00\n",
            "\n",
            "Epoch 00148: val_loss did not improve from 0.00093\n",
            "Epoch 149/200\n",
            " - 13s - loss: 8.0320e-04 - acc: 9.0909e-04 - val_loss: 9.8632e-04 - val_acc: 0.0000e+00\n",
            "\n",
            "Epoch 00149: val_loss did not improve from 0.00093\n",
            "Epoch 150/200\n",
            " - 12s - loss: 8.2246e-04 - acc: 9.0909e-04 - val_loss: 0.0012 - val_acc: 0.0000e+00\n",
            "\n",
            "Epoch 00150: val_loss did not improve from 0.00093\n",
            "Epoch 151/200\n",
            " - 12s - loss: 8.5214e-04 - acc: 9.0909e-04 - val_loss: 0.0010 - val_acc: 0.0000e+00\n",
            "\n",
            "Epoch 00151: val_loss did not improve from 0.00093\n",
            "Epoch 152/200\n",
            " - 12s - loss: 8.6902e-04 - acc: 9.0909e-04 - val_loss: 9.9983e-04 - val_acc: 0.0000e+00\n",
            "\n",
            "Epoch 00152: val_loss did not improve from 0.00093\n",
            "Epoch 153/200\n",
            " - 12s - loss: 8.1885e-04 - acc: 9.0909e-04 - val_loss: 9.3736e-04 - val_acc: 0.0000e+00\n",
            "\n",
            "Epoch 00153: val_loss did not improve from 0.00093\n",
            "Epoch 154/200\n",
            " - 12s - loss: 7.7666e-04 - acc: 9.0909e-04 - val_loss: 9.8356e-04 - val_acc: 0.0000e+00\n",
            "\n",
            "Epoch 00154: val_loss did not improve from 0.00093\n",
            "Epoch 155/200\n",
            " - 12s - loss: 8.7271e-04 - acc: 9.0909e-04 - val_loss: 0.0010 - val_acc: 0.0000e+00\n",
            "\n",
            "Epoch 00155: val_loss did not improve from 0.00093\n",
            "Epoch 156/200\n",
            " - 12s - loss: 8.2188e-04 - acc: 9.0909e-04 - val_loss: 0.0010 - val_acc: 0.0000e+00\n",
            "\n",
            "Epoch 00156: val_loss did not improve from 0.00093\n",
            "Epoch 157/200\n",
            " - 13s - loss: 9.2652e-04 - acc: 9.0909e-04 - val_loss: 0.0011 - val_acc: 0.0000e+00\n",
            "\n",
            "Epoch 00157: val_loss did not improve from 0.00093\n",
            "Epoch 158/200\n",
            " - 12s - loss: 8.9216e-04 - acc: 9.0909e-04 - val_loss: 9.8757e-04 - val_acc: 0.0000e+00\n",
            "\n",
            "Epoch 00158: val_loss did not improve from 0.00093\n",
            "Epoch 159/200\n",
            " - 12s - loss: 8.7127e-04 - acc: 9.0909e-04 - val_loss: 0.0011 - val_acc: 0.0000e+00\n",
            "\n",
            "Epoch 00159: val_loss did not improve from 0.00093\n",
            "Epoch 160/200\n",
            " - 12s - loss: 9.2311e-04 - acc: 9.0909e-04 - val_loss: 9.8712e-04 - val_acc: 0.0000e+00\n",
            "\n",
            "Epoch 00160: val_loss did not improve from 0.00093\n",
            "Epoch 161/200\n",
            " - 12s - loss: 9.3267e-04 - acc: 9.0909e-04 - val_loss: 0.0010 - val_acc: 0.0000e+00\n",
            "\n",
            "Epoch 00161: val_loss did not improve from 0.00093\n",
            "Epoch 162/200\n",
            " - 12s - loss: 8.1478e-04 - acc: 9.0909e-04 - val_loss: 9.5245e-04 - val_acc: 0.0000e+00\n",
            "\n",
            "Epoch 00162: val_loss did not improve from 0.00093\n",
            "Epoch 163/200\n",
            " - 12s - loss: 8.1070e-04 - acc: 9.0909e-04 - val_loss: 9.6499e-04 - val_acc: 0.0000e+00\n",
            "\n",
            "Epoch 00163: val_loss did not improve from 0.00093\n",
            "Epoch 164/200\n",
            " - 12s - loss: 8.6165e-04 - acc: 9.0909e-04 - val_loss: 9.8064e-04 - val_acc: 0.0000e+00\n",
            "\n",
            "Epoch 00164: val_loss did not improve from 0.00093\n",
            "Epoch 165/200\n",
            " - 12s - loss: 8.6110e-04 - acc: 9.0909e-04 - val_loss: 9.1908e-04 - val_acc: 0.0000e+00\n",
            "\n",
            "Epoch 00165: val_loss improved from 0.00093 to 0.00092, saving model to /content/drive/My Drive/TA_LSTM/outputs/lstm_best_11-1-20_2PM/iter_changes/best_model.h5\n",
            "Epoch 166/200\n",
            " - 12s - loss: 8.2914e-04 - acc: 9.0909e-04 - val_loss: 0.0011 - val_acc: 0.0000e+00\n",
            "\n",
            "Epoch 00166: val_loss did not improve from 0.00092\n",
            "Epoch 167/200\n",
            " - 12s - loss: 8.7529e-04 - acc: 9.0909e-04 - val_loss: 0.0010 - val_acc: 0.0000e+00\n",
            "\n",
            "Epoch 00167: val_loss did not improve from 0.00092\n",
            "Epoch 168/200\n",
            " - 12s - loss: 8.7674e-04 - acc: 9.0909e-04 - val_loss: 0.0010 - val_acc: 0.0000e+00\n",
            "\n",
            "Epoch 00168: val_loss did not improve from 0.00092\n",
            "Epoch 169/200\n",
            " - 12s - loss: 8.2864e-04 - acc: 9.0909e-04 - val_loss: 9.5365e-04 - val_acc: 0.0000e+00\n",
            "\n",
            "Epoch 00169: val_loss did not improve from 0.00092\n",
            "Epoch 170/200\n",
            " - 12s - loss: 8.4151e-04 - acc: 9.0909e-04 - val_loss: 9.4938e-04 - val_acc: 0.0000e+00\n",
            "\n",
            "Epoch 00170: val_loss did not improve from 0.00092\n",
            "Epoch 171/200\n",
            " - 12s - loss: 9.1004e-04 - acc: 9.0909e-04 - val_loss: 8.4064e-04 - val_acc: 0.0000e+00\n",
            "\n",
            "Epoch 00171: val_loss improved from 0.00092 to 0.00084, saving model to /content/drive/My Drive/TA_LSTM/outputs/lstm_best_11-1-20_2PM/iter_changes/best_model.h5\n",
            "Epoch 172/200\n",
            " - 12s - loss: 8.3048e-04 - acc: 9.0909e-04 - val_loss: 8.8090e-04 - val_acc: 0.0000e+00\n",
            "\n",
            "Epoch 00172: val_loss did not improve from 0.00084\n",
            "Epoch 173/200\n",
            " - 13s - loss: 7.8542e-04 - acc: 9.0909e-04 - val_loss: 9.7189e-04 - val_acc: 0.0000e+00\n",
            "\n",
            "Epoch 00173: val_loss did not improve from 0.00084\n",
            "Epoch 174/200\n",
            " - 12s - loss: 8.3279e-04 - acc: 9.0909e-04 - val_loss: 9.2613e-04 - val_acc: 0.0000e+00\n",
            "\n",
            "Epoch 00174: val_loss did not improve from 0.00084\n",
            "Epoch 175/200\n",
            " - 12s - loss: 8.4961e-04 - acc: 9.0909e-04 - val_loss: 9.5405e-04 - val_acc: 0.0000e+00\n",
            "\n",
            "Epoch 00175: val_loss did not improve from 0.00084\n",
            "Epoch 176/200\n",
            " - 12s - loss: 8.0415e-04 - acc: 9.0909e-04 - val_loss: 9.7250e-04 - val_acc: 0.0000e+00\n",
            "\n",
            "Epoch 00176: val_loss did not improve from 0.00084\n",
            "Epoch 177/200\n",
            " - 12s - loss: 8.0795e-04 - acc: 9.0909e-04 - val_loss: 0.0010 - val_acc: 0.0000e+00\n",
            "\n",
            "Epoch 00177: val_loss did not improve from 0.00084\n",
            "Epoch 178/200\n",
            " - 12s - loss: 8.5031e-04 - acc: 9.0909e-04 - val_loss: 0.0011 - val_acc: 0.0000e+00\n",
            "\n",
            "Epoch 00178: val_loss did not improve from 0.00084\n",
            "Epoch 179/200\n",
            " - 12s - loss: 8.5418e-04 - acc: 9.0909e-04 - val_loss: 0.0010 - val_acc: 0.0000e+00\n",
            "\n",
            "Epoch 00179: val_loss did not improve from 0.00084\n",
            "Epoch 180/200\n",
            " - 12s - loss: 8.4047e-04 - acc: 9.0909e-04 - val_loss: 9.8995e-04 - val_acc: 0.0000e+00\n",
            "\n",
            "Epoch 00180: val_loss did not improve from 0.00084\n",
            "Epoch 181/200\n",
            " - 12s - loss: 8.2823e-04 - acc: 9.0909e-04 - val_loss: 8.9217e-04 - val_acc: 0.0000e+00\n",
            "\n",
            "Epoch 00181: val_loss did not improve from 0.00084\n",
            "Epoch 182/200\n",
            " - 12s - loss: 7.8894e-04 - acc: 9.0909e-04 - val_loss: 0.0011 - val_acc: 0.0000e+00\n",
            "\n",
            "Epoch 00182: val_loss did not improve from 0.00084\n",
            "Epoch 183/200\n",
            " - 13s - loss: 8.5022e-04 - acc: 9.0909e-04 - val_loss: 0.0010 - val_acc: 0.0000e+00\n",
            "\n",
            "Epoch 00183: val_loss did not improve from 0.00084\n",
            "Epoch 184/200\n",
            " - 12s - loss: 8.6906e-04 - acc: 9.0909e-04 - val_loss: 0.0011 - val_acc: 0.0000e+00\n",
            "\n",
            "Epoch 00184: val_loss did not improve from 0.00084\n",
            "Epoch 185/200\n",
            " - 12s - loss: 8.4613e-04 - acc: 9.0909e-04 - val_loss: 9.4519e-04 - val_acc: 0.0000e+00\n",
            "\n",
            "Epoch 00185: val_loss did not improve from 0.00084\n",
            "Epoch 186/200\n",
            " - 12s - loss: 8.3794e-04 - acc: 9.0909e-04 - val_loss: 0.0010 - val_acc: 0.0000e+00\n",
            "\n",
            "Epoch 00186: val_loss did not improve from 0.00084\n",
            "Epoch 187/200\n",
            " - 12s - loss: 8.2648e-04 - acc: 9.0909e-04 - val_loss: 8.6652e-04 - val_acc: 0.0000e+00\n",
            "\n",
            "Epoch 00187: val_loss did not improve from 0.00084\n",
            "Epoch 00187: early stopping\n",
            "Menyimpan model . . .\n"
          ],
          "name": "stdout"
        }
      ]
    },
    {
      "cell_type": "markdown",
      "metadata": {
        "id": "dT1USOa_4CVW",
        "colab_type": "text"
      },
      "source": [
        "# Melakukan Prediksi\n",
        "Setelah data berhasil dilatih dengan model yang sudah dibuat, maka selanjutnya adalah proses prediksi"
      ]
    },
    {
      "cell_type": "markdown",
      "metadata": {
        "id": "fuxJr2_Z4O0R",
        "colab_type": "text"
      },
      "source": [
        "## Prediksi dengan data yang masih Normal"
      ]
    },
    {
      "cell_type": "code",
      "metadata": {
        "id": "E4SHPHZbdo3h",
        "colab_type": "code",
        "outputId": "c44271b1-2c93-4ee3-ac53-ca2cf7e3a0b0",
        "colab": {
          "base_uri": "https://localhost:8080/",
          "height": 35
        }
      },
      "source": [
        "# Melakukan Prediksi dengan model yang sudah dibuat\n",
        "y_pred = model.predict(trim_dataset(x_test_t, BATCH_SIZE), batch_size=BATCH_SIZE)\n",
        "y_pred = y_pred.flatten()\n",
        "y_test_t = trim_dataset(y_test_t, BATCH_SIZE)\n",
        "error = mean_squared_error(y_test_t, y_pred)\n",
        "\n",
        "# Menampilkan nilai Error menggunakan MSE\n",
        "print(\"Besarnya nilai Error : \", error, y_pred.shape, y_test_t.shape)"
      ],
      "execution_count": 35,
      "outputs": [
        {
          "output_type": "stream",
          "text": [
            "Besarnya nilai Error :  0.00027997401430813264 (240,) (240,)\n"
          ],
          "name": "stdout"
        }
      ]
    },
    {
      "cell_type": "markdown",
      "metadata": {
        "id": "f4HyVIrw4TZH",
        "colab_type": "text"
      },
      "source": [
        "## Proses Denormalisasi data hasil prediksi"
      ]
    },
    {
      "cell_type": "code",
      "metadata": {
        "id": "a-rFcjypdwvJ",
        "colab_type": "code",
        "colab": {}
      },
      "source": [
        "# Melakukan De-normalisasi data output untuk data uji dan data validasi\n",
        "y_pred_org = (y_pred * min_max_scaler.data_range_[3]) + min_max_scaler.data_min_[3]\n",
        "y_test_t_org = (y_test_t * min_max_scaler.data_range_[3]) + min_max_scaler.data_min_[3]"
      ],
      "execution_count": 0,
      "outputs": []
    },
    {
      "cell_type": "markdown",
      "metadata": {
        "id": "mUBlWlQI4Z14",
        "colab_type": "text"
      },
      "source": [
        "# Visualisasi data output"
      ]
    },
    {
      "cell_type": "markdown",
      "metadata": {
        "id": "W_EZIzfp4eHK",
        "colab_type": "text"
      },
      "source": [
        "## Visualisasi nilai Loss yang dihasilkan"
      ]
    },
    {
      "cell_type": "code",
      "metadata": {
        "id": "yrpfQjnjdy5A",
        "colab_type": "code",
        "outputId": "6590183d-a47a-4b93-9741-9132905785b0",
        "colab": {
          "base_uri": "https://localhost:8080/",
          "height": 404
        }
      },
      "source": [
        "# Visualisasi model Loss dari data uji dan data validasi\n",
        "from matplotlib import pyplot as plt\n",
        "plt.figure(figsize=[12,6])\n",
        "plt.plot(history.history['loss'])\n",
        "plt.plot(history.history['val_loss'])\n",
        "plt.title('Model loss')\n",
        "plt.ylabel('Loss')\n",
        "plt.xlabel('Epoch')\n",
        "plt.legend(['Train', 'Test'], loc='upper right')\n",
        "plt.savefig(os.path.join(OUTPUT_PATH, 'train_vis_BS_'+str(BATCH_SIZE)+\"_\"+time.ctime()+'.png'))"
      ],
      "execution_count": 37,
      "outputs": [
        {
          "output_type": "display_data",
          "data": {
            "image/png": "[encoded data removed]",
            "text/plain": [
              "<Figure size 864x432 with 1 Axes>"
            ]
          },
          "metadata": {
            "tags": []
          }
        }
      ]
    },
    {
      "cell_type": "code",
      "metadata": {
        "id": "1ogAvnc4d088",
        "colab_type": "code",
        "outputId": "88f9b4fc-70d5-4a89-9477-aae883243788",
        "colab": {
          "base_uri": "https://localhost:8080/",
          "height": 35
        }
      },
      "source": [
        "# Menyimpan model\n",
        "#saved_model = load_model(os.path.join(OUTPUT_PATH, '/content/drive/My Drive/TA_LSTM/outputs/best_model.h5')) \n",
        "saved_model = load_model(os.path.join(OUTPUT_PATH, 'best_model.h5')) \n",
        "print(saved_model)"
      ],
      "execution_count": 38,
      "outputs": [
        {
          "output_type": "stream",
          "text": [
            "<keras.engine.sequential.Sequential object at 0x7f1b7ecf6dd8>\n"
          ],
          "name": "stdout"
        }
      ]
    },
    {
      "cell_type": "code",
      "metadata": {
        "id": "ddMXWL8dd26w",
        "colab_type": "code",
        "outputId": "42d5bd56-ae3c-49d3-8439-864fd124401f",
        "colab": {
          "base_uri": "https://localhost:8080/",
          "height": 70
        }
      },
      "source": [
        "y_pred = saved_model.predict(trim_dataset(x_test_t, BATCH_SIZE), batch_size=BATCH_SIZE)\n",
        "y_pred = y_pred.flatten()\n",
        "y_test_t = trim_dataset(y_test_t, BATCH_SIZE)\n",
        "error = mean_squared_error(y_test_t, y_pred)\n",
        "print(\"Nilai Error dari MSE sebesar \", error, y_pred.shape, y_test_t.shape)\n",
        "print(\"Harga prediksi esok hari sebelum denormalisasi :\",y_pred[0])\n",
        "y_pred_org = (y_pred * min_max_scaler.data_range_[3]) + min_max_scaler.data_min_[3] \n",
        "print(\"Harga prediksi esok hari sesudah denormalisasi :\",y_pred_org[0])"
      ],
      "execution_count": 39,
      "outputs": [
        {
          "output_type": "stream",
          "text": [
            "Nilai Error dari MSE sebesar  0.000295357664705621 (240,) (240,)\n",
            "Harga prediksi esok hari sebelum denormalisasi : 0.33788604\n",
            "Harga prediksi esok hari sesudah denormalisasi : 1268.7115\n"
          ],
          "name": "stdout"
        }
      ]
    },
    {
      "cell_type": "markdown",
      "metadata": {
        "id": "ntWD4REO4ilJ",
        "colab_type": "text"
      },
      "source": [
        "## Visualisasi hasil prediksi"
      ]
    },
    {
      "cell_type": "code",
      "metadata": {
        "id": "i4-dRrErWPY4",
        "colab_type": "code",
        "colab": {}
      },
      "source": [
        "kurang = y_pred_org - y_test_t_org\n",
        "kurang_table = pd.DataFrame(kurang, columns=['hasil pengurangan uji dgn validasi'])\n",
        "kurang_table.to_csv (r'/content/drive/My Drive/TA_LSTM/outputs/Hasil pengurangan ep200 8020.csv', index = None, header=True) "
      ],
      "execution_count": 0,
      "outputs": []
    },
    {
      "cell_type": "code",
      "metadata": {
        "id": "c2rYc3vQTnbT",
        "colab_type": "code",
        "outputId": "264a01d5-752d-4d86-a7af-f8029be8454f",
        "colab": {
          "base_uri": "https://localhost:8080/",
          "height": 422
        }
      },
      "source": [
        "# Visualisasi hasil prediksi dengan model yang sudah dibuat\n",
        "from matplotlib import pyplot as plt\n",
        "plt.figure(figsize=[12,6])\n",
        "plt.plot(y_pred_org)\n",
        "plt.plot(y_test_t_org)\n",
        "plt.title('Nilai Prediksi Pergerakan Harga Saham pada PT Adaro Energy Tbk')\n",
        "plt.ylabel('Price (IDR)')\n",
        "plt.xlabel('Validation Days')\n",
        "plt.grid(color='#95a5a6', linestyle='--', linewidth=2, axis='y', alpha=0.7)\n",
        "plt.legend(['Prediction', 'Real'], loc='lower left')\n",
        "plt.savefig(os.path.join(OUTPUT_PATH, 'pred_vs_real_BS'+str(BATCH_SIZE)+\"_\"+time.ctime()+'.png'))\n",
        "print_time(\"Program selesai pada \", stime)"
      ],
      "execution_count": 41,
      "outputs": [
        {
          "output_type": "stream",
          "text": [
            "Program selesai pada  39.0 menit :  43.0 detik\n"
          ],
          "name": "stdout"
        },
        {
          "output_type": "display_data",
          "data": {
            "image/png": "[encoded data removed]",
            "text/plain": [
              "<Figure size 864x432 with 1 Axes>"
            ]
          },
          "metadata": {
            "tags": []
          }
        }
      ]
    },
    {
      "cell_type": "markdown",
      "metadata": {
        "id": "Lm8yH3JF4mmw",
        "colab_type": "text"
      },
      "source": [
        "# Evaluasi Model yang sudah dibuat"
      ]
    },
    {
      "cell_type": "code",
      "metadata": {
        "id": "4JWxJ9D4seH3",
        "colab_type": "code",
        "outputId": "e769a22c-0ec0-4fe7-bacd-d609be7891a7",
        "colab": {
          "base_uri": "https://localhost:8080/",
          "height": 70
        }
      },
      "source": [
        "# Evaluasi model\n",
        "score = model.evaluate(x_t, y_t, batch_size=BATCH_SIZE)\n",
        "print('Test loss:', score[0])\n",
        "print('Test accuracy:', score[1])"
      ],
      "execution_count": 42,
      "outputs": [
        {
          "output_type": "stream",
          "text": [
            "2200/2200 [==============================] - 6s 3ms/step\n",
            "Test loss: 0.0005083735387663844\n",
            "Test accuracy: 0.0009090909226374192\n"
          ],
          "name": "stdout"
        }
      ]
    },
    {
      "cell_type": "markdown",
      "metadata": {
        "id": "fa23Koi54rnQ",
        "colab_type": "text"
      },
      "source": [
        "\n",
        "\n",
        "\n",
        "\n",
        "\n",
        "\n",
        "\n",
        "\n",
        "\n",
        "\n",
        "\n",
        "\n",
        "\n",
        "\n",
        "\n",
        "\n",
        "\n",
        "# Menyimpan hasil prediksi ke dalam csv"
      ]
    },
    {
      "cell_type": "code",
      "metadata": {
        "id": "aKZ_URzG_sW3",
        "colab_type": "code",
        "outputId": "5038f03b-de59-47c2-fc8a-caf24cc4f4b6",
        "colab": {
          "base_uri": "https://localhost:8080/",
          "height": 35
        }
      },
      "source": [
        "# Menyimpan hasil data prediksi ke dalam bentuk Dataframe\n",
        "pred_table = pd.DataFrame(y_pred_org, columns=['Close'])\n",
        "\n",
        "# Melakukan Ekspor data menjadi bentuk CSV\n",
        "export_csv = pred_table.to_csv (r'/content/drive/My Drive/TA_LSTM/outputs/Prediksi Close Price.csv', index = None, header=True) \n",
        "print (\"Dokumen CSV sudah tersimpan di direktori\", OUTPUT_PATH)"
      ],
      "execution_count": 43,
      "outputs": [
        {
          "output_type": "stream",
          "text": [
            "Dokumen CSV sudah tersimpan di direktori /content/drive/My Drive/TA_LSTM/outputs/lstm_best_11-1-20_2PM/iter_changes\n"
          ],
          "name": "stdout"
        }
      ]
    },
    {
      "cell_type": "code",
      "metadata": {
        "id": "FLPwkT0bvFKw",
        "colab_type": "code",
        "outputId": "d989199f-fa41-4d18-d40a-883f614eecb3",
        "colab": {
          "base_uri": "https://localhost:8080/",
          "height": 35
        }
      },
      "source": [
        "# Menggabungkan dataset dengan data lama\n",
        "df_close = df.drop(columns=['Date','Open', 'High', 'Low', 'Adj Close', 'Volume'])\n",
        "df_new = pd.concat([df_close, pred_table], ignore_index=True, sort=True)\n",
        "\n",
        "# Menyimpan dataset baru\n",
        "export_csv = df_new.to_csv(r'/content/drive/My Drive/TA_LSTM/outputs/Dataset baru.csv', index = None, header=True) \n",
        "print (\"Dokumen CSV sudah tersimpan di direktori\", OUTPUT_PATH)"
      ],
      "execution_count": 44,
      "outputs": [
        {
          "output_type": "stream",
          "text": [
            "Dokumen CSV sudah tersimpan di direktori /content/drive/My Drive/TA_LSTM/outputs/lstm_best_11-1-20_2PM/iter_changes\n"
          ],
          "name": "stdout"
        }
      ]
    }
  ]
}